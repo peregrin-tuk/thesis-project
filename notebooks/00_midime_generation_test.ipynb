{
 "metadata": {
  "language_info": {
   "codemirror_mode": {
    "name": "ipython",
    "version": 3
   },
   "file_extension": ".py",
   "mimetype": "text/x-python",
   "name": "python",
   "nbconvert_exporter": "python",
   "pygments_lexer": "ipython3",
   "version": "3.7.9-final"
  },
  "orig_nbformat": 2,
  "kernelspec": {
   "name": "python3",
   "display_name": "Python 3",
   "language": "python"
  }
 },
 "nbformat": 4,
 "nbformat_minor": 2,
 "cells": [
  {
   "source": [
    "# Imports"
   ],
   "cell_type": "markdown",
   "metadata": {}
  },
  {
   "cell_type": "code",
   "execution_count": 1,
   "metadata": {},
   "outputs": [],
   "source": [
    "import sys, os\n",
    "import tensorflow as tf\n",
    "\n",
    "root_dir = os.path.join(os.getcwd(), '..')\n",
    "sys.path.append(root_dir)\n",
    "\n",
    "from note_seq import midi_to_note_sequence\n",
    "from src.generation import MidiMeGenerator\n",
    "from src.io import output, input as midi_input"
   ]
  },
  {
   "source": [
    "# Prepare Midi"
   ],
   "cell_type": "markdown",
   "metadata": {}
  },
  {
   "cell_type": "code",
   "execution_count": 2,
   "metadata": {},
   "outputs": [],
   "source": [
    "midi= midi_input.loadMidiFile('../midi/examples/melody-angelfalls.mid')\n",
    "note_seq = midi_to_note_sequence(midi)\n",
    "output_file = os.path.expanduser('../midi/examples/angelfalls.tfrecord')\n",
    "\n",
    "with tf.io.TFRecordWriter(output_file) as writer:\n",
    "    writer.write(note_seq.SerializeToString())"
   ]
  },
  {
   "source": [
    "# Train MidiMe"
   ],
   "cell_type": "markdown",
   "metadata": {}
  },
  {
   "cell_type": "code",
   "execution_count": 3,
   "metadata": {
    "tags": [
     "outputPrepend"
    ]
   },
   "outputs": [
    {
     "output_type": "stream",
     "name": "stdout",
     "text": [
      "raph team. When filing the bug, set the verbosity to 10 (on Linux, `export AUTOGRAPH_VERBOSITY=10`) and attach the full output. Cause: LIVE_VARS_IN\n",
      "WARNING:tensorflow:Entity <bound method DescriptorBase.GetOptions of <google.protobuf.descriptor.Descriptor object at 0x000002C77AB0DA48>> could not be transformed and will be executed as-is. Please report this to the AutoGraph team. When filing the bug, set the verbosity to 10 (on Linux, `export AUTOGRAPH_VERBOSITY=10`) and attach the full output. Cause: LIVE_VARS_IN\n",
      "WARNING: Entity <bound method DescriptorBase.GetOptions of <google.protobuf.descriptor.Descriptor object at 0x000002C77AB0DA48>> could not be transformed and will be executed as-is. Please report this to the AutoGraph team. When filing the bug, set the verbosity to 10 (on Linux, `export AUTOGRAPH_VERBOSITY=10`) and attach the full output. Cause: LIVE_VARS_IN\n",
      "WARNING:tensorflow:Entity <bound method DescriptorBase.GetOptions of <google.protobuf.descriptor.Descriptor object at 0x000002C77AB0DA48>> could not be transformed and will be executed as-is. Please report this to the AutoGraph team. When filing the bug, set the verbosity to 10 (on Linux, `export AUTOGRAPH_VERBOSITY=10`) and attach the full output. Cause: LIVE_VARS_IN\n",
      "WARNING: Entity <bound method DescriptorBase.GetOptions of <google.protobuf.descriptor.Descriptor object at 0x000002C77AB0DA48>> could not be transformed and will be executed as-is. Please report this to the AutoGraph team. When filing the bug, set the verbosity to 10 (on Linux, `export AUTOGRAPH_VERBOSITY=10`) and attach the full output. Cause: LIVE_VARS_IN\n",
      "WARNING:tensorflow:Entity <bound method DescriptorBase.GetOptions of <google.protobuf.descriptor.Descriptor object at 0x000002C77AB0DA48>> could not be transformed and will be executed as-is. Please report this to the AutoGraph team. When filing the bug, set the verbosity to 10 (on Linux, `export AUTOGRAPH_VERBOSITY=10`) and attach the full output. Cause: LIVE_VARS_IN\n",
      "WARNING: Entity <bound method DescriptorBase.GetOptions of <google.protobuf.descriptor.Descriptor object at 0x000002C77AB0DA48>> could not be transformed and will be executed as-is. Please report this to the AutoGraph team. When filing the bug, set the verbosity to 10 (on Linux, `export AUTOGRAPH_VERBOSITY=10`) and attach the full output. Cause: LIVE_VARS_IN\n",
      "WARNING:tensorflow:Entity <bound method DescriptorBase.GetOptions of <google.protobuf.descriptor.Descriptor object at 0x000002C77AB0DA48>> could not be transformed and will be executed as-is. Please report this to the AutoGraph team. When filing the bug, set the verbosity to 10 (on Linux, `export AUTOGRAPH_VERBOSITY=10`) and attach the full output. Cause: LIVE_VARS_IN\n",
      "WARNING: Entity <bound method DescriptorBase.GetOptions of <google.protobuf.descriptor.Descriptor object at 0x000002C77AB0DA48>> could not be transformed and will be executed as-is. Please report this to the AutoGraph team. When filing the bug, set the verbosity to 10 (on Linux, `export AUTOGRAPH_VERBOSITY=10`) and attach the full output. Cause: LIVE_VARS_IN\n",
      "WARNING:tensorflow:Entity <bound method DescriptorBase.GetOptions of <google.protobuf.descriptor.Descriptor object at 0x000002C77AB0DA48>> could not be transformed and will be executed as-is. Please report this to the AutoGraph team. When filing the bug, set the verbosity to 10 (on Linux, `export AUTOGRAPH_VERBOSITY=10`) and attach the full output. Cause: LIVE_VARS_IN\n",
      "WARNING: Entity <bound method DescriptorBase.GetOptions of <google.protobuf.descriptor.Descriptor object at 0x000002C77AB0DA48>> could not be transformed and will be executed as-is. Please report this to the AutoGraph team. When filing the bug, set the verbosity to 10 (on Linux, `export AUTOGRAPH_VERBOSITY=10`) and attach the full output. Cause: LIVE_VARS_IN\n",
      "WARNING:tensorflow:Entity <bound method DescriptorBase.GetOptions of <google.protobuf.descriptor.Descriptor object at 0x000002C77AB0DA48>> could not be transformed and will be executed as-is. Please report this to the AutoGraph team. When filing the bug, set the verbosity to 10 (on Linux, `export AUTOGRAPH_VERBOSITY=10`) and attach the full output. Cause: LIVE_VARS_IN\n",
      "WARNING: Entity <bound method DescriptorBase.GetOptions of <google.protobuf.descriptor.Descriptor object at 0x000002C77AB0DA48>> could not be transformed and will be executed as-is. Please report this to the AutoGraph team. When filing the bug, set the verbosity to 10 (on Linux, `export AUTOGRAPH_VERBOSITY=10`) and attach the full output. Cause: LIVE_VARS_IN\n",
      "WARNING:tensorflow:Entity <bound method DescriptorBase.GetOptions of <google.protobuf.descriptor.Descriptor object at 0x000002C77AB0DA48>> could not be transformed and will be executed as-is. Please report this to the AutoGraph team. When filing the bug, set the verbosity to 10 (on Linux, `export AUTOGRAPH_VERBOSITY=10`) and attach the full output. Cause: LIVE_VARS_IN\n",
      "WARNING: Entity <bound method DescriptorBase.GetOptions of <google.protobuf.descriptor.Descriptor object at 0x000002C77AB0DA48>> could not be transformed and will be executed as-is. Please report this to the AutoGraph team. When filing the bug, set the verbosity to 10 (on Linux, `export AUTOGRAPH_VERBOSITY=10`) and attach the full output. Cause: LIVE_VARS_IN\n",
      "WARNING:tensorflow:Entity <bound method DescriptorBase.GetOptions of <google.protobuf.descriptor.Descriptor object at 0x000002C77AB0DA48>> could not be transformed and will be executed as-is. Please report this to the AutoGraph team. When filing the bug, set the verbosity to 10 (on Linux, `export AUTOGRAPH_VERBOSITY=10`) and attach the full output. Cause: LIVE_VARS_IN\n",
      "WARNING: Entity <bound method DescriptorBase.GetOptions of <google.protobuf.descriptor.Descriptor object at 0x000002C77AB0DA48>> could not be transformed and will be executed as-is. Please report this to the AutoGraph team. When filing the bug, set the verbosity to 10 (on Linux, `export AUTOGRAPH_VERBOSITY=10`) and attach the full output. Cause: LIVE_VARS_IN\n",
      "WARNING:tensorflow:Entity <bound method DescriptorBase.GetOptions of <google.protobuf.descriptor.Descriptor object at 0x000002C77AB0DA48>> could not be transformed and will be executed as-is. Please report this to the AutoGraph team. When filing the bug, set the verbosity to 10 (on Linux, `export AUTOGRAPH_VERBOSITY=10`) and attach the full output. Cause: LIVE_VARS_IN\n",
      "WARNING: Entity <bound method DescriptorBase.GetOptions of <google.protobuf.descriptor.Descriptor object at 0x000002C77AB0DA48>> could not be transformed and will be executed as-is. Please report this to the AutoGraph team. When filing the bug, set the verbosity to 10 (on Linux, `export AUTOGRAPH_VERBOSITY=10`) and attach the full output. Cause: LIVE_VARS_IN\n",
      "WARNING:tensorflow:Entity <bound method DescriptorBase.GetOptions of <google.protobuf.descriptor.Descriptor object at 0x000002C77AB0DA48>> could not be transformed and will be executed as-is. Please report this to the AutoGraph team. When filing the bug, set the verbosity to 10 (on Linux, `export AUTOGRAPH_VERBOSITY=10`) and attach the full output. Cause: LIVE_VARS_IN\n",
      "WARNING: Entity <bound method DescriptorBase.GetOptions of <google.protobuf.descriptor.Descriptor object at 0x000002C77AB0DA48>> could not be transformed and will be executed as-is. Please report this to the AutoGraph team. When filing the bug, set the verbosity to 10 (on Linux, `export AUTOGRAPH_VERBOSITY=10`) and attach the full output. Cause: LIVE_VARS_IN\n",
      "WARNING:tensorflow:Entity <bound method DescriptorBase.GetOptions of <google.protobuf.descriptor.Descriptor object at 0x000002C77AB0DA48>> could not be transformed and will be executed as-is. Please report this to the AutoGraph team. When filing the bug, set the verbosity to 10 (on Linux, `export AUTOGRAPH_VERBOSITY=10`) and attach the full output. Cause: LIVE_VARS_IN\n",
      "WARNING: Entity <bound method DescriptorBase.GetOptions of <google.protobuf.descriptor.Descriptor object at 0x000002C77AB0DA48>> could not be transformed and will be executed as-is. Please report this to the AutoGraph team. When filing the bug, set the verbosity to 10 (on Linux, `export AUTOGRAPH_VERBOSITY=10`) and attach the full output. Cause: LIVE_VARS_IN\n",
      "WARNING:tensorflow:Entity <bound method DescriptorBase.GetOptions of <google.protobuf.descriptor.Descriptor object at 0x000002C77AB0DA48>> could not be transformed and will be executed as-is. Please report this to the AutoGraph team. When filing the bug, set the verbosity to 10 (on Linux, `export AUTOGRAPH_VERBOSITY=10`) and attach the full output. Cause: LIVE_VARS_IN\n",
      "WARNING: Entity <bound method DescriptorBase.GetOptions of <google.protobuf.descriptor.Descriptor object at 0x000002C77AB0DA48>> could not be transformed and will be executed as-is. Please report this to the AutoGraph team. When filing the bug, set the verbosity to 10 (on Linux, `export AUTOGRAPH_VERBOSITY=10`) and attach the full output. Cause: LIVE_VARS_IN\n",
      "WARNING:tensorflow:Entity <bound method DescriptorBase.GetOptions of <google.protobuf.descriptor.Descriptor object at 0x000002C77AB0DA48>> could not be transformed and will be executed as-is. Please report this to the AutoGraph team. When filing the bug, set the verbosity to 10 (on Linux, `export AUTOGRAPH_VERBOSITY=10`) and attach the full output. Cause: LIVE_VARS_IN\n",
      "WARNING: Entity <bound method DescriptorBase.GetOptions of <google.protobuf.descriptor.Descriptor object at 0x000002C77AB0DA48>> could not be transformed and will be executed as-is. Please report this to the AutoGraph team. When filing the bug, set the verbosity to 10 (on Linux, `export AUTOGRAPH_VERBOSITY=10`) and attach the full output. Cause: LIVE_VARS_IN\n",
      "WARNING:tensorflow:Entity <bound method DescriptorBase.GetOptions of <google.protobuf.descriptor.Descriptor object at 0x000002C77AB0DA48>> could not be transformed and will be executed as-is. Please report this to the AutoGraph team. When filing the bug, set the verbosity to 10 (on Linux, `export AUTOGRAPH_VERBOSITY=10`) and attach the full output. Cause: LIVE_VARS_IN\n",
      "WARNING: Entity <bound method DescriptorBase.GetOptions of <google.protobuf.descriptor.Descriptor object at 0x000002C77AB0DA48>> could not be transformed and will be executed as-is. Please report this to the AutoGraph team. When filing the bug, set the verbosity to 10 (on Linux, `export AUTOGRAPH_VERBOSITY=10`) and attach the full output. Cause: LIVE_VARS_IN\n",
      "WARNING:tensorflow:Entity <bound method DescriptorBase.GetOptions of <google.protobuf.descriptor.Descriptor object at 0x000002C77AB0DA48>> could not be transformed and will be executed as-is. Please report this to the AutoGraph team. When filing the bug, set the verbosity to 10 (on Linux, `export AUTOGRAPH_VERBOSITY=10`) and attach the full output. Cause: LIVE_VARS_IN\n",
      "WARNING: Entity <bound method DescriptorBase.GetOptions of <google.protobuf.descriptor.Descriptor object at 0x000002C77AB0DA48>> could not be transformed and will be executed as-is. Please report this to the AutoGraph team. When filing the bug, set the verbosity to 10 (on Linux, `export AUTOGRAPH_VERBOSITY=10`) and attach the full output. Cause: LIVE_VARS_IN\n",
      "WARNING:tensorflow:Entity <bound method DescriptorBase.GetOptions of <google.protobuf.descriptor.Descriptor object at 0x000002C77AB0DA48>> could not be transformed and will be executed as-is. Please report this to the AutoGraph team. When filing the bug, set the verbosity to 10 (on Linux, `export AUTOGRAPH_VERBOSITY=10`) and attach the full output. Cause: LIVE_VARS_IN\n",
      "WARNING: Entity <bound method DescriptorBase.GetOptions of <google.protobuf.descriptor.Descriptor object at 0x000002C77AB0DA48>> could not be transformed and will be executed as-is. Please report this to the AutoGraph team. When filing the bug, set the verbosity to 10 (on Linux, `export AUTOGRAPH_VERBOSITY=10`) and attach the full output. Cause: LIVE_VARS_IN\n",
      "WARNING:tensorflow:Entity <bound method DescriptorBase.GetOptions of <google.protobuf.descriptor.Descriptor object at 0x000002C77AB0DA48>> could not be transformed and will be executed as-is. Please report this to the AutoGraph team. When filing the bug, set the verbosity to 10 (on Linux, `export AUTOGRAPH_VERBOSITY=10`) and attach the full output. Cause: LIVE_VARS_IN\n",
      "WARNING: Entity <bound method DescriptorBase.GetOptions of <google.protobuf.descriptor.Descriptor object at 0x000002C77AB0DA48>> could not be transformed and will be executed as-is. Please report this to the AutoGraph team. When filing the bug, set the verbosity to 10 (on Linux, `export AUTOGRAPH_VERBOSITY=10`) and attach the full output. Cause: LIVE_VARS_IN\n",
      "WARNING:tensorflow:Entity <bound method DescriptorBase.GetOptions of <google.protobuf.descriptor.Descriptor object at 0x000002C77AB0DA48>> could not be transformed and will be executed as-is. Please report this to the AutoGraph team. When filing the bug, set the verbosity to 10 (on Linux, `export AUTOGRAPH_VERBOSITY=10`) and attach the full output. Cause: LIVE_VARS_IN\n",
      "WARNING: Entity <bound method DescriptorBase.GetOptions of <google.protobuf.descriptor.Descriptor object at 0x000002C77AB0DA48>> could not be transformed and will be executed as-is. Please report this to the AutoGraph team. When filing the bug, set the verbosity to 10 (on Linux, `export AUTOGRAPH_VERBOSITY=10`) and attach the full output. Cause: LIVE_VARS_IN\n",
      "WARNING:tensorflow:Entity <bound method DescriptorBase.GetOptions of <google.protobuf.descriptor.Descriptor object at 0x000002C77AB0DA48>> could not be transformed and will be executed as-is. Please report this to the AutoGraph team. When filing the bug, set the verbosity to 10 (on Linux, `export AUTOGRAPH_VERBOSITY=10`) and attach the full output. Cause: LIVE_VARS_IN\n",
      "WARNING: Entity <bound method DescriptorBase.GetOptions of <google.protobuf.descriptor.Descriptor object at 0x000002C77AB0DA48>> could not be transformed and will be executed as-is. Please report this to the AutoGraph team. When filing the bug, set the verbosity to 10 (on Linux, `export AUTOGRAPH_VERBOSITY=10`) and attach the full output. Cause: LIVE_VARS_IN\n",
      "WARNING:tensorflow:Entity <bound method DescriptorBase.GetOptions of <google.protobuf.descriptor.Descriptor object at 0x000002C77AB0DA48>> could not be transformed and will be executed as-is. Please report this to the AutoGraph team. When filing the bug, set the verbosity to 10 (on Linux, `export AUTOGRAPH_VERBOSITY=10`) and attach the full output. Cause: LIVE_VARS_IN\n",
      "WARNING: Entity <bound method DescriptorBase.GetOptions of <google.protobuf.descriptor.Descriptor object at 0x000002C77AB0DA48>> could not be transformed and will be executed as-is. Please report this to the AutoGraph team. When filing the bug, set the verbosity to 10 (on Linux, `export AUTOGRAPH_VERBOSITY=10`) and attach the full output. Cause: LIVE_VARS_IN\n",
      "WARNING:tensorflow:Entity <bound method DescriptorBase.GetOptions of <google.protobuf.descriptor.Descriptor object at 0x000002C77AB0DA48>> could not be transformed and will be executed as-is. Please report this to the AutoGraph team. When filing the bug, set the verbosity to 10 (on Linux, `export AUTOGRAPH_VERBOSITY=10`) and attach the full output. Cause: LIVE_VARS_IN\n",
      "WARNING: Entity <bound method DescriptorBase.GetOptions of <google.protobuf.descriptor.Descriptor object at 0x000002C77AB0DA48>> could not be transformed and will be executed as-is. Please report this to the AutoGraph team. When filing the bug, set the verbosity to 10 (on Linux, `export AUTOGRAPH_VERBOSITY=10`) and attach the full output. Cause: LIVE_VARS_IN\n",
      "WARNING:tensorflow:Entity <bound method DescriptorBase.GetOptions of <google.protobuf.descriptor.Descriptor object at 0x000002C77AB0DA48>> could not be transformed and will be executed as-is. Please report this to the AutoGraph team. When filing the bug, set the verbosity to 10 (on Linux, `export AUTOGRAPH_VERBOSITY=10`) and attach the full output. Cause: LIVE_VARS_IN\n",
      "WARNING: Entity <bound method DescriptorBase.GetOptions of <google.protobuf.descriptor.Descriptor object at 0x000002C77AB0DA48>> could not be transformed and will be executed as-is. Please report this to the AutoGraph team. When filing the bug, set the verbosity to 10 (on Linux, `export AUTOGRAPH_VERBOSITY=10`) and attach the full output. Cause: LIVE_VARS_IN\n",
      "WARNING:tensorflow:Entity <bound method DescriptorBase.GetOptions of <google.protobuf.descriptor.Descriptor object at 0x000002C77AB12348>> could not be transformed and will be executed as-is. Please report this to the AutoGraph team. When filing the bug, set the verbosity to 10 (on Linux, `export AUTOGRAPH_VERBOSITY=10`) and attach the full output. Cause: LIVE_VARS_IN\n",
      "WARNING: Entity <bound method DescriptorBase.GetOptions of <google.protobuf.descriptor.Descriptor object at 0x000002C77AB12348>> could not be transformed and will be executed as-is. Please report this to the AutoGraph team. When filing the bug, set the verbosity to 10 (on Linux, `export AUTOGRAPH_VERBOSITY=10`) and attach the full output. Cause: LIVE_VARS_IN\n",
      "WARNING:tensorflow:Entity <bound method DescriptorBase.GetOptions of <google.protobuf.descriptor.Descriptor object at 0x000002C77AB12348>> could not be transformed and will be executed as-is. Please report this to the AutoGraph team. When filing the bug, set the verbosity to 10 (on Linux, `export AUTOGRAPH_VERBOSITY=10`) and attach the full output. Cause: LIVE_VARS_IN\n",
      "WARNING: Entity <bound method DescriptorBase.GetOptions of <google.protobuf.descriptor.Descriptor object at 0x000002C77AB12348>> could not be transformed and will be executed as-is. Please report this to the AutoGraph team. When filing the bug, set the verbosity to 10 (on Linux, `export AUTOGRAPH_VERBOSITY=10`) and attach the full output. Cause: LIVE_VARS_IN\n",
      "WARNING:tensorflow:Entity <bound method DescriptorBase.GetOptions of <google.protobuf.descriptor.Descriptor object at 0x000002C77AB0DFC8>> could not be transformed and will be executed as-is. Please report this to the AutoGraph team. When filing the bug, set the verbosity to 10 (on Linux, `export AUTOGRAPH_VERBOSITY=10`) and attach the full output. Cause: LIVE_VARS_IN\n",
      "WARNING: Entity <bound method DescriptorBase.GetOptions of <google.protobuf.descriptor.Descriptor object at 0x000002C77AB0DFC8>> could not be transformed and will be executed as-is. Please report this to the AutoGraph team. When filing the bug, set the verbosity to 10 (on Linux, `export AUTOGRAPH_VERBOSITY=10`) and attach the full output. Cause: LIVE_VARS_IN\n",
      "WARNING:tensorflow:Entity <bound method DescriptorBase.GetOptions of <google.protobuf.descriptor.Descriptor object at 0x000002C77AB0DFC8>> could not be transformed and will be executed as-is. Please report this to the AutoGraph team. When filing the bug, set the verbosity to 10 (on Linux, `export AUTOGRAPH_VERBOSITY=10`) and attach the full output. Cause: LIVE_VARS_IN\n",
      "WARNING: Entity <bound method DescriptorBase.GetOptions of <google.protobuf.descriptor.Descriptor object at 0x000002C77AB0DFC8>> could not be transformed and will be executed as-is. Please report this to the AutoGraph team. When filing the bug, set the verbosity to 10 (on Linux, `export AUTOGRAPH_VERBOSITY=10`) and attach the full output. Cause: LIVE_VARS_IN\n",
      "INFO:tensorflow:global_step = 1, loss = 241.30542\n",
      "INFO:tensorflow:global_step = 6, loss = 265.80292 (5.390 sec)\n",
      "INFO:tensorflow:global_step = 11, loss = 263.22318 (4.337 sec)\n",
      "INFO:tensorflow:global_step = 16, loss = 245.97726 (4.050 sec)\n",
      "INFO:tensorflow:global_step = 21, loss = 256.2448 (4.062 sec)\n",
      "INFO:tensorflow:Saving checkpoints for 23 into d:\\FH\\Masterarbeit\\Project\\models\\tmp\\train\\model.ckpt.\n",
      "INFO:tensorflow:global_step = 26, loss = 253.83792 (8.758 sec)\n",
      "INFO:tensorflow:global_step = 31, loss = 257.61447 (3.929 sec)\n",
      "INFO:tensorflow:global_step = 36, loss = 252.2499 (3.740 sec)\n",
      "INFO:tensorflow:global_step = 41, loss = 248.08704 (3.874 sec)\n",
      "INFO:tensorflow:global_step = 46, loss = 244.00056 (3.890 sec)\n",
      "INFO:tensorflow:Saving checkpoints for 50 into d:\\FH\\Masterarbeit\\Project\\models\\tmp\\train\\model.ckpt.\n"
     ]
    }
   ],
   "source": [
    "midime = MidiMeGenerator()\n",
    "midime.trainFromTfRecord(output_file)"
   ]
  }
 ]
}