{
 "metadata": {
  "language_info": {
   "codemirror_mode": {
    "name": "ipython",
    "version": 3
   },
   "file_extension": ".py",
   "mimetype": "text/x-python",
   "name": "python",
   "nbconvert_exporter": "python",
   "pygments_lexer": "ipython3",
   "version": 3
  },
  "orig_nbformat": 2
 },
 "nbformat": 4,
 "nbformat_minor": 2,
 "cells": [
  {
   "cell_type": "code",
   "execution_count": null,
   "metadata": {},
   "outputs": [],
   "source": [
    "# prepare database table\n",
    "\n",
    "# batch evaluation of all reference midis + store results in db (only similarity distances or also absolute values?)\n",
    "\n",
    "# calculate the average + store it as reference for normalization\n",
    "# => might be worth changing architecture to object orientation here (creating an instance of the evaluation class, where you can set certain reference parameters)"
   ]
  }
 ]
}