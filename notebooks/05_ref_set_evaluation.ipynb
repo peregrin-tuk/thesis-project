{
 "metadata": {
  "language_info": {
   "codemirror_mode": {
    "name": "ipython",
    "version": 3
   },
   "file_extension": ".py",
   "mimetype": "text/x-python",
   "name": "python",
   "nbconvert_exporter": "python",
   "pygments_lexer": "ipython3",
   "version": "3.7.9-final"
  },
  "orig_nbformat": 2,
  "kernelspec": {
   "name": "python3",
   "display_name": "Python 3.7.9 64-bit ('mpro': conda)",
   "metadata": {
    "interpreter": {
     "hash": "75a9ca51cf2daeb22ff0ca8785d387c49ea4e2c8c6428abeae8aacce62ee187c"
    }
   }
  }
 },
 "nbformat": 4,
 "nbformat_minor": 2,
 "cells": [
  {
   "cell_type": "code",
   "execution_count": 1,
   "metadata": {},
   "outputs": [
    {
     "output_type": "stream",
     "name": "stderr",
     "text": [
      "C:\\Users\\Eric\\miniconda3\\envs\\mpro\\lib\\site-packages\\pydub\\utils.py:170: RuntimeWarning: Couldn't find ffmpeg or avconv - defaulting to ffmpeg, but may not work\n  warn(\"Couldn't find ffmpeg or avconv - defaulting to ffmpeg, but may not work\", RuntimeWarning)\n"
     ]
    }
   ],
   "source": [
    "import sys, os\n",
    "\n",
    "root_dir = os.path.join(os.getcwd(), '..')\n",
    "sys.path.append(root_dir)\n",
    "\n",
    "from tqdm.notebook import tqdm\n",
    "from pretty_midi import PrettyMIDI\n",
    "\n",
    "from src.db import reference_sets as db\n",
    "from src.utils import strings\n",
    "from src.evaluation import mgeval"
   ]
  },
  {
   "cell_type": "code",
   "execution_count": 2,
   "metadata": {},
   "outputs": [],
   "source": [
    "# prepare database\n",
    "db.create_tables()\n",
    "set_id = db.store_ref_set('theorytab', 17752, 4, 'https://github.com/wayne391/symbolic-musical-datasets, melodies crawled from https://www.hooktheory.com/theorytab')"
   ]
  },
  {
   "cell_type": "code",
   "execution_count": 3,
   "metadata": {
    "tags": []
   },
   "outputs": [
    {
     "output_type": "display_data",
     "data": {
      "text/plain": "0it [00:00, ?it/s]",
      "application/vnd.jupyter.widget-view+json": {
       "version_major": 2,
       "version_minor": 0,
       "model_id": "2f32a31eb7a04b6da5041b604e107ee5"
      }
     },
     "metadata": {}
    },
    {
     "output_type": "stream",
     "name": "stdout",
     "text": [
      "a_a-day-to-remember_downfall-of-us-all_intro-and-verse\n",
      "0.24974747474747475 0.33225108225108224 0.0825036075036075\n",
      "a_a-day-to-remember_downfall-of-us-all_pre-chorus-and-chorus\n",
      "0.4471590909090909 0.4260489510489511 0.02111013986013982\n",
      "a_a-day-to-remember_downfall-of-us-all_pre-chorus-and-chorus\n",
      "0.34069264069264066 0.376555023923445 0.03586238323080432\n",
      "a_a-g-cook_superstar_chorus\n",
      "0.33695652173913043 0.31 0.026956521739130435\n",
      "a_a-g-cook_superstar_pre-chorus-and-chorus\n",
      "0.2691077441077441 0.28127272727272723 0.012164983164983156\n",
      "a_a-ha_take-on-me_chorus\n",
      "1.0713636363636363 1.0713636363636363 0.0\n",
      "C:\\Users\\Eric\\miniconda3\\envs\\mpro\\lib\\site-packages\\numpy\\core\\fromnumeric.py:3373: RuntimeWarning: Mean of empty slice.\n",
      "  out=out, **kwargs)\n",
      "C:\\Users\\Eric\\miniconda3\\envs\\mpro\\lib\\site-packages\\numpy\\core\\_methods.py:170: RuntimeWarning: invalid value encountered in double_scalars\n",
      "  ret = ret.dtype.type(ret / rcount)\n",
      "a_a-ha_take-on-me_chorus\n",
      "0.8928030303030302 0.0 0.8928030303030302\n",
      "a_a-ha_take-on-me_intro\n",
      "0.5363636363636364 0.37097902097902097 0.1653846153846154\n",
      "a_a-ha_take-on-me_intro\n",
      "0.24071146245059288 0.24071146245059288 0.0\n",
      "a_a-ha_take-on-me_intro-and-verse\n",
      "0.5363636363636364 0.37097902097902097 0.1653846153846154\n",
      "a_a-ha_take-on-me_intro-and-verse\n",
      "0.24071146245059288 0.24071146245059288 0.0\n",
      "a_a-ha_take-on-me_verse-and-pre-chorus\n",
      "0.44375000000000003 0.35500000000000004 0.08875\n",
      "a_a-ha_the-sun-always-shines-on-tv_bridge\n",
      "0.39852941176470585 0.3437799043062201 0.05474950745848578\n",
      "a_a-ha_the-sun-always-shines-on-tv_chorus\n",
      "0.8202020202020202 0.6563636363636364 0.16383838383838378\n",
      "a_a-ha_the-sun-always-shines-on-tv_chorus\n",
      "0.8202020202020202 0.6738636363636363 0.14633838383838382\n",
      "a_a-ha_the-sun-always-shines-on-tv_chorus\n",
      "1.4060606060606062 1.875 0.46893939393939377\n",
      "a_a-ha_the-sun-always-shines-on-tv_solo\n",
      "0.4868881118881119 0.4531818181818182 0.03370629370629369\n",
      "a_a-perfect-circle_blue_chorus\n",
      "0.5687500000000001 0.6109374999999999 0.04218749999999982\n",
      "a_a-perfect-circle_john-lennon---imagine_intro-and-verse\n",
      "0.7534090909090909 0.9040909090909091 0.15068181818181814\n",
      "a_a-perfect-circle_passive_pre-chorus-and-chorus\n",
      "0.42063636363636364 0.5075757575757575 0.08693939393939382\n",
      "a_a-perfect-circle_passive_pre-chorus-and-chorus\n",
      "0.46472332015810275 0.5344318181818182 0.06970849802371543\n",
      "a_a-perfect-circle_passive_pre-chorus-and-chorus\n",
      "0.6895454545454545 0.17159090909090907 0.5179545454545453\n"
     ]
    },
    {
     "output_type": "error",
     "ename": "KeyboardInterrupt",
     "evalue": "",
     "traceback": [
      "\u001b[1;31m---------------------------------------------------------------------------\u001b[0m",
      "\u001b[1;31mKeyboardInterrupt\u001b[0m                         Traceback (most recent call last)",
      "\u001b[1;32m<ipython-input-3-ba2d565884ac>\u001b[0m in \u001b[0;36m<module>\u001b[1;34m\u001b[0m\n\u001b[0;32m     13\u001b[0m             \u001b[0mpm\u001b[0m \u001b[1;33m=\u001b[0m \u001b[0mPrettyMIDI\u001b[0m\u001b[1;33m(\u001b[0m\u001b[0mcall_file\u001b[0m\u001b[1;33m)\u001b[0m\u001b[1;33m\u001b[0m\u001b[1;33m\u001b[0m\u001b[0m\n\u001b[0;32m     14\u001b[0m             \u001b[0mcall_analysis\u001b[0m \u001b[1;33m=\u001b[0m \u001b[0mmgeval\u001b[0m\u001b[1;33m.\u001b[0m\u001b[0manalyze_midi\u001b[0m\u001b[1;33m(\u001b[0m\u001b[0mcall_file\u001b[0m\u001b[1;33m,\u001b[0m \u001b[1;36m4\u001b[0m\u001b[1;33m)\u001b[0m\u001b[1;33m\u001b[0m\u001b[1;33m\u001b[0m\u001b[0m\n\u001b[1;32m---> 15\u001b[1;33m             \u001b[0mresponse_analysis\u001b[0m \u001b[1;33m=\u001b[0m \u001b[0mmgeval\u001b[0m\u001b[1;33m.\u001b[0m\u001b[0manalyze_midi\u001b[0m\u001b[1;33m(\u001b[0m\u001b[0mresponse_file\u001b[0m\u001b[1;33m,\u001b[0m \u001b[1;36m4\u001b[0m\u001b[1;33m)\u001b[0m\u001b[1;33m\u001b[0m\u001b[1;33m\u001b[0m\u001b[0m\n\u001b[0m\u001b[0;32m     16\u001b[0m             \u001b[0msimilarity_distances\u001b[0m \u001b[1;33m=\u001b[0m \u001b[0mmgeval\u001b[0m\u001b[1;33m.\u001b[0m\u001b[0mcalc_distances\u001b[0m\u001b[1;33m(\u001b[0m\u001b[0mcall_analysis\u001b[0m\u001b[1;33m,\u001b[0m \u001b[0mresponse_analysis\u001b[0m\u001b[1;33m)\u001b[0m\u001b[1;33m\u001b[0m\u001b[1;33m\u001b[0m\u001b[0m\n\u001b[0;32m     17\u001b[0m \u001b[1;33m\u001b[0m\u001b[0m\n",
      "\u001b[1;32md:\\FH\\Masterarbeit\\Project\\notebooks\\..\\src\\evaluation\\mgeval.py\u001b[0m in \u001b[0;36manalyze_midi\u001b[1;34m(midi_file, length_in_bars)\u001b[0m\n\u001b[0;32m     59\u001b[0m     \u001b[0mtempo_list\u001b[0m \u001b[1;33m=\u001b[0m \u001b[0mfeature\u001b[0m\u001b[1;33m[\u001b[0m\u001b[1;34m'pretty_midi'\u001b[0m\u001b[1;33m]\u001b[0m\u001b[1;33m.\u001b[0m\u001b[0mget_tempo_changes\u001b[0m\u001b[1;33m(\u001b[0m\u001b[1;33m)\u001b[0m\u001b[1;33m\u001b[0m\u001b[1;33m\u001b[0m\u001b[0m\n\u001b[0;32m     60\u001b[0m     \u001b[0mbpm\u001b[0m \u001b[1;33m=\u001b[0m \u001b[0mnext\u001b[0m\u001b[1;33m(\u001b[0m\u001b[1;33m(\u001b[0m\u001b[0mi\u001b[0m \u001b[1;32mfor\u001b[0m \u001b[0mi\u001b[0m\u001b[1;33m,\u001b[0m \u001b[0mx\u001b[0m \u001b[1;32min\u001b[0m \u001b[0menumerate\u001b[0m\u001b[1;33m(\u001b[0m\u001b[0mtempo_list\u001b[0m\u001b[1;33m)\u001b[0m \u001b[1;32mif\u001b[0m \u001b[0mx\u001b[0m \u001b[1;33m!=\u001b[0m \u001b[1;36m0\u001b[0m\u001b[1;33m)\u001b[0m\u001b[1;33m,\u001b[0m \u001b[1;36m120\u001b[0m\u001b[1;33m)\u001b[0m\u001b[1;33m\u001b[0m\u001b[1;33m\u001b[0m\u001b[0m\n\u001b[1;32m---> 61\u001b[1;33m     \u001b[1;32mreturn\u001b[0m \u001b[0m__analyze\u001b[0m\u001b[1;33m(\u001b[0m\u001b[0mfeature\u001b[0m\u001b[1;33m,\u001b[0m \u001b[0mbpm\u001b[0m\u001b[1;33m,\u001b[0m \u001b[0mlength_in_bars\u001b[0m\u001b[1;33m)\u001b[0m\u001b[1;33m\u001b[0m\u001b[1;33m\u001b[0m\u001b[0m\n\u001b[0m\u001b[0;32m     62\u001b[0m \u001b[1;33m\u001b[0m\u001b[0m\n\u001b[0;32m     63\u001b[0m \u001b[1;33m\u001b[0m\u001b[0m\n",
      "\u001b[1;32md:\\FH\\Masterarbeit\\Project\\notebooks\\..\\src\\evaluation\\mgeval.py\u001b[0m in \u001b[0;36m__analyze\u001b[1;34m(feature, bpm, length_in_bars, normalize)\u001b[0m\n\u001b[0;32m     75\u001b[0m         \u001b[1;34m'pitch_count_per_bar'\u001b[0m\u001b[1;33m:\u001b[0m \u001b[1;36m0.0\u001b[0m\u001b[1;33m,\u001b[0m \u001b[1;31m# metrics.bar_used_pitch(feature, 1, length_in_bars), # TODO calculation in core seems to return wrong results\u001b[0m\u001b[1;33m\u001b[0m\u001b[1;33m\u001b[0m\u001b[0m\n\u001b[0;32m     76\u001b[0m         \u001b[1;34m'pitch_class_histogram'\u001b[0m\u001b[1;33m:\u001b[0m \u001b[0mmetrics\u001b[0m\u001b[1;33m.\u001b[0m\u001b[0mtotal_pitch_class_histogram\u001b[0m\u001b[1;33m(\u001b[0m\u001b[0mfeature\u001b[0m\u001b[1;33m)\u001b[0m\u001b[1;33m,\u001b[0m\u001b[1;33m\u001b[0m\u001b[1;33m\u001b[0m\u001b[0m\n\u001b[1;32m---> 77\u001b[1;33m         \u001b[1;34m'pitch_class_histogram_per_bar'\u001b[0m\u001b[1;33m:\u001b[0m \u001b[0mmetrics\u001b[0m\u001b[1;33m.\u001b[0m\u001b[0mbar_pitch_class_histogram\u001b[0m\u001b[1;33m(\u001b[0m\u001b[0mfeature\u001b[0m\u001b[1;33m,\u001b[0m \u001b[1;36m0\u001b[0m\u001b[1;33m,\u001b[0m \u001b[0mbpm\u001b[0m\u001b[1;33m,\u001b[0m \u001b[0mlength_in_bars\u001b[0m\u001b[1;33m)\u001b[0m\u001b[1;33m,\u001b[0m\u001b[1;33m\u001b[0m\u001b[1;33m\u001b[0m\u001b[0m\n\u001b[0m\u001b[0;32m     78\u001b[0m         \u001b[1;34m'pitch_class_transition_matrix'\u001b[0m\u001b[1;33m:\u001b[0m \u001b[0mmetrics\u001b[0m\u001b[1;33m.\u001b[0m\u001b[0mpitch_class_transition_matrix\u001b[0m\u001b[1;33m(\u001b[0m\u001b[0mfeature\u001b[0m\u001b[1;33m)\u001b[0m\u001b[1;33m,\u001b[0m\u001b[1;33m\u001b[0m\u001b[1;33m\u001b[0m\u001b[0m\n\u001b[0;32m     79\u001b[0m         \u001b[1;34m'avg_pitch_interval'\u001b[0m\u001b[1;33m:\u001b[0m \u001b[0mmetrics\u001b[0m\u001b[1;33m.\u001b[0m\u001b[0mavg_pitch_shift\u001b[0m\u001b[1;33m(\u001b[0m\u001b[0mfeature\u001b[0m\u001b[1;33m)\u001b[0m\u001b[1;33m,\u001b[0m\u001b[1;33m\u001b[0m\u001b[1;33m\u001b[0m\u001b[0m\n",
      "\u001b[1;32md:\\FH\\Masterarbeit\\Project\\notebooks\\..\\dependencies\\mgeval\\core.py\u001b[0m in \u001b[0;36mbar_pitch_class_histogram\u001b[1;34m(self, feature, track_num, bpm, num_bar)\u001b[0m\n\u001b[0;32m    216\u001b[0m             \u001b[1;32mfor\u001b[0m \u001b[0mj\u001b[0m \u001b[1;32min\u001b[0m \u001b[0mrange\u001b[0m\u001b[1;33m(\u001b[0m\u001b[1;36m0\u001b[0m\u001b[1;33m,\u001b[0m \u001b[1;36m128\u001b[0m\u001b[1;33m)\u001b[0m\u001b[1;33m:\u001b[0m\u001b[1;33m\u001b[0m\u001b[1;33m\u001b[0m\u001b[0m\n\u001b[0;32m    217\u001b[0m                 \u001b[0mpitch_class\u001b[0m \u001b[1;33m=\u001b[0m \u001b[0mj\u001b[0m \u001b[1;33m%\u001b[0m \u001b[1;36m12\u001b[0m\u001b[1;33m\u001b[0m\u001b[1;33m\u001b[0m\u001b[0m\n\u001b[1;32m--> 218\u001b[1;33m                 \u001b[0mhistogram\u001b[0m\u001b[1;33m[\u001b[0m\u001b[0mpitch_class\u001b[0m\u001b[1;33m]\u001b[0m \u001b[1;33m+=\u001b[0m \u001b[0mnp\u001b[0m\u001b[1;33m.\u001b[0m\u001b[0msum\u001b[0m\u001b[1;33m(\u001b[0m\u001b[0mpiano_roll\u001b[0m\u001b[1;33m[\u001b[0m\u001b[0mi\u001b[0m\u001b[1;33m]\u001b[0m\u001b[1;33m,\u001b[0m \u001b[0maxis\u001b[0m\u001b[1;33m=\u001b[0m\u001b[1;36m0\u001b[0m\u001b[1;33m)\u001b[0m\u001b[1;33m[\u001b[0m\u001b[0mj\u001b[0m\u001b[1;33m]\u001b[0m\u001b[1;33m\u001b[0m\u001b[1;33m\u001b[0m\u001b[0m\n\u001b[0m\u001b[0;32m    219\u001b[0m             \u001b[1;32mif\u001b[0m \u001b[0msum\u001b[0m\u001b[1;33m(\u001b[0m\u001b[0mhistogram\u001b[0m\u001b[1;33m)\u001b[0m \u001b[1;33m!=\u001b[0m \u001b[1;36m0\u001b[0m\u001b[1;33m:\u001b[0m\u001b[1;33m\u001b[0m\u001b[1;33m\u001b[0m\u001b[0m\n\u001b[0;32m    220\u001b[0m                 \u001b[0mbar_histogram\u001b[0m\u001b[1;33m[\u001b[0m\u001b[0mi\u001b[0m\u001b[1;33m]\u001b[0m \u001b[1;33m=\u001b[0m \u001b[0mhistogram\u001b[0m \u001b[1;33m/\u001b[0m \u001b[0msum\u001b[0m\u001b[1;33m(\u001b[0m\u001b[0mhistogram\u001b[0m\u001b[1;33m)\u001b[0m\u001b[1;33m\u001b[0m\u001b[1;33m\u001b[0m\u001b[0m\n",
      "\u001b[1;32m<__array_function__ internals>\u001b[0m in \u001b[0;36msum\u001b[1;34m(*args, **kwargs)\u001b[0m\n",
      "\u001b[1;32m~\\miniconda3\\envs\\mpro\\lib\\site-packages\\numpy\\core\\fromnumeric.py\u001b[0m in \u001b[0;36msum\u001b[1;34m(a, axis, dtype, out, keepdims, initial, where)\u001b[0m\n\u001b[0;32m   2240\u001b[0m \u001b[1;33m\u001b[0m\u001b[0m\n\u001b[0;32m   2241\u001b[0m     return _wrapreduction(a, np.add, 'sum', axis, dtype, out, keepdims=keepdims,\n\u001b[1;32m-> 2242\u001b[1;33m                           initial=initial, where=where)\n\u001b[0m\u001b[0;32m   2243\u001b[0m \u001b[1;33m\u001b[0m\u001b[0m\n\u001b[0;32m   2244\u001b[0m \u001b[1;33m\u001b[0m\u001b[0m\n",
      "\u001b[1;32m~\\miniconda3\\envs\\mpro\\lib\\site-packages\\numpy\\core\\fromnumeric.py\u001b[0m in \u001b[0;36m_wrapreduction\u001b[1;34m(obj, ufunc, method, axis, dtype, out, **kwargs)\u001b[0m\n\u001b[0;32m     85\u001b[0m                 \u001b[1;32mreturn\u001b[0m \u001b[0mreduction\u001b[0m\u001b[1;33m(\u001b[0m\u001b[0maxis\u001b[0m\u001b[1;33m=\u001b[0m\u001b[0maxis\u001b[0m\u001b[1;33m,\u001b[0m \u001b[0mout\u001b[0m\u001b[1;33m=\u001b[0m\u001b[0mout\u001b[0m\u001b[1;33m,\u001b[0m \u001b[1;33m**\u001b[0m\u001b[0mpasskwargs\u001b[0m\u001b[1;33m)\u001b[0m\u001b[1;33m\u001b[0m\u001b[1;33m\u001b[0m\u001b[0m\n\u001b[0;32m     86\u001b[0m \u001b[1;33m\u001b[0m\u001b[0m\n\u001b[1;32m---> 87\u001b[1;33m     \u001b[1;32mreturn\u001b[0m \u001b[0mufunc\u001b[0m\u001b[1;33m.\u001b[0m\u001b[0mreduce\u001b[0m\u001b[1;33m(\u001b[0m\u001b[0mobj\u001b[0m\u001b[1;33m,\u001b[0m \u001b[0maxis\u001b[0m\u001b[1;33m,\u001b[0m \u001b[0mdtype\u001b[0m\u001b[1;33m,\u001b[0m \u001b[0mout\u001b[0m\u001b[1;33m,\u001b[0m \u001b[1;33m**\u001b[0m\u001b[0mpasskwargs\u001b[0m\u001b[1;33m)\u001b[0m\u001b[1;33m\u001b[0m\u001b[1;33m\u001b[0m\u001b[0m\n\u001b[0m\u001b[0;32m     88\u001b[0m \u001b[1;33m\u001b[0m\u001b[0m\n\u001b[0;32m     89\u001b[0m \u001b[1;33m\u001b[0m\u001b[0m\n",
      "\u001b[1;31mKeyboardInterrupt\u001b[0m: "
     ]
    }
   ],
   "source": [
    "# batch evaluation of all reference midis + store results in db (only similarity distances or also absolute values?)\n",
    "\n",
    "set_name = 'theorytab' \n",
    "\n",
    "source_folder = '../data/reference_data/' + set_name\n",
    "i = 0\n",
    "for root, dirs, files in tqdm(os.walk(source_folder)):\n",
    "    for file in files:\n",
    "        if \"call\" in file and \"log\" not in file: \n",
    "            pair_number = file[0:2]\n",
    "            call_file = root + \"/\" + file\n",
    "            response_file = root + \"/\" + pair_number + \"_response.mid\"\n",
    "            pm = PrettyMIDI(call_file)\n",
    "            call_analysis = mgeval.analyze_midi(call_file, 4)\n",
    "            response_analysis = mgeval.analyze_midi(response_file, 4)\n",
    "            similarity_distances = mgeval.calc_distances(call_analysis, response_analysis)\n",
    "\n",
    "            song_name = strings.remove_prefix(root, source_folder + \"\\\\\")\n",
    "            print(song_name)\n",
    "            db.store_ref_data(set_id, song_name, pair_number, **similarity_distances)"
   ]
  },
  {
   "cell_type": "code",
   "execution_count": null,
   "metadata": {},
   "outputs": [],
   "source": [
    "# calculate the average or q1, median, q3 + store it as reference for normalization\n",
    "# => might be worth changing architecture to object orientation here (creating an instance of the evaluation class, where you can set certain reference parameters)"
   ]
  }
 ]
}