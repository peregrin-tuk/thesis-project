{
 "metadata": {
  "language_info": {
   "codemirror_mode": {
    "name": "ipython",
    "version": 3
   },
   "file_extension": ".py",
   "mimetype": "text/x-python",
   "name": "python",
   "nbconvert_exporter": "python",
   "pygments_lexer": "ipython3",
   "version": "3.7.9"
  },
  "orig_nbformat": 2,
  "kernelspec": {
   "name": "python379jvsc74a57bd075a9ca51cf2daeb22ff0ca8785d387c49ea4e2c8c6428abeae8aacce62ee187c",
   "display_name": "Python 3.7.9 64-bit ('mpro': conda)"
  }
 },
 "nbformat": 4,
 "nbformat_minor": 2,
 "cells": [
  {
   "cell_type": "code",
   "execution_count": 1,
   "metadata": {},
   "outputs": [
    {
     "output_type": "stream",
     "name": "stderr",
     "text": [
      "C:\\Users\\Eric\\miniconda3\\envs\\mpro\\lib\\site-packages\\pydub\\utils.py:170: RuntimeWarning: Couldn't find ffmpeg or avconv - defaulting to ffmpeg, but may not work\n",
      "  warn(\"Couldn't find ffmpeg or avconv - defaulting to ffmpeg, but may not work\", RuntimeWarning)\n",
      "pygame 2.0.1 (SDL 2.0.14, Python 3.7.9)\n",
      "Hello from the pygame community. https://www.pygame.org/contribute.html\n"
     ]
    }
   ],
   "source": [
    "import sys, os\n",
    "import numpy as np\n",
    "from sklearn.model_selection import LeaveOneOut\n",
    "\n",
    "root_dir = os.path.join(os.getcwd(), '..')\n",
    "sys.path.append(root_dir)\n",
    "\n",
    "from dependencies.mgeval import core, utils\n",
    "from src.evaluation import mgeval, evaluation"
   ]
  },
  {
   "cell_type": "code",
   "execution_count": 2,
   "metadata": {},
   "outputs": [],
   "source": [
    "test_set_of_sequences = [{'note_count': 4, 'pitch_count': 7, 'avg_ioi': 20}, {'note_count': 4, 'pitch_count': 5, 'avg_ioi': 10}, {'note_count': 4, 'pitch_count': 3, 'avg_ioi': 0}]"
   ]
  },
  {
   "cell_type": "code",
   "execution_count": 3,
   "metadata": {},
   "outputs": [],
   "source": [
    "result = {}\n",
    "for dictionary in test_set_of_sequences:\n",
    "    for key, value in dictionary.items():\n",
    "        if key not in result.keys():\n",
    "            result[key] = []\n",
    "        result[key].append(value)"
   ]
  },
  {
   "cell_type": "code",
   "execution_count": 4,
   "metadata": {},
   "outputs": [
    {
     "output_type": "execute_result",
     "data": {
      "text/plain": [
       "{'note_count': [4, 4, 4], 'pitch_count': [7, 5, 3], 'avg_ioi': [20, 10, 0]}"
      ]
     },
     "metadata": {},
     "execution_count": 4
    }
   ],
   "source": [
    "set_of_sequences = result\n",
    "max_key = max(set_of_sequences, key= lambda x: len(set(set_of_sequences[x])))\n",
    "set_of_sequences"
   ]
  },
  {
   "cell_type": "code",
   "execution_count": 5,
   "metadata": {},
   "outputs": [
    {
     "output_type": "stream",
     "name": "stdout",
     "text": [
      "size: 3 3\n[0] 0 [0. 0.]\n[1] 0 [0. 0.]\n[2] 0 [0. 0.]\n[0] 1 [2. 4.]\n[1] 1 [2. 2.]\n[2] 1 [4. 2.]\n[0] 2 [10. 20.]\n[1] 2 [10. 10.]\n[2] 2 [20. 10.]\n"
     ]
    },
    {
     "output_type": "execute_result",
     "data": {
      "text/plain": [
       "array([[[ 0.,  0.],\n",
       "        [ 2.,  4.],\n",
       "        [10., 20.]],\n",
       "\n",
       "       [[ 0.,  0.],\n",
       "        [ 2.,  2.],\n",
       "        [10., 10.]],\n",
       "\n",
       "       [[ 0.,  0.],\n",
       "        [ 4.,  2.],\n",
       "        [20., 10.]]])"
      ]
     },
     "metadata": {},
     "execution_count": 5
    }
   ],
   "source": [
    "num_samples = len(set_of_sequences[max_key])\n",
    "num_metrics = len(set_of_sequences)\n",
    "print('size:', num_samples, num_metrics)\n",
    "\n",
    "loo = LeaveOneOut()\n",
    "loo.get_n_splits(np.arange(num_samples))\n",
    "intra_set_distances = np.zeros((num_samples, num_metrics, num_samples-1))\n",
    "# for i in range(len(set_of_sequences)):\n",
    "i = 0\n",
    "for key in set_of_sequences:\n",
    "    for train_indexes, test_index in loo.split(np.arange(num_samples)):\n",
    "        # x = utils.c_dist(set_of_sequences[(int)(test_index)][key], [ set_of_sequences[idx][key] for idx in train_indexes ])\n",
    "        # train_index = np.array(train_indexes)[indices.astype(int)]\n",
    "        x = utils.c_dist(np.array(set_of_sequences[key])[test_index], np.array(set_of_sequences[key])[train_indexes])\n",
    "        intra_set_distances[test_index[0]][i] = x\n",
    "        print(test_index, i, x)\n",
    "    i += 1\n",
    "intra_set_distances"
   ]
  },
  {
   "cell_type": "code",
   "execution_count": 6,
   "metadata": {},
   "outputs": [
    {
     "output_type": "execute_result",
     "data": {
      "text/plain": [
       "array([[[ 0.,  0.],\n",
       "        [ 2.,  4.],\n",
       "        [10., 20.]],\n",
       "\n",
       "       [[ 0.,  0.],\n",
       "        [ 2.,  2.],\n",
       "        [10., 10.]],\n",
       "\n",
       "       [[ 0.,  0.],\n",
       "        [ 4.,  2.],\n",
       "        [20., 10.]]])"
      ]
     },
     "metadata": {},
     "execution_count": 6
    }
   ],
   "source": [
    "distances = mgeval.calc_intra_set_distances(test_set_of_sequences)\n",
    "distances"
   ]
  },
  {
   "cell_type": "code",
   "execution_count": 7,
   "metadata": {},
   "outputs": [
    {
     "output_type": "execute_result",
     "data": {
      "text/plain": [
       "array([0., 0.])"
      ]
     },
     "metadata": {},
     "execution_count": 7
    }
   ],
   "source": [
    "distances[0][0]"
   ]
  },
  {
   "cell_type": "code",
   "execution_count": 8,
   "metadata": {},
   "outputs": [
    {
     "output_type": "stream",
     "name": "stdout",
     "text": [
      "[EVAL] Error: No Normalization Factors set.\n"
     ]
    },
    {
     "output_type": "execute_result",
     "data": {
      "text/plain": [
       "{'absolute': {'note_count': 0.0,\n",
       "  'pitch_count': 2.6666666666666665,\n",
       "  'avg_ioi': 13.333333333333334},\n",
       " 'normalized': None}"
      ]
     },
     "metadata": {},
     "execution_count": 8
    }
   ],
   "source": [
    "# ATTENTION - This test doesn't work anymore, because evaluate_variance expects a list of PM to be analysed\n",
    "\n",
    "e = evaluation.Evaluation()\n",
    "v = e.evaluate_variance(test_set_of_sequences)\n",
    "v"
   ]
  }
 ]
}