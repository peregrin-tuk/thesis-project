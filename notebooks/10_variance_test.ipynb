{
 "metadata": {
  "language_info": {
   "codemirror_mode": {
    "name": "ipython",
    "version": 3
   },
   "file_extension": ".py",
   "mimetype": "text/x-python",
   "name": "python",
   "nbconvert_exporter": "python",
   "pygments_lexer": "ipython3",
   "version": "3.7.9"
  },
  "orig_nbformat": 2,
  "kernelspec": {
   "name": "python379jvsc74a57bd075a9ca51cf2daeb22ff0ca8785d387c49ea4e2c8c6428abeae8aacce62ee187c",
   "display_name": "Python 3.7.9 64-bit ('mpro': conda)"
  }
 },
 "nbformat": 4,
 "nbformat_minor": 2,
 "cells": [
  {
   "cell_type": "code",
   "execution_count": 1,
   "metadata": {},
   "outputs": [
    {
     "output_type": "stream",
     "name": "stderr",
     "text": [
      "C:\\Users\\Eric\\miniconda3\\envs\\mpro\\lib\\site-packages\\pydub\\utils.py:170: RuntimeWarning: Couldn't find ffmpeg or avconv - defaulting to ffmpeg, but may not work\n",
      "  warn(\"Couldn't find ffmpeg or avconv - defaulting to ffmpeg, but may not work\", RuntimeWarning)\n",
      "pygame 2.0.1 (SDL 2.0.14, Python 3.7.9)\n",
      "Hello from the pygame community. https://www.pygame.org/contribute.html\n"
     ]
    }
   ],
   "source": [
    "import sys, os\n",
    "import numpy as np\n",
    "from sklearn.model_selection import LeaveOneOut\n",
    "\n",
    "root_dir = os.path.join(os.getcwd(), '..')\n",
    "sys.path.append(root_dir)\n",
    "\n",
    "from dependencies.mgeval import core, utils\n",
    "from src.evaluation import mgeval, evaluation\n",
    "from src.io.input import loadMidiFile\n",
    "from src.datatypes.melody_data import MelodyData\n",
    "from definitions import SequenceType"
   ]
  },
  {
   "cell_type": "code",
   "execution_count": 2,
   "metadata": {},
   "outputs": [],
   "source": [
    "test_set_of_sequences = [{'note_count': 4, 'pitch_count': 7, 'avg_ioi': 20}, {'note_count': 4, 'pitch_count': 5, 'avg_ioi': 10}, {'note_count': 4, 'pitch_count': 3, 'avg_ioi': 0}]"
   ]
  },
  {
   "cell_type": "code",
   "execution_count": 3,
   "metadata": {},
   "outputs": [],
   "source": [
    "result = {}\n",
    "for dictionary in test_set_of_sequences:\n",
    "    for key, value in dictionary.items():\n",
    "        if key not in result.keys():\n",
    "            result[key] = []\n",
    "        result[key].append(value)"
   ]
  },
  {
   "cell_type": "code",
   "execution_count": 4,
   "metadata": {},
   "outputs": [
    {
     "output_type": "execute_result",
     "data": {
      "text/plain": [
       "{'note_count': [4, 4, 4], 'pitch_count': [7, 5, 3], 'avg_ioi': [20, 10, 0]}"
      ]
     },
     "metadata": {},
     "execution_count": 4
    }
   ],
   "source": [
    "set_of_sequences = result\n",
    "max_key = max(set_of_sequences, key= lambda x: len(set(set_of_sequences[x])))\n",
    "set_of_sequences"
   ]
  },
  {
   "cell_type": "code",
   "execution_count": 5,
   "metadata": {},
   "outputs": [
    {
     "output_type": "stream",
     "name": "stdout",
     "text": [
      "size: 3 3\n[0] 0 [0. 0.]\n[1] 0 [0. 0.]\n[2] 0 [0. 0.]\n[0] 1 [2. 4.]\n[1] 1 [2. 2.]\n[2] 1 [4. 2.]\n[0] 2 [10. 20.]\n[1] 2 [10. 10.]\n[2] 2 [20. 10.]\n"
     ]
    },
    {
     "output_type": "execute_result",
     "data": {
      "text/plain": [
       "array([[[ 0.,  0.],\n",
       "        [ 2.,  4.],\n",
       "        [10., 20.]],\n",
       "\n",
       "       [[ 0.,  0.],\n",
       "        [ 2.,  2.],\n",
       "        [10., 10.]],\n",
       "\n",
       "       [[ 0.,  0.],\n",
       "        [ 4.,  2.],\n",
       "        [20., 10.]]])"
      ]
     },
     "metadata": {},
     "execution_count": 5
    }
   ],
   "source": [
    "num_samples = len(set_of_sequences[max_key])\n",
    "num_metrics = len(set_of_sequences)\n",
    "print('size:', num_samples, num_metrics)\n",
    "\n",
    "loo = LeaveOneOut()\n",
    "loo.get_n_splits(np.arange(num_samples))\n",
    "intra_set_distances = np.zeros((num_samples, num_metrics, num_samples-1))\n",
    "# for i in range(len(set_of_sequences)):\n",
    "i = 0\n",
    "for key in set_of_sequences:\n",
    "    for train_indexes, test_index in loo.split(np.arange(num_samples)):\n",
    "        # x = utils.c_dist(set_of_sequences[(int)(test_index)][key], [ set_of_sequences[idx][key] for idx in train_indexes ])\n",
    "        # train_index = np.array(train_indexes)[indices.astype(int)]\n",
    "        x = utils.c_dist(np.array(set_of_sequences[key])[test_index], np.array(set_of_sequences[key])[train_indexes])\n",
    "        intra_set_distances[test_index[0]][i] = x\n",
    "        print(test_index, i, x)\n",
    "    i += 1\n",
    "intra_set_distances"
   ]
  },
  {
   "cell_type": "code",
   "execution_count": 6,
   "metadata": {},
   "outputs": [
    {
     "output_type": "execute_result",
     "data": {
      "text/plain": [
       "array([[[ 0.,  0.],\n",
       "        [ 2.,  4.],\n",
       "        [10., 20.]],\n",
       "\n",
       "       [[ 0.,  0.],\n",
       "        [ 2.,  2.],\n",
       "        [10., 10.]],\n",
       "\n",
       "       [[ 0.,  0.],\n",
       "        [ 4.,  2.],\n",
       "        [20., 10.]]])"
      ]
     },
     "metadata": {},
     "execution_count": 6
    }
   ],
   "source": [
    "distances = mgeval.calc_intra_set_distances(test_set_of_sequences)\n",
    "distances"
   ]
  },
  {
   "cell_type": "code",
   "execution_count": 7,
   "metadata": {},
   "outputs": [
    {
     "output_type": "execute_result",
     "data": {
      "text/plain": [
       "array([0., 0.])"
      ]
     },
     "metadata": {},
     "execution_count": 7
    }
   ],
   "source": [
    "distances[0][0]"
   ]
  },
  {
   "cell_type": "code",
   "execution_count": 8,
   "metadata": {},
   "outputs": [
    {
     "output_type": "error",
     "ename": "AttributeError",
     "evalue": "'dict' object has no attribute 'write'",
     "traceback": [
      "\u001b[1;31m---------------------------------------------------------------------------\u001b[0m",
      "\u001b[1;31mAttributeError\u001b[0m                            Traceback (most recent call last)",
      "\u001b[1;32m<ipython-input-8-0b6c8d974f8a>\u001b[0m in \u001b[0;36m<module>\u001b[1;34m\u001b[0m\n\u001b[0;32m      2\u001b[0m \u001b[1;33m\u001b[0m\u001b[0m\n\u001b[0;32m      3\u001b[0m \u001b[0me\u001b[0m \u001b[1;33m=\u001b[0m \u001b[0mevaluation\u001b[0m\u001b[1;33m.\u001b[0m\u001b[0mEvaluation\u001b[0m\u001b[1;33m(\u001b[0m\u001b[1;33m)\u001b[0m\u001b[1;33m\u001b[0m\u001b[1;33m\u001b[0m\u001b[0m\n\u001b[1;32m----> 4\u001b[1;33m \u001b[0mv\u001b[0m \u001b[1;33m=\u001b[0m \u001b[0me\u001b[0m\u001b[1;33m.\u001b[0m\u001b[0mevaluate_variance\u001b[0m\u001b[1;33m(\u001b[0m\u001b[0mtest_set_of_sequences\u001b[0m\u001b[1;33m)\u001b[0m\u001b[1;33m\u001b[0m\u001b[1;33m\u001b[0m\u001b[0m\n\u001b[0m\u001b[0;32m      5\u001b[0m \u001b[0mv\u001b[0m\u001b[1;33m\u001b[0m\u001b[1;33m\u001b[0m\u001b[0m\n",
      "\u001b[1;32md:\\FH\\Masterarbeit\\Project\\notebooks\\..\\src\\evaluation\\evaluation.py\u001b[0m in \u001b[0;36mevaluate_variance\u001b[1;34m(self, sequences)\u001b[0m\n\u001b[0;32m     40\u001b[0m \u001b[1;33m\u001b[0m\u001b[0m\n\u001b[0;32m     41\u001b[0m         \u001b[1;32mfor\u001b[0m \u001b[0ms\u001b[0m \u001b[1;32min\u001b[0m \u001b[0msequences\u001b[0m\u001b[1;33m:\u001b[0m\u001b[1;33m\u001b[0m\u001b[1;33m\u001b[0m\u001b[0m\n\u001b[1;32m---> 42\u001b[1;33m             \u001b[0mevals\u001b[0m\u001b[1;33m.\u001b[0m\u001b[0mappend\u001b[0m\u001b[1;33m(\u001b[0m\u001b[0manalyze_pretty_midi\u001b[0m\u001b[1;33m(\u001b[0m\u001b[0ms\u001b[0m\u001b[1;33m)\u001b[0m\u001b[1;33m)\u001b[0m\u001b[1;33m\u001b[0m\u001b[1;33m\u001b[0m\u001b[0m\n\u001b[0m\u001b[0;32m     43\u001b[0m \u001b[1;33m\u001b[0m\u001b[0m\n\u001b[0;32m     44\u001b[0m         \u001b[0mdistances\u001b[0m \u001b[1;33m=\u001b[0m \u001b[0mcalc_intra_set_distances\u001b[0m\u001b[1;33m(\u001b[0m\u001b[0mevals\u001b[0m\u001b[1;33m)\u001b[0m\u001b[1;33m\u001b[0m\u001b[1;33m\u001b[0m\u001b[0m\n",
      "\u001b[1;32md:\\FH\\Masterarbeit\\Project\\notebooks\\..\\src\\evaluation\\mgeval.py\u001b[0m in \u001b[0;36manalyze_pretty_midi\u001b[1;34m(pm, length_in_bars)\u001b[0m\n\u001b[0;32m     29\u001b[0m \u001b[1;33m\u001b[0m\u001b[0m\n\u001b[0;32m     30\u001b[0m \u001b[1;32mdef\u001b[0m \u001b[0manalyze_pretty_midi\u001b[0m\u001b[1;33m(\u001b[0m\u001b[0mpm\u001b[0m\u001b[1;33m:\u001b[0m \u001b[0mPrettyMIDI\u001b[0m\u001b[1;33m,\u001b[0m \u001b[0mlength_in_bars\u001b[0m\u001b[1;33m:\u001b[0m \u001b[0mint\u001b[0m \u001b[1;33m=\u001b[0m \u001b[1;32mNone\u001b[0m\u001b[1;33m)\u001b[0m\u001b[1;33m:\u001b[0m\u001b[1;33m\u001b[0m\u001b[1;33m\u001b[0m\u001b[0m\n\u001b[1;32m---> 31\u001b[1;33m     \u001b[0msaveMidiFile\u001b[0m\u001b[1;33m(\u001b[0m\u001b[0mpm\u001b[0m\u001b[1;33m,\u001b[0m \u001b[0mmidi_file_cache\u001b[0m\u001b[1;33m,\u001b[0m \u001b[0mlog\u001b[0m\u001b[1;33m=\u001b[0m\u001b[1;32mFalse\u001b[0m\u001b[1;33m)\u001b[0m\u001b[1;33m\u001b[0m\u001b[1;33m\u001b[0m\u001b[0m\n\u001b[0m\u001b[0;32m     32\u001b[0m \u001b[1;33m\u001b[0m\u001b[0m\n\u001b[0;32m     33\u001b[0m     feature = {'pretty_midi': pm,\n",
      "\u001b[1;32md:\\FH\\Masterarbeit\\Project\\notebooks\\..\\src\\io\\output.py\u001b[0m in \u001b[0;36msaveMidiFile\u001b[1;34m(midi, file_path, log)\u001b[0m\n\u001b[0;32m    113\u001b[0m     \u001b[0mdocstring\u001b[0m\u001b[1;33m\u001b[0m\u001b[1;33m\u001b[0m\u001b[0m\n\u001b[0;32m    114\u001b[0m     \"\"\"\n\u001b[1;32m--> 115\u001b[1;33m     \u001b[0mmidi\u001b[0m\u001b[1;33m.\u001b[0m\u001b[0mwrite\u001b[0m\u001b[1;33m(\u001b[0m\u001b[0mfile_path\u001b[0m\u001b[1;33m)\u001b[0m\u001b[1;33m\u001b[0m\u001b[1;33m\u001b[0m\u001b[0m\n\u001b[0m\u001b[0;32m    116\u001b[0m     \u001b[1;32mif\u001b[0m \u001b[0mlog\u001b[0m\u001b[1;33m:\u001b[0m \u001b[0mprint\u001b[0m\u001b[1;33m(\u001b[0m\u001b[1;34m'[IO] file saved to:'\u001b[0m\u001b[1;33m)\u001b[0m\u001b[1;33m\u001b[0m\u001b[1;33m\u001b[0m\u001b[0m\n\u001b[0;32m    117\u001b[0m     \u001b[1;32mif\u001b[0m \u001b[0mlog\u001b[0m\u001b[1;33m:\u001b[0m \u001b[0mshowFileLink\u001b[0m\u001b[1;33m(\u001b[0m\u001b[0mfile_path\u001b[0m\u001b[1;33m)\u001b[0m\u001b[1;33m\u001b[0m\u001b[1;33m\u001b[0m\u001b[0m\n",
      "\u001b[1;31mAttributeError\u001b[0m: 'dict' object has no attribute 'write'"
     ]
    }
   ],
   "source": [
    "# ATTENTION - This test doesn't work anymore, because evaluate_variance expects a list of PM to be analysed\n",
    "\n",
    "e = evaluation.Evaluation()\n",
    "v = e.evaluate_variance(test_set_of_sequences)\n",
    "v"
   ]
  },
  {
   "cell_type": "code",
   "execution_count": 12,
   "metadata": {},
   "outputs": [
    {
     "output_type": "stream",
     "name": "stdout",
     "text": [
      "[EVAL] Error: No Normalization Factors set.\n"
     ]
    },
    {
     "output_type": "execute_result",
     "data": {
      "text/plain": [
       "{'absolute': {'pitch_count': 4.0,\n",
       "  'pitch_class_histogram': 0.7499187425522462,\n",
       "  'pitch_class_transition_matrix': 5.5677643628300215,\n",
       "  'avg_pitch_interval': 1.0555555555555556,\n",
       "  'pitch_range': 3.0,\n",
       "  'note_count': 0.0,\n",
       "  'note_length_histogram': 0.7479575920067658,\n",
       "  'note_length_transition_matrix': 15.033296378372908,\n",
       "  'avg_ioi': 0.11819949363425925},\n",
       " 'normalized': None}"
      ]
     },
     "metadata": {},
     "execution_count": 12
    }
   ],
   "source": [
    "m = loadMidiFile('../midi/examples/monophonic/bohemian_mama_4b.mid')\n",
    "m2 = loadMidiFile('../midi/examples/monophonic/pinkpanther_4b.mid')\n",
    "\n",
    "melody = MelodyData(m, SequenceType.GEN_BASE)\n",
    "melody2 = MelodyData(m2, SequenceType.GEN_BASE)\n",
    "\n",
    "generations = []\n",
    "generations.append({'gen_data': {}})\n",
    "generations[0]['gen_data']['sequence'] = melody\n",
    "\n",
    "generations.append({'gen_data': {}})\n",
    "generations[1]['gen_data']['sequence'] = melody2\n",
    "\n",
    "generation_variance = e.evaluate_variance([g['gen_data']['sequence'].sequence for g in generations])\n",
    "\n",
    "#[g['gen_data']['sequence'] for g in generations]\n",
    "generation_variance"
   ]
  }
 ]
}