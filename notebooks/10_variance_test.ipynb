{
 "metadata": {
  "language_info": {
   "codemirror_mode": {
    "name": "ipython",
    "version": 3
   },
   "file_extension": ".py",
   "mimetype": "text/x-python",
   "name": "python",
   "nbconvert_exporter": "python",
   "pygments_lexer": "ipython3",
   "version": "3.7.9"
  },
  "orig_nbformat": 2,
  "kernelspec": {
   "name": "python379jvsc74a57bd075a9ca51cf2daeb22ff0ca8785d387c49ea4e2c8c6428abeae8aacce62ee187c",
   "display_name": "Python 3.7.9 64-bit ('mpro': conda)"
  }
 },
 "nbformat": 4,
 "nbformat_minor": 2,
 "cells": [
  {
   "cell_type": "code",
   "execution_count": 1,
   "metadata": {},
   "outputs": [],
   "source": [
    "import sys, os\n",
    "import numpy as np\n",
    "from sklearn.model_selection import LeaveOneOut\n",
    "\n",
    "root_dir = os.path.join(os.getcwd(), '..')\n",
    "sys.path.append(root_dir)\n",
    "\n",
    "from dependencies.mgeval import core, utils"
   ]
  },
  {
   "cell_type": "code",
   "execution_count": 61,
   "metadata": {},
   "outputs": [],
   "source": [
    "set_of_sequences = [{'note_count': 4, 'pitch_count': 8}, {'note_count': 4, 'pitch_count': 5}, {'note_count': 4, 'pitch_count': 3}]"
   ]
  },
  {
   "cell_type": "code",
   "execution_count": 62,
   "metadata": {},
   "outputs": [],
   "source": [
    "result = {}\n",
    "for dictionary in set_of_sequences:\n",
    "    for key, value in dictionary.items():\n",
    "        if key not in result.keys():\n",
    "            result[key] = []\n",
    "        result[key].append(value)"
   ]
  },
  {
   "cell_type": "code",
   "execution_count": 63,
   "metadata": {},
   "outputs": [
    {
     "output_type": "execute_result",
     "data": {
      "text/plain": [
       "{'note_count': [4, 4, 4], 'pitch_count': [8, 5, 3]}"
      ]
     },
     "metadata": {},
     "execution_count": 63
    }
   ],
   "source": [
    "set_of_sequences = result\n",
    "max_key = max(set_of_sequences, key= lambda x: len(set(d[x])))\n",
    "set_of_sequences"
   ]
  },
  {
   "cell_type": "code",
   "execution_count": 68,
   "metadata": {},
   "outputs": [
    {
     "output_type": "stream",
     "name": "stdout",
     "text": [
      "3\n"
     ]
    },
    {
     "output_type": "execute_result",
     "data": {
      "text/plain": [
       "array([[[3., 5.],\n",
       "        [0., 0.]],\n",
       "\n",
       "       [[3., 2.],\n",
       "        [0., 0.]],\n",
       "\n",
       "       [[5., 2.],\n",
       "        [0., 0.]]])"
      ]
     },
     "metadata": {},
     "execution_count": 68
    }
   ],
   "source": [
    "num_samples = len(set_of_sequences[max_key])\n",
    "num_metrics = len(set_of_sequences)\n",
    "print(num_samples)\n",
    "\n",
    "loo = LeaveOneOut()\n",
    "loo.get_n_splits(np.arange(num_samples))\n",
    "intra_set_distances = np.zeros((num_samples, num_metrics, num_samples-1))\n",
    "i = 0\n",
    "for key in set_of_sequences:\n",
    "    for train_indexes, test_index in loo.split(np.arange(num_samples)):\n",
    "        # x = utils.c_dist(set_of_sequences[(int)(test_index)][key], [ set_of_sequences[idx][key] for idx in train_indexes ])\n",
    "        # train_index = np.array(train_indexes)[indices.astype(int)]\n",
    "        x = utils.c_dist(np.array(set_of_sequences[key])[test_index], np.array(set_of_sequences[key])[train_indexes])\n",
    "        intra_set_distances[test_index[0]][i] = x\n",
    "    i += i\n",
    "\n",
    "intra_set_distances"
   ]
  }
 ]
}