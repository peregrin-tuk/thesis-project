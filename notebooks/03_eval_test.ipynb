{
 "cells": [
  {
   "cell_type": "markdown",
   "metadata": {},
   "source": [
    "# Imports & Model Setup"
   ]
  },
  {
   "cell_type": "code",
   "execution_count": 3,
   "metadata": {},
   "outputs": [
    {
     "name": "stderr",
     "output_type": "stream",
     "text": [
      "C:\\Users\\Eric\\miniconda3\\envs\\mpro\\lib\\site-packages\\pydub\\utils.py:170: RuntimeWarning: Couldn't find ffmpeg or avconv - defaulting to ffmpeg, but may not work\n",
      "  warn(\"Couldn't find ffmpeg or avconv - defaulting to ffmpeg, but may not work\", RuntimeWarning)\n"
     ]
    },
    {
     "name": "stdout",
     "output_type": "stream",
     "text": [
      "pygame 2.0.1 (SDL 2.0.14, Python 3.7.9)\n",
      "Hello from the pygame community. https://www.pygame.org/contribute.html\n"
     ]
    }
   ],
   "source": [
    "import sys, os\r\n",
    "\r\n",
    "root_dir = os.path.join(os.getcwd(), '..')\r\n",
    "sys.path.append(root_dir)\r\n",
    "\r\n",
    "import seaborn as sns\r\n",
    "import pandas as pd\r\n",
    "import numpy as np\r\n",
    "from note_seq import midi_to_note_sequence, note_sequence_to_midi_file, note_sequence_to_pretty_midi\r\n",
    "from heatmap import heatmap, corrplot\r\n",
    "from src.evaluation import mgeval\r\n",
    "from src.io import output, input, conversion\r\n",
    "from src.generation import MusicVAEGenerator\r\n",
    "from src.db import generations as db"
   ]
  },
  {
   "cell_type": "code",
   "execution_count": null,
   "metadata": {},
   "outputs": [],
   "source": [
    "import music21\n",
    "#music21.configure.run()\n",
    "#music21.environment.set('musescoreDirectPNGPath', 'C:\\\\Program Files\\\\MuseScore 3\\\\bin\\\\MuseScore3.exe')\n",
    "#music21.environment.set('musicxmlPath', 'C:\\\\Program Files\\\\MuseScore 3\\\\bin\\\\MuseScore3.exe')"
   ]
  },
  {
   "cell_type": "code",
   "execution_count": null,
   "metadata": {},
   "outputs": [
    {
     "ename": "NameError",
     "evalue": "name 'MusicVAEGenerator' is not defined",
     "output_type": "error",
     "traceback": [
      "\u001b[1;31m---------------------------------------------------------------------------\u001b[0m",
      "\u001b[1;31mNameError\u001b[0m                                 Traceback (most recent call last)",
      "\u001b[1;32m<ipython-input-2-3be1752f4bdb>\u001b[0m in \u001b[0;36m<module>\u001b[1;34m\u001b[0m\n\u001b[1;32m----> 1\u001b[1;33m \u001b[0mvae\u001b[0m \u001b[1;33m=\u001b[0m \u001b[0mMusicVAEGenerator\u001b[0m\u001b[1;33m(\u001b[0m\u001b[1;33m)\u001b[0m\u001b[1;33m\u001b[0m\u001b[1;33m\u001b[0m\u001b[0m\n\u001b[0m",
      "\u001b[1;31mNameError\u001b[0m: name 'MusicVAEGenerator' is not defined"
     ]
    }
   ],
   "source": [
    "vae = MusicVAEGenerator()"
   ]
  },
  {
   "cell_type": "markdown",
   "metadata": {},
   "source": [
    "# Input Analysis"
   ]
  },
  {
   "cell_type": "code",
   "execution_count": null,
   "metadata": {},
   "outputs": [
    {
     "data": {
      "text/plain": [
       "{'pitch_count': 9,\n",
       " 'pitch_class_histogram': array([0.0300885 , 0.        , 0.0300885 , 0.06017699, 0.41061947,\n",
       "        0.        , 0.06017699, 0.11504425, 0.        , 0.0300885 ,\n",
       "        0.20530973, 0.05840708]),\n",
       " 'pitch_class_transition_matrix': array([[0., 0., 0., 0., 0., 0., 0., 0., 0., 0., 0., 1.],\n",
       "        [0., 0., 0., 0., 0., 0., 0., 0., 0., 0., 0., 0.],\n",
       "        [0., 0., 0., 0., 1., 0., 0., 0., 0., 0., 0., 0.],\n",
       "        [0., 0., 0., 0., 1., 0., 0., 0., 0., 0., 0., 0.],\n",
       "        [0., 0., 1., 0., 0., 0., 0., 1., 0., 0., 0., 0.],\n",
       "        [0., 0., 0., 0., 0., 0., 0., 0., 0., 0., 0., 0.],\n",
       "        [0., 0., 0., 0., 0., 0., 0., 2., 0., 0., 0., 0.],\n",
       "        [0., 0., 0., 0., 1., 0., 0., 0., 0., 0., 0., 0.],\n",
       "        [0., 0., 0., 0., 0., 0., 0., 0., 0., 0., 0., 0.],\n",
       "        [0., 0., 0., 0., 0., 0., 0., 1., 0., 0., 0., 0.],\n",
       "        [0., 0., 0., 0., 0., 0., 0., 0., 0., 1., 0., 0.],\n",
       "        [0., 0., 0., 0., 0., 0., 0., 0., 0., 0., 1., 0.]]),\n",
       " 'avg_pitch_interval': 2.388888888888889,\n",
       " 'pitch_range': 10,\n",
       " 'note_count': 19,\n",
       " 'note_length_histogram': array([0.        , 0.03846154, 0.        , 0.        , 0.        ,\n",
       "        0.03846154, 0.        , 0.        , 0.        , 0.        ,\n",
       "        0.        , 0.65384615, 0.        , 0.        , 0.        ,\n",
       "        0.        , 0.        , 0.        , 0.        , 0.        ,\n",
       "        0.        , 0.07692308, 0.03846154, 0.15384615]),\n",
       " 'note_length_transition_matrix': array([[ 0.,  0.,  0.,  0.,  0.,  0.,  0.,  0.,  0.,  0.,  0.,  0.,  0.,\n",
       "          0.,  0.,  0.,  0.,  0.,  0.,  0.,  0.,  0.,  0.,  0.],\n",
       "        [ 0.,  0.,  0.,  0.,  0.,  0.,  0.,  0.,  0.,  0.,  0.,  1.,  0.,\n",
       "          0.,  0.,  0.,  0.,  0.,  0.,  0.,  0.,  0.,  0.,  0.],\n",
       "        [ 0.,  0.,  0.,  0.,  0.,  0.,  0.,  0.,  0.,  0.,  0.,  0.,  0.,\n",
       "          0.,  0.,  0.,  0.,  0.,  0.,  0.,  0.,  0.,  0.,  0.],\n",
       "        [ 0.,  0.,  0.,  0.,  0.,  0.,  0.,  0.,  0.,  0.,  0.,  0.,  0.,\n",
       "          0.,  0.,  0.,  0.,  0.,  0.,  0.,  0.,  0.,  0.,  0.],\n",
       "        [ 0.,  0.,  0.,  0.,  0.,  0.,  0.,  0.,  0.,  0.,  0.,  5.,  0.,\n",
       "          0.,  0.,  0.,  0.,  0.,  0.,  0.,  0.,  0.,  0.,  0.],\n",
       "        [ 0.,  0.,  0.,  0.,  0.,  0.,  0.,  0.,  0.,  0.,  0.,  0.,  0.,\n",
       "          0.,  0.,  0.,  0.,  0.,  0.,  0.,  0.,  0.,  0.,  0.],\n",
       "        [ 0.,  0.,  0.,  0.,  0.,  0.,  0.,  0.,  0.,  0.,  0.,  0.,  0.,\n",
       "          0.,  0.,  0.,  0.,  0.,  0.,  0.,  0.,  0.,  0.,  0.],\n",
       "        [ 0.,  0.,  0.,  0.,  0.,  0.,  0.,  0.,  0.,  0.,  0.,  0.,  0.,\n",
       "          0.,  0.,  0.,  0.,  0.,  0.,  0.,  0.,  0.,  0.,  0.],\n",
       "        [ 0.,  0.,  0.,  0.,  0.,  0.,  0.,  0.,  0.,  0.,  0.,  0.,  0.,\n",
       "          0.,  0.,  0.,  0.,  0.,  0.,  0.,  0.,  0.,  0.,  0.],\n",
       "        [ 0.,  0.,  0.,  0.,  0.,  0.,  0.,  0.,  0.,  0.,  0.,  0.,  0.,\n",
       "          0.,  0.,  0.,  0.,  0.,  0.,  0.,  0.,  0.,  0.,  0.],\n",
       "        [ 0.,  0.,  0.,  0.,  0.,  0.,  0.,  0.,  0.,  0.,  0.,  0.,  0.,\n",
       "          0.,  0.,  0.,  0.,  0.,  0.,  0.,  0.,  0.,  0.,  0.],\n",
       "        [ 0.,  1.,  0.,  0.,  0.,  1.,  0.,  0.,  0.,  0.,  0., 10.,  0.,\n",
       "          0.,  0.,  0.,  0.,  0.,  0.,  0.,  0.,  0.,  0.,  7.],\n",
       "        [ 0.,  0.,  0.,  0.,  0.,  0.,  0.,  0.,  0.,  0.,  0.,  0.,  0.,\n",
       "          0.,  0.,  0.,  0.,  0.,  0.,  0.,  0.,  0.,  0.,  0.],\n",
       "        [ 0.,  0.,  0.,  0.,  0.,  0.,  0.,  0.,  0.,  0.,  0.,  0.,  0.,\n",
       "          0.,  0.,  0.,  0.,  0.,  0.,  0.,  0.,  0.,  0.,  0.],\n",
       "        [ 0.,  0.,  0.,  0.,  0.,  0.,  0.,  0.,  0.,  0.,  0.,  0.,  0.,\n",
       "          0.,  0.,  0.,  0.,  0.,  0.,  0.,  0.,  0.,  0.,  0.],\n",
       "        [ 0.,  0.,  0.,  0.,  0.,  0.,  0.,  0.,  0.,  0.,  0.,  0.,  0.,\n",
       "          0.,  0.,  0.,  0.,  0.,  0.,  0.,  0.,  0.,  0.,  0.],\n",
       "        [ 0.,  0.,  0.,  0.,  0.,  0.,  0.,  0.,  0.,  0.,  0.,  0.,  0.,\n",
       "          0.,  0.,  0.,  0.,  0.,  0.,  0.,  0.,  0.,  0.,  0.],\n",
       "        [ 0.,  0.,  0.,  0.,  0.,  0.,  0.,  0.,  0.,  0.,  0.,  0.,  0.,\n",
       "          0.,  0.,  0.,  0.,  0.,  0.,  0.,  0.,  0.,  0.,  0.],\n",
       "        [ 0.,  0.,  0.,  0.,  0.,  0.,  0.,  0.,  0.,  0.,  0.,  0.,  0.,\n",
       "          0.,  0.,  0.,  0.,  0.,  0.,  0.,  0.,  0.,  0.,  0.],\n",
       "        [ 0.,  0.,  0.,  0.,  0.,  0.,  0.,  0.,  0.,  0.,  0.,  0.,  0.,\n",
       "          0.,  0.,  0.,  0.,  0.,  0.,  0.,  0.,  0.,  0.,  0.],\n",
       "        [ 0.,  0.,  0.,  0.,  0.,  0.,  0.,  0.,  0.,  0.,  0.,  0.,  0.,\n",
       "          0.,  0.,  0.,  0.,  0.,  0.,  0.,  0.,  0.,  0.,  0.],\n",
       "        [ 0.,  0.,  0.,  0.,  0.,  0.,  0.,  0.,  0.,  0.,  0.,  0.,  0.,\n",
       "          0.,  0.,  0.,  0.,  0.,  0.,  0.,  0.,  0.,  0.,  0.],\n",
       "        [ 0.,  0.,  0.,  0.,  0.,  0.,  0.,  0.,  0.,  0.,  0.,  0.,  0.,\n",
       "          0.,  0.,  0.,  0.,  0.,  0.,  0.,  0.,  0.,  0.,  0.],\n",
       "        [ 0.,  0.,  0.,  0.,  0.,  0.,  0.,  0.,  0.,  0.,  0.,  0.,  0.,\n",
       "          0.,  0.,  0.,  0.,  0.,  0.,  0.,  0.,  0.,  0.,  0.]]),\n",
       " 'avg_ioi': 0.4351851851851852,\n",
       " 'ioi_histogram': array([0., 0., 0., 0., 1., 0., 0., 0., 0., 0., 0., 0.]),\n",
       " 'ioi_transition_matrix': array([[ 0.,  0.,  0.,  0.,  0.,  0.,  0.,  0.,  0.,  0.,  0.,  0.],\n",
       "        [ 0.,  0.,  0.,  0.,  0.,  0.,  0.,  0.,  0.,  0.,  0.,  0.],\n",
       "        [ 0.,  0.,  0.,  0.,  0.,  0.,  0.,  0.,  0.,  0.,  0.,  0.],\n",
       "        [ 0.,  0.,  0.,  0.,  0.,  0.,  0.,  0.,  0.,  0.,  0.,  0.],\n",
       "        [ 0.,  0.,  0.,  0., 18.,  0.,  0.,  0.,  0.,  0.,  0.,  0.],\n",
       "        [ 0.,  0.,  0.,  0.,  0.,  0.,  0.,  0.,  0.,  0.,  0.,  0.],\n",
       "        [ 0.,  0.,  0.,  0.,  0.,  0.,  0.,  0.,  0.,  0.,  0.,  0.],\n",
       "        [ 0.,  0.,  0.,  0.,  0.,  0.,  0.,  0.,  0.,  0.,  0.,  0.],\n",
       "        [ 0.,  0.,  0.,  0.,  0.,  0.,  0.,  0.,  0.,  0.,  0.,  0.],\n",
       "        [ 0.,  0.,  0.,  0.,  0.,  0.,  0.,  0.,  0.,  0.,  0.,  0.],\n",
       "        [ 0.,  0.,  0.,  0.,  0.,  0.,  0.,  0.,  0.,  0.,  0.,  0.],\n",
       "        [ 0.,  0.,  0.,  0.,  0.,  0.,  0.,  0.,  0.,  0.,  0.,  0.]])}"
      ]
     },
     "execution_count": 24,
     "metadata": {},
     "output_type": "execute_result"
    }
   ],
   "source": [
    "midi = input.loadMidiFile('../midi/examples/monophonic/pinkpanther_4b.mid')\r\n",
    "seq_input = midi_to_note_sequence(midi)\r\n",
    "\r\n",
    "metrics1 = mgeval.analyze_sequence(seq_input)\r\n",
    "metrics1"
   ]
  },
  {
   "cell_type": "markdown",
   "metadata": {},
   "source": [
    "# Generate New Sequence"
   ]
  },
  {
   "cell_type": "code",
   "execution_count": null,
   "metadata": {},
   "outputs": [
    {
     "name": "stdout",
     "output_type": "stream",
     "text": [
      "{'gen_dur': 8.832008600234985, 'model': 'MusicVAE', 'checkpoint': 'cat-mel_2bar_big', 'temperature': 0.6}\n"
     ]
    }
   ],
   "source": [
    "seq_gen_base = vae.generate(16, 0.6)\n",
    "print(seq_gen_base['meta'])"
   ]
  },
  {
   "cell_type": "markdown",
   "metadata": {},
   "source": [
    "# Gen_base Analysis"
   ]
  },
  {
   "cell_type": "code",
   "execution_count": null,
   "metadata": {},
   "outputs": [
    {
     "data": {
      "text/plain": [
       "{'pitch_count': 3,\n",
       " 'pitch_class_histogram': array([0.        , 0.        , 0.        , 0.        , 0.        ,\n",
       "        0.        , 0.        , 0.        , 0.12908012, 0.        ,\n",
       "        0.66765579, 0.20326409]),\n",
       " 'pitch_class_transition_matrix': array([[0., 0., 0., 0., 0., 0., 0., 0., 0., 0., 0., 0.],\n",
       "        [0., 0., 0., 0., 0., 0., 0., 0., 0., 0., 0., 0.],\n",
       "        [0., 0., 0., 0., 0., 0., 0., 0., 0., 0., 0., 0.],\n",
       "        [0., 0., 0., 0., 0., 0., 0., 0., 0., 0., 0., 0.],\n",
       "        [0., 0., 0., 0., 0., 0., 0., 0., 0., 0., 0., 0.],\n",
       "        [0., 0., 0., 0., 0., 0., 0., 0., 0., 0., 0., 0.],\n",
       "        [0., 0., 0., 0., 0., 0., 0., 0., 0., 0., 0., 0.],\n",
       "        [0., 0., 0., 0., 0., 0., 0., 0., 0., 0., 0., 0.],\n",
       "        [0., 0., 0., 0., 0., 0., 0., 0., 0., 0., 0., 0.],\n",
       "        [0., 0., 0., 0., 0., 0., 0., 0., 0., 0., 0., 0.],\n",
       "        [0., 0., 0., 0., 0., 0., 0., 0., 0., 0., 0., 0.],\n",
       "        [0., 0., 0., 0., 0., 0., 0., 0., 0., 0., 1., 0.]]),\n",
       " 'avg_pitch_interval': 1.3333333333333333,\n",
       " 'pitch_range': 3,\n",
       " 'note_count': 4,\n",
       " 'note_length_histogram': array([0.16666667, 0.33333333, 0.16666667, 0.        , 0.        ,\n",
       "        0.        , 0.        , 0.        , 0.        , 0.        ,\n",
       "        0.        , 0.        , 0.        , 0.        , 0.        ,\n",
       "        0.        , 0.33333333, 0.        , 0.        , 0.        ,\n",
       "        0.        , 0.        , 0.        , 0.        ]),\n",
       " 'note_length_transition_matrix': array([[0., 0., 0., 0., 0., 0., 0., 0., 0., 0., 0., 0., 0., 0., 0., 0.,\n",
       "         0., 0., 0., 0., 0., 0., 0., 0.],\n",
       "        [0., 1., 1., 0., 0., 0., 0., 0., 0., 0., 0., 0., 0., 1., 0., 0.,\n",
       "         0., 0., 0., 0., 0., 0., 0., 0.],\n",
       "        [1., 0., 0., 0., 0., 0., 0., 0., 0., 0., 0., 0., 0., 0., 1., 0.,\n",
       "         0., 0., 0., 0., 0., 0., 0., 0.],\n",
       "        [0., 0., 0., 0., 0., 0., 0., 0., 0., 0., 0., 0., 0., 0., 0., 0.,\n",
       "         0., 0., 0., 0., 0., 0., 0., 0.],\n",
       "        [0., 0., 0., 0., 0., 0., 0., 0., 0., 0., 0., 0., 0., 0., 0., 0.,\n",
       "         0., 0., 0., 0., 0., 0., 0., 0.],\n",
       "        [0., 0., 0., 0., 0., 0., 0., 0., 0., 0., 0., 0., 0., 0., 0., 0.,\n",
       "         0., 0., 0., 0., 0., 0., 0., 0.],\n",
       "        [0., 0., 0., 0., 0., 0., 0., 0., 0., 0., 0., 0., 0., 0., 0., 0.,\n",
       "         0., 0., 0., 0., 0., 0., 0., 0.],\n",
       "        [0., 0., 0., 0., 0., 0., 0., 0., 0., 0., 0., 0., 0., 0., 0., 0.,\n",
       "         0., 0., 0., 0., 0., 0., 0., 0.],\n",
       "        [0., 0., 0., 0., 0., 0., 0., 0., 0., 0., 0., 0., 0., 0., 0., 0.,\n",
       "         0., 0., 0., 0., 0., 0., 0., 0.],\n",
       "        [0., 0., 0., 0., 0., 0., 0., 0., 0., 0., 0., 0., 0., 0., 0., 0.,\n",
       "         0., 0., 0., 0., 0., 0., 0., 0.],\n",
       "        [0., 0., 0., 0., 0., 0., 0., 0., 0., 0., 0., 0., 0., 0., 0., 0.,\n",
       "         0., 0., 0., 0., 0., 0., 0., 0.],\n",
       "        [0., 0., 0., 0., 0., 0., 0., 0., 0., 0., 0., 0., 0., 0., 0., 0.,\n",
       "         0., 0., 0., 0., 0., 0., 0., 0.],\n",
       "        [0., 0., 0., 0., 0., 0., 0., 0., 0., 0., 0., 0., 0., 0., 0., 0.,\n",
       "         0., 0., 0., 0., 0., 0., 0., 0.],\n",
       "        [0., 0., 0., 0., 0., 0., 0., 0., 0., 0., 0., 0., 0., 0., 0., 0.,\n",
       "         0., 0., 0., 0., 0., 0., 0., 0.],\n",
       "        [0., 0., 0., 0., 0., 0., 0., 0., 0., 0., 0., 0., 0., 0., 0., 0.,\n",
       "         0., 0., 0., 0., 0., 0., 0., 0.],\n",
       "        [0., 0., 0., 0., 0., 0., 0., 0., 0., 0., 0., 0., 0., 0., 0., 0.,\n",
       "         0., 0., 0., 0., 0., 0., 0., 0.],\n",
       "        [0., 0., 0., 0., 0., 0., 0., 0., 0., 0., 0., 0., 0., 0., 0., 0.,\n",
       "         0., 0., 0., 0., 0., 0., 0., 0.],\n",
       "        [0., 0., 0., 0., 0., 0., 0., 0., 0., 0., 0., 0., 0., 0., 0., 0.,\n",
       "         0., 0., 0., 0., 0., 0., 0., 0.],\n",
       "        [0., 0., 0., 0., 0., 0., 0., 0., 0., 0., 0., 0., 0., 0., 0., 0.,\n",
       "         0., 0., 0., 0., 0., 0., 0., 0.],\n",
       "        [0., 0., 0., 0., 0., 0., 0., 0., 0., 0., 0., 0., 0., 0., 0., 0.,\n",
       "         0., 0., 0., 0., 0., 0., 0., 0.],\n",
       "        [0., 0., 0., 0., 0., 0., 0., 0., 0., 0., 0., 0., 0., 0., 0., 0.,\n",
       "         0., 0., 0., 0., 0., 0., 0., 0.],\n",
       "        [0., 0., 0., 0., 0., 0., 0., 0., 0., 0., 0., 0., 0., 0., 0., 0.,\n",
       "         0., 0., 0., 0., 0., 0., 0., 0.],\n",
       "        [0., 0., 0., 0., 0., 0., 0., 0., 0., 0., 0., 0., 0., 0., 0., 0.,\n",
       "         0., 0., 0., 0., 0., 0., 0., 0.],\n",
       "        [0., 0., 0., 0., 0., 0., 0., 0., 0., 0., 0., 0., 0., 0., 0., 0.,\n",
       "         0., 0., 0., 0., 0., 0., 0., 0.]]),\n",
       " 'avg_ioi': 0.8333333333333334,\n",
       " 'ioi_histogram': array([0., 0., 0., 0., 1., 0., 0., 0., 0., 0., 0., 0.]),\n",
       " 'ioi_transition_matrix': array([[0., 0., 0., 0., 0., 0., 0., 0., 0., 0., 0., 0.],\n",
       "        [0., 0., 0., 0., 0., 0., 0., 0., 0., 0., 0., 0.],\n",
       "        [0., 0., 0., 0., 0., 0., 0., 0., 0., 0., 0., 0.],\n",
       "        [0., 0., 0., 0., 0., 0., 0., 0., 0., 0., 0., 0.],\n",
       "        [0., 0., 0., 0., 3., 0., 0., 0., 0., 0., 0., 0.],\n",
       "        [0., 0., 0., 0., 0., 0., 0., 0., 0., 0., 0., 0.],\n",
       "        [0., 0., 0., 0., 0., 0., 0., 0., 0., 0., 0., 0.],\n",
       "        [0., 0., 0., 0., 0., 0., 0., 0., 0., 0., 0., 0.],\n",
       "        [0., 0., 0., 0., 0., 0., 0., 0., 0., 0., 0., 0.],\n",
       "        [0., 0., 0., 0., 0., 0., 0., 0., 0., 0., 0., 0.],\n",
       "        [0., 0., 0., 0., 0., 0., 0., 0., 0., 0., 0., 0.],\n",
       "        [0., 0., 0., 0., 0., 0., 0., 0., 0., 0., 0., 0.]])}"
      ]
     },
     "execution_count": 6,
     "metadata": {},
     "output_type": "execute_result"
    }
   ],
   "source": [
    "metrics2 = mgeval.analyze_sequence(seq_gen_base['sequence'])\n",
    "distances = mgeval.calc_distances(metrics1, metrics2)\n",
    "\n",
    "seq_gen_base['evaluation'] = {\n",
    "    'metrics': metrics2,\n",
    "    'distances_to_input': distances\n",
    "}\n",
    "\n",
    "metrics2"
   ]
  },
  {
   "cell_type": "markdown",
   "metadata": {},
   "source": [
    "## Example Plot: Note Length Transition Matrix"
   ]
  },
  {
   "cell_type": "code",
   "execution_count": null,
   "metadata": {},
   "outputs": [
    {
     "name": "stdout",
     "output_type": "stream",
     "text": [
      "Note Length Transitions - Input\n"
     ]
    },
    {
     "data": {
      "image/png": "[encoded data removed]",
      "text/plain": [
       "<Figure size 432x288 with 2 Axes>"
      ]
     },
     "metadata": {
      "image/png": {
       "height": 254,
       "width": 390
      },
      "needs_background": "light"
     },
     "output_type": "display_data"
    }
   ],
   "source": [
    "df1 = pd.DataFrame(metrics1['note_length_transition_matrix'])\n",
    "corrplot(df1.corr(), size_scale=75)\n",
    "print(\"Note Length Transitions - Input\")"
   ]
  },
  {
   "cell_type": "code",
   "execution_count": null,
   "metadata": {},
   "outputs": [
    {
     "name": "stdout",
     "output_type": "stream",
     "text": [
      "Note Length Transitions - Generation\n"
     ]
    },
    {
     "data": {
      "image/png": "[encoded data removed]",
      "text/plain": [
       "<Figure size 432x288 with 2 Axes>"
      ]
     },
     "metadata": {
      "image/png": {
       "height": 254,
       "width": 390
      },
      "needs_background": "light"
     },
     "output_type": "display_data"
    }
   ],
   "source": [
    "df2 = pd.DataFrame(metrics2['note_length_transition_matrix'])\n",
    "corrplot(df2.corr(), size_scale=75)\n",
    "print(\"Note Length Transitions - Generation\")"
   ]
  },
  {
   "cell_type": "markdown",
   "metadata": {},
   "source": [
    "## Piano Roll"
   ]
  },
  {
   "cell_type": "code",
   "execution_count": null,
   "metadata": {},
   "outputs": [
    {
     "data": {
      "text/html": [
       "\n",
       "    <div class=\"bk-root\">\n",
       "        <a href=\"https://bokeh.org\" target=\"_blank\" class=\"bk-logo bk-logo-small bk-logo-notebook\"></a>\n",
       "        <span id=\"1090\">Loading BokehJS ...</span>\n",
       "    </div>"
      ]
     },
     "metadata": {},
     "output_type": "display_data"
    },
    {
     "data": {
      "application/javascript": "\n(function(root) {\n  function now() {\n    return new Date();\n  }\n\n  var force = true;\n\n  if (typeof root._bokeh_onload_callbacks === \"undefined\" || force === true) {\n    root._bokeh_onload_callbacks = [];\n    root._bokeh_is_loading = undefined;\n  }\n\n  var JS_MIME_TYPE = 'application/javascript';\n  var HTML_MIME_TYPE = 'text/html';\n  var EXEC_MIME_TYPE = 'application/vnd.bokehjs_exec.v0+json';\n  var CLASS_NAME = 'output_bokeh rendered_html';\n\n  /**\n   * Render data to the DOM node\n   */\n  function render(props, node) {\n    var script = document.createElement(\"script\");\n    node.appendChild(script);\n  }\n\n  /**\n   * Handle when an output is cleared or removed\n   */\n  function handleClearOutput(event, handle) {\n    var cell = handle.cell;\n\n    var id = cell.output_area._bokeh_element_id;\n    var server_id = cell.output_area._bokeh_server_id;\n    // Clean up Bokeh references\n    if (id != null && id in Bokeh.index) {\n      Bokeh.index[id].model.document.clear();\n      delete Bokeh.index[id];\n    }\n\n    if (server_id !== undefined) {\n      // Clean up Bokeh references\n      var cmd = \"from bokeh.io.state import curstate; print(curstate().uuid_to_server['\" + server_id + \"'].get_sessions()[0].document.roots[0]._id)\";\n      cell.notebook.kernel.execute(cmd, {\n        iopub: {\n          output: function(msg) {\n            var id = msg.content.text.trim();\n            if (id in Bokeh.index) {\n              Bokeh.index[id].model.document.clear();\n              delete Bokeh.index[id];\n            }\n          }\n        }\n      });\n      // Destroy server and session\n      var cmd = \"import bokeh.io.notebook as ion; ion.destroy_server('\" + server_id + \"')\";\n      cell.notebook.kernel.execute(cmd);\n    }\n  }\n\n  /**\n   * Handle when a new output is added\n   */\n  function handleAddOutput(event, handle) {\n    var output_area = handle.output_area;\n    var output = handle.output;\n\n    // limit handleAddOutput to display_data with EXEC_MIME_TYPE content only\n    if ((output.output_type != \"display_data\") || (!output.data.hasOwnProperty(EXEC_MIME_TYPE))) {\n      return\n    }\n\n    var toinsert = output_area.element.find(\".\" + CLASS_NAME.split(' ')[0]);\n\n    if (output.metadata[EXEC_MIME_TYPE][\"id\"] !== undefined) {\n      toinsert[toinsert.length - 1].firstChild.textContent = output.data[JS_MIME_TYPE];\n      // store reference to embed id on output_area\n      output_area._bokeh_element_id = output.metadata[EXEC_MIME_TYPE][\"id\"];\n    }\n    if (output.metadata[EXEC_MIME_TYPE][\"server_id\"] !== undefined) {\n      var bk_div = document.createElement(\"div\");\n      bk_div.innerHTML = output.data[HTML_MIME_TYPE];\n      var script_attrs = bk_div.children[0].attributes;\n      for (var i = 0; i < script_attrs.length; i++) {\n        toinsert[toinsert.length - 1].firstChild.setAttribute(script_attrs[i].name, script_attrs[i].value);\n        toinsert[toinsert.length - 1].firstChild.textContent = bk_div.children[0].textContent\n      }\n      // store reference to server id on output_area\n      output_area._bokeh_server_id = output.metadata[EXEC_MIME_TYPE][\"server_id\"];\n    }\n  }\n\n  function register_renderer(events, OutputArea) {\n\n    function append_mime(data, metadata, element) {\n      // create a DOM node to render to\n      var toinsert = this.create_output_subarea(\n        metadata,\n        CLASS_NAME,\n        EXEC_MIME_TYPE\n      );\n      this.keyboard_manager.register_events(toinsert);\n      // Render to node\n      var props = {data: data, metadata: metadata[EXEC_MIME_TYPE]};\n      render(props, toinsert[toinsert.length - 1]);\n      element.append(toinsert);\n      return toinsert\n    }\n\n    /* Handle when an output is cleared or removed */\n    events.on('clear_output.CodeCell', handleClearOutput);\n    events.on('delete.Cell', handleClearOutput);\n\n    /* Handle when a new output is added */\n    events.on('output_added.OutputArea', handleAddOutput);\n\n    /**\n     * Register the mime type and append_mime function with output_area\n     */\n    OutputArea.prototype.register_mime_type(EXEC_MIME_TYPE, append_mime, {\n      /* Is output safe? */\n      safe: true,\n      /* Index of renderer in `output_area.display_order` */\n      index: 0\n    });\n  }\n\n  // register the mime type if in Jupyter Notebook environment and previously unregistered\n  if (root.Jupyter !== undefined) {\n    var events = require('base/js/events');\n    var OutputArea = require('notebook/js/outputarea').OutputArea;\n\n    if (OutputArea.prototype.mime_types().indexOf(EXEC_MIME_TYPE) == -1) {\n      register_renderer(events, OutputArea);\n    }\n  }\n\n  \n  if (typeof (root._bokeh_timeout) === \"undefined\" || force === true) {\n    root._bokeh_timeout = Date.now() + 5000;\n    root._bokeh_failed_load = false;\n  }\n\n  var NB_LOAD_WARNING = {'data': {'text/html':\n     \"<div style='background-color: #fdd'>\\n\"+\n     \"<p>\\n\"+\n     \"BokehJS does not appear to have successfully loaded. If loading BokehJS from CDN, this \\n\"+\n     \"may be due to a slow or bad network connection. Possible fixes:\\n\"+\n     \"</p>\\n\"+\n     \"<ul>\\n\"+\n     \"<li>re-rerun `output_notebook()` to attempt to load from CDN again, or</li>\\n\"+\n     \"<li>use INLINE resources instead, as so:</li>\\n\"+\n     \"</ul>\\n\"+\n     \"<code>\\n\"+\n     \"from bokeh.resources import INLINE\\n\"+\n     \"output_notebook(resources=INLINE)\\n\"+\n     \"</code>\\n\"+\n     \"</div>\"}};\n\n  function display_loaded() {\n    var el = document.getElementById(\"1090\");\n    if (el != null) {\n      el.textContent = \"BokehJS is loading...\";\n    }\n    if (root.Bokeh !== undefined) {\n      if (el != null) {\n        el.textContent = \"BokehJS \" + root.Bokeh.version + \" successfully loaded.\";\n      }\n    } else if (Date.now() < root._bokeh_timeout) {\n      setTimeout(display_loaded, 100)\n    }\n  }\n\n\n  function run_callbacks() {\n    try {\n      root._bokeh_onload_callbacks.forEach(function(callback) {\n        if (callback != null)\n          callback();\n      });\n    } finally {\n      delete root._bokeh_onload_callbacks\n    }\n    console.debug(\"Bokeh: all callbacks have finished\");\n  }\n\n  function load_libs(css_urls, js_urls, callback) {\n    if (css_urls == null) css_urls = [];\n    if (js_urls == null) js_urls = [];\n\n    root._bokeh_onload_callbacks.push(callback);\n    if (root._bokeh_is_loading > 0) {\n      console.debug(\"Bokeh: BokehJS is being loaded, scheduling callback at\", now());\n      return null;\n    }\n    if (js_urls == null || js_urls.length === 0) {\n      run_callbacks();\n      return null;\n    }\n    console.debug(\"Bokeh: BokehJS not loaded, scheduling load and callback at\", now());\n    root._bokeh_is_loading = css_urls.length + js_urls.length;\n\n    function on_load() {\n      root._bokeh_is_loading--;\n      if (root._bokeh_is_loading === 0) {\n        console.debug(\"Bokeh: all BokehJS libraries/stylesheets loaded\");\n        run_callbacks()\n      }\n    }\n\n    function on_error() {\n      console.error(\"failed to load \" + url);\n    }\n\n    for (var i = 0; i < css_urls.length; i++) {\n      var url = css_urls[i];\n      const element = document.createElement(\"link\");\n      element.onload = on_load;\n      element.onerror = on_error;\n      element.rel = \"stylesheet\";\n      element.type = \"text/css\";\n      element.href = url;\n      console.debug(\"Bokeh: injecting link tag for BokehJS stylesheet: \", url);\n      document.body.appendChild(element);\n    }\n\n    const hashes = {\"https://cdn.bokeh.org/bokeh/release/bokeh-2.2.3.min.js\": \"T2yuo9Oe71Cz/I4X9Ac5+gpEa5a8PpJCDlqKYO0CfAuEszu1JrXLl8YugMqYe3sM\", \"https://cdn.bokeh.org/bokeh/release/bokeh-widgets-2.2.3.min.js\": \"98GDGJ0kOMCUMUePhksaQ/GYgB3+NH9h996V88sh3aOiUNX3N+fLXAtry6xctSZ6\", \"https://cdn.bokeh.org/bokeh/release/bokeh-tables-2.2.3.min.js\": \"89bArO+nlbP3sgakeHjCo1JYxYR5wufVgA3IbUvDY+K7w4zyxJqssu7wVnfeKCq8\"};\n\n    for (var i = 0; i < js_urls.length; i++) {\n      var url = js_urls[i];\n      var element = document.createElement('script');\n      element.onload = on_load;\n      element.onerror = on_error;\n      element.async = false;\n      element.src = url;\n      if (url in hashes) {\n        element.crossOrigin = \"anonymous\";\n        element.integrity = \"sha384-\" + hashes[url];\n      }\n      console.debug(\"Bokeh: injecting script tag for BokehJS library: \", url);\n      document.head.appendChild(element);\n    }\n  };\n\n  function inject_raw_css(css) {\n    const element = document.createElement(\"style\");\n    element.appendChild(document.createTextNode(css));\n    document.body.appendChild(element);\n  }\n\n  \n  var js_urls = [\"https://cdn.bokeh.org/bokeh/release/bokeh-2.2.3.min.js\", \"https://cdn.bokeh.org/bokeh/release/bokeh-widgets-2.2.3.min.js\", \"https://cdn.bokeh.org/bokeh/release/bokeh-tables-2.2.3.min.js\"];\n  var css_urls = [];\n  \n\n  var inline_js = [\n    function(Bokeh) {\n      Bokeh.set_log_level(\"info\");\n    },\n    function(Bokeh) {\n    \n    \n    }\n  ];\n\n  function run_inline_js() {\n    \n    if (root.Bokeh !== undefined || force === true) {\n      \n    for (var i = 0; i < inline_js.length; i++) {\n      inline_js[i].call(root, root.Bokeh);\n    }\n    if (force === true) {\n        display_loaded();\n      }} else if (Date.now() < root._bokeh_timeout) {\n      setTimeout(run_inline_js, 100);\n    } else if (!root._bokeh_failed_load) {\n      console.log(\"Bokeh: BokehJS failed to load within specified timeout.\");\n      root._bokeh_failed_load = true;\n    } else if (force !== true) {\n      var cell = $(document.getElementById(\"1090\")).parents('.cell').data().cell;\n      cell.output_area.append_execute_result(NB_LOAD_WARNING)\n    }\n\n  }\n\n  if (root._bokeh_is_loading === 0) {\n    console.debug(\"Bokeh: BokehJS loaded, going straight to plotting\");\n    run_inline_js();\n  } else {\n    load_libs(css_urls, js_urls, function() {\n      console.debug(\"Bokeh: BokehJS plotting callback run at\", now());\n      run_inline_js();\n    });\n  }\n}(window));",
      "application/vnd.bokehjs_load.v0+json": ""
     },
     "metadata": {},
     "output_type": "display_data"
    },
    {
     "data": {
      "text/html": [
       "\n",
       "\n",
       "\n",
       "\n",
       "\n",
       "\n",
       "  <div class=\"bk-root\" id=\"7d6b0682-78a8-4602-8549-90fe206f7bce\" data-root-id=\"1089\"></div>\n"
      ]
     },
     "metadata": {},
     "output_type": "display_data"
    },
    {
     "data": {
      "application/javascript": "(function(root) {\n  function embed_document(root) {\n    \n  var docs_json = {\"e923c61b-8e54-4eac-b347-f9476f7b28b0\":{\"roots\":{\"references\":[{\"attributes\":{\"children\":[{\"id\":\"1001\"}]},\"id\":\"1089\",\"type\":\"Column\"},{\"attributes\":{\"fill_color\":null,\"left\":1.0,\"level\":\"underlay\",\"line_alpha\":0.4,\"line_color\":\"black\",\"right\":1.5},\"id\":\"1067\",\"type\":\"BoxAnnotation\"},{\"attributes\":{\"fill_color\":null,\"left\":1.5,\"level\":\"underlay\",\"line_alpha\":0.4,\"line_color\":\"black\",\"right\":2.0},\"id\":\"1068\",\"type\":\"BoxAnnotation\"},{\"attributes\":{\"render_mode\":\"css\",\"text\":\"62\",\"text_font_size\":\"10px\",\"x\":-18,\"x_units\":\"screen\",\"y\":62.1},\"id\":\"1046\",\"type\":\"Label\"},{\"attributes\":{\"bottom\":68,\"fill_alpha\":0.15,\"fill_color\":\"gray\",\"level\":\"underlay\",\"line_color\":\"black\",\"top\":69},\"id\":\"1057\",\"type\":\"BoxAnnotation\"},{\"attributes\":{\"below\":[{\"id\":\"1010\"}],\"center\":[{\"id\":\"1013\"},{\"id\":\"1017\"},{\"id\":\"1041\"},{\"id\":\"1042\"},{\"id\":\"1043\"},{\"id\":\"1044\"},{\"id\":\"1045\"},{\"id\":\"1046\"},{\"id\":\"1047\"},{\"id\":\"1048\"},{\"id\":\"1049\"},{\"id\":\"1050\"},{\"id\":\"1051\"},{\"id\":\"1052\"},{\"id\":\"1053\"},{\"id\":\"1054\"},{\"id\":\"1055\"},{\"id\":\"1056\"},{\"id\":\"1057\"},{\"id\":\"1058\"},{\"id\":\"1059\"},{\"id\":\"1060\"},{\"id\":\"1061\"},{\"id\":\"1062\"},{\"id\":\"1063\"},{\"id\":\"1064\"},{\"id\":\"1065\"},{\"id\":\"1066\"},{\"id\":\"1067\"},{\"id\":\"1068\"},{\"id\":\"1069\"},{\"id\":\"1070\"},{\"id\":\"1071\"},{\"id\":\"1072\"},{\"id\":\"1073\"},{\"id\":\"1074\"},{\"id\":\"1075\"},{\"id\":\"1076\"},{\"id\":\"1077\"},{\"id\":\"1078\"},{\"id\":\"1079\"},{\"id\":\"1080\"}],\"left\":[{\"id\":\"1014\"}],\"min_border_right\":50,\"outline_line_color\":\"black\",\"plot_height\":400,\"plot_width\":1200,\"renderers\":[{\"id\":\"1039\"}],\"title\":{\"id\":\"1085\"},\"toolbar\":{\"id\":\"1023\"},\"x_range\":{\"id\":\"1087\"},\"x_scale\":{\"id\":\"1006\"},\"y_range\":{\"id\":\"1088\"},\"y_scale\":{\"id\":\"1008\"}},\"id\":\"1001\",\"subtype\":\"Figure\",\"type\":\"Plot\"},{\"attributes\":{\"bottom\":63,\"fill_alpha\":0.0,\"fill_color\":\"gray\",\"level\":\"underlay\",\"line_color\":\"black\",\"top\":64},\"id\":\"1047\",\"type\":\"BoxAnnotation\"},{\"attributes\":{\"fill_color\":null,\"left\":2.0,\"level\":\"underlay\",\"line_alpha\":0.4,\"line_color\":\"black\",\"right\":2.5},\"id\":\"1069\",\"type\":\"BoxAnnotation\"},{\"attributes\":{\"end\":70,\"start\":60},\"id\":\"1088\",\"type\":\"Range1d\"},{\"attributes\":{\"render_mode\":\"css\",\"text\":\"63\",\"text_font_size\":\"10px\",\"x\":-18,\"x_units\":\"screen\",\"y\":63.1},\"id\":\"1048\",\"type\":\"Label\"},{\"attributes\":{\"bottom\":65,\"fill_alpha\":0.0,\"fill_color\":\"gray\",\"level\":\"underlay\",\"line_color\":\"black\",\"top\":66},\"id\":\"1051\",\"type\":\"BoxAnnotation\"},{\"attributes\":{\"bottom\":69,\"fill_alpha\":0.0,\"fill_color\":\"gray\",\"level\":\"underlay\",\"line_color\":\"black\",\"top\":70},\"id\":\"1059\",\"type\":\"BoxAnnotation\"},{\"attributes\":{\"fill_color\":null,\"left\":2.5,\"level\":\"underlay\",\"line_alpha\":0.4,\"line_color\":\"black\",\"right\":3.0},\"id\":\"1070\",\"type\":\"BoxAnnotation\"},{\"attributes\":{\"active_drag\":\"auto\",\"active_inspect\":\"auto\",\"active_multi\":null,\"active_scroll\":\"auto\",\"active_tap\":\"auto\",\"tools\":[{\"id\":\"1018\"},{\"id\":\"1019\"},{\"id\":\"1020\"},{\"id\":\"1021\"},{\"id\":\"1022\"}]},\"id\":\"1023\",\"type\":\"Toolbar\"},{\"attributes\":{\"bottom\":{\"field\":\"bottom\"},\"fill_color\":{\"field\":\"color\"},\"left\":{\"field\":\"left\"},\"right\":{\"field\":\"right\"},\"top\":{\"field\":\"top\"}},\"id\":\"1037\",\"type\":\"Quad\"},{\"attributes\":{\"render_mode\":\"css\",\"text\":\"68\",\"text_font_size\":\"10px\",\"x\":-18,\"x_units\":\"screen\",\"y\":68.1},\"id\":\"1058\",\"type\":\"Label\"},{\"attributes\":{\"fill_color\":null,\"left\":3.0,\"level\":\"underlay\",\"line_alpha\":0.4,\"line_color\":\"black\",\"right\":3.5},\"id\":\"1071\",\"type\":\"BoxAnnotation\"},{\"attributes\":{\"render_mode\":\"css\",\"text\":\"60\",\"text_font_size\":\"10px\",\"x\":-18,\"x_units\":\"screen\",\"y\":60.1},\"id\":\"1042\",\"type\":\"Label\"},{\"attributes\":{\"render_mode\":\"css\",\"text\":\"65\",\"text_font_size\":\"10px\",\"x\":-18,\"x_units\":\"screen\",\"y\":65.1},\"id\":\"1052\",\"type\":\"Label\"},{\"attributes\":{\"fill_color\":null,\"left\":3.5,\"level\":\"underlay\",\"line_alpha\":0.4,\"line_color\":\"black\",\"right\":4.0},\"id\":\"1072\",\"type\":\"BoxAnnotation\"},{\"attributes\":{\"fill_color\":null,\"left\":4.0,\"level\":\"underlay\",\"line_alpha\":0.4,\"line_color\":\"black\",\"right\":4.5},\"id\":\"1073\",\"type\":\"BoxAnnotation\"},{\"attributes\":{},\"id\":\"1032\",\"type\":\"BasicTickFormatter\"},{\"attributes\":{\"callback\":null,\"tooltips\":[[\"program\",\"@program\"],[\"pitch\",\"@top\"],[\"velocity\",\"@velocity\"],[\"duration\",\"@duration\"],[\"start_time\",\"@left\"],[\"end_time\",\"@right\"]]},\"id\":\"1019\",\"type\":\"HoverTool\"},{\"attributes\":{\"render_mode\":\"css\",\"text\":\"69\",\"text_font_size\":\"10px\",\"x\":-18,\"x_units\":\"screen\",\"y\":69.1},\"id\":\"1060\",\"type\":\"Label\"},{\"attributes\":{},\"id\":\"1034\",\"type\":\"BasicTickFormatter\"},{\"attributes\":{},\"id\":\"1095\",\"type\":\"UnionRenderers\"},{\"attributes\":{},\"id\":\"1006\",\"type\":\"LinearScale\"},{\"attributes\":{\"bottom\":60,\"fill_alpha\":0.15,\"fill_color\":\"gray\",\"level\":\"underlay\",\"line_color\":\"black\",\"top\":61},\"id\":\"1041\",\"type\":\"BoxAnnotation\"},{\"attributes\":{\"fill_color\":null,\"left\":4.5,\"level\":\"underlay\",\"line_alpha\":0.4,\"line_color\":\"black\",\"right\":5.0},\"id\":\"1074\",\"type\":\"BoxAnnotation\"},{\"attributes\":{\"bottom\":61,\"fill_alpha\":0.0,\"fill_color\":\"gray\",\"level\":\"underlay\",\"line_color\":\"black\",\"top\":62},\"id\":\"1043\",\"type\":\"BoxAnnotation\"},{\"attributes\":{\"fill_color\":null,\"left\":0.5,\"level\":\"underlay\",\"line_alpha\":0.4,\"line_color\":\"black\",\"right\":1.0},\"id\":\"1066\",\"type\":\"BoxAnnotation\"},{\"attributes\":{\"fill_color\":null,\"left\":5.0,\"level\":\"underlay\",\"line_alpha\":0.4,\"line_color\":\"black\",\"right\":5.5},\"id\":\"1075\",\"type\":\"BoxAnnotation\"},{\"attributes\":{},\"id\":\"1021\",\"type\":\"WheelZoomTool\"},{\"attributes\":{\"bottom\":66,\"fill_alpha\":0.15,\"fill_color\":\"gray\",\"level\":\"underlay\",\"line_color\":\"black\",\"top\":67},\"id\":\"1053\",\"type\":\"BoxAnnotation\"},{\"attributes\":{\"render_mode\":\"css\",\"text\":\"64\",\"text_font_size\":\"10px\",\"x\":-18,\"x_units\":\"screen\",\"y\":64.1},\"id\":\"1050\",\"type\":\"Label\"},{\"attributes\":{\"fill_alpha\":0.25,\"fill_color\":\"gray\",\"left\":0.0,\"level\":\"underlay\",\"line_alpha\":0.5,\"line_color\":\"black\",\"line_width\":2,\"right\":2.0},\"id\":\"1061\",\"type\":\"BoxAnnotation\"},{\"attributes\":{\"fill_color\":null,\"left\":5.5,\"level\":\"underlay\",\"line_alpha\":0.4,\"line_color\":\"black\",\"right\":6.0},\"id\":\"1076\",\"type\":\"BoxAnnotation\"},{\"attributes\":{\"axis_label\":\"pitch (MIDI)\",\"axis_label_standoff\":0,\"axis_label_text_font_size\":\"12px\",\"bounds\":[60,70],\"formatter\":{\"id\":\"1034\"},\"major_label_text_alpha\":0,\"major_tick_line_alpha\":0.9,\"major_tick_out\":25,\"minor_tick_line_alpha\":0,\"ticker\":{\"id\":\"1083\"}},\"id\":\"1014\",\"type\":\"LinearAxis\"},{\"attributes\":{\"data\":{\"bottom\":[60.54330708661417,60.59842519685039,67.68503937007874,67.63779527559055,69.62992125984252,69.60629921259843,67.5984251968504,65.5275590551181,65.58267716535433,64.5748031496063,64.58267716535433,62.55905511811024,62.60629921259842,60.53543307086614],\"color\":[\"rgb(255, 51, 255)\",\"rgb(255, 51, 255)\",\"rgb(179, 0, 179)\",\"rgb(179, 0, 179)\",\"rgb(90, 77, 174)\",\"rgb(90, 77, 174)\",\"rgb(179, 0, 179)\",\"rgb(173, 90, 215)\",\"rgb(173, 90, 215)\",\"rgb(181, 7, 255)\",\"rgb(181, 7, 255)\",\"rgb(178, 153, 229)\",\"rgb(178, 153, 229)\",\"rgb(255, 51, 255)\"],\"duration\":[0.5,0.5,0.5,0.5,0.5,0.5,1.0,0.5,0.5,0.5,0.5,0.5,0.5,1.0],\"left\":[0.0,0.5,1.0,1.5,2.0,2.5,3.0,4.0,4.5,5.0,5.5,6.0,6.5,7.0],\"program\":[0,0,0,0,0,0,0,0,0,0,0,0,0,0],\"right\":[0.5,1.0,1.5,2.0,2.5,3.0,4.0,4.5,5.0,5.5,6.0,6.5,7.0,8.0],\"top\":[60,60,67,67,69,69,67,65,65,64,64,62,62,60],\"velocity\":[69,76,87,81,80,77,76,67,74,73,74,71,77,68]},\"selected\":{\"id\":\"1094\"},\"selection_policy\":{\"id\":\"1095\"}},\"id\":\"1035\",\"type\":\"ColumnDataSource\"},{\"attributes\":{\"fill_color\":null,\"left\":6.0,\"level\":\"underlay\",\"line_alpha\":0.4,\"line_color\":\"black\",\"right\":6.5},\"id\":\"1077\",\"type\":\"BoxAnnotation\"},{\"attributes\":{\"render_mode\":\"css\",\"text\":\"61\",\"text_font_size\":\"10px\",\"x\":-18,\"x_units\":\"screen\",\"y\":61.1},\"id\":\"1044\",\"type\":\"Label\"},{\"attributes\":{\"render_mode\":\"css\",\"text\":\"66\",\"text_font_size\":\"10px\",\"x\":-18,\"x_units\":\"screen\",\"y\":66.1},\"id\":\"1054\",\"type\":\"Label\"},{\"attributes\":{},\"id\":\"1020\",\"type\":\"SaveTool\"},{\"attributes\":{\"fill_alpha\":0.05,\"fill_color\":\"gray\",\"left\":2.0,\"level\":\"underlay\",\"line_alpha\":0.5,\"line_color\":\"black\",\"line_width\":2,\"right\":4.0},\"id\":\"1062\",\"type\":\"BoxAnnotation\"},{\"attributes\":{\"fill_color\":null,\"left\":6.5,\"level\":\"underlay\",\"line_alpha\":0.4,\"line_color\":\"black\",\"right\":7.0},\"id\":\"1078\",\"type\":\"BoxAnnotation\"},{\"attributes\":{\"interval\":1},\"id\":\"1081\",\"type\":\"SingleIntervalTicker\"},{\"attributes\":{\"bottom\":67,\"fill_alpha\":0.0,\"fill_color\":\"gray\",\"level\":\"underlay\",\"line_color\":\"black\",\"top\":68},\"id\":\"1055\",\"type\":\"BoxAnnotation\"},{\"attributes\":{\"fill_color\":null,\"left\":7.0,\"level\":\"underlay\",\"line_alpha\":0.4,\"line_color\":\"black\",\"right\":7.5},\"id\":\"1079\",\"type\":\"BoxAnnotation\"},{\"attributes\":{\"data_source\":{\"id\":\"1035\"},\"glyph\":{\"id\":\"1037\"},\"hover_glyph\":null,\"muted_glyph\":null,\"nonselection_glyph\":{\"id\":\"1038\"},\"selection_glyph\":null,\"view\":{\"id\":\"1040\"}},\"id\":\"1039\",\"type\":\"GlyphRenderer\"},{\"attributes\":{\"axis\":{\"id\":\"1010\"},\"grid_line_color\":null,\"ticker\":null},\"id\":\"1013\",\"type\":\"Grid\"},{\"attributes\":{\"fill_alpha\":0.25,\"fill_color\":\"gray\",\"left\":4.0,\"level\":\"underlay\",\"line_alpha\":0.5,\"line_color\":\"black\",\"line_width\":2,\"right\":6.0},\"id\":\"1063\",\"type\":\"BoxAnnotation\"},{\"attributes\":{\"fill_color\":null,\"left\":7.5,\"level\":\"underlay\",\"line_alpha\":0.4,\"line_color\":\"black\",\"right\":8.0},\"id\":\"1080\",\"type\":\"BoxAnnotation\"},{\"attributes\":{\"axis\":{\"id\":\"1014\"},\"dimension\":1,\"grid_line_color\":null,\"ticker\":null},\"id\":\"1017\",\"type\":\"Grid\"},{\"attributes\":{\"bottom\":{\"field\":\"bottom\"},\"fill_alpha\":{\"value\":0.1},\"fill_color\":{\"field\":\"color\"},\"left\":{\"field\":\"left\"},\"line_alpha\":{\"value\":0.1},\"right\":{\"field\":\"right\"},\"top\":{\"field\":\"top\"}},\"id\":\"1038\",\"type\":\"Quad\"},{\"attributes\":{\"source\":{\"id\":\"1035\"}},\"id\":\"1040\",\"type\":\"CDSView\"},{\"attributes\":{\"bottom\":64,\"fill_alpha\":0.15,\"fill_color\":\"gray\",\"level\":\"underlay\",\"line_color\":\"black\",\"top\":65},\"id\":\"1049\",\"type\":\"BoxAnnotation\"},{\"attributes\":{\"render_mode\":\"css\",\"text\":\"67\",\"text_font_size\":\"10px\",\"x\":-18,\"x_units\":\"screen\",\"y\":67.1},\"id\":\"1056\",\"type\":\"Label\"},{\"attributes\":{\"fill_alpha\":0.05,\"fill_color\":\"gray\",\"left\":6.0,\"level\":\"underlay\",\"line_alpha\":0.5,\"line_color\":\"black\",\"line_width\":2,\"right\":8.0},\"id\":\"1064\",\"type\":\"BoxAnnotation\"},{\"attributes\":{\"text\":\"Visual MIDI (120 QPM, 4/4)\",\"text_font_size\":{\"value\":\"14px\"}},\"id\":\"1085\",\"type\":\"Title\"},{\"attributes\":{\"interval\":1},\"id\":\"1083\",\"type\":\"SingleIntervalTicker\"},{\"attributes\":{},\"id\":\"1022\",\"type\":\"PanTool\"},{\"attributes\":{},\"id\":\"1094\",\"type\":\"Selection\"},{\"attributes\":{\"axis_label\":\"time (SEC)\",\"axis_label_text_font_size\":\"12px\",\"bounds\":[0.0,8.0],\"formatter\":{\"id\":\"1032\"},\"major_label_text_font_size\":\"10px\",\"major_tick_line_alpha\":0.9,\"major_tick_out\":5,\"minor_tick_line_alpha\":0,\"ticker\":{\"id\":\"1081\"}},\"id\":\"1010\",\"type\":\"LinearAxis\"},{\"attributes\":{\"end\":8.0},\"id\":\"1087\",\"type\":\"Range1d\"},{\"attributes\":{\"fill_color\":null,\"left\":0.0,\"level\":\"underlay\",\"line_alpha\":0.4,\"line_color\":\"black\",\"right\":0.5},\"id\":\"1065\",\"type\":\"BoxAnnotation\"},{\"attributes\":{},\"id\":\"1018\",\"type\":\"ResetTool\"},{\"attributes\":{},\"id\":\"1008\",\"type\":\"LinearScale\"},{\"attributes\":{\"bottom\":62,\"fill_alpha\":0.15,\"fill_color\":\"gray\",\"level\":\"underlay\",\"line_color\":\"black\",\"top\":63},\"id\":\"1045\",\"type\":\"BoxAnnotation\"}],\"root_ids\":[\"1089\"]},\"title\":\"Bokeh Application\",\"version\":\"2.2.3\"}};\n  var render_items = [{\"docid\":\"e923c61b-8e54-4eac-b347-f9476f7b28b0\",\"root_ids\":[\"1089\"],\"roots\":{\"1089\":\"7d6b0682-78a8-4602-8549-90fe206f7bce\"}}];\n  root.Bokeh.embed.embed_items_notebook(docs_json, render_items);\n\n  }\n  if (root.Bokeh !== undefined) {\n    embed_document(root);\n  } else {\n    var attempts = 0;\n    var timer = setInterval(function(root) {\n      if (root.Bokeh !== undefined) {\n        clearInterval(timer);\n        embed_document(root);\n      } else {\n        attempts++;\n        if (attempts > 100) {\n          clearInterval(timer);\n          console.log(\"Bokeh: ERROR: Unable to run BokehJS code because BokehJS library is missing\");\n        }\n      }\n    }, 10, root)\n  }\n})(window);",
      "application/vnd.bokehjs_exec.v0+json": ""
     },
     "metadata": {
      "application/vnd.bokehjs_exec.v0+json": {
       "id": "1089"
      }
     },
     "output_type": "display_data"
    },
    {
     "data": {
      "text/html": [
       "\n",
       "    <div class=\"bk-root\">\n",
       "        <a href=\"https://bokeh.org\" target=\"_blank\" class=\"bk-logo bk-logo-small bk-logo-notebook\"></a>\n",
       "        <span id=\"1198\">Loading BokehJS ...</span>\n",
       "    </div>"
      ]
     },
     "metadata": {},
     "output_type": "display_data"
    },
    {
     "data": {
      "application/javascript": "\n(function(root) {\n  function now() {\n    return new Date();\n  }\n\n  var force = true;\n\n  if (typeof root._bokeh_onload_callbacks === \"undefined\" || force === true) {\n    root._bokeh_onload_callbacks = [];\n    root._bokeh_is_loading = undefined;\n  }\n\n  var JS_MIME_TYPE = 'application/javascript';\n  var HTML_MIME_TYPE = 'text/html';\n  var EXEC_MIME_TYPE = 'application/vnd.bokehjs_exec.v0+json';\n  var CLASS_NAME = 'output_bokeh rendered_html';\n\n  /**\n   * Render data to the DOM node\n   */\n  function render(props, node) {\n    var script = document.createElement(\"script\");\n    node.appendChild(script);\n  }\n\n  /**\n   * Handle when an output is cleared or removed\n   */\n  function handleClearOutput(event, handle) {\n    var cell = handle.cell;\n\n    var id = cell.output_area._bokeh_element_id;\n    var server_id = cell.output_area._bokeh_server_id;\n    // Clean up Bokeh references\n    if (id != null && id in Bokeh.index) {\n      Bokeh.index[id].model.document.clear();\n      delete Bokeh.index[id];\n    }\n\n    if (server_id !== undefined) {\n      // Clean up Bokeh references\n      var cmd = \"from bokeh.io.state import curstate; print(curstate().uuid_to_server['\" + server_id + \"'].get_sessions()[0].document.roots[0]._id)\";\n      cell.notebook.kernel.execute(cmd, {\n        iopub: {\n          output: function(msg) {\n            var id = msg.content.text.trim();\n            if (id in Bokeh.index) {\n              Bokeh.index[id].model.document.clear();\n              delete Bokeh.index[id];\n            }\n          }\n        }\n      });\n      // Destroy server and session\n      var cmd = \"import bokeh.io.notebook as ion; ion.destroy_server('\" + server_id + \"')\";\n      cell.notebook.kernel.execute(cmd);\n    }\n  }\n\n  /**\n   * Handle when a new output is added\n   */\n  function handleAddOutput(event, handle) {\n    var output_area = handle.output_area;\n    var output = handle.output;\n\n    // limit handleAddOutput to display_data with EXEC_MIME_TYPE content only\n    if ((output.output_type != \"display_data\") || (!output.data.hasOwnProperty(EXEC_MIME_TYPE))) {\n      return\n    }\n\n    var toinsert = output_area.element.find(\".\" + CLASS_NAME.split(' ')[0]);\n\n    if (output.metadata[EXEC_MIME_TYPE][\"id\"] !== undefined) {\n      toinsert[toinsert.length - 1].firstChild.textContent = output.data[JS_MIME_TYPE];\n      // store reference to embed id on output_area\n      output_area._bokeh_element_id = output.metadata[EXEC_MIME_TYPE][\"id\"];\n    }\n    if (output.metadata[EXEC_MIME_TYPE][\"server_id\"] !== undefined) {\n      var bk_div = document.createElement(\"div\");\n      bk_div.innerHTML = output.data[HTML_MIME_TYPE];\n      var script_attrs = bk_div.children[0].attributes;\n      for (var i = 0; i < script_attrs.length; i++) {\n        toinsert[toinsert.length - 1].firstChild.setAttribute(script_attrs[i].name, script_attrs[i].value);\n        toinsert[toinsert.length - 1].firstChild.textContent = bk_div.children[0].textContent\n      }\n      // store reference to server id on output_area\n      output_area._bokeh_server_id = output.metadata[EXEC_MIME_TYPE][\"server_id\"];\n    }\n  }\n\n  function register_renderer(events, OutputArea) {\n\n    function append_mime(data, metadata, element) {\n      // create a DOM node to render to\n      var toinsert = this.create_output_subarea(\n        metadata,\n        CLASS_NAME,\n        EXEC_MIME_TYPE\n      );\n      this.keyboard_manager.register_events(toinsert);\n      // Render to node\n      var props = {data: data, metadata: metadata[EXEC_MIME_TYPE]};\n      render(props, toinsert[toinsert.length - 1]);\n      element.append(toinsert);\n      return toinsert\n    }\n\n    /* Handle when an output is cleared or removed */\n    events.on('clear_output.CodeCell', handleClearOutput);\n    events.on('delete.Cell', handleClearOutput);\n\n    /* Handle when a new output is added */\n    events.on('output_added.OutputArea', handleAddOutput);\n\n    /**\n     * Register the mime type and append_mime function with output_area\n     */\n    OutputArea.prototype.register_mime_type(EXEC_MIME_TYPE, append_mime, {\n      /* Is output safe? */\n      safe: true,\n      /* Index of renderer in `output_area.display_order` */\n      index: 0\n    });\n  }\n\n  // register the mime type if in Jupyter Notebook environment and previously unregistered\n  if (root.Jupyter !== undefined) {\n    var events = require('base/js/events');\n    var OutputArea = require('notebook/js/outputarea').OutputArea;\n\n    if (OutputArea.prototype.mime_types().indexOf(EXEC_MIME_TYPE) == -1) {\n      register_renderer(events, OutputArea);\n    }\n  }\n\n  \n  if (typeof (root._bokeh_timeout) === \"undefined\" || force === true) {\n    root._bokeh_timeout = Date.now() + 5000;\n    root._bokeh_failed_load = false;\n  }\n\n  var NB_LOAD_WARNING = {'data': {'text/html':\n     \"<div style='background-color: #fdd'>\\n\"+\n     \"<p>\\n\"+\n     \"BokehJS does not appear to have successfully loaded. If loading BokehJS from CDN, this \\n\"+\n     \"may be due to a slow or bad network connection. Possible fixes:\\n\"+\n     \"</p>\\n\"+\n     \"<ul>\\n\"+\n     \"<li>re-rerun `output_notebook()` to attempt to load from CDN again, or</li>\\n\"+\n     \"<li>use INLINE resources instead, as so:</li>\\n\"+\n     \"</ul>\\n\"+\n     \"<code>\\n\"+\n     \"from bokeh.resources import INLINE\\n\"+\n     \"output_notebook(resources=INLINE)\\n\"+\n     \"</code>\\n\"+\n     \"</div>\"}};\n\n  function display_loaded() {\n    var el = document.getElementById(\"1198\");\n    if (el != null) {\n      el.textContent = \"BokehJS is loading...\";\n    }\n    if (root.Bokeh !== undefined) {\n      if (el != null) {\n        el.textContent = \"BokehJS \" + root.Bokeh.version + \" successfully loaded.\";\n      }\n    } else if (Date.now() < root._bokeh_timeout) {\n      setTimeout(display_loaded, 100)\n    }\n  }\n\n\n  function run_callbacks() {\n    try {\n      root._bokeh_onload_callbacks.forEach(function(callback) {\n        if (callback != null)\n          callback();\n      });\n    } finally {\n      delete root._bokeh_onload_callbacks\n    }\n    console.debug(\"Bokeh: all callbacks have finished\");\n  }\n\n  function load_libs(css_urls, js_urls, callback) {\n    if (css_urls == null) css_urls = [];\n    if (js_urls == null) js_urls = [];\n\n    root._bokeh_onload_callbacks.push(callback);\n    if (root._bokeh_is_loading > 0) {\n      console.debug(\"Bokeh: BokehJS is being loaded, scheduling callback at\", now());\n      return null;\n    }\n    if (js_urls == null || js_urls.length === 0) {\n      run_callbacks();\n      return null;\n    }\n    console.debug(\"Bokeh: BokehJS not loaded, scheduling load and callback at\", now());\n    root._bokeh_is_loading = css_urls.length + js_urls.length;\n\n    function on_load() {\n      root._bokeh_is_loading--;\n      if (root._bokeh_is_loading === 0) {\n        console.debug(\"Bokeh: all BokehJS libraries/stylesheets loaded\");\n        run_callbacks()\n      }\n    }\n\n    function on_error() {\n      console.error(\"failed to load \" + url);\n    }\n\n    for (var i = 0; i < css_urls.length; i++) {\n      var url = css_urls[i];\n      const element = document.createElement(\"link\");\n      element.onload = on_load;\n      element.onerror = on_error;\n      element.rel = \"stylesheet\";\n      element.type = \"text/css\";\n      element.href = url;\n      console.debug(\"Bokeh: injecting link tag for BokehJS stylesheet: \", url);\n      document.body.appendChild(element);\n    }\n\n    const hashes = {\"https://cdn.bokeh.org/bokeh/release/bokeh-2.2.3.min.js\": \"T2yuo9Oe71Cz/I4X9Ac5+gpEa5a8PpJCDlqKYO0CfAuEszu1JrXLl8YugMqYe3sM\", \"https://cdn.bokeh.org/bokeh/release/bokeh-widgets-2.2.3.min.js\": \"98GDGJ0kOMCUMUePhksaQ/GYgB3+NH9h996V88sh3aOiUNX3N+fLXAtry6xctSZ6\", \"https://cdn.bokeh.org/bokeh/release/bokeh-tables-2.2.3.min.js\": \"89bArO+nlbP3sgakeHjCo1JYxYR5wufVgA3IbUvDY+K7w4zyxJqssu7wVnfeKCq8\"};\n\n    for (var i = 0; i < js_urls.length; i++) {\n      var url = js_urls[i];\n      var element = document.createElement('script');\n      element.onload = on_load;\n      element.onerror = on_error;\n      element.async = false;\n      element.src = url;\n      if (url in hashes) {\n        element.crossOrigin = \"anonymous\";\n        element.integrity = \"sha384-\" + hashes[url];\n      }\n      console.debug(\"Bokeh: injecting script tag for BokehJS library: \", url);\n      document.head.appendChild(element);\n    }\n  };\n\n  function inject_raw_css(css) {\n    const element = document.createElement(\"style\");\n    element.appendChild(document.createTextNode(css));\n    document.body.appendChild(element);\n  }\n\n  \n  var js_urls = [\"https://cdn.bokeh.org/bokeh/release/bokeh-2.2.3.min.js\", \"https://cdn.bokeh.org/bokeh/release/bokeh-widgets-2.2.3.min.js\", \"https://cdn.bokeh.org/bokeh/release/bokeh-tables-2.2.3.min.js\"];\n  var css_urls = [];\n  \n\n  var inline_js = [\n    function(Bokeh) {\n      Bokeh.set_log_level(\"info\");\n    },\n    function(Bokeh) {\n    \n    \n    }\n  ];\n\n  function run_inline_js() {\n    \n    if (root.Bokeh !== undefined || force === true) {\n      \n    for (var i = 0; i < inline_js.length; i++) {\n      inline_js[i].call(root, root.Bokeh);\n    }\n    if (force === true) {\n        display_loaded();\n      }} else if (Date.now() < root._bokeh_timeout) {\n      setTimeout(run_inline_js, 100);\n    } else if (!root._bokeh_failed_load) {\n      console.log(\"Bokeh: BokehJS failed to load within specified timeout.\");\n      root._bokeh_failed_load = true;\n    } else if (force !== true) {\n      var cell = $(document.getElementById(\"1198\")).parents('.cell').data().cell;\n      cell.output_area.append_execute_result(NB_LOAD_WARNING)\n    }\n\n  }\n\n  if (root._bokeh_is_loading === 0) {\n    console.debug(\"Bokeh: BokehJS loaded, going straight to plotting\");\n    run_inline_js();\n  } else {\n    load_libs(css_urls, js_urls, function() {\n      console.debug(\"Bokeh: BokehJS plotting callback run at\", now());\n      run_inline_js();\n    });\n  }\n}(window));",
      "application/vnd.bokehjs_load.v0+json": ""
     },
     "metadata": {},
     "output_type": "display_data"
    },
    {
     "data": {
      "text/html": [
       "\n",
       "\n",
       "\n",
       "\n",
       "\n",
       "\n",
       "  <div class=\"bk-root\" id=\"e93ed48a-a5fa-477e-8be9-c717499d22eb\" data-root-id=\"1197\"></div>\n"
      ]
     },
     "metadata": {},
     "output_type": "display_data"
    },
    {
     "data": {
      "application/javascript": "(function(root) {\n  function embed_document(root) {\n    \n  var docs_json = {\"a19400fa-22d5-482c-ba76-0e236c32abd6\":{\"roots\":{\"references\":[{\"attributes\":{\"children\":[{\"id\":\"1121\"}]},\"id\":\"1197\",\"type\":\"Column\"},{\"attributes\":{\"axis\":{\"id\":\"1134\"},\"dimension\":1,\"grid_line_color\":null,\"ticker\":null},\"id\":\"1137\",\"type\":\"Grid\"},{\"attributes\":{\"fill_color\":null,\"left\":7.5,\"level\":\"underlay\",\"line_alpha\":0.4,\"line_color\":\"black\",\"right\":8.0},\"id\":\"1188\",\"type\":\"BoxAnnotation\"},{\"attributes\":{\"fill_alpha\":0.25,\"fill_color\":\"gray\",\"left\":4.0,\"level\":\"underlay\",\"line_alpha\":0.5,\"line_color\":\"black\",\"line_width\":2,\"right\":6.0},\"id\":\"1171\",\"type\":\"BoxAnnotation\"},{\"attributes\":{\"source\":{\"id\":\"1155\"}},\"id\":\"1160\",\"type\":\"CDSView\"},{\"attributes\":{\"interval\":1},\"id\":\"1191\",\"type\":\"SingleIntervalTicker\"},{\"attributes\":{\"fill_color\":null,\"left\":0.5,\"level\":\"underlay\",\"line_alpha\":0.4,\"line_color\":\"black\",\"right\":1.0},\"id\":\"1174\",\"type\":\"BoxAnnotation\"},{\"attributes\":{\"text\":\"Visual MIDI (120 QPM, 4/4)\",\"text_font_size\":{\"value\":\"14px\"}},\"id\":\"1193\",\"type\":\"Title\"},{\"attributes\":{\"bottom\":{\"field\":\"bottom\"},\"fill_color\":{\"field\":\"color\"},\"left\":{\"field\":\"left\"},\"right\":{\"field\":\"right\"},\"top\":{\"field\":\"top\"}},\"id\":\"1157\",\"type\":\"Quad\"},{\"attributes\":{\"render_mode\":\"css\",\"text\":\"68\",\"text_font_size\":\"10px\",\"x\":-18,\"x_units\":\"screen\",\"y\":68.1},\"id\":\"1162\",\"type\":\"Label\"},{\"attributes\":{},\"id\":\"1154\",\"type\":\"BasicTickFormatter\"},{\"attributes\":{\"bottom\":69,\"fill_alpha\":0.0,\"fill_color\":\"gray\",\"level\":\"underlay\",\"line_color\":\"black\",\"top\":70},\"id\":\"1163\",\"type\":\"BoxAnnotation\"},{\"attributes\":{\"render_mode\":\"css\",\"text\":\"69\",\"text_font_size\":\"10px\",\"x\":-18,\"x_units\":\"screen\",\"y\":69.1},\"id\":\"1164\",\"type\":\"Label\"},{\"attributes\":{},\"id\":\"1140\",\"type\":\"SaveTool\"},{\"attributes\":{\"fill_color\":null,\"left\":1.0,\"level\":\"underlay\",\"line_alpha\":0.4,\"line_color\":\"black\",\"right\":1.5},\"id\":\"1175\",\"type\":\"BoxAnnotation\"},{\"attributes\":{\"fill_color\":null,\"left\":1.5,\"level\":\"underlay\",\"line_alpha\":0.4,\"line_color\":\"black\",\"right\":2.0},\"id\":\"1176\",\"type\":\"BoxAnnotation\"},{\"attributes\":{},\"id\":\"1142\",\"type\":\"PanTool\"},{\"attributes\":{},\"id\":\"1141\",\"type\":\"WheelZoomTool\"},{\"attributes\":{\"fill_color\":null,\"left\":2.0,\"level\":\"underlay\",\"line_alpha\":0.4,\"line_color\":\"black\",\"right\":2.5},\"id\":\"1177\",\"type\":\"BoxAnnotation\"},{\"attributes\":{\"callback\":null,\"tooltips\":[[\"program\",\"@program\"],[\"pitch\",\"@top\"],[\"velocity\",\"@velocity\"],[\"duration\",\"@duration\"],[\"start_time\",\"@left\"],[\"end_time\",\"@right\"]]},\"id\":\"1139\",\"type\":\"HoverTool\"},{\"attributes\":{\"axis_label\":\"time (SEC)\",\"axis_label_text_font_size\":\"12px\",\"bounds\":[0.0,8.0],\"formatter\":{\"id\":\"1152\"},\"major_label_text_font_size\":\"10px\",\"major_tick_line_alpha\":0.9,\"major_tick_out\":5,\"minor_tick_line_alpha\":0,\"ticker\":{\"id\":\"1189\"}},\"id\":\"1130\",\"type\":\"LinearAxis\"},{\"attributes\":{\"bottom\":70,\"fill_alpha\":0.15,\"fill_color\":\"gray\",\"level\":\"underlay\",\"line_color\":\"black\",\"top\":71},\"id\":\"1165\",\"type\":\"BoxAnnotation\"},{\"attributes\":{},\"id\":\"1138\",\"type\":\"ResetTool\"},{\"attributes\":{},\"id\":\"1126\",\"type\":\"LinearScale\"},{\"attributes\":{\"fill_color\":null,\"left\":2.5,\"level\":\"underlay\",\"line_alpha\":0.4,\"line_color\":\"black\",\"right\":3.0},\"id\":\"1178\",\"type\":\"BoxAnnotation\"},{\"attributes\":{\"fill_alpha\":0.05,\"fill_color\":\"gray\",\"left\":2.0,\"level\":\"underlay\",\"line_alpha\":0.5,\"line_color\":\"black\",\"line_width\":2,\"right\":4.0},\"id\":\"1170\",\"type\":\"BoxAnnotation\"},{\"attributes\":{},\"id\":\"1208\",\"type\":\"UnionRenderers\"},{\"attributes\":{\"render_mode\":\"css\",\"text\":\"70\",\"text_font_size\":\"10px\",\"x\":-18,\"x_units\":\"screen\",\"y\":70.1},\"id\":\"1166\",\"type\":\"Label\"},{\"attributes\":{\"fill_color\":null,\"left\":3.0,\"level\":\"underlay\",\"line_alpha\":0.4,\"line_color\":\"black\",\"right\":3.5},\"id\":\"1179\",\"type\":\"BoxAnnotation\"},{\"attributes\":{\"fill_color\":null,\"left\":0.0,\"level\":\"underlay\",\"line_alpha\":0.4,\"line_color\":\"black\",\"right\":0.5},\"id\":\"1173\",\"type\":\"BoxAnnotation\"},{\"attributes\":{\"fill_color\":null,\"left\":7.0,\"level\":\"underlay\",\"line_alpha\":0.4,\"line_color\":\"black\",\"right\":7.5},\"id\":\"1187\",\"type\":\"BoxAnnotation\"},{\"attributes\":{\"fill_color\":null,\"left\":3.5,\"level\":\"underlay\",\"line_alpha\":0.4,\"line_color\":\"black\",\"right\":4.0},\"id\":\"1180\",\"type\":\"BoxAnnotation\"},{\"attributes\":{\"bottom\":{\"field\":\"bottom\"},\"fill_alpha\":{\"value\":0.1},\"fill_color\":{\"field\":\"color\"},\"left\":{\"field\":\"left\"},\"line_alpha\":{\"value\":0.1},\"right\":{\"field\":\"right\"},\"top\":{\"field\":\"top\"}},\"id\":\"1158\",\"type\":\"Quad\"},{\"attributes\":{},\"id\":\"1128\",\"type\":\"LinearScale\"},{\"attributes\":{\"below\":[{\"id\":\"1130\"}],\"center\":[{\"id\":\"1133\"},{\"id\":\"1137\"},{\"id\":\"1161\"},{\"id\":\"1162\"},{\"id\":\"1163\"},{\"id\":\"1164\"},{\"id\":\"1165\"},{\"id\":\"1166\"},{\"id\":\"1167\"},{\"id\":\"1168\"},{\"id\":\"1169\"},{\"id\":\"1170\"},{\"id\":\"1171\"},{\"id\":\"1172\"},{\"id\":\"1173\"},{\"id\":\"1174\"},{\"id\":\"1175\"},{\"id\":\"1176\"},{\"id\":\"1177\"},{\"id\":\"1178\"},{\"id\":\"1179\"},{\"id\":\"1180\"},{\"id\":\"1181\"},{\"id\":\"1182\"},{\"id\":\"1183\"},{\"id\":\"1184\"},{\"id\":\"1185\"},{\"id\":\"1186\"},{\"id\":\"1187\"},{\"id\":\"1188\"}],\"left\":[{\"id\":\"1134\"}],\"min_border_right\":50,\"outline_line_color\":\"black\",\"plot_height\":400,\"plot_width\":1200,\"renderers\":[{\"id\":\"1159\"}],\"title\":{\"id\":\"1193\"},\"toolbar\":{\"id\":\"1143\"},\"x_range\":{\"id\":\"1195\"},\"x_scale\":{\"id\":\"1126\"},\"y_range\":{\"id\":\"1196\"},\"y_scale\":{\"id\":\"1128\"}},\"id\":\"1121\",\"subtype\":\"Figure\",\"type\":\"Plot\"},{\"attributes\":{\"data_source\":{\"id\":\"1155\"},\"glyph\":{\"id\":\"1157\"},\"hover_glyph\":null,\"muted_glyph\":null,\"nonselection_glyph\":{\"id\":\"1158\"},\"selection_glyph\":null,\"view\":{\"id\":\"1160\"}},\"id\":\"1159\",\"type\":\"GlyphRenderer\"},{\"attributes\":{\"fill_color\":null,\"left\":4.0,\"level\":\"underlay\",\"line_alpha\":0.4,\"line_color\":\"black\",\"right\":4.5},\"id\":\"1181\",\"type\":\"BoxAnnotation\"},{\"attributes\":{\"axis_label\":\"pitch (MIDI)\",\"axis_label_standoff\":0,\"axis_label_text_font_size\":\"12px\",\"bounds\":[68,72],\"formatter\":{\"id\":\"1154\"},\"major_label_text_alpha\":0,\"major_tick_line_alpha\":0.9,\"major_tick_out\":25,\"minor_tick_line_alpha\":0,\"ticker\":{\"id\":\"1191\"}},\"id\":\"1134\",\"type\":\"LinearAxis\"},{\"attributes\":{\"active_drag\":\"auto\",\"active_inspect\":\"auto\",\"active_multi\":null,\"active_scroll\":\"auto\",\"active_tap\":\"auto\",\"tools\":[{\"id\":\"1138\"},{\"id\":\"1139\"},{\"id\":\"1140\"},{\"id\":\"1141\"},{\"id\":\"1142\"}]},\"id\":\"1143\",\"type\":\"Toolbar\"},{\"attributes\":{\"fill_color\":null,\"left\":4.5,\"level\":\"underlay\",\"line_alpha\":0.4,\"line_color\":\"black\",\"right\":5.0},\"id\":\"1182\",\"type\":\"BoxAnnotation\"},{\"attributes\":{\"bottom\":71,\"fill_alpha\":0.0,\"fill_color\":\"gray\",\"level\":\"underlay\",\"line_color\":\"black\",\"top\":72},\"id\":\"1167\",\"type\":\"BoxAnnotation\"},{\"attributes\":{\"fill_color\":null,\"left\":5.0,\"level\":\"underlay\",\"line_alpha\":0.4,\"line_color\":\"black\",\"right\":5.5},\"id\":\"1183\",\"type\":\"BoxAnnotation\"},{\"attributes\":{\"fill_alpha\":0.25,\"fill_color\":\"gray\",\"left\":0.0,\"level\":\"underlay\",\"line_alpha\":0.5,\"line_color\":\"black\",\"line_width\":2,\"right\":2.0},\"id\":\"1169\",\"type\":\"BoxAnnotation\"},{\"attributes\":{\"render_mode\":\"css\",\"text\":\"71\",\"text_font_size\":\"10px\",\"x\":-18,\"x_units\":\"screen\",\"y\":71.1},\"id\":\"1168\",\"type\":\"Label\"},{\"attributes\":{\"fill_color\":null,\"left\":5.5,\"level\":\"underlay\",\"line_alpha\":0.4,\"line_color\":\"black\",\"right\":6.0},\"id\":\"1184\",\"type\":\"BoxAnnotation\"},{\"attributes\":{\"interval\":1},\"id\":\"1189\",\"type\":\"SingleIntervalTicker\"},{\"attributes\":{\"end\":8.0},\"id\":\"1195\",\"type\":\"Range1d\"},{\"attributes\":{\"fill_color\":null,\"left\":6.0,\"level\":\"underlay\",\"line_alpha\":0.4,\"line_color\":\"black\",\"right\":6.5},\"id\":\"1185\",\"type\":\"BoxAnnotation\"},{\"attributes\":{},\"id\":\"1207\",\"type\":\"Selection\"},{\"attributes\":{\"fill_alpha\":0.05,\"fill_color\":\"gray\",\"left\":6.0,\"level\":\"underlay\",\"line_alpha\":0.5,\"line_color\":\"black\",\"line_width\":2,\"right\":8.0},\"id\":\"1172\",\"type\":\"BoxAnnotation\"},{\"attributes\":{\"fill_color\":null,\"left\":6.5,\"level\":\"underlay\",\"line_alpha\":0.4,\"line_color\":\"black\",\"right\":7.0},\"id\":\"1186\",\"type\":\"BoxAnnotation\"},{\"attributes\":{\"bottom\":68,\"fill_alpha\":0.15,\"fill_color\":\"gray\",\"level\":\"underlay\",\"line_color\":\"black\",\"top\":69},\"id\":\"1161\",\"type\":\"BoxAnnotation\"},{\"attributes\":{\"end\":72,\"start\":68},\"id\":\"1196\",\"type\":\"Range1d\"},{\"attributes\":{\"data\":{\"bottom\":[68.62992125984252,71.62992125984252,71.62992125984252,70.62992125984252],\"color\":[\"rgb(106, 0, 181)\",\"rgb(164, 150, 243)\",\"rgb(164, 150, 243)\",\"rgb(141, 129, 217)\"],\"duration\":[0.875,0.875,0.5,4.5],\"left\":[1.0,2.0,3.0,3.5],\"program\":[0,0,0,0],\"right\":[1.875,2.875,3.5,8.0],\"top\":[68,71,71,70],\"velocity\":[80,80,80,80]},\"selected\":{\"id\":\"1207\"},\"selection_policy\":{\"id\":\"1208\"}},\"id\":\"1155\",\"type\":\"ColumnDataSource\"},{\"attributes\":{\"axis\":{\"id\":\"1130\"},\"grid_line_color\":null,\"ticker\":null},\"id\":\"1133\",\"type\":\"Grid\"},{\"attributes\":{},\"id\":\"1152\",\"type\":\"BasicTickFormatter\"}],\"root_ids\":[\"1197\"]},\"title\":\"Bokeh Application\",\"version\":\"2.2.3\"}};\n  var render_items = [{\"docid\":\"a19400fa-22d5-482c-ba76-0e236c32abd6\",\"root_ids\":[\"1197\"],\"roots\":{\"1197\":\"e93ed48a-a5fa-477e-8be9-c717499d22eb\"}}];\n  root.Bokeh.embed.embed_items_notebook(docs_json, render_items);\n\n  }\n  if (root.Bokeh !== undefined) {\n    embed_document(root);\n  } else {\n    var attempts = 0;\n    var timer = setInterval(function(root) {\n      if (root.Bokeh !== undefined) {\n        clearInterval(timer);\n        embed_document(root);\n      } else {\n        attempts++;\n        if (attempts > 100) {\n          clearInterval(timer);\n          console.log(\"Bokeh: ERROR: Unable to run BokehJS code because BokehJS library is missing\");\n        }\n      }\n    }, 10, root)\n  }\n})(window);",
      "application/vnd.bokehjs_exec.v0+json": ""
     },
     "metadata": {
      "application/vnd.bokehjs_exec.v0+json": {
       "id": "1197"
      }
     },
     "output_type": "display_data"
    }
   ],
   "source": [
    "output.pianoRollFromNoteSeq(seq_input)\n",
    "output.pianoRollFromNoteSeq(seq_gen_base['sequence'])"
   ]
  },
  {
   "cell_type": "markdown",
   "metadata": {},
   "source": [
    "## Similarity between input and gen_base"
   ]
  },
  {
   "cell_type": "code",
   "execution_count": null,
   "metadata": {},
   "outputs": [
    {
     "data": {
      "text/plain": [
       "{'pitch_count': 3.0,\n",
       " 'pitch_class_histogram': 0.8322940082680179,\n",
       " 'pitch_class_transition_matrix': 3.7416573867739413,\n",
       " 'avg_pitch_interval': 0.05128205128205132,\n",
       " 'pitch_range': 6.0,\n",
       " 'note_count': 10.0,\n",
       " 'note_length_histogram': 0.8074202360863414,\n",
       " 'note_length_transition_matrix': 7.745966692414834,\n",
       " 'avg_ioi': 0.29487179487179493,\n",
       " 'ioi_histogram': 0.0,\n",
       " 'ioi_transition_matrix': 10.0}"
      ]
     },
     "execution_count": 10,
     "metadata": {},
     "output_type": "execute_result"
    }
   ],
   "source": [
    "distances"
   ]
  },
  {
   "cell_type": "markdown",
   "metadata": {},
   "source": [
    "# Conversion to music21 stream"
   ]
  },
  {
   "cell_type": "code",
   "execution_count": null,
   "metadata": {},
   "outputs": [
    {
     "data": {
      "text/html": [
       "\n",
       "                <div id='midiPlayerDiv269'></div>\n",
       "                <link rel=\"stylesheet\" href=\"//cuthbertLab.github.io/music21j/css/m21.css\"\n",
       "                    type=\"text/css\" />\n",
       "                <script>\n",
       "                require.config({\n",
       "                    paths: {'music21': '//cuthbertLab.github.io/music21j/src/music21'}\n",
       "                });\n",
       "                require(['music21'], function() {\n",
       "                               mp = new music21.miditools.MidiPlayer();\n",
       "                               mp.addPlayer('#midiPlayerDiv269');\n",
       "                               mp.base64Load('data:audio/midi;base64,TVRoZAAAAAYAAQABBABNVHJrAAAAmwD/AwAA4ABAAP9RAwehIAD/WAQEAhgIiACQPEWIAIA8AACQPEyIAIA8AACQQ1eIAIBDAACQQ1GIAIBDAACQRVCIAIBFAACQRU2IAIBFAACQQ0yQAIBDAACQQUOIAIBBAACQQUqIAIBBAACQQEmIAIBAAACQQEqIAIBAAACQPkeIAIA+AACQPk2IAIA+AACQPESQAIA8AIgA/y8A');\n",
       "                        });\n",
       "                </script>"
      ],
      "text/plain": [
       "<IPython.core.display.HTML object>"
      ]
     },
     "metadata": {},
     "output_type": "display_data"
    }
   ],
   "source": [
    "input_stream = conversion.note_seq_to_music21(seq_input)\n",
    "input_stream.show('midi')"
   ]
  },
  {
   "cell_type": "code",
   "execution_count": null,
   "metadata": {},
   "outputs": [
    {
     "data": {
      "text/html": [
       "\n",
       "                <div id='midiPlayerDiv363'></div>\n",
       "                <link rel=\"stylesheet\" href=\"//cuthbertLab.github.io/music21j/css/m21.css\"\n",
       "                    type=\"text/css\" />\n",
       "                <script>\n",
       "                require.config({\n",
       "                    paths: {'music21': '//cuthbertLab.github.io/music21j/src/music21'}\n",
       "                });\n",
       "                require(['music21'], function() {\n",
       "                               mp = new music21.miditools.MidiPlayer();\n",
       "                               mp.addPlayer('#midiPlayerDiv363');\n",
       "                               mp.base64Load('data:audio/midi;base64,TVRoZAAAAAYAAQABBABNVHJrAAAAOwD/AwAA4ABAAP9RAwehIJgAkERQjgCARACCAJBHUI4AgEcAggCQR1CIAIBHAACQRlDIAIBGAIgA/y8A');\n",
       "                        });\n",
       "                </script>"
      ],
      "text/plain": [
       "<IPython.core.display.HTML object>"
      ]
     },
     "metadata": {},
     "output_type": "display_data"
    }
   ],
   "source": [
    "output_stream = conversion.note_seq_to_music21(seq_gen_base['sequence'])\n",
    "output_stream.show('midi')"
   ]
  },
  {
   "cell_type": "markdown",
   "metadata": {},
   "source": [
    "# Adaptation"
   ]
  },
  {
   "cell_type": "code",
   "execution_count": null,
   "metadata": {},
   "outputs": [
    {
     "name": "stdout",
     "output_type": "stream",
     "text": [
      "{0, 2, 4, 5, 7, 9}\n"
     ]
    }
   ],
   "source": [
    "allowedPitch = set()\n",
    "for note in input_stream.parts[0].notes:\n",
    "    allowedPitch.add(note.pitch.pitchClass)\n",
    "print(allowedPitch)\n",
    "\n",
    "def findClosest(lst, given_value):\n",
    "    absolute_difference = lambda list_value : min(abs(list_value - given_value), abs(list_value+12 - given_value), abs(list_value-12 - given_value))\n",
    "    return min(lst, key=absolute_difference)"
   ]
  },
  {
   "cell_type": "code",
   "execution_count": null,
   "metadata": {},
   "outputs": [
    {
     "name": "stdout",
     "output_type": "stream",
     "text": [
      "C major\n",
      "F# major\n"
     ]
    }
   ],
   "source": [
    "print(input_stream.analyze('key'))\n",
    "print(output_stream.analyze('key'))"
   ]
  },
  {
   "cell_type": "code",
   "execution_count": null,
   "metadata": {},
   "outputs": [
    {
     "name": "stdout",
     "output_type": "stream",
     "text": [
      "8 => 7\n",
      "11 => 0\n",
      "11 => 0\n",
      "10 => 9\n"
     ]
    }
   ],
   "source": [
    "for note in output_stream.parts[0].notes:\n",
    "    old_pitch = note.pitch.pitchClass\n",
    "    new_pitch = findClosest(allowedPitch, note.pitch.pitchClass)\n",
    "    note.pitch.pitchClass += (new_pitch - old_pitch)\n",
    "    note.pitch.octave += 2\n",
    "    print(str(old_pitch) + ' => ' + str(new_pitch))"
   ]
  },
  {
   "cell_type": "code",
   "execution_count": null,
   "metadata": {},
   "outputs": [
    {
     "data": {
      "text/html": [
       "\n",
       "                <div id='midiPlayerDiv464'></div>\n",
       "                <link rel=\"stylesheet\" href=\"//cuthbertLab.github.io/music21j/css/m21.css\"\n",
       "                    type=\"text/css\" />\n",
       "                <script>\n",
       "                require.config({\n",
       "                    paths: {'music21': '//cuthbertLab.github.io/music21j/src/music21'}\n",
       "                });\n",
       "                require(['music21'], function() {\n",
       "                               mp = new music21.miditools.MidiPlayer();\n",
       "                               mp.addPlayer('#midiPlayerDiv464');\n",
       "                               mp.base64Load('data:audio/midi;base64,TVRoZAAAAAYAAQABBABNVHJrAAAAOwD/AwAA4ABAAP9RAwehIJgAkFtQjgCAWwCCAJBUUI4AgFQAggCQVFCIAIBUAACQXVDIAIBdAIgA/y8A');\n",
       "                        });\n",
       "                </script>"
      ],
      "text/plain": [
       "<IPython.core.display.HTML object>"
      ]
     },
     "metadata": {},
     "output_type": "display_data"
    }
   ],
   "source": [
    "output_stream.show('midi')"
   ]
  },
  {
   "cell_type": "code",
   "execution_count": null,
   "metadata": {},
   "outputs": [],
   "source": [
    "mf = music21.midi.translate.streamToMidiFile(output_stream)\n",
    "mf.open('../midi/tmp/adaption_cache.mid', 'wb')\n",
    "mf.write()\n",
    "mf.close()"
   ]
  },
  {
   "cell_type": "code",
   "execution_count": null,
   "metadata": {},
   "outputs": [],
   "source": [
    "midi_adapted = input.loadMidiFile('../midi/tmp/adaption_cache.mid')\n",
    "seq_adapted = midi_to_note_sequence(midi_adapted)"
   ]
  },
  {
   "cell_type": "code",
   "execution_count": null,
   "metadata": {},
   "outputs": [],
   "source": [
    "metrics3 = mgeval.analyze_sequence(seq_adapted)\n",
    "distances2 = mgeval.calc_distances(metrics1, metrics3)\n",
    "seq_output = {}\n",
    "seq_output['sequence'] = seq_adapted\n",
    "seq_output['evaluation'] = {\n",
    "    'metrics': metrics2,\n",
    "    'distances_to_input': distances2\n",
    "}"
   ]
  },
  {
   "cell_type": "code",
   "execution_count": null,
   "metadata": {},
   "outputs": [
    {
     "data": {
      "text/plain": [
       "{'pitch_count': 3.0,\n",
       " 'pitch_class_histogram': 0.59352316987712,\n",
       " 'pitch_class_transition_matrix': 3.7416573867739413,\n",
       " 'avg_pitch_interval': 3.9487179487179485,\n",
       " 'pitch_range': 0.0,\n",
       " 'note_count': 10.0,\n",
       " 'note_length_histogram': 0.8074202360863414,\n",
       " 'note_length_transition_matrix': 7.745966692414834,\n",
       " 'avg_ioi': 0.29487179487179493,\n",
       " 'ioi_histogram': 0.0,\n",
       " 'ioi_transition_matrix': 10.0}"
      ]
     },
     "execution_count": 20,
     "metadata": {},
     "output_type": "execute_result"
    }
   ],
   "source": [
    "distances2"
   ]
  },
  {
   "cell_type": "code",
   "execution_count": null,
   "metadata": {},
   "outputs": [
    {
     "ename": "TypeError",
     "evalue": "store_generation_result() got an unexpected keyword argument 'gen_dur'",
     "output_type": "error",
     "traceback": [
      "\u001b[1;31m---------------------------------------------------------------------------\u001b[0m",
      "\u001b[1;31mTypeError\u001b[0m                                 Traceback (most recent call last)",
      "\u001b[1;32m<ipython-input-21-1201d6266adc>\u001b[0m in \u001b[0;36m<module>\u001b[1;34m\u001b[0m\n\u001b[0;32m      6\u001b[0m     \u001b[0mgen_model\u001b[0m \u001b[1;33m=\u001b[0m \u001b[0mseq_gen_base\u001b[0m\u001b[1;33m[\u001b[0m\u001b[1;34m'meta'\u001b[0m\u001b[1;33m]\u001b[0m\u001b[1;33m[\u001b[0m\u001b[1;34m'model'\u001b[0m\u001b[1;33m]\u001b[0m \u001b[1;33m+\u001b[0m \u001b[1;34m'_'\u001b[0m \u001b[1;33m+\u001b[0m \u001b[0mseq_gen_base\u001b[0m\u001b[1;33m[\u001b[0m\u001b[1;34m'meta'\u001b[0m\u001b[1;33m]\u001b[0m\u001b[1;33m[\u001b[0m\u001b[1;34m'checkpoint'\u001b[0m\u001b[1;33m]\u001b[0m\u001b[1;33m,\u001b[0m\u001b[1;33m\u001b[0m\u001b[1;33m\u001b[0m\u001b[0m\n\u001b[0;32m      7\u001b[0m     \u001b[0mgen_temperature\u001b[0m \u001b[1;33m=\u001b[0m \u001b[0mseq_gen_base\u001b[0m\u001b[1;33m[\u001b[0m\u001b[1;34m'meta'\u001b[0m\u001b[1;33m]\u001b[0m\u001b[1;33m[\u001b[0m\u001b[1;34m'temperature'\u001b[0m\u001b[1;33m]\u001b[0m\u001b[1;33m,\u001b[0m\u001b[1;33m\u001b[0m\u001b[1;33m\u001b[0m\u001b[0m\n\u001b[1;32m----> 8\u001b[1;33m     adapt_dur = 0)\n\u001b[0m\u001b[0;32m      9\u001b[0m \u001b[0mprint\u001b[0m\u001b[1;33m(\u001b[0m\u001b[0mid\u001b[0m\u001b[1;33m)\u001b[0m\u001b[1;33m\u001b[0m\u001b[1;33m\u001b[0m\u001b[0m\n",
      "\u001b[1;31mTypeError\u001b[0m: store_generation_result() got an unexpected keyword argument 'gen_dur'"
     ]
    }
   ],
   "source": [
    "id = db.store_generation_result(\n",
    "    note_sequence_to_pretty_midi(seq_input),\n",
    "    note_sequence_to_pretty_midi(seq_gen_base['sequence']),\n",
    "    note_sequence_to_pretty_midi(seq_adapted),\n",
    "    gen_dur = seq_gen_base['meta']['gen_dur'],\n",
    "    gen_model = seq_gen_base['meta']['model'] + '_' + seq_gen_base['meta']['checkpoint'],\n",
    "    gen_temperature = seq_gen_base['meta']['temperature'],\n",
    "    adapt_dur = 0)\n",
    "print(id)"
   ]
  }
 ],
 "metadata": {
  "interpreter": {
   "hash": "75a9ca51cf2daeb22ff0ca8785d387c49ea4e2c8c6428abeae8aacce62ee187c"
  },
  "kernelspec": {
   "display_name": "Python 3.7.9 64-bit ('mpro': conda)",
   "name": "python3"
  },
  "language_info": {
   "codemirror_mode": {
    "name": "ipython",
    "version": 3
   },
   "file_extension": ".py",
   "mimetype": "text/x-python",
   "name": "python",
   "nbconvert_exporter": "python",
   "pygments_lexer": "ipython3",
   "version": "3.7.9"
  },
  "orig_nbformat": 2
 },
 "nbformat": 4,
 "nbformat_minor": 2
}