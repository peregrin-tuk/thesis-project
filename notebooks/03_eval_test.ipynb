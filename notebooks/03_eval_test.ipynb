{
 "cells": [
  {
   "cell_type": "markdown",
   "metadata": {},
   "source": [
    "# Imports & Model Setup"
   ]
  },
  {
   "cell_type": "code",
   "execution_count": 3,
   "metadata": {},
   "outputs": [
    {
     "name": "stderr",
     "output_type": "stream",
     "text": [
      "C:\\Users\\Eric\\miniconda3\\envs\\mpro\\lib\\site-packages\\pydub\\utils.py:170: RuntimeWarning: Couldn't find ffmpeg or avconv - defaulting to ffmpeg, but may not work\n",
      "  warn(\"Couldn't find ffmpeg or avconv - defaulting to ffmpeg, but may not work\", RuntimeWarning)\n"
     ]
    },
    {
     "name": "stdout",
     "output_type": "stream",
     "text": [
      "pygame 2.0.1 (SDL 2.0.14, Python 3.7.9)\n",
      "Hello from the pygame community. https://www.pygame.org/contribute.html\n"
     ]
    }
   ],
   "source": [
    "import sys, os\r\n",
    "\r\n",
    "root_dir = os.path.join(os.getcwd(), '..')\r\n",
    "sys.path.append(root_dir)\r\n",
    "\r\n",
    "import seaborn as sns\r\n",
    "import pandas as pd\r\n",
    "import numpy as np\r\n",
    "from note_seq import midi_to_note_sequence, note_sequence_to_midi_file, note_sequence_to_pretty_midi\r\n",
    "from heatmap import heatmap, corrplot\r\n",
    "from src.evaluation import mgeval\r\n",
    "from src.io import output, input, conversion\r\n",
    "from src.generation import MusicVAEGenerator\r\n",
    "from src.db import generations as db"
   ]
  },
  {
   "cell_type": "code",
   "execution_count": 4,
   "metadata": {},
   "outputs": [],
   "source": [
    "import music21\n",
    "#music21.configure.run()\n",
    "#music21.environment.set('musescoreDirectPNGPath', 'C:\\\\Program Files\\\\MuseScore 3\\\\bin\\\\MuseScore3.exe')\n",
    "#music21.environment.set('musicxmlPath', 'C:\\\\Program Files\\\\MuseScore 3\\\\bin\\\\MuseScore3.exe')"
   ]
  },
  {
   "cell_type": "code",
   "execution_count": 5,
   "metadata": {},
   "outputs": [
    {
     "name": "stdout",
     "output_type": "stream",
     "text": [
      "[GEN] Initializing Music VAE with checkpoint 'cat-mel_2bar_big'...\n",
      "INFO:tensorflow:Building MusicVAE model with BidirectionalLstmEncoder, CategoricalLstmDecoder, and hparams:\n",
      "{'max_seq_len': 32, 'z_size': 512, 'free_bits': 0, 'max_beta': 0.5, 'beta_rate': 0.99999, 'batch_size': 4, 'grad_clip': 1.0, 'clip_mode': 'global_norm', 'grad_norm_clip_to_zero': 10000, 'learning_rate': 0.001, 'decay_rate': 0.9999, 'min_learning_rate': 1e-05, 'conditional': True, 'dec_rnn_size': [2048, 2048, 2048], 'enc_rnn_size': [2048], 'dropout_keep_prob': 1.0, 'sampling_schedule': 'inverse_sigmoid', 'sampling_rate': 1000, 'use_cudnn': False, 'residual_encoder': False, 'residual_decoder': False, 'control_preprocessing_rnn_size': [256]}\n",
      "INFO:tensorflow:\n",
      "Encoder Cells (bidirectional):\n",
      "  units: [2048]\n",
      "\n",
      "WARNING:tensorflow:From C:\\Users\\Eric\\miniconda3\\envs\\mpro\\lib\\site-packages\\magenta\\models\\music_vae\\lstm_utils.py:45: MultiRNNCell.__init__ (from tensorflow.python.ops.rnn_cell_impl) is deprecated and will be removed in a future version.\n",
      "Instructions for updating:\n",
      "This class is equivalent as tf.keras.layers.StackedRNNCells, and will be replaced by that in Tensorflow 2.0.\n",
      "INFO:tensorflow:\n",
      "Decoder Cells:\n",
      "  units: [2048, 2048, 2048]\n",
      "\n",
      "WARNING:tensorflow:Setting non-training sampling schedule from inverse_sigmoid:1000.000000 to constant:1.0.\n",
      "WARNING:tensorflow:From C:\\Users\\Eric\\miniconda3\\envs\\mpro\\lib\\site-packages\\magenta\\models\\music_vae\\lstm_utils.py:257: to_float (from tensorflow.python.ops.math_ops) is deprecated and will be removed in a future version.\n",
      "Instructions for updating:\n",
      "Use `tf.cast` instead.\n",
      "WARNING:tensorflow:From C:\\Users\\Eric\\miniconda3\\envs\\mpro\\lib\\site-packages\\magenta\\models\\music_vae\\lstm_utils.py:211: dense (from tensorflow.python.layers.core) is deprecated and will be removed in a future version.\n",
      "Instructions for updating:\n",
      "Use keras.layers.Dense instead.\n",
      "WARNING:tensorflow:From C:\\Users\\Eric\\miniconda3\\envs\\mpro\\lib\\site-packages\\tensorflow_core\\python\\layers\\core.py:187: Layer.apply (from tensorflow.python.keras.engine.base_layer) is deprecated and will be removed in a future version.\n",
      "Instructions for updating:\n",
      "Please use `layer.__call__` method instead.\n",
      "WARNING:tensorflow:From C:\\Users\\Eric\\miniconda3\\envs\\mpro\\lib\\site-packages\\tensorflow_core\\contrib\\rnn\\python\\ops\\lstm_ops.py:360: Layer.add_variable (from tensorflow.python.keras.engine.base_layer) is deprecated and will be removed in a future version.\n",
      "Instructions for updating:\n",
      "Please use `layer.add_weight` method instead.\n",
      "WARNING:tensorflow:From C:\\Users\\Eric\\miniconda3\\envs\\mpro\\lib\\site-packages\\tensorflow_core\\contrib\\seq2seq\\python\\ops\\decoder.py:420: where (from tensorflow.python.ops.array_ops) is deprecated and will be removed in a future version.\n",
      "Instructions for updating:\n",
      "Use tf.where in 2.0, which has the same broadcast rule as np.where\n",
      "WARNING:tensorflow:From C:\\Users\\Eric\\miniconda3\\envs\\mpro\\lib\\site-packages\\tensorflow_core\\contrib\\rnn\\python\\ops\\rnn.py:239: bidirectional_dynamic_rnn (from tensorflow.python.ops.rnn) is deprecated and will be removed in a future version.\n",
      "Instructions for updating:\n",
      "Please use `keras.layers.Bidirectional(keras.layers.RNN(cell))`, which is equivalent to this API\n",
      "WARNING:tensorflow:From C:\\Users\\Eric\\miniconda3\\envs\\mpro\\lib\\site-packages\\tensorflow_core\\python\\ops\\rnn.py:464: dynamic_rnn (from tensorflow.python.ops.rnn) is deprecated and will be removed in a future version.\n",
      "Instructions for updating:\n",
      "Please use `keras.layers.RNN(cell)`, which is equivalent to this API\n",
      "INFO:tensorflow:Unbundling checkpoint.\n",
      "INFO:tensorflow:Restoring parameters from C:\\Users\\Eric\\AppData\\Local\\Temp\\tmpcbim7p5o\\cat-mel_2bar_big.ckpt\n",
      "[GEN] 🎉 Initialization finished in 237.55014896392822 sec.\n"
     ]
    }
   ],
   "source": [
    "vae = MusicVAEGenerator()"
   ]
  },
  {
   "cell_type": "markdown",
   "metadata": {},
   "source": [
    "# Input Analysis"
   ]
  },
  {
   "cell_type": "code",
   "execution_count": 26,
   "metadata": {},
   "outputs": [
    {
     "data": {
      "text/plain": [
       "{'pitch_count': 6,\n",
       " 'pitch_class_histogram': array([0.23534338, 0.        , 0.1239531 , 0.        , 0.12311558,\n",
       "        0.11809045, 0.        , 0.2680067 , 0.        , 0.13149079,\n",
       "        0.        , 0.        ]),\n",
       " 'pitch_class_transition_matrix': array([[1., 0., 0., 0., 0., 0., 0., 1., 0., 0., 0., 0.],\n",
       "        [0., 0., 0., 0., 0., 0., 0., 0., 0., 0., 0., 0.],\n",
       "        [1., 0., 1., 0., 0., 0., 0., 0., 0., 0., 0., 0.],\n",
       "        [0., 0., 0., 0., 0., 0., 0., 0., 0., 0., 0., 0.],\n",
       "        [0., 0., 1., 0., 1., 0., 0., 0., 0., 0., 0., 0.],\n",
       "        [0., 0., 0., 0., 1., 1., 0., 0., 0., 0., 0., 0.],\n",
       "        [0., 0., 0., 0., 0., 0., 0., 0., 0., 0., 0., 0.],\n",
       "        [0., 0., 0., 0., 0., 1., 0., 1., 0., 1., 0., 0.],\n",
       "        [0., 0., 0., 0., 0., 0., 0., 0., 0., 0., 0., 0.],\n",
       "        [0., 0., 0., 0., 0., 0., 0., 1., 0., 1., 0., 0.],\n",
       "        [0., 0., 0., 0., 0., 0., 0., 0., 0., 0., 0., 0.],\n",
       "        [0., 0., 0., 0., 0., 0., 0., 0., 0., 0., 0., 0.]]),\n",
       " 'avg_pitch_interval': 1.3846153846153846,\n",
       " 'pitch_range': 9,\n",
       " 'note_count': 14,\n",
       " 'note_length_histogram': array([0.        , 0.14285714, 0.85714286, 0.        , 0.        ,\n",
       "        0.        , 0.        , 0.        , 0.        , 0.        ,\n",
       "        0.        , 0.        , 0.        , 0.        , 0.        ,\n",
       "        0.        , 0.        , 0.        , 0.        , 0.        ,\n",
       "        0.        , 0.        , 0.        , 0.        ]),\n",
       " 'note_length_transition_matrix': array([[0., 0., 0., 0., 0., 0., 0., 0., 0., 0., 0., 0., 0., 0., 0., 0.,\n",
       "         0., 0., 0., 0., 0., 0., 0., 0.],\n",
       "        [0., 0., 1., 0., 0., 0., 0., 0., 0., 0., 0., 0., 0., 0., 0., 0.,\n",
       "         0., 0., 0., 0., 0., 0., 0., 0.],\n",
       "        [0., 0., 4., 0., 0., 0., 0., 0., 0., 0., 0., 0., 0., 0., 0., 0.,\n",
       "         0., 0., 0., 0., 0., 0., 0., 0.],\n",
       "        [0., 0., 0., 0., 0., 0., 0., 0., 0., 0., 0., 0., 0., 0., 0., 0.,\n",
       "         0., 0., 0., 0., 0., 0., 0., 0.],\n",
       "        [0., 2., 6., 0., 0., 0., 0., 0., 0., 0., 0., 0., 0., 0., 0., 0.,\n",
       "         0., 0., 0., 0., 0., 0., 0., 0.],\n",
       "        [0., 0., 0., 0., 0., 0., 0., 0., 0., 0., 0., 0., 0., 0., 0., 0.,\n",
       "         0., 0., 0., 0., 0., 0., 0., 0.],\n",
       "        [0., 0., 0., 0., 0., 0., 0., 0., 0., 0., 0., 0., 0., 0., 0., 0.,\n",
       "         0., 0., 0., 0., 0., 0., 0., 0.],\n",
       "        [0., 0., 0., 0., 0., 0., 0., 0., 0., 0., 0., 0., 0., 0., 0., 0.,\n",
       "         0., 0., 0., 0., 0., 0., 0., 0.],\n",
       "        [0., 0., 0., 0., 0., 0., 0., 0., 0., 0., 0., 0., 0., 0., 0., 0.,\n",
       "         0., 0., 0., 0., 0., 0., 0., 0.],\n",
       "        [0., 0., 0., 0., 0., 0., 0., 0., 0., 0., 0., 0., 0., 0., 0., 0.,\n",
       "         0., 0., 0., 0., 0., 0., 0., 0.],\n",
       "        [0., 0., 0., 0., 0., 0., 0., 0., 0., 0., 0., 0., 0., 0., 0., 0.,\n",
       "         0., 0., 0., 0., 0., 0., 0., 0.],\n",
       "        [0., 0., 0., 0., 0., 0., 0., 0., 0., 0., 0., 0., 0., 0., 0., 0.,\n",
       "         0., 0., 0., 0., 0., 0., 0., 0.],\n",
       "        [0., 0., 0., 0., 0., 0., 0., 0., 0., 0., 0., 0., 0., 0., 0., 0.,\n",
       "         0., 0., 0., 0., 0., 0., 0., 0.],\n",
       "        [0., 0., 0., 0., 0., 0., 0., 0., 0., 0., 0., 0., 0., 0., 0., 0.,\n",
       "         0., 0., 0., 0., 0., 0., 0., 0.],\n",
       "        [0., 0., 0., 0., 0., 0., 0., 0., 0., 0., 0., 0., 0., 0., 0., 0.,\n",
       "         0., 0., 0., 0., 0., 0., 0., 0.],\n",
       "        [0., 0., 0., 0., 0., 0., 0., 0., 0., 0., 0., 0., 0., 0., 0., 0.,\n",
       "         0., 0., 0., 0., 0., 0., 0., 0.],\n",
       "        [0., 0., 0., 0., 0., 0., 0., 0., 0., 0., 0., 0., 0., 0., 0., 0.,\n",
       "         0., 0., 0., 0., 0., 0., 0., 0.],\n",
       "        [0., 0., 0., 0., 0., 0., 0., 0., 0., 0., 0., 0., 0., 0., 0., 0.,\n",
       "         0., 0., 0., 0., 0., 0., 0., 0.],\n",
       "        [0., 0., 0., 0., 0., 0., 0., 0., 0., 0., 0., 0., 0., 0., 0., 0.,\n",
       "         0., 0., 0., 0., 0., 0., 0., 0.],\n",
       "        [0., 0., 0., 0., 0., 0., 0., 0., 0., 0., 0., 0., 0., 0., 0., 0.,\n",
       "         0., 0., 0., 0., 0., 0., 0., 0.],\n",
       "        [0., 0., 0., 0., 0., 0., 0., 0., 0., 0., 0., 0., 0., 0., 0., 0.,\n",
       "         0., 0., 0., 0., 0., 0., 0., 0.],\n",
       "        [0., 0., 0., 0., 0., 0., 0., 0., 0., 0., 0., 0., 0., 0., 0., 0.,\n",
       "         0., 0., 0., 0., 0., 0., 0., 0.],\n",
       "        [0., 0., 0., 0., 0., 0., 0., 0., 0., 0., 0., 0., 0., 0., 0., 0.,\n",
       "         0., 0., 0., 0., 0., 0., 0., 0.],\n",
       "        [0., 0., 0., 0., 0., 0., 0., 0., 0., 0., 0., 0., 0., 0., 0., 0.,\n",
       "         0., 0., 0., 0., 0., 0., 0., 0.]]),\n",
       " 'avg_ioi': 0.5384615384615384,\n",
       " 'ioi_histogram': array([0.        , 0.        , 0.64285714, 0.        , 0.35714286,\n",
       "        0.        , 0.        , 0.        , 0.        , 0.        ,\n",
       "        0.        , 0.        ]),\n",
       " 'ioi_transition_matrix': array([[0., 0., 0., 0., 0., 0., 0., 0., 0., 0., 0., 0.],\n",
       "        [0., 0., 0., 0., 0., 0., 0., 0., 0., 0., 0., 0.],\n",
       "        [0., 0., 5., 0., 4., 0., 0., 0., 0., 0., 0., 0.],\n",
       "        [0., 0., 0., 0., 0., 0., 0., 0., 0., 0., 0., 0.],\n",
       "        [0., 0., 3., 0., 1., 0., 0., 0., 0., 0., 0., 0.],\n",
       "        [0., 0., 0., 0., 0., 0., 0., 0., 0., 0., 0., 0.],\n",
       "        [0., 0., 0., 0., 0., 0., 0., 0., 0., 0., 0., 0.],\n",
       "        [0., 0., 0., 0., 0., 0., 0., 0., 0., 0., 0., 0.],\n",
       "        [0., 0., 0., 0., 0., 0., 0., 0., 0., 0., 0., 0.],\n",
       "        [0., 0., 0., 0., 0., 0., 0., 0., 0., 0., 0., 0.],\n",
       "        [0., 0., 0., 0., 0., 0., 0., 0., 0., 0., 0., 0.],\n",
       "        [0., 0., 0., 0., 0., 0., 0., 0., 0., 0., 0., 0.]])}"
      ]
     },
     "execution_count": 26,
     "metadata": {},
     "output_type": "execute_result"
    }
   ],
   "source": [
    "midi = input.loadMidiFile('../midi/examples/monophonic/twinkle1_4b.mid')\r\n",
    "seq_input = midi_to_note_sequence(midi)\r\n",
    "\r\n",
    "metrics1 = mgeval.analyze_sequence(seq_input)\r\n",
    "metrics1"
   ]
  },
  {
   "cell_type": "markdown",
   "metadata": {},
   "source": [
    "# Generate New Sequence"
   ]
  },
  {
   "cell_type": "code",
   "execution_count": 7,
   "metadata": {},
   "outputs": [
    {
     "name": "stdout",
     "output_type": "stream",
     "text": [
      "{'gen_dur': 8.572552919387817, 'model': 'MusicVAE', 'checkpoint': 'cat-mel_2bar_big', 'temperature': 0.6}\n"
     ]
    }
   ],
   "source": [
    "seq_gen_base = vae.generate(16, 0.6)\n",
    "print(seq_gen_base['meta'])"
   ]
  },
  {
   "cell_type": "markdown",
   "metadata": {},
   "source": [
    "# Gen_base Analysis"
   ]
  },
  {
   "cell_type": "code",
   "execution_count": 8,
   "metadata": {},
   "outputs": [
    {
     "data": {
      "text/plain": [
       "{'pitch_count': 5,\n",
       " 'pitch_class_histogram': array([0.        , 0.        , 0.        , 0.        , 0.        ,\n",
       "        0.        , 0.04862024, 0.55847569, 0.21287779, 0.        ,\n",
       "        0.06570302, 0.11432326]),\n",
       " 'pitch_class_transition_matrix': array([[0., 0., 0., 0., 0., 0., 0., 0., 0., 0., 0., 0.],\n",
       "        [0., 0., 0., 0., 0., 0., 0., 0., 0., 0., 0., 0.],\n",
       "        [0., 0., 0., 0., 0., 0., 0., 0., 0., 0., 0., 0.],\n",
       "        [0., 0., 0., 0., 0., 0., 0., 0., 0., 0., 0., 0.],\n",
       "        [0., 0., 0., 0., 0., 0., 0., 0., 0., 0., 0., 0.],\n",
       "        [0., 0., 0., 0., 0., 0., 0., 0., 0., 0., 0., 0.],\n",
       "        [0., 0., 0., 0., 0., 0., 0., 0., 0., 0., 0., 0.],\n",
       "        [0., 0., 0., 0., 0., 0., 0., 0., 0., 0., 0., 0.],\n",
       "        [0., 0., 0., 0., 0., 0., 0., 1., 4., 0., 0., 0.],\n",
       "        [0., 0., 0., 0., 0., 0., 0., 0., 0., 0., 0., 0.],\n",
       "        [0., 0., 0., 0., 0., 0., 0., 0., 0., 0., 1., 0.],\n",
       "        [0., 0., 0., 0., 0., 0., 0., 0., 0., 0., 1., 0.]]),\n",
       " 'avg_pitch_interval': 0.8,\n",
       " 'pitch_range': 5,\n",
       " 'note_count': 11,\n",
       " 'note_length_histogram': array([0.07142857, 0.07142857, 0.07142857, 0.28571429, 0.14285714,\n",
       "        0.        , 0.        , 0.14285714, 0.        , 0.        ,\n",
       "        0.        , 0.        , 0.        , 0.        , 0.        ,\n",
       "        0.        , 0.21428571, 0.        , 0.        , 0.        ,\n",
       "        0.        , 0.        , 0.        , 0.        ]),\n",
       " 'note_length_transition_matrix': array([[0., 0., 0., 0., 0., 0., 0., 0., 0., 0., 0., 0., 0., 0., 0., 0.,\n",
       "         0., 0., 0., 0., 0., 0., 0., 0.],\n",
       "        [0., 0., 0., 0., 1., 0., 0., 0., 0., 0., 0., 0., 0., 0., 0., 0.,\n",
       "         0., 0., 0., 0., 0., 0., 0., 0.],\n",
       "        [0., 0., 0., 0., 0., 0., 0., 0., 0., 0., 0., 0., 0., 0., 0., 0.,\n",
       "         0., 0., 0., 0., 0., 0., 0., 0.],\n",
       "        [0., 0., 1., 1., 0., 0., 0., 0., 0., 0., 0., 0., 0., 0., 0., 2.,\n",
       "         0., 0., 0., 0., 0., 0., 0., 0.],\n",
       "        [1., 0., 0., 2., 1., 0., 0., 2., 0., 0., 0., 0., 0., 0., 0., 0.,\n",
       "         0., 0., 0., 0., 0., 0., 0., 0.],\n",
       "        [0., 0., 0., 0., 0., 0., 0., 0., 0., 0., 0., 0., 0., 0., 0., 0.,\n",
       "         0., 0., 0., 0., 0., 0., 0., 0.],\n",
       "        [0., 0., 0., 0., 0., 0., 0., 0., 0., 0., 0., 0., 0., 0., 0., 0.,\n",
       "         0., 0., 0., 0., 0., 0., 0., 0.],\n",
       "        [0., 0., 0., 1., 0., 0., 0., 0., 0., 0., 0., 0., 0., 0., 0., 0.,\n",
       "         0., 0., 0., 1., 0., 0., 0., 0.],\n",
       "        [0., 0., 0., 0., 0., 0., 0., 0., 0., 0., 0., 0., 0., 0., 0., 0.,\n",
       "         0., 0., 0., 0., 0., 0., 0., 0.],\n",
       "        [0., 0., 0., 0., 0., 0., 0., 0., 0., 0., 0., 0., 0., 0., 0., 0.,\n",
       "         0., 0., 0., 0., 0., 0., 0., 0.],\n",
       "        [0., 0., 0., 0., 0., 0., 0., 0., 0., 0., 0., 0., 0., 0., 0., 0.,\n",
       "         0., 0., 0., 0., 0., 0., 0., 0.],\n",
       "        [0., 0., 0., 0., 0., 0., 0., 0., 0., 0., 0., 0., 0., 0., 0., 0.,\n",
       "         0., 0., 0., 0., 0., 0., 0., 0.],\n",
       "        [0., 0., 0., 0., 0., 0., 0., 0., 0., 0., 0., 0., 0., 0., 0., 0.,\n",
       "         0., 0., 0., 0., 0., 0., 0., 0.],\n",
       "        [0., 0., 0., 0., 0., 0., 0., 0., 0., 0., 0., 0., 0., 0., 0., 0.,\n",
       "         0., 0., 0., 0., 0., 0., 0., 0.],\n",
       "        [0., 0., 0., 0., 0., 0., 0., 0., 0., 0., 0., 0., 0., 0., 0., 0.,\n",
       "         0., 0., 0., 0., 0., 0., 0., 0.],\n",
       "        [0., 0., 0., 0., 0., 0., 0., 0., 0., 0., 0., 0., 0., 0., 0., 0.,\n",
       "         0., 0., 0., 0., 0., 0., 0., 0.],\n",
       "        [0., 0., 0., 0., 0., 0., 0., 0., 0., 0., 0., 0., 0., 0., 0., 0.,\n",
       "         0., 0., 0., 0., 0., 0., 0., 0.],\n",
       "        [0., 0., 0., 0., 0., 0., 0., 0., 0., 0., 0., 0., 0., 0., 0., 0.,\n",
       "         0., 0., 0., 0., 0., 0., 0., 0.],\n",
       "        [0., 0., 0., 0., 0., 0., 0., 0., 0., 0., 0., 0., 0., 0., 0., 0.,\n",
       "         0., 0., 0., 0., 0., 0., 0., 0.],\n",
       "        [0., 0., 0., 0., 0., 0., 0., 0., 0., 0., 0., 0., 0., 0., 0., 0.,\n",
       "         0., 0., 0., 0., 0., 0., 0., 0.],\n",
       "        [0., 0., 0., 0., 0., 0., 0., 0., 0., 0., 0., 0., 0., 0., 0., 0.,\n",
       "         0., 0., 0., 0., 0., 0., 0., 0.],\n",
       "        [0., 0., 0., 0., 0., 0., 0., 0., 0., 0., 0., 0., 0., 0., 0., 0.,\n",
       "         0., 0., 0., 0., 0., 0., 0., 0.],\n",
       "        [0., 0., 0., 0., 0., 0., 0., 0., 0., 0., 0., 0., 0., 0., 0., 0.,\n",
       "         0., 0., 0., 0., 0., 0., 0., 0.],\n",
       "        [0., 0., 0., 0., 0., 0., 0., 0., 0., 0., 0., 0., 0., 0., 0., 0.,\n",
       "         0., 0., 0., 0., 0., 0., 0., 0.]]),\n",
       " 'avg_ioi': 0.375,\n",
       " 'ioi_histogram': array([0.        , 0.09090909, 0.09090909, 0.36363636, 0.27272727,\n",
       "        0.        , 0.        , 0.18181818, 0.        , 0.        ,\n",
       "        0.        , 0.        ]),\n",
       " 'ioi_transition_matrix': array([[0., 0., 0., 0., 0., 0., 0., 0., 0., 0., 0., 0.],\n",
       "        [0., 0., 0., 0., 1., 0., 0., 0., 0., 0., 0., 0.],\n",
       "        [0., 0., 0., 0., 1., 0., 0., 0., 0., 0., 0., 0.],\n",
       "        [0., 0., 1., 2., 1., 0., 0., 0., 0., 0., 0., 0.],\n",
       "        [0., 0., 0., 1., 0., 0., 0., 1., 0., 0., 0., 0.],\n",
       "        [0., 0., 0., 0., 0., 0., 0., 0., 0., 0., 0., 0.],\n",
       "        [0., 0., 0., 0., 0., 0., 0., 0., 0., 0., 0., 0.],\n",
       "        [0., 0., 0., 1., 0., 0., 0., 1., 0., 0., 0., 0.],\n",
       "        [0., 0., 0., 0., 0., 0., 0., 0., 0., 0., 0., 0.],\n",
       "        [0., 0., 0., 0., 0., 0., 0., 0., 0., 0., 0., 0.],\n",
       "        [0., 0., 0., 0., 0., 0., 0., 0., 0., 0., 0., 0.],\n",
       "        [0., 0., 0., 0., 0., 0., 0., 0., 0., 0., 0., 0.]])}"
      ]
     },
     "execution_count": 8,
     "metadata": {},
     "output_type": "execute_result"
    }
   ],
   "source": [
    "metrics2 = mgeval.analyze_sequence(seq_gen_base['sequence'])\n",
    "distances = mgeval.calc_distances(metrics1, metrics2)\n",
    "\n",
    "seq_gen_base['evaluation'] = {\n",
    "    'metrics': metrics2,\n",
    "    'distances_to_input': distances\n",
    "}\n",
    "\n",
    "metrics2"
   ]
  },
  {
   "cell_type": "markdown",
   "metadata": {},
   "source": [
    "## Example Plot: Note Length Transition Matrix"
   ]
  },
  {
   "cell_type": "code",
   "execution_count": 24,
   "metadata": {},
   "outputs": [
    {
     "name": "stdout",
     "output_type": "stream",
     "text": [
      "Note Length Transitions - Input\n"
     ]
    },
    {
     "data": {
      "image/png": "[encoded data removed]",
      "text/plain": [
       "<Figure size 432x288 with 2 Axes>"
      ]
     },
     "metadata": {
      "image/png": {
       "height": 254,
       "width": 390
      },
      "needs_background": "light"
     },
     "output_type": "display_data"
    }
   ],
   "source": [
    "df1 = pd.DataFrame(metrics1['ioi_transition_matrix'])\r\n",
    "corrplot(df1.corr(), size_scale=75)\r\n",
    "print(\"Note Length Transitions - Input\")"
   ]
  },
  {
   "cell_type": "code",
   "execution_count": 10,
   "metadata": {},
   "outputs": [
    {
     "name": "stdout",
     "output_type": "stream",
     "text": [
      "Note Length Transitions - Generation\n"
     ]
    },
    {
     "data": {
      "image/png": "[encoded data removed]",
      "text/plain": [
       "<Figure size 432x288 with 2 Axes>"
      ]
     },
     "metadata": {
      "image/png": {
       "height": 254,
       "width": 390
      },
      "needs_background": "light"
     },
     "output_type": "display_data"
    }
   ],
   "source": [
    "df2 = pd.DataFrame(metrics2['note_length_transition_matrix'])\n",
    "corrplot(df2.corr(), size_scale=75)\n",
    "print(\"Note Length Transitions - Generation\")"
   ]
  },
  {
   "cell_type": "markdown",
   "metadata": {},
   "source": [
    "## Piano Roll"
   ]
  },
  {
   "cell_type": "code",
   "execution_count": 11,
   "metadata": {},
   "outputs": [
    {
     "data": {
      "text/html": [
       "\n",
       "    <div class=\"bk-root\">\n",
       "        <a href=\"https://bokeh.org\" target=\"_blank\" class=\"bk-logo bk-logo-small bk-logo-notebook\"></a>\n",
       "        <span id=\"1092\">Loading BokehJS ...</span>\n",
       "    </div>"
      ]
     },
     "metadata": {},
     "output_type": "display_data"
    },
    {
     "data": {
      "application/javascript": "\n(function(root) {\n  function now() {\n    return new Date();\n  }\n\n  var force = true;\n\n  if (typeof root._bokeh_onload_callbacks === \"undefined\" || force === true) {\n    root._bokeh_onload_callbacks = [];\n    root._bokeh_is_loading = undefined;\n  }\n\n  var JS_MIME_TYPE = 'application/javascript';\n  var HTML_MIME_TYPE = 'text/html';\n  var EXEC_MIME_TYPE = 'application/vnd.bokehjs_exec.v0+json';\n  var CLASS_NAME = 'output_bokeh rendered_html';\n\n  /**\n   * Render data to the DOM node\n   */\n  function render(props, node) {\n    var script = document.createElement(\"script\");\n    node.appendChild(script);\n  }\n\n  /**\n   * Handle when an output is cleared or removed\n   */\n  function handleClearOutput(event, handle) {\n    var cell = handle.cell;\n\n    var id = cell.output_area._bokeh_element_id;\n    var server_id = cell.output_area._bokeh_server_id;\n    // Clean up Bokeh references\n    if (id != null && id in Bokeh.index) {\n      Bokeh.index[id].model.document.clear();\n      delete Bokeh.index[id];\n    }\n\n    if (server_id !== undefined) {\n      // Clean up Bokeh references\n      var cmd = \"from bokeh.io.state import curstate; print(curstate().uuid_to_server['\" + server_id + \"'].get_sessions()[0].document.roots[0]._id)\";\n      cell.notebook.kernel.execute(cmd, {\n        iopub: {\n          output: function(msg) {\n            var id = msg.content.text.trim();\n            if (id in Bokeh.index) {\n              Bokeh.index[id].model.document.clear();\n              delete Bokeh.index[id];\n            }\n          }\n        }\n      });\n      // Destroy server and session\n      var cmd = \"import bokeh.io.notebook as ion; ion.destroy_server('\" + server_id + \"')\";\n      cell.notebook.kernel.execute(cmd);\n    }\n  }\n\n  /**\n   * Handle when a new output is added\n   */\n  function handleAddOutput(event, handle) {\n    var output_area = handle.output_area;\n    var output = handle.output;\n\n    // limit handleAddOutput to display_data with EXEC_MIME_TYPE content only\n    if ((output.output_type != \"display_data\") || (!output.data.hasOwnProperty(EXEC_MIME_TYPE))) {\n      return\n    }\n\n    var toinsert = output_area.element.find(\".\" + CLASS_NAME.split(' ')[0]);\n\n    if (output.metadata[EXEC_MIME_TYPE][\"id\"] !== undefined) {\n      toinsert[toinsert.length - 1].firstChild.textContent = output.data[JS_MIME_TYPE];\n      // store reference to embed id on output_area\n      output_area._bokeh_element_id = output.metadata[EXEC_MIME_TYPE][\"id\"];\n    }\n    if (output.metadata[EXEC_MIME_TYPE][\"server_id\"] !== undefined) {\n      var bk_div = document.createElement(\"div\");\n      bk_div.innerHTML = output.data[HTML_MIME_TYPE];\n      var script_attrs = bk_div.children[0].attributes;\n      for (var i = 0; i < script_attrs.length; i++) {\n        toinsert[toinsert.length - 1].firstChild.setAttribute(script_attrs[i].name, script_attrs[i].value);\n        toinsert[toinsert.length - 1].firstChild.textContent = bk_div.children[0].textContent\n      }\n      // store reference to server id on output_area\n      output_area._bokeh_server_id = output.metadata[EXEC_MIME_TYPE][\"server_id\"];\n    }\n  }\n\n  function register_renderer(events, OutputArea) {\n\n    function append_mime(data, metadata, element) {\n      // create a DOM node to render to\n      var toinsert = this.create_output_subarea(\n        metadata,\n        CLASS_NAME,\n        EXEC_MIME_TYPE\n      );\n      this.keyboard_manager.register_events(toinsert);\n      // Render to node\n      var props = {data: data, metadata: metadata[EXEC_MIME_TYPE]};\n      render(props, toinsert[toinsert.length - 1]);\n      element.append(toinsert);\n      return toinsert\n    }\n\n    /* Handle when an output is cleared or removed */\n    events.on('clear_output.CodeCell', handleClearOutput);\n    events.on('delete.Cell', handleClearOutput);\n\n    /* Handle when a new output is added */\n    events.on('output_added.OutputArea', handleAddOutput);\n\n    /**\n     * Register the mime type and append_mime function with output_area\n     */\n    OutputArea.prototype.register_mime_type(EXEC_MIME_TYPE, append_mime, {\n      /* Is output safe? */\n      safe: true,\n      /* Index of renderer in `output_area.display_order` */\n      index: 0\n    });\n  }\n\n  // register the mime type if in Jupyter Notebook environment and previously unregistered\n  if (root.Jupyter !== undefined) {\n    var events = require('base/js/events');\n    var OutputArea = require('notebook/js/outputarea').OutputArea;\n\n    if (OutputArea.prototype.mime_types().indexOf(EXEC_MIME_TYPE) == -1) {\n      register_renderer(events, OutputArea);\n    }\n  }\n\n  \n  if (typeof (root._bokeh_timeout) === \"undefined\" || force === true) {\n    root._bokeh_timeout = Date.now() + 5000;\n    root._bokeh_failed_load = false;\n  }\n\n  var NB_LOAD_WARNING = {'data': {'text/html':\n     \"<div style='background-color: #fdd'>\\n\"+\n     \"<p>\\n\"+\n     \"BokehJS does not appear to have successfully loaded. If loading BokehJS from CDN, this \\n\"+\n     \"may be due to a slow or bad network connection. Possible fixes:\\n\"+\n     \"</p>\\n\"+\n     \"<ul>\\n\"+\n     \"<li>re-rerun `output_notebook()` to attempt to load from CDN again, or</li>\\n\"+\n     \"<li>use INLINE resources instead, as so:</li>\\n\"+\n     \"</ul>\\n\"+\n     \"<code>\\n\"+\n     \"from bokeh.resources import INLINE\\n\"+\n     \"output_notebook(resources=INLINE)\\n\"+\n     \"</code>\\n\"+\n     \"</div>\"}};\n\n  function display_loaded() {\n    var el = document.getElementById(\"1092\");\n    if (el != null) {\n      el.textContent = \"BokehJS is loading...\";\n    }\n    if (root.Bokeh !== undefined) {\n      if (el != null) {\n        el.textContent = \"BokehJS \" + root.Bokeh.version + \" successfully loaded.\";\n      }\n    } else if (Date.now() < root._bokeh_timeout) {\n      setTimeout(display_loaded, 100)\n    }\n  }\n\n\n  function run_callbacks() {\n    try {\n      root._bokeh_onload_callbacks.forEach(function(callback) {\n        if (callback != null)\n          callback();\n      });\n    } finally {\n      delete root._bokeh_onload_callbacks\n    }\n    console.debug(\"Bokeh: all callbacks have finished\");\n  }\n\n  function load_libs(css_urls, js_urls, callback) {\n    if (css_urls == null) css_urls = [];\n    if (js_urls == null) js_urls = [];\n\n    root._bokeh_onload_callbacks.push(callback);\n    if (root._bokeh_is_loading > 0) {\n      console.debug(\"Bokeh: BokehJS is being loaded, scheduling callback at\", now());\n      return null;\n    }\n    if (js_urls == null || js_urls.length === 0) {\n      run_callbacks();\n      return null;\n    }\n    console.debug(\"Bokeh: BokehJS not loaded, scheduling load and callback at\", now());\n    root._bokeh_is_loading = css_urls.length + js_urls.length;\n\n    function on_load() {\n      root._bokeh_is_loading--;\n      if (root._bokeh_is_loading === 0) {\n        console.debug(\"Bokeh: all BokehJS libraries/stylesheets loaded\");\n        run_callbacks()\n      }\n    }\n\n    function on_error() {\n      console.error(\"failed to load \" + url);\n    }\n\n    for (var i = 0; i < css_urls.length; i++) {\n      var url = css_urls[i];\n      const element = document.createElement(\"link\");\n      element.onload = on_load;\n      element.onerror = on_error;\n      element.rel = \"stylesheet\";\n      element.type = \"text/css\";\n      element.href = url;\n      console.debug(\"Bokeh: injecting link tag for BokehJS stylesheet: \", url);\n      document.body.appendChild(element);\n    }\n\n    const hashes = {\"https://cdn.bokeh.org/bokeh/release/bokeh-2.2.3.min.js\": \"T2yuo9Oe71Cz/I4X9Ac5+gpEa5a8PpJCDlqKYO0CfAuEszu1JrXLl8YugMqYe3sM\", \"https://cdn.bokeh.org/bokeh/release/bokeh-widgets-2.2.3.min.js\": \"98GDGJ0kOMCUMUePhksaQ/GYgB3+NH9h996V88sh3aOiUNX3N+fLXAtry6xctSZ6\", \"https://cdn.bokeh.org/bokeh/release/bokeh-tables-2.2.3.min.js\": \"89bArO+nlbP3sgakeHjCo1JYxYR5wufVgA3IbUvDY+K7w4zyxJqssu7wVnfeKCq8\"};\n\n    for (var i = 0; i < js_urls.length; i++) {\n      var url = js_urls[i];\n      var element = document.createElement('script');\n      element.onload = on_load;\n      element.onerror = on_error;\n      element.async = false;\n      element.src = url;\n      if (url in hashes) {\n        element.crossOrigin = \"anonymous\";\n        element.integrity = \"sha384-\" + hashes[url];\n      }\n      console.debug(\"Bokeh: injecting script tag for BokehJS library: \", url);\n      document.head.appendChild(element);\n    }\n  };\n\n  function inject_raw_css(css) {\n    const element = document.createElement(\"style\");\n    element.appendChild(document.createTextNode(css));\n    document.body.appendChild(element);\n  }\n\n  \n  var js_urls = [\"https://cdn.bokeh.org/bokeh/release/bokeh-2.2.3.min.js\", \"https://cdn.bokeh.org/bokeh/release/bokeh-widgets-2.2.3.min.js\", \"https://cdn.bokeh.org/bokeh/release/bokeh-tables-2.2.3.min.js\"];\n  var css_urls = [];\n  \n\n  var inline_js = [\n    function(Bokeh) {\n      Bokeh.set_log_level(\"info\");\n    },\n    function(Bokeh) {\n    \n    \n    }\n  ];\n\n  function run_inline_js() {\n    \n    if (root.Bokeh !== undefined || force === true) {\n      \n    for (var i = 0; i < inline_js.length; i++) {\n      inline_js[i].call(root, root.Bokeh);\n    }\n    if (force === true) {\n        display_loaded();\n      }} else if (Date.now() < root._bokeh_timeout) {\n      setTimeout(run_inline_js, 100);\n    } else if (!root._bokeh_failed_load) {\n      console.log(\"Bokeh: BokehJS failed to load within specified timeout.\");\n      root._bokeh_failed_load = true;\n    } else if (force !== true) {\n      var cell = $(document.getElementById(\"1092\")).parents('.cell').data().cell;\n      cell.output_area.append_execute_result(NB_LOAD_WARNING)\n    }\n\n  }\n\n  if (root._bokeh_is_loading === 0) {\n    console.debug(\"Bokeh: BokehJS loaded, going straight to plotting\");\n    run_inline_js();\n  } else {\n    load_libs(css_urls, js_urls, function() {\n      console.debug(\"Bokeh: BokehJS plotting callback run at\", now());\n      run_inline_js();\n    });\n  }\n}(window));",
      "application/vnd.bokehjs_load.v0+json": ""
     },
     "metadata": {},
     "output_type": "display_data"
    },
    {
     "data": {
      "text/html": [
       "\n",
       "\n",
       "\n",
       "\n",
       "\n",
       "\n",
       "  <div class=\"bk-root\" id=\"df74cc70-7780-469a-bd4b-4ec8c8495ca0\" data-root-id=\"1091\"></div>\n"
      ]
     },
     "metadata": {},
     "output_type": "display_data"
    },
    {
     "data": {
      "application/javascript": "(function(root) {\n  function embed_document(root) {\n    \n  var docs_json = {\"1d5f7160-4eeb-4889-acb0-3eef2358e594\":{\"roots\":{\"references\":[{\"attributes\":{\"children\":[{\"id\":\"1001\"}]},\"id\":\"1091\",\"type\":\"Column\"},{\"attributes\":{\"bottom\":60,\"fill_alpha\":0.15,\"fill_color\":\"gray\",\"level\":\"underlay\",\"line_color\":\"black\",\"top\":61},\"id\":\"1061\",\"type\":\"BoxAnnotation\"},{\"attributes\":{\"fill_color\":null,\"left\":2.5,\"level\":\"underlay\",\"line_alpha\":0.4,\"line_color\":\"black\",\"right\":3.0},\"id\":\"1072\",\"type\":\"BoxAnnotation\"},{\"attributes\":{},\"id\":\"1033\",\"type\":\"BasicTickFormatter\"},{\"attributes\":{\"bottom\":55,\"fill_alpha\":0.0,\"fill_color\":\"gray\",\"level\":\"underlay\",\"line_color\":\"black\",\"top\":56},\"id\":\"1051\",\"type\":\"BoxAnnotation\"},{\"attributes\":{\"end\":61,\"start\":50},\"id\":\"1090\",\"type\":\"Range1d\"},{\"attributes\":{\"interval\":1},\"id\":\"1085\",\"type\":\"SingleIntervalTicker\"},{\"attributes\":{\"render_mode\":\"css\",\"text\":\"51\",\"text_font_size\":\"10px\",\"x\":-18,\"x_units\":\"screen\",\"y\":51.1},\"id\":\"1044\",\"type\":\"Label\"},{\"attributes\":{\"render_mode\":\"css\",\"text\":\"54\",\"text_font_size\":\"10px\",\"x\":-18,\"x_units\":\"screen\",\"y\":54.1},\"id\":\"1050\",\"type\":\"Label\"},{\"attributes\":{\"render_mode\":\"css\",\"text\":\"59\",\"text_font_size\":\"10px\",\"x\":-18,\"x_units\":\"screen\",\"y\":59.1},\"id\":\"1060\",\"type\":\"Label\"},{\"attributes\":{\"render_mode\":\"css\",\"text\":\"52\",\"text_font_size\":\"10px\",\"x\":-18,\"x_units\":\"screen\",\"y\":52.1},\"id\":\"1046\",\"type\":\"Label\"},{\"attributes\":{\"bottom\":{\"field\":\"bottom\"},\"fill_color\":{\"field\":\"color\"},\"left\":{\"field\":\"left\"},\"right\":{\"field\":\"right\"},\"top\":{\"field\":\"top\"}},\"id\":\"1037\",\"type\":\"Quad\"},{\"attributes\":{\"render_mode\":\"css\",\"text\":\"55\",\"text_font_size\":\"10px\",\"x\":-18,\"x_units\":\"screen\",\"y\":55.1},\"id\":\"1052\",\"type\":\"Label\"},{\"attributes\":{\"fill_color\":null,\"left\":3.0,\"level\":\"underlay\",\"line_alpha\":0.4,\"line_color\":\"black\",\"right\":3.5},\"id\":\"1073\",\"type\":\"BoxAnnotation\"},{\"attributes\":{\"render_mode\":\"css\",\"text\":\"60\",\"text_font_size\":\"10px\",\"x\":-18,\"x_units\":\"screen\",\"y\":60.1},\"id\":\"1062\",\"type\":\"Label\"},{\"attributes\":{\"fill_color\":null,\"left\":3.5,\"level\":\"underlay\",\"line_alpha\":0.4,\"line_color\":\"black\",\"right\":4.0},\"id\":\"1074\",\"type\":\"BoxAnnotation\"},{\"attributes\":{\"axis_label\":\"time (SEC)\",\"axis_label_text_font_size\":\"12px\",\"bounds\":[0.0,8.0],\"formatter\":{\"id\":\"1033\"},\"major_label_text_font_size\":\"10px\",\"major_tick_line_alpha\":0.9,\"major_tick_out\":5,\"minor_tick_line_alpha\":0,\"ticker\":{\"id\":\"1083\"}},\"id\":\"1010\",\"type\":\"LinearAxis\"},{\"attributes\":{\"bottom\":56,\"fill_alpha\":0.15,\"fill_color\":\"gray\",\"level\":\"underlay\",\"line_color\":\"black\",\"top\":57},\"id\":\"1053\",\"type\":\"BoxAnnotation\"},{\"attributes\":{\"fill_color\":null,\"left\":4.0,\"level\":\"underlay\",\"line_alpha\":0.4,\"line_color\":\"black\",\"right\":4.5},\"id\":\"1075\",\"type\":\"BoxAnnotation\"},{\"attributes\":{},\"id\":\"1020\",\"type\":\"SaveTool\"},{\"attributes\":{\"render_mode\":\"css\",\"text\":\"50\",\"text_font_size\":\"10px\",\"x\":-18,\"x_units\":\"screen\",\"y\":50.1},\"id\":\"1042\",\"type\":\"Label\"},{\"attributes\":{\"fill_color\":null,\"left\":2.0,\"level\":\"underlay\",\"line_alpha\":0.4,\"line_color\":\"black\",\"right\":2.5},\"id\":\"1071\",\"type\":\"BoxAnnotation\"},{\"attributes\":{\"data_source\":{\"id\":\"1035\"},\"glyph\":{\"id\":\"1037\"},\"hover_glyph\":null,\"muted_glyph\":null,\"nonselection_glyph\":{\"id\":\"1038\"},\"selection_glyph\":null,\"view\":{\"id\":\"1040\"}},\"id\":\"1039\",\"type\":\"GlyphRenderer\"},{\"attributes\":{\"interval\":1},\"id\":\"1083\",\"type\":\"SingleIntervalTicker\"},{\"attributes\":{\"fill_color\":null,\"left\":4.5,\"level\":\"underlay\",\"line_alpha\":0.4,\"line_color\":\"black\",\"right\":5.0},\"id\":\"1076\",\"type\":\"BoxAnnotation\"},{\"attributes\":{\"active_drag\":\"auto\",\"active_inspect\":\"auto\",\"active_multi\":null,\"active_scroll\":\"auto\",\"active_tap\":\"auto\",\"tools\":[{\"id\":\"1018\"},{\"id\":\"1019\"},{\"id\":\"1020\"},{\"id\":\"1021\"},{\"id\":\"1022\"}]},\"id\":\"1023\",\"type\":\"Toolbar\"},{\"attributes\":{\"render_mode\":\"css\",\"text\":\"56\",\"text_font_size\":\"10px\",\"x\":-18,\"x_units\":\"screen\",\"y\":56.1},\"id\":\"1054\",\"type\":\"Label\"},{\"attributes\":{\"fill_color\":null,\"left\":0.5,\"level\":\"underlay\",\"line_alpha\":0.4,\"line_color\":\"black\",\"right\":1.0},\"id\":\"1068\",\"type\":\"BoxAnnotation\"},{\"attributes\":{\"source\":{\"id\":\"1035\"}},\"id\":\"1040\",\"type\":\"CDSView\"},{\"attributes\":{\"fill_color\":null,\"left\":5.0,\"level\":\"underlay\",\"line_alpha\":0.4,\"line_color\":\"black\",\"right\":5.5},\"id\":\"1077\",\"type\":\"BoxAnnotation\"},{\"attributes\":{\"fill_alpha\":0.25,\"fill_color\":\"gray\",\"left\":0.0,\"level\":\"underlay\",\"line_alpha\":0.5,\"line_color\":\"black\",\"line_width\":2,\"right\":2.0},\"id\":\"1063\",\"type\":\"BoxAnnotation\"},{\"attributes\":{\"bottom\":57,\"fill_alpha\":0.0,\"fill_color\":\"gray\",\"level\":\"underlay\",\"line_color\":\"black\",\"top\":58},\"id\":\"1055\",\"type\":\"BoxAnnotation\"},{\"attributes\":{\"fill_color\":null,\"left\":5.5,\"level\":\"underlay\",\"line_alpha\":0.4,\"line_color\":\"black\",\"right\":6.0},\"id\":\"1078\",\"type\":\"BoxAnnotation\"},{\"attributes\":{},\"id\":\"1018\",\"type\":\"ResetTool\"},{\"attributes\":{\"axis\":{\"id\":\"1010\"},\"grid_line_color\":null,\"ticker\":null},\"id\":\"1013\",\"type\":\"Grid\"},{\"attributes\":{\"bottom\":52,\"fill_alpha\":0.15,\"fill_color\":\"gray\",\"level\":\"underlay\",\"line_color\":\"black\",\"top\":53},\"id\":\"1045\",\"type\":\"BoxAnnotation\"},{\"attributes\":{\"axis_label\":\"pitch (MIDI)\",\"axis_label_standoff\":0,\"axis_label_text_font_size\":\"12px\",\"bounds\":[50,61],\"formatter\":{\"id\":\"1031\"},\"major_label_text_alpha\":0,\"major_tick_line_alpha\":0.9,\"major_tick_out\":25,\"minor_tick_line_alpha\":0,\"ticker\":{\"id\":\"1085\"}},\"id\":\"1014\",\"type\":\"LinearAxis\"},{\"attributes\":{\"below\":[{\"id\":\"1010\"}],\"center\":[{\"id\":\"1013\"},{\"id\":\"1017\"},{\"id\":\"1041\"},{\"id\":\"1042\"},{\"id\":\"1043\"},{\"id\":\"1044\"},{\"id\":\"1045\"},{\"id\":\"1046\"},{\"id\":\"1047\"},{\"id\":\"1048\"},{\"id\":\"1049\"},{\"id\":\"1050\"},{\"id\":\"1051\"},{\"id\":\"1052\"},{\"id\":\"1053\"},{\"id\":\"1054\"},{\"id\":\"1055\"},{\"id\":\"1056\"},{\"id\":\"1057\"},{\"id\":\"1058\"},{\"id\":\"1059\"},{\"id\":\"1060\"},{\"id\":\"1061\"},{\"id\":\"1062\"},{\"id\":\"1063\"},{\"id\":\"1064\"},{\"id\":\"1065\"},{\"id\":\"1066\"},{\"id\":\"1067\"},{\"id\":\"1068\"},{\"id\":\"1069\"},{\"id\":\"1070\"},{\"id\":\"1071\"},{\"id\":\"1072\"},{\"id\":\"1073\"},{\"id\":\"1074\"},{\"id\":\"1075\"},{\"id\":\"1076\"},{\"id\":\"1077\"},{\"id\":\"1078\"},{\"id\":\"1079\"},{\"id\":\"1080\"},{\"id\":\"1081\"},{\"id\":\"1082\"}],\"left\":[{\"id\":\"1014\"}],\"min_border_right\":50,\"outline_line_color\":\"black\",\"plot_height\":400,\"plot_width\":1200,\"renderers\":[{\"id\":\"1039\"}],\"title\":{\"id\":\"1087\"},\"toolbar\":{\"id\":\"1023\"},\"x_range\":{\"id\":\"1089\"},\"x_scale\":{\"id\":\"1006\"},\"y_range\":{\"id\":\"1090\"},\"y_scale\":{\"id\":\"1008\"}},\"id\":\"1001\",\"subtype\":\"Figure\",\"type\":\"Plot\"},{\"attributes\":{\"fill_color\":null,\"left\":6.0,\"level\":\"underlay\",\"line_alpha\":0.4,\"line_color\":\"black\",\"right\":6.5},\"id\":\"1079\",\"type\":\"BoxAnnotation\"},{\"attributes\":{\"callback\":null,\"tooltips\":[[\"program\",\"@program\"],[\"pitch\",\"@top\"],[\"velocity\",\"@velocity\"],[\"duration\",\"@duration\"],[\"start_time\",\"@left\"],[\"end_time\",\"@right\"]]},\"id\":\"1019\",\"type\":\"HoverTool\"},{\"attributes\":{\"bottom\":50,\"fill_alpha\":0.15,\"fill_color\":\"gray\",\"level\":\"underlay\",\"line_color\":\"black\",\"top\":51},\"id\":\"1041\",\"type\":\"BoxAnnotation\"},{\"attributes\":{\"fill_alpha\":0.05,\"fill_color\":\"gray\",\"left\":2.0,\"level\":\"underlay\",\"line_alpha\":0.5,\"line_color\":\"black\",\"line_width\":2,\"right\":4.0},\"id\":\"1064\",\"type\":\"BoxAnnotation\"},{\"attributes\":{},\"id\":\"1021\",\"type\":\"WheelZoomTool\"},{\"attributes\":{\"bottom\":53,\"fill_alpha\":0.0,\"fill_color\":\"gray\",\"level\":\"underlay\",\"line_color\":\"black\",\"top\":54},\"id\":\"1047\",\"type\":\"BoxAnnotation\"},{\"attributes\":{\"fill_color\":null,\"left\":6.5,\"level\":\"underlay\",\"line_alpha\":0.4,\"line_color\":\"black\",\"right\":7.0},\"id\":\"1080\",\"type\":\"BoxAnnotation\"},{\"attributes\":{},\"id\":\"1022\",\"type\":\"PanTool\"},{\"attributes\":{},\"id\":\"1031\",\"type\":\"BasicTickFormatter\"},{\"attributes\":{\"fill_color\":null,\"left\":7.0,\"level\":\"underlay\",\"line_alpha\":0.4,\"line_color\":\"black\",\"right\":7.5},\"id\":\"1081\",\"type\":\"BoxAnnotation\"},{\"attributes\":{\"bottom\":58,\"fill_alpha\":0.15,\"fill_color\":\"gray\",\"level\":\"underlay\",\"line_color\":\"black\",\"top\":59},\"id\":\"1057\",\"type\":\"BoxAnnotation\"},{\"attributes\":{\"fill_alpha\":0.25,\"fill_color\":\"gray\",\"left\":4.0,\"level\":\"underlay\",\"line_alpha\":0.5,\"line_color\":\"black\",\"line_width\":2,\"right\":6.0},\"id\":\"1065\",\"type\":\"BoxAnnotation\"},{\"attributes\":{\"bottom\":54,\"fill_alpha\":0.15,\"fill_color\":\"gray\",\"level\":\"underlay\",\"line_color\":\"black\",\"top\":55},\"id\":\"1049\",\"type\":\"BoxAnnotation\"},{\"attributes\":{\"fill_color\":null,\"left\":7.5,\"level\":\"underlay\",\"line_alpha\":0.4,\"line_color\":\"black\",\"right\":8.0},\"id\":\"1082\",\"type\":\"BoxAnnotation\"},{\"attributes\":{\"render_mode\":\"css\",\"text\":\"57\",\"text_font_size\":\"10px\",\"x\":-18,\"x_units\":\"screen\",\"y\":57.1},\"id\":\"1056\",\"type\":\"Label\"},{\"attributes\":{\"fill_alpha\":0.05,\"fill_color\":\"gray\",\"left\":6.0,\"level\":\"underlay\",\"line_alpha\":0.5,\"line_color\":\"black\",\"line_width\":2,\"right\":8.0},\"id\":\"1066\",\"type\":\"BoxAnnotation\"},{\"attributes\":{\"fill_color\":null,\"left\":1.5,\"level\":\"underlay\",\"line_alpha\":0.4,\"line_color\":\"black\",\"right\":2.0},\"id\":\"1070\",\"type\":\"BoxAnnotation\"},{\"attributes\":{},\"id\":\"1006\",\"type\":\"LinearScale\"},{\"attributes\":{\"text\":\"Visual MIDI (120 QPM, 4/4)\",\"text_font_size\":{\"value\":\"14px\"}},\"id\":\"1087\",\"type\":\"Title\"},{\"attributes\":{\"fill_color\":null,\"left\":0.0,\"level\":\"underlay\",\"line_alpha\":0.4,\"line_color\":\"black\",\"right\":0.5},\"id\":\"1067\",\"type\":\"BoxAnnotation\"},{\"attributes\":{\"end\":8.0},\"id\":\"1089\",\"type\":\"Range1d\"},{\"attributes\":{\"bottom\":{\"field\":\"bottom\"},\"fill_alpha\":{\"value\":0.1},\"fill_color\":{\"field\":\"color\"},\"left\":{\"field\":\"left\"},\"line_alpha\":{\"value\":0.1},\"right\":{\"field\":\"right\"},\"top\":{\"field\":\"top\"}},\"id\":\"1038\",\"type\":\"Quad\"},{\"attributes\":{},\"id\":\"1096\",\"type\":\"UnionRenderers\"},{\"attributes\":{},\"id\":\"1008\",\"type\":\"LinearScale\"},{\"attributes\":{\"bottom\":59,\"fill_alpha\":0.0,\"fill_color\":\"gray\",\"level\":\"underlay\",\"line_color\":\"black\",\"top\":60},\"id\":\"1059\",\"type\":\"BoxAnnotation\"},{\"attributes\":{},\"id\":\"1097\",\"type\":\"Selection\"},{\"attributes\":{\"bottom\":51,\"fill_alpha\":0.0,\"fill_color\":\"gray\",\"level\":\"underlay\",\"line_color\":\"black\",\"top\":52},\"id\":\"1043\",\"type\":\"BoxAnnotation\"},{\"attributes\":{\"render_mode\":\"css\",\"text\":\"53\",\"text_font_size\":\"10px\",\"x\":-18,\"x_units\":\"screen\",\"y\":53.1},\"id\":\"1048\",\"type\":\"Label\"},{\"attributes\":{\"fill_color\":null,\"left\":1.0,\"level\":\"underlay\",\"line_alpha\":0.4,\"line_color\":\"black\",\"right\":1.5},\"id\":\"1069\",\"type\":\"BoxAnnotation\"},{\"attributes\":{\"data\":{\"bottom\":[52.90551181102362,54.90551181102362,55.90551181102362,51.90551181102362,52.90551181102362,54.90551181102362,55.90551181102362,60.90551181102362,59.90551181102362,52.90551181102362,55.90551181102362,59.90551181102362,58.90551181102362,57.90551181102362,55.90551181102362,52.90551181102362,50.90551181102362,52.90551181102362,51.90551181102362],\"color\":[\"rgb(141, 129, 217)\",\"rgb(255, 255, 255)\",\"rgb(235, 223, 235)\",\"rgb(90, 77, 174)\",\"rgb(141, 129, 217)\",\"rgb(255, 255, 255)\",\"rgb(235, 223, 235)\",\"rgb(255, 51, 255)\",\"rgb(255, 51, 255)\",\"rgb(141, 129, 217)\",\"rgb(235, 223, 235)\",\"rgb(255, 51, 255)\",\"rgb(228, 153, 226)\",\"rgb(244, 175, 244)\",\"rgb(235, 223, 235)\",\"rgb(141, 129, 217)\",\"rgb(106, 0, 181)\",\"rgb(141, 129, 217)\",\"rgb(90, 77, 174)\"],\"duration\":[0.16666666666666666,0.16666666666666663,0.16666666666666674,0.16666666666666674,0.16666666666666652,0.16666666666666652,0.16666666666666652,0.16666666666666652,0.16666666666666652,0.16666666666666652,0.16666666666666652,0.16666666666666652,1.166666666666667,0.16666666666666607,0.16666666666666696,0.16666666666666696,0.16666666666666607,1.666666666666667,0.16666666666666696],\"left\":[0.0,0.8333333333333334,1.0,1.8333333333333333,2.0,2.3333333333333335,2.5,2.8333333333333335,3.0,3.3333333333333335,3.5,3.8333333333333335,4.0,5.166666666666667,5.333333333333333,5.5,5.666666666666667,5.833333333333333,7.833333333333333],\"program\":[0,0,0,0,0,0,0,0,0,0,0,0,0,0,0,0,0,0,0],\"right\":[0.16666666666666666,1.0,1.1666666666666667,2.0,2.1666666666666665,2.5,2.6666666666666665,3.0,3.1666666666666665,3.5,3.6666666666666665,4.0,5.166666666666667,5.333333333333333,5.5,5.666666666666667,5.833333333333333,7.5,8.0],\"top\":[52,54,55,51,52,54,55,60,59,52,55,59,58,57,55,52,50,52,51],\"velocity\":[115,115,115,115,115,115,115,115,115,115,115,115,115,115,115,115,115,115,115]},\"selected\":{\"id\":\"1097\"},\"selection_policy\":{\"id\":\"1096\"}},\"id\":\"1035\",\"type\":\"ColumnDataSource\"},{\"attributes\":{\"render_mode\":\"css\",\"text\":\"58\",\"text_font_size\":\"10px\",\"x\":-18,\"x_units\":\"screen\",\"y\":58.1},\"id\":\"1058\",\"type\":\"Label\"},{\"attributes\":{\"axis\":{\"id\":\"1014\"},\"dimension\":1,\"grid_line_color\":null,\"ticker\":null},\"id\":\"1017\",\"type\":\"Grid\"}],\"root_ids\":[\"1091\"]},\"title\":\"Bokeh Application\",\"version\":\"2.2.3\"}};\n  var render_items = [{\"docid\":\"1d5f7160-4eeb-4889-acb0-3eef2358e594\",\"root_ids\":[\"1091\"],\"roots\":{\"1091\":\"df74cc70-7780-469a-bd4b-4ec8c8495ca0\"}}];\n  root.Bokeh.embed.embed_items_notebook(docs_json, render_items);\n\n  }\n  if (root.Bokeh !== undefined) {\n    embed_document(root);\n  } else {\n    var attempts = 0;\n    var timer = setInterval(function(root) {\n      if (root.Bokeh !== undefined) {\n        clearInterval(timer);\n        embed_document(root);\n      } else {\n        attempts++;\n        if (attempts > 100) {\n          clearInterval(timer);\n          console.log(\"Bokeh: ERROR: Unable to run BokehJS code because BokehJS library is missing\");\n        }\n      }\n    }, 10, root)\n  }\n})(window);",
      "application/vnd.bokehjs_exec.v0+json": ""
     },
     "metadata": {
      "application/vnd.bokehjs_exec.v0+json": {
       "id": "1091"
      }
     },
     "output_type": "display_data"
    },
    {
     "data": {
      "text/html": [
       "\n",
       "    <div class=\"bk-root\">\n",
       "        <a href=\"https://bokeh.org\" target=\"_blank\" class=\"bk-logo bk-logo-small bk-logo-notebook\"></a>\n",
       "        <span id=\"1204\">Loading BokehJS ...</span>\n",
       "    </div>"
      ]
     },
     "metadata": {},
     "output_type": "display_data"
    },
    {
     "data": {
      "application/javascript": "\n(function(root) {\n  function now() {\n    return new Date();\n  }\n\n  var force = true;\n\n  if (typeof root._bokeh_onload_callbacks === \"undefined\" || force === true) {\n    root._bokeh_onload_callbacks = [];\n    root._bokeh_is_loading = undefined;\n  }\n\n  var JS_MIME_TYPE = 'application/javascript';\n  var HTML_MIME_TYPE = 'text/html';\n  var EXEC_MIME_TYPE = 'application/vnd.bokehjs_exec.v0+json';\n  var CLASS_NAME = 'output_bokeh rendered_html';\n\n  /**\n   * Render data to the DOM node\n   */\n  function render(props, node) {\n    var script = document.createElement(\"script\");\n    node.appendChild(script);\n  }\n\n  /**\n   * Handle when an output is cleared or removed\n   */\n  function handleClearOutput(event, handle) {\n    var cell = handle.cell;\n\n    var id = cell.output_area._bokeh_element_id;\n    var server_id = cell.output_area._bokeh_server_id;\n    // Clean up Bokeh references\n    if (id != null && id in Bokeh.index) {\n      Bokeh.index[id].model.document.clear();\n      delete Bokeh.index[id];\n    }\n\n    if (server_id !== undefined) {\n      // Clean up Bokeh references\n      var cmd = \"from bokeh.io.state import curstate; print(curstate().uuid_to_server['\" + server_id + \"'].get_sessions()[0].document.roots[0]._id)\";\n      cell.notebook.kernel.execute(cmd, {\n        iopub: {\n          output: function(msg) {\n            var id = msg.content.text.trim();\n            if (id in Bokeh.index) {\n              Bokeh.index[id].model.document.clear();\n              delete Bokeh.index[id];\n            }\n          }\n        }\n      });\n      // Destroy server and session\n      var cmd = \"import bokeh.io.notebook as ion; ion.destroy_server('\" + server_id + \"')\";\n      cell.notebook.kernel.execute(cmd);\n    }\n  }\n\n  /**\n   * Handle when a new output is added\n   */\n  function handleAddOutput(event, handle) {\n    var output_area = handle.output_area;\n    var output = handle.output;\n\n    // limit handleAddOutput to display_data with EXEC_MIME_TYPE content only\n    if ((output.output_type != \"display_data\") || (!output.data.hasOwnProperty(EXEC_MIME_TYPE))) {\n      return\n    }\n\n    var toinsert = output_area.element.find(\".\" + CLASS_NAME.split(' ')[0]);\n\n    if (output.metadata[EXEC_MIME_TYPE][\"id\"] !== undefined) {\n      toinsert[toinsert.length - 1].firstChild.textContent = output.data[JS_MIME_TYPE];\n      // store reference to embed id on output_area\n      output_area._bokeh_element_id = output.metadata[EXEC_MIME_TYPE][\"id\"];\n    }\n    if (output.metadata[EXEC_MIME_TYPE][\"server_id\"] !== undefined) {\n      var bk_div = document.createElement(\"div\");\n      bk_div.innerHTML = output.data[HTML_MIME_TYPE];\n      var script_attrs = bk_div.children[0].attributes;\n      for (var i = 0; i < script_attrs.length; i++) {\n        toinsert[toinsert.length - 1].firstChild.setAttribute(script_attrs[i].name, script_attrs[i].value);\n        toinsert[toinsert.length - 1].firstChild.textContent = bk_div.children[0].textContent\n      }\n      // store reference to server id on output_area\n      output_area._bokeh_server_id = output.metadata[EXEC_MIME_TYPE][\"server_id\"];\n    }\n  }\n\n  function register_renderer(events, OutputArea) {\n\n    function append_mime(data, metadata, element) {\n      // create a DOM node to render to\n      var toinsert = this.create_output_subarea(\n        metadata,\n        CLASS_NAME,\n        EXEC_MIME_TYPE\n      );\n      this.keyboard_manager.register_events(toinsert);\n      // Render to node\n      var props = {data: data, metadata: metadata[EXEC_MIME_TYPE]};\n      render(props, toinsert[toinsert.length - 1]);\n      element.append(toinsert);\n      return toinsert\n    }\n\n    /* Handle when an output is cleared or removed */\n    events.on('clear_output.CodeCell', handleClearOutput);\n    events.on('delete.Cell', handleClearOutput);\n\n    /* Handle when a new output is added */\n    events.on('output_added.OutputArea', handleAddOutput);\n\n    /**\n     * Register the mime type and append_mime function with output_area\n     */\n    OutputArea.prototype.register_mime_type(EXEC_MIME_TYPE, append_mime, {\n      /* Is output safe? */\n      safe: true,\n      /* Index of renderer in `output_area.display_order` */\n      index: 0\n    });\n  }\n\n  // register the mime type if in Jupyter Notebook environment and previously unregistered\n  if (root.Jupyter !== undefined) {\n    var events = require('base/js/events');\n    var OutputArea = require('notebook/js/outputarea').OutputArea;\n\n    if (OutputArea.prototype.mime_types().indexOf(EXEC_MIME_TYPE) == -1) {\n      register_renderer(events, OutputArea);\n    }\n  }\n\n  \n  if (typeof (root._bokeh_timeout) === \"undefined\" || force === true) {\n    root._bokeh_timeout = Date.now() + 5000;\n    root._bokeh_failed_load = false;\n  }\n\n  var NB_LOAD_WARNING = {'data': {'text/html':\n     \"<div style='background-color: #fdd'>\\n\"+\n     \"<p>\\n\"+\n     \"BokehJS does not appear to have successfully loaded. If loading BokehJS from CDN, this \\n\"+\n     \"may be due to a slow or bad network connection. Possible fixes:\\n\"+\n     \"</p>\\n\"+\n     \"<ul>\\n\"+\n     \"<li>re-rerun `output_notebook()` to attempt to load from CDN again, or</li>\\n\"+\n     \"<li>use INLINE resources instead, as so:</li>\\n\"+\n     \"</ul>\\n\"+\n     \"<code>\\n\"+\n     \"from bokeh.resources import INLINE\\n\"+\n     \"output_notebook(resources=INLINE)\\n\"+\n     \"</code>\\n\"+\n     \"</div>\"}};\n\n  function display_loaded() {\n    var el = document.getElementById(\"1204\");\n    if (el != null) {\n      el.textContent = \"BokehJS is loading...\";\n    }\n    if (root.Bokeh !== undefined) {\n      if (el != null) {\n        el.textContent = \"BokehJS \" + root.Bokeh.version + \" successfully loaded.\";\n      }\n    } else if (Date.now() < root._bokeh_timeout) {\n      setTimeout(display_loaded, 100)\n    }\n  }\n\n\n  function run_callbacks() {\n    try {\n      root._bokeh_onload_callbacks.forEach(function(callback) {\n        if (callback != null)\n          callback();\n      });\n    } finally {\n      delete root._bokeh_onload_callbacks\n    }\n    console.debug(\"Bokeh: all callbacks have finished\");\n  }\n\n  function load_libs(css_urls, js_urls, callback) {\n    if (css_urls == null) css_urls = [];\n    if (js_urls == null) js_urls = [];\n\n    root._bokeh_onload_callbacks.push(callback);\n    if (root._bokeh_is_loading > 0) {\n      console.debug(\"Bokeh: BokehJS is being loaded, scheduling callback at\", now());\n      return null;\n    }\n    if (js_urls == null || js_urls.length === 0) {\n      run_callbacks();\n      return null;\n    }\n    console.debug(\"Bokeh: BokehJS not loaded, scheduling load and callback at\", now());\n    root._bokeh_is_loading = css_urls.length + js_urls.length;\n\n    function on_load() {\n      root._bokeh_is_loading--;\n      if (root._bokeh_is_loading === 0) {\n        console.debug(\"Bokeh: all BokehJS libraries/stylesheets loaded\");\n        run_callbacks()\n      }\n    }\n\n    function on_error() {\n      console.error(\"failed to load \" + url);\n    }\n\n    for (var i = 0; i < css_urls.length; i++) {\n      var url = css_urls[i];\n      const element = document.createElement(\"link\");\n      element.onload = on_load;\n      element.onerror = on_error;\n      element.rel = \"stylesheet\";\n      element.type = \"text/css\";\n      element.href = url;\n      console.debug(\"Bokeh: injecting link tag for BokehJS stylesheet: \", url);\n      document.body.appendChild(element);\n    }\n\n    const hashes = {\"https://cdn.bokeh.org/bokeh/release/bokeh-2.2.3.min.js\": \"T2yuo9Oe71Cz/I4X9Ac5+gpEa5a8PpJCDlqKYO0CfAuEszu1JrXLl8YugMqYe3sM\", \"https://cdn.bokeh.org/bokeh/release/bokeh-widgets-2.2.3.min.js\": \"98GDGJ0kOMCUMUePhksaQ/GYgB3+NH9h996V88sh3aOiUNX3N+fLXAtry6xctSZ6\", \"https://cdn.bokeh.org/bokeh/release/bokeh-tables-2.2.3.min.js\": \"89bArO+nlbP3sgakeHjCo1JYxYR5wufVgA3IbUvDY+K7w4zyxJqssu7wVnfeKCq8\"};\n\n    for (var i = 0; i < js_urls.length; i++) {\n      var url = js_urls[i];\n      var element = document.createElement('script');\n      element.onload = on_load;\n      element.onerror = on_error;\n      element.async = false;\n      element.src = url;\n      if (url in hashes) {\n        element.crossOrigin = \"anonymous\";\n        element.integrity = \"sha384-\" + hashes[url];\n      }\n      console.debug(\"Bokeh: injecting script tag for BokehJS library: \", url);\n      document.head.appendChild(element);\n    }\n  };\n\n  function inject_raw_css(css) {\n    const element = document.createElement(\"style\");\n    element.appendChild(document.createTextNode(css));\n    document.body.appendChild(element);\n  }\n\n  \n  var js_urls = [\"https://cdn.bokeh.org/bokeh/release/bokeh-2.2.3.min.js\", \"https://cdn.bokeh.org/bokeh/release/bokeh-widgets-2.2.3.min.js\", \"https://cdn.bokeh.org/bokeh/release/bokeh-tables-2.2.3.min.js\"];\n  var css_urls = [];\n  \n\n  var inline_js = [\n    function(Bokeh) {\n      Bokeh.set_log_level(\"info\");\n    },\n    function(Bokeh) {\n    \n    \n    }\n  ];\n\n  function run_inline_js() {\n    \n    if (root.Bokeh !== undefined || force === true) {\n      \n    for (var i = 0; i < inline_js.length; i++) {\n      inline_js[i].call(root, root.Bokeh);\n    }\n    if (force === true) {\n        display_loaded();\n      }} else if (Date.now() < root._bokeh_timeout) {\n      setTimeout(run_inline_js, 100);\n    } else if (!root._bokeh_failed_load) {\n      console.log(\"Bokeh: BokehJS failed to load within specified timeout.\");\n      root._bokeh_failed_load = true;\n    } else if (force !== true) {\n      var cell = $(document.getElementById(\"1204\")).parents('.cell').data().cell;\n      cell.output_area.append_execute_result(NB_LOAD_WARNING)\n    }\n\n  }\n\n  if (root._bokeh_is_loading === 0) {\n    console.debug(\"Bokeh: BokehJS loaded, going straight to plotting\");\n    run_inline_js();\n  } else {\n    load_libs(css_urls, js_urls, function() {\n      console.debug(\"Bokeh: BokehJS plotting callback run at\", now());\n      run_inline_js();\n    });\n  }\n}(window));",
      "application/vnd.bokehjs_load.v0+json": ""
     },
     "metadata": {},
     "output_type": "display_data"
    },
    {
     "data": {
      "text/html": [
       "\n",
       "\n",
       "\n",
       "\n",
       "\n",
       "\n",
       "  <div class=\"bk-root\" id=\"9c7ef5e5-ad8d-4fb3-83b3-6db5bb72d9b9\" data-root-id=\"1203\"></div>\n"
      ]
     },
     "metadata": {},
     "output_type": "display_data"
    },
    {
     "data": {
      "application/javascript": "(function(root) {\n  function embed_document(root) {\n    \n  var docs_json = {\"e6bd1cb7-94f7-437a-8544-e977b5baa932\":{\"roots\":{\"references\":[{\"attributes\":{\"children\":[{\"id\":\"1123\"}]},\"id\":\"1203\",\"type\":\"Column\"},{\"attributes\":{\"fill_color\":null,\"left\":7.5,\"level\":\"underlay\",\"line_alpha\":0.4,\"line_color\":\"black\",\"right\":8.0},\"id\":\"1194\",\"type\":\"BoxAnnotation\"},{\"attributes\":{\"bottom\":57,\"fill_alpha\":0.0,\"fill_color\":\"gray\",\"level\":\"underlay\",\"line_color\":\"black\",\"top\":58},\"id\":\"1169\",\"type\":\"BoxAnnotation\"},{\"attributes\":{\"fill_color\":null,\"left\":0.5,\"level\":\"underlay\",\"line_alpha\":0.4,\"line_color\":\"black\",\"right\":1.0},\"id\":\"1180\",\"type\":\"BoxAnnotation\"},{\"attributes\":{\"source\":{\"id\":\"1157\"}},\"id\":\"1162\",\"type\":\"CDSView\"},{\"attributes\":{\"axis\":{\"id\":\"1136\"},\"dimension\":1,\"grid_line_color\":null,\"ticker\":null},\"id\":\"1139\",\"type\":\"Grid\"},{\"attributes\":{\"bottom\":54,\"fill_alpha\":0.15,\"fill_color\":\"gray\",\"level\":\"underlay\",\"line_color\":\"black\",\"top\":55},\"id\":\"1163\",\"type\":\"BoxAnnotation\"},{\"attributes\":{},\"id\":\"1142\",\"type\":\"SaveTool\"},{\"attributes\":{\"axis_label\":\"pitch (MIDI)\",\"axis_label_standoff\":0,\"axis_label_text_font_size\":\"12px\",\"bounds\":[54,60],\"formatter\":{\"id\":\"1153\"},\"major_label_text_alpha\":0,\"major_tick_line_alpha\":0.9,\"major_tick_out\":25,\"minor_tick_line_alpha\":0,\"ticker\":{\"id\":\"1197\"}},\"id\":\"1136\",\"type\":\"LinearAxis\"},{\"attributes\":{\"interval\":1},\"id\":\"1197\",\"type\":\"SingleIntervalTicker\"},{\"attributes\":{\"bottom\":58,\"fill_alpha\":0.15,\"fill_color\":\"gray\",\"level\":\"underlay\",\"line_color\":\"black\",\"top\":59},\"id\":\"1171\",\"type\":\"BoxAnnotation\"},{\"attributes\":{\"below\":[{\"id\":\"1132\"}],\"center\":[{\"id\":\"1135\"},{\"id\":\"1139\"},{\"id\":\"1163\"},{\"id\":\"1164\"},{\"id\":\"1165\"},{\"id\":\"1166\"},{\"id\":\"1167\"},{\"id\":\"1168\"},{\"id\":\"1169\"},{\"id\":\"1170\"},{\"id\":\"1171\"},{\"id\":\"1172\"},{\"id\":\"1173\"},{\"id\":\"1174\"},{\"id\":\"1175\"},{\"id\":\"1176\"},{\"id\":\"1177\"},{\"id\":\"1178\"},{\"id\":\"1179\"},{\"id\":\"1180\"},{\"id\":\"1181\"},{\"id\":\"1182\"},{\"id\":\"1183\"},{\"id\":\"1184\"},{\"id\":\"1185\"},{\"id\":\"1186\"},{\"id\":\"1187\"},{\"id\":\"1188\"},{\"id\":\"1189\"},{\"id\":\"1190\"},{\"id\":\"1191\"},{\"id\":\"1192\"},{\"id\":\"1193\"},{\"id\":\"1194\"}],\"left\":[{\"id\":\"1136\"}],\"min_border_right\":50,\"outline_line_color\":\"black\",\"plot_height\":400,\"plot_width\":1200,\"renderers\":[{\"id\":\"1161\"}],\"title\":{\"id\":\"1199\"},\"toolbar\":{\"id\":\"1145\"},\"x_range\":{\"id\":\"1201\"},\"x_scale\":{\"id\":\"1128\"},\"y_range\":{\"id\":\"1202\"},\"y_scale\":{\"id\":\"1130\"}},\"id\":\"1123\",\"subtype\":\"Figure\",\"type\":\"Plot\"},{\"attributes\":{\"fill_color\":null,\"left\":1.0,\"level\":\"underlay\",\"line_alpha\":0.4,\"line_color\":\"black\",\"right\":1.5},\"id\":\"1181\",\"type\":\"BoxAnnotation\"},{\"attributes\":{\"bottom\":{\"field\":\"bottom\"},\"fill_alpha\":{\"value\":0.1},\"fill_color\":{\"field\":\"color\"},\"left\":{\"field\":\"left\"},\"line_alpha\":{\"value\":0.1},\"right\":{\"field\":\"right\"},\"top\":{\"field\":\"top\"}},\"id\":\"1160\",\"type\":\"Quad\"},{\"attributes\":{\"bottom\":{\"field\":\"bottom\"},\"fill_color\":{\"field\":\"color\"},\"left\":{\"field\":\"left\"},\"right\":{\"field\":\"right\"},\"top\":{\"field\":\"top\"}},\"id\":\"1159\",\"type\":\"Quad\"},{\"attributes\":{\"fill_color\":null,\"left\":1.5,\"level\":\"underlay\",\"line_alpha\":0.4,\"line_color\":\"black\",\"right\":2.0},\"id\":\"1182\",\"type\":\"BoxAnnotation\"},{\"attributes\":{\"fill_color\":null,\"left\":7.0,\"level\":\"underlay\",\"line_alpha\":0.4,\"line_color\":\"black\",\"right\":7.5},\"id\":\"1193\",\"type\":\"BoxAnnotation\"},{\"attributes\":{\"fill_color\":null,\"left\":6.5,\"level\":\"underlay\",\"line_alpha\":0.4,\"line_color\":\"black\",\"right\":7.0},\"id\":\"1192\",\"type\":\"BoxAnnotation\"},{\"attributes\":{\"fill_color\":null,\"left\":2.0,\"level\":\"underlay\",\"line_alpha\":0.4,\"line_color\":\"black\",\"right\":2.5},\"id\":\"1183\",\"type\":\"BoxAnnotation\"},{\"attributes\":{\"text\":\"Visual MIDI (120 QPM, 4/4)\",\"text_font_size\":{\"value\":\"14px\"}},\"id\":\"1199\",\"type\":\"Title\"},{\"attributes\":{\"axis_label\":\"time (SEC)\",\"axis_label_text_font_size\":\"12px\",\"bounds\":[0.0,8.0],\"formatter\":{\"id\":\"1155\"},\"major_label_text_font_size\":\"10px\",\"major_tick_line_alpha\":0.9,\"major_tick_out\":5,\"minor_tick_line_alpha\":0,\"ticker\":{\"id\":\"1195\"}},\"id\":\"1132\",\"type\":\"LinearAxis\"},{\"attributes\":{\"interval\":1},\"id\":\"1195\",\"type\":\"SingleIntervalTicker\"},{\"attributes\":{\"fill_color\":null,\"left\":2.5,\"level\":\"underlay\",\"line_alpha\":0.4,\"line_color\":\"black\",\"right\":3.0},\"id\":\"1184\",\"type\":\"BoxAnnotation\"},{\"attributes\":{},\"id\":\"1144\",\"type\":\"PanTool\"},{\"attributes\":{\"bottom\":59,\"fill_alpha\":0.0,\"fill_color\":\"gray\",\"level\":\"underlay\",\"line_color\":\"black\",\"top\":60},\"id\":\"1173\",\"type\":\"BoxAnnotation\"},{\"attributes\":{},\"id\":\"1143\",\"type\":\"WheelZoomTool\"},{\"attributes\":{\"fill_color\":null,\"left\":3.0,\"level\":\"underlay\",\"line_alpha\":0.4,\"line_color\":\"black\",\"right\":3.5},\"id\":\"1185\",\"type\":\"BoxAnnotation\"},{\"attributes\":{\"callback\":null,\"tooltips\":[[\"program\",\"@program\"],[\"pitch\",\"@top\"],[\"velocity\",\"@velocity\"],[\"duration\",\"@duration\"],[\"start_time\",\"@left\"],[\"end_time\",\"@right\"]]},\"id\":\"1141\",\"type\":\"HoverTool\"},{\"attributes\":{\"render_mode\":\"css\",\"text\":\"58\",\"text_font_size\":\"10px\",\"x\":-18,\"x_units\":\"screen\",\"y\":58.1},\"id\":\"1172\",\"type\":\"Label\"},{\"attributes\":{},\"id\":\"1130\",\"type\":\"LinearScale\"},{\"attributes\":{},\"id\":\"1140\",\"type\":\"ResetTool\"},{\"attributes\":{\"bottom\":55,\"fill_alpha\":0.0,\"fill_color\":\"gray\",\"level\":\"underlay\",\"line_color\":\"black\",\"top\":56},\"id\":\"1165\",\"type\":\"BoxAnnotation\"},{\"attributes\":{\"fill_color\":null,\"left\":3.5,\"level\":\"underlay\",\"line_alpha\":0.4,\"line_color\":\"black\",\"right\":4.0},\"id\":\"1186\",\"type\":\"BoxAnnotation\"},{\"attributes\":{\"fill_color\":null,\"left\":6.0,\"level\":\"underlay\",\"line_alpha\":0.4,\"line_color\":\"black\",\"right\":6.5},\"id\":\"1191\",\"type\":\"BoxAnnotation\"},{\"attributes\":{},\"id\":\"1214\",\"type\":\"Selection\"},{\"attributes\":{\"fill_color\":null,\"left\":5.5,\"level\":\"underlay\",\"line_alpha\":0.4,\"line_color\":\"black\",\"right\":6.0},\"id\":\"1190\",\"type\":\"BoxAnnotation\"},{\"attributes\":{},\"id\":\"1213\",\"type\":\"UnionRenderers\"},{\"attributes\":{\"fill_color\":null,\"left\":4.0,\"level\":\"underlay\",\"line_alpha\":0.4,\"line_color\":\"black\",\"right\":4.5},\"id\":\"1187\",\"type\":\"BoxAnnotation\"},{\"attributes\":{\"data\":{\"bottom\":[59.62992125984252,58.62992125984252,58.62992125984252,54.62992125984252,56.62992125984252,56.62992125984252,56.62992125984252,56.62992125984252,56.62992125984252,56.62992125984252,55.62992125984252],\"color\":[\"rgb(255, 51, 255)\",\"rgb(228, 153, 226)\",\"rgb(228, 153, 226)\",\"rgb(255, 255, 255)\",\"rgb(234, 198, 234)\",\"rgb(234, 198, 234)\",\"rgb(234, 198, 234)\",\"rgb(234, 198, 234)\",\"rgb(234, 198, 234)\",\"rgb(234, 198, 234)\",\"rgb(235, 223, 235)\"],\"duration\":[0.875,0.125,0.375,0.375,0.25,0.5,0.125,0.25,0.25,0.25,4.25],\"left\":[0.0,0.875,1.0,1.5,2.0,2.25,2.75,3.0,3.25,3.5,3.75],\"program\":[0,0,0,0,0,0,0,0,0,0,0],\"right\":[0.875,1.0,1.375,1.875,2.25,2.75,2.875,3.25,3.5,3.75,8.0],\"top\":[59,58,58,54,56,56,56,56,56,56,55],\"velocity\":[80,80,80,80,80,80,80,80,80,80,80]},\"selected\":{\"id\":\"1214\"},\"selection_policy\":{\"id\":\"1213\"}},\"id\":\"1157\",\"type\":\"ColumnDataSource\"},{\"attributes\":{\"render_mode\":\"css\",\"text\":\"59\",\"text_font_size\":\"10px\",\"x\":-18,\"x_units\":\"screen\",\"y\":59.1},\"id\":\"1174\",\"type\":\"Label\"},{\"attributes\":{\"fill_color\":null,\"left\":4.5,\"level\":\"underlay\",\"line_alpha\":0.4,\"line_color\":\"black\",\"right\":5.0},\"id\":\"1188\",\"type\":\"BoxAnnotation\"},{\"attributes\":{\"fill_color\":null,\"left\":5.0,\"level\":\"underlay\",\"line_alpha\":0.4,\"line_color\":\"black\",\"right\":5.5},\"id\":\"1189\",\"type\":\"BoxAnnotation\"},{\"attributes\":{\"data_source\":{\"id\":\"1157\"},\"glyph\":{\"id\":\"1159\"},\"hover_glyph\":null,\"muted_glyph\":null,\"nonselection_glyph\":{\"id\":\"1160\"},\"selection_glyph\":null,\"view\":{\"id\":\"1162\"}},\"id\":\"1161\",\"type\":\"GlyphRenderer\"},{\"attributes\":{\"active_drag\":\"auto\",\"active_inspect\":\"auto\",\"active_multi\":null,\"active_scroll\":\"auto\",\"active_tap\":\"auto\",\"tools\":[{\"id\":\"1140\"},{\"id\":\"1141\"},{\"id\":\"1142\"},{\"id\":\"1143\"},{\"id\":\"1144\"}]},\"id\":\"1145\",\"type\":\"Toolbar\"},{\"attributes\":{\"fill_alpha\":0.25,\"fill_color\":\"gray\",\"left\":0.0,\"level\":\"underlay\",\"line_alpha\":0.5,\"line_color\":\"black\",\"line_width\":2,\"right\":2.0},\"id\":\"1175\",\"type\":\"BoxAnnotation\"},{\"attributes\":{},\"id\":\"1153\",\"type\":\"BasicTickFormatter\"},{\"attributes\":{\"render_mode\":\"css\",\"text\":\"56\",\"text_font_size\":\"10px\",\"x\":-18,\"x_units\":\"screen\",\"y\":56.1},\"id\":\"1168\",\"type\":\"Label\"},{\"attributes\":{\"fill_alpha\":0.25,\"fill_color\":\"gray\",\"left\":4.0,\"level\":\"underlay\",\"line_alpha\":0.5,\"line_color\":\"black\",\"line_width\":2,\"right\":6.0},\"id\":\"1177\",\"type\":\"BoxAnnotation\"},{\"attributes\":{\"end\":8.0},\"id\":\"1201\",\"type\":\"Range1d\"},{\"attributes\":{\"render_mode\":\"css\",\"text\":\"54\",\"text_font_size\":\"10px\",\"x\":-18,\"x_units\":\"screen\",\"y\":54.1},\"id\":\"1164\",\"type\":\"Label\"},{\"attributes\":{\"render_mode\":\"css\",\"text\":\"55\",\"text_font_size\":\"10px\",\"x\":-18,\"x_units\":\"screen\",\"y\":55.1},\"id\":\"1166\",\"type\":\"Label\"},{\"attributes\":{},\"id\":\"1155\",\"type\":\"BasicTickFormatter\"},{\"attributes\":{\"render_mode\":\"css\",\"text\":\"57\",\"text_font_size\":\"10px\",\"x\":-18,\"x_units\":\"screen\",\"y\":57.1},\"id\":\"1170\",\"type\":\"Label\"},{\"attributes\":{\"fill_alpha\":0.05,\"fill_color\":\"gray\",\"left\":6.0,\"level\":\"underlay\",\"line_alpha\":0.5,\"line_color\":\"black\",\"line_width\":2,\"right\":8.0},\"id\":\"1178\",\"type\":\"BoxAnnotation\"},{\"attributes\":{\"end\":60,\"start\":54},\"id\":\"1202\",\"type\":\"Range1d\"},{\"attributes\":{\"axis\":{\"id\":\"1132\"},\"grid_line_color\":null,\"ticker\":null},\"id\":\"1135\",\"type\":\"Grid\"},{\"attributes\":{\"fill_alpha\":0.05,\"fill_color\":\"gray\",\"left\":2.0,\"level\":\"underlay\",\"line_alpha\":0.5,\"line_color\":\"black\",\"line_width\":2,\"right\":4.0},\"id\":\"1176\",\"type\":\"BoxAnnotation\"},{\"attributes\":{},\"id\":\"1128\",\"type\":\"LinearScale\"},{\"attributes\":{\"fill_color\":null,\"left\":0.0,\"level\":\"underlay\",\"line_alpha\":0.4,\"line_color\":\"black\",\"right\":0.5},\"id\":\"1179\",\"type\":\"BoxAnnotation\"},{\"attributes\":{\"bottom\":56,\"fill_alpha\":0.15,\"fill_color\":\"gray\",\"level\":\"underlay\",\"line_color\":\"black\",\"top\":57},\"id\":\"1167\",\"type\":\"BoxAnnotation\"}],\"root_ids\":[\"1203\"]},\"title\":\"Bokeh Application\",\"version\":\"2.2.3\"}};\n  var render_items = [{\"docid\":\"e6bd1cb7-94f7-437a-8544-e977b5baa932\",\"root_ids\":[\"1203\"],\"roots\":{\"1203\":\"9c7ef5e5-ad8d-4fb3-83b3-6db5bb72d9b9\"}}];\n  root.Bokeh.embed.embed_items_notebook(docs_json, render_items);\n\n  }\n  if (root.Bokeh !== undefined) {\n    embed_document(root);\n  } else {\n    var attempts = 0;\n    var timer = setInterval(function(root) {\n      if (root.Bokeh !== undefined) {\n        clearInterval(timer);\n        embed_document(root);\n      } else {\n        attempts++;\n        if (attempts > 100) {\n          clearInterval(timer);\n          console.log(\"Bokeh: ERROR: Unable to run BokehJS code because BokehJS library is missing\");\n        }\n      }\n    }, 10, root)\n  }\n})(window);",
      "application/vnd.bokehjs_exec.v0+json": ""
     },
     "metadata": {
      "application/vnd.bokehjs_exec.v0+json": {
       "id": "1203"
      }
     },
     "output_type": "display_data"
    }
   ],
   "source": [
    "output.pianoRollFromNoteSeq(seq_input)\n",
    "output.pianoRollFromNoteSeq(seq_gen_base['sequence'])"
   ]
  },
  {
   "cell_type": "markdown",
   "metadata": {},
   "source": [
    "## Similarity between input and gen_base"
   ]
  },
  {
   "cell_type": "code",
   "execution_count": 12,
   "metadata": {},
   "outputs": [
    {
     "data": {
      "text/plain": [
       "{'pitch_count': 4.0,\n",
       " 'pitch_class_histogram': 0.6630566954578923,\n",
       " 'pitch_class_transition_matrix': 5.477225575051661,\n",
       " 'avg_pitch_interval': 1.5888888888888888,\n",
       " 'pitch_range': 5.0,\n",
       " 'note_count': 8.0,\n",
       " 'note_length_histogram': 0.7998233713962797,\n",
       " 'note_length_transition_matrix': 14.0,\n",
       " 'avg_ioi': 0.060185185185185175,\n",
       " 'ioi_histogram': 0.7650716207198731,\n",
       " 'ioi_transition_matrix': 10.770329614269007}"
      ]
     },
     "execution_count": 12,
     "metadata": {},
     "output_type": "execute_result"
    }
   ],
   "source": [
    "distances"
   ]
  },
  {
   "cell_type": "markdown",
   "metadata": {},
   "source": [
    "# Conversion to music21 stream"
   ]
  },
  {
   "cell_type": "code",
   "execution_count": 13,
   "metadata": {},
   "outputs": [
    {
     "data": {
      "text/html": [
       "\n",
       "                <div id='midiPlayerDiv349'></div>\n",
       "                <link rel=\"stylesheet\" href=\"//cuthbertLab.github.io/music21j/css/m21.css\"\n",
       "                    type=\"text/css\" />\n",
       "                <script>\n",
       "                require.config({\n",
       "                    paths: {'music21': '//cuthbertLab.github.io/music21j/src/music21'}\n",
       "                });\n",
       "                require(['music21'], function() {\n",
       "                               mp = new music21.miditools.MidiPlayer();\n",
       "                               mp.addPlayer('#midiPlayerDiv349');\n",
       "                               mp.base64Load('data:audio/midi;base64,TVRoZAAAAAYAAQABBABNVHJrAAAAzwD/AwAA4ABAAP9RAwehIAD/WAQEAhgIiACQNHOCVYA0AIpWkDZzglWANgAAkDdzglWANwCKVpAzc4JVgDMAAJA0c4JVgDQAglaQNnOCVYA2AACQN3OCVYA3AIJWkDxzglWAPAAAkDtzglWAOwCCVpA0c4JVgDQAAJA3c4JVgDcAglaQO3OCVYA7AACQOnOSVYA6AACQOXOCVYA5AAGQN3OCVYA3AACQNHOCVYA0AACQMnOCVYAyAAGQNHOaVYA0AIUrkDNzglWAMwCIAP8vAA==');\n",
       "                        });\n",
       "                </script>"
      ],
      "text/plain": [
       "<IPython.core.display.HTML object>"
      ]
     },
     "metadata": {},
     "output_type": "display_data"
    }
   ],
   "source": [
    "input_stream = conversion.note_seq_to_music21(seq_input)\n",
    "input_stream.show('midi')"
   ]
  },
  {
   "cell_type": "code",
   "execution_count": 14,
   "metadata": {},
   "outputs": [
    {
     "data": {
      "text/html": [
       "\n",
       "                <div id='midiPlayerDiv555'></div>\n",
       "                <link rel=\"stylesheet\" href=\"//cuthbertLab.github.io/music21j/css/m21.css\"\n",
       "                    type=\"text/css\" />\n",
       "                <script>\n",
       "                require.config({\n",
       "                    paths: {'music21': '//cuthbertLab.github.io/music21j/src/music21'}\n",
       "                });\n",
       "                require(['music21'], function() {\n",
       "                               mp = new music21.miditools.MidiPlayer();\n",
       "                               mp.addPlayer('#midiPlayerDiv555');\n",
       "                               mp.base64Load('data:audio/midi;base64,TVRoZAAAAAYAAQABBABNVHJrAAAAewD/AwAA4ABAAP9RAwehIIgAkDtQjgCAOwAAkDpQggCAOgAAkDpQhgCAOgCCAJA2UIYAgDYAggCQOFCEAIA4AACQOFCIAIA4AACQOFCCAIA4AIIAkDhQhACAOAAAkDhQhACAOAAAkDhQhACAOAAAkDdQxACANwCIAP8vAA==');\n",
       "                        });\n",
       "                </script>"
      ],
      "text/plain": [
       "<IPython.core.display.HTML object>"
      ]
     },
     "metadata": {},
     "output_type": "display_data"
    }
   ],
   "source": [
    "output_stream = conversion.note_seq_to_music21(seq_gen_base['sequence'])\n",
    "output_stream.show('midi')"
   ]
  },
  {
   "cell_type": "markdown",
   "metadata": {},
   "source": [
    "# Adaptation"
   ]
  },
  {
   "cell_type": "code",
   "execution_count": 15,
   "metadata": {},
   "outputs": [
    {
     "name": "stdout",
     "output_type": "stream",
     "text": [
      "{0, 2, 3, 4, 6, 7, 9, 10, 11}\n"
     ]
    }
   ],
   "source": [
    "allowedPitch = set()\n",
    "for note in input_stream.parts[0].notes:\n",
    "    allowedPitch.add(note.pitch.pitchClass)\n",
    "print(allowedPitch)\n",
    "\n",
    "def findClosest(lst, given_value):\n",
    "    absolute_difference = lambda list_value : min(abs(list_value - given_value), abs(list_value+12 - given_value), abs(list_value-12 - given_value))\n",
    "    return min(lst, key=absolute_difference)"
   ]
  },
  {
   "cell_type": "code",
   "execution_count": 16,
   "metadata": {},
   "outputs": [
    {
     "name": "stdout",
     "output_type": "stream",
     "text": [
      "e minor\n",
      "E- major\n"
     ]
    }
   ],
   "source": [
    "print(input_stream.analyze('key'))\n",
    "print(output_stream.analyze('key'))"
   ]
  },
  {
   "cell_type": "code",
   "execution_count": 17,
   "metadata": {},
   "outputs": [
    {
     "name": "stdout",
     "output_type": "stream",
     "text": [
      "11 => 11\n",
      "10 => 10\n",
      "10 => 10\n",
      "6 => 6\n",
      "8 => 7\n",
      "8 => 7\n",
      "8 => 7\n",
      "8 => 7\n",
      "8 => 7\n",
      "8 => 7\n",
      "7 => 7\n"
     ]
    }
   ],
   "source": [
    "for note in output_stream.parts[0].notes:\n",
    "    old_pitch = note.pitch.pitchClass\n",
    "    new_pitch = findClosest(allowedPitch, note.pitch.pitchClass)\n",
    "    note.pitch.pitchClass += (new_pitch - old_pitch)\n",
    "    note.pitch.octave += 2\n",
    "    print(str(old_pitch) + ' => ' + str(new_pitch))"
   ]
  },
  {
   "cell_type": "code",
   "execution_count": 18,
   "metadata": {},
   "outputs": [
    {
     "data": {
      "text/html": [
       "\n",
       "                <div id='midiPlayerDiv757'></div>\n",
       "                <link rel=\"stylesheet\" href=\"//cuthbertLab.github.io/music21j/css/m21.css\"\n",
       "                    type=\"text/css\" />\n",
       "                <script>\n",
       "                require.config({\n",
       "                    paths: {'music21': '//cuthbertLab.github.io/music21j/src/music21'}\n",
       "                });\n",
       "                require(['music21'], function() {\n",
       "                               mp = new music21.miditools.MidiPlayer();\n",
       "                               mp.addPlayer('#midiPlayerDiv757');\n",
       "                               mp.base64Load('data:audio/midi;base64,TVRoZAAAAAYAAQABBABNVHJrAAAAewD/AwAA4ABAAP9RAwehIIgAkFNQjgCAUwAAkFJQggCAUgAAkFJQhgCAUgCCAJBOUIYAgE4AggCQT1CEAIBPAACQT1CIAIBPAACQT1CCAIBPAIIAkE9QhACATwAAkE9QhACATwAAkE9QhACATwAAkE9QxACATwCIAP8vAA==');\n",
       "                        });\n",
       "                </script>"
      ],
      "text/plain": [
       "<IPython.core.display.HTML object>"
      ]
     },
     "metadata": {},
     "output_type": "display_data"
    }
   ],
   "source": [
    "output_stream.show('midi')"
   ]
  },
  {
   "cell_type": "code",
   "execution_count": 19,
   "metadata": {},
   "outputs": [],
   "source": [
    "mf = music21.midi.translate.streamToMidiFile(output_stream)\n",
    "mf.open('../midi/tmp/adaption_cache.mid', 'wb')\n",
    "mf.write()\n",
    "mf.close()"
   ]
  },
  {
   "cell_type": "code",
   "execution_count": 20,
   "metadata": {},
   "outputs": [],
   "source": [
    "midi_adapted = input.loadMidiFile('../midi/tmp/adaption_cache.mid')\n",
    "seq_adapted = midi_to_note_sequence(midi_adapted)"
   ]
  },
  {
   "cell_type": "code",
   "execution_count": 21,
   "metadata": {},
   "outputs": [],
   "source": [
    "metrics3 = mgeval.analyze_sequence(seq_adapted)\n",
    "distances2 = mgeval.calc_distances(metrics1, metrics3)\n",
    "seq_output = {}\n",
    "seq_output['sequence'] = seq_adapted\n",
    "seq_output['evaluation'] = {\n",
    "    'metrics': metrics2,\n",
    "    'distances_to_input': distances2\n",
    "}"
   ]
  },
  {
   "cell_type": "code",
   "execution_count": 22,
   "metadata": {},
   "outputs": [
    {
     "data": {
      "text/plain": [
       "{'pitch_count': 5.0,\n",
       " 'pitch_class_histogram': 0.7927405592751761,\n",
       " 'pitch_class_transition_matrix': 6.164414002968976,\n",
       " 'avg_pitch_interval': 1.7888888888888888,\n",
       " 'pitch_range': 5.0,\n",
       " 'note_count': 8.0,\n",
       " 'note_length_histogram': 0.7998233713962797,\n",
       " 'note_length_transition_matrix': 14.0,\n",
       " 'avg_ioi': 0.060185185185185175,\n",
       " 'ioi_histogram': 0.7808284072277645,\n",
       " 'ioi_transition_matrix': 10.770329614269007}"
      ]
     },
     "execution_count": 22,
     "metadata": {},
     "output_type": "execute_result"
    }
   ],
   "source": [
    "distances2"
   ]
  },
  {
   "cell_type": "code",
   "execution_count": 23,
   "metadata": {},
   "outputs": [
    {
     "ename": "TypeError",
     "evalue": "store_generation_result() got an unexpected keyword argument 'gen_dur'",
     "output_type": "error",
     "traceback": [
      "\u001b[1;31m---------------------------------------------------------------------------\u001b[0m",
      "\u001b[1;31mTypeError\u001b[0m                                 Traceback (most recent call last)",
      "\u001b[1;32m<ipython-input-23-1201d6266adc>\u001b[0m in \u001b[0;36m<module>\u001b[1;34m\u001b[0m\n\u001b[0;32m      6\u001b[0m     \u001b[0mgen_model\u001b[0m \u001b[1;33m=\u001b[0m \u001b[0mseq_gen_base\u001b[0m\u001b[1;33m[\u001b[0m\u001b[1;34m'meta'\u001b[0m\u001b[1;33m]\u001b[0m\u001b[1;33m[\u001b[0m\u001b[1;34m'model'\u001b[0m\u001b[1;33m]\u001b[0m \u001b[1;33m+\u001b[0m \u001b[1;34m'_'\u001b[0m \u001b[1;33m+\u001b[0m \u001b[0mseq_gen_base\u001b[0m\u001b[1;33m[\u001b[0m\u001b[1;34m'meta'\u001b[0m\u001b[1;33m]\u001b[0m\u001b[1;33m[\u001b[0m\u001b[1;34m'checkpoint'\u001b[0m\u001b[1;33m]\u001b[0m\u001b[1;33m,\u001b[0m\u001b[1;33m\u001b[0m\u001b[1;33m\u001b[0m\u001b[0m\n\u001b[0;32m      7\u001b[0m     \u001b[0mgen_temperature\u001b[0m \u001b[1;33m=\u001b[0m \u001b[0mseq_gen_base\u001b[0m\u001b[1;33m[\u001b[0m\u001b[1;34m'meta'\u001b[0m\u001b[1;33m]\u001b[0m\u001b[1;33m[\u001b[0m\u001b[1;34m'temperature'\u001b[0m\u001b[1;33m]\u001b[0m\u001b[1;33m,\u001b[0m\u001b[1;33m\u001b[0m\u001b[1;33m\u001b[0m\u001b[0m\n\u001b[1;32m----> 8\u001b[1;33m     adapt_dur = 0)\n\u001b[0m\u001b[0;32m      9\u001b[0m \u001b[0mprint\u001b[0m\u001b[1;33m(\u001b[0m\u001b[0mid\u001b[0m\u001b[1;33m)\u001b[0m\u001b[1;33m\u001b[0m\u001b[1;33m\u001b[0m\u001b[0m\n",
      "\u001b[1;31mTypeError\u001b[0m: store_generation_result() got an unexpected keyword argument 'gen_dur'"
     ]
    }
   ],
   "source": [
    "id = db.store_generation_result(\n",
    "    note_sequence_to_pretty_midi(seq_input),\n",
    "    note_sequence_to_pretty_midi(seq_gen_base['sequence']),\n",
    "    note_sequence_to_pretty_midi(seq_adapted),\n",
    "    gen_dur = seq_gen_base['meta']['gen_dur'],\n",
    "    gen_model = seq_gen_base['meta']['model'] + '_' + seq_gen_base['meta']['checkpoint'],\n",
    "    gen_temperature = seq_gen_base['meta']['temperature'],\n",
    "    adapt_dur = 0)\n",
    "print(id)"
   ]
  }
 ],
 "metadata": {
  "interpreter": {
   "hash": "75a9ca51cf2daeb22ff0ca8785d387c49ea4e2c8c6428abeae8aacce62ee187c"
  },
  "kernelspec": {
   "display_name": "Python 3.7.9 64-bit ('mpro': conda)",
   "name": "python3"
  },
  "language_info": {
   "codemirror_mode": {
    "name": "ipython",
    "version": 3
   },
   "file_extension": ".py",
   "mimetype": "text/x-python",
   "name": "python",
   "nbconvert_exporter": "python",
   "pygments_lexer": "ipython3",
   "version": "3.7.9"
  },
  "orig_nbformat": 2
 },
 "nbformat": 4,
 "nbformat_minor": 2
}