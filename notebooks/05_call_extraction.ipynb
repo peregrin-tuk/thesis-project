{
 "metadata": {
  "language_info": {
   "codemirror_mode": {
    "name": "ipython",
    "version": 3
   },
   "file_extension": ".py",
   "mimetype": "text/x-python",
   "name": "python",
   "nbconvert_exporter": "python",
   "pygments_lexer": "ipython3",
   "version": "3.7.9-final"
  },
  "orig_nbformat": 2,
  "kernelspec": {
   "name": "python3",
   "display_name": "Python 3.7.9 64-bit ('mpro': conda)",
   "metadata": {
    "interpreter": {
     "hash": "75a9ca51cf2daeb22ff0ca8785d387c49ea4e2c8c6428abeae8aacce62ee187c"
    }
   }
  }
 },
 "nbformat": 4,
 "nbformat_minor": 2,
 "cells": [
  {
   "cell_type": "code",
   "execution_count": 1,
   "metadata": {},
   "outputs": [],
   "source": [
    "import sys, os\n",
    "\n",
    "root_dir = os.path.join(os.getcwd(), '..')\n",
    "sys.path.append(root_dir)\n",
    "\n",
    "import muspy\n",
    "from pathlib import Path"
   ]
  },
  {
   "cell_type": "code",
   "execution_count": 2,
   "metadata": {},
   "outputs": [
    {
     "output_type": "execute_result",
     "data": {
      "text/plain": [
       "Music(metadata=Metadata(schema_version='0.0', source_filename='pink-panther.mid', source_format='midi'), resolution=240, tempos=[Tempo(time=0, qpm=125.0)], time_signatures=[TimeSignature(time=0, numerator=4, denominator=4)], tracks=[Track(program=0, is_drum=False, name='Melody', notes=[Note(time=640, pitch=56, duration=80, velocity=100), Note(time=720, pitch=57, duration=80, velocity=100), Note(time=880, pitch=58, duration=80, velocity=100), ...]), Track(program=0, is_drum=False, name='Piano Accomp', notes=[Note(time=640, pitch=37, duration=80, velocity=100), Note(time=640, pitch=44, duration=80, velocity=100), Note(time=640, pitch=49, duration=80, velocity=100), ...]), Track(program=0, is_drum=False, name='Alto Sax', notes=[Note(time=46960, pitch=51, duration=77, velocity=112), Note(time=47040, pitch=52, duration=77, velocity=112), Note(time=47440, pitch=54, duration=77, velocity=112), ...]), ...])"
      ]
     },
     "metadata": {},
     "execution_count": 2
    }
   ],
   "source": [
    "song = muspy.read('../midi/examples/bitmidi/pink-panther.mid')\n",
    "song"
   ]
  },
  {
   "cell_type": "code",
   "execution_count": 3,
   "metadata": {},
   "outputs": [
    {
     "output_type": "execute_result",
     "data": {
      "text/plain": [
       "Note(time=85200, pitch=78, duration=2160, velocity=115)"
      ]
     },
     "metadata": {},
     "execution_count": 3
    }
   ],
   "source": [
    "song.tracks[0].notes[-1]"
   ]
  },
  {
   "cell_type": "code",
   "execution_count": 4,
   "metadata": {},
   "outputs": [],
   "source": [
    "\n",
    "def extract_melodies(song: muspy.Music, song_name: str or int, set_name: str, length_in_bars: int):\n",
    "    track = get_melody_track(song.tracks)\n",
    "\n",
    "    if track is not None:\n",
    "        is_call = True\n",
    "        count = 1\n",
    "\n",
    "        # bar_dur_in_sec = 60 / song.tempos[0].qpm * song.time_signature[0].nominator * 4 / song.time_signature[0].denominator\n",
    "        time_steps_per_bar = song.resolution * song.time_signatures[0].numerator * 4 / song.time_signatures[0].denominator\n",
    "        starting_bar = round(track.notes[0].time / time_steps_per_bar)\n",
    "\n",
    "        starting_time = starting_bar * time_steps_per_bar\n",
    "        time_marker_start = starting_time\n",
    "        time_marker_end = time_marker_start + time_steps_per_bar * length_in_bars\n",
    "\n",
    "        base_path = '../data/reference_data/' + set_name + '/' + str(song_name) + '/'\n",
    "        Path(base_path).mkdir(parents=True, exist_ok=True)\n",
    "\n",
    "        excerpt = muspy.Music()\n",
    "        excerpt.resolution = song.resolution\n",
    "        excerpt.tempos.append(song.tempos[0])\n",
    "        excerpt.time_signatures.append(song.time_signatures[0])\n",
    "        excerpt_track = muspy.Track()\n",
    "        excerpt_track.name = 'melody'\n",
    "        excerpt.append(excerpt_track)\n",
    "\n",
    "        for note in track.notes:\n",
    "            if (note.time < starting_time):\n",
    "                pass\n",
    "            elif (note.time < time_marker_end):\n",
    "                note.time = note.time - time_marker_start\n",
    "                excerpt_track.append(note)\n",
    "            else:\n",
    "                # save excerpt\n",
    "                if is_call: \n",
    "                    muspy.write_midi(base_path + '{:02d}'.format(count) + '_call.mid', excerpt, backend='pretty_midi')\n",
    "                else:\n",
    "                    muspy.write_midi(base_path + '{:02d}'.format(count) + '_response.mid', excerpt, backend='pretty_midi')\n",
    "                # init new one\n",
    "                excerpt = muspy.Music()\n",
    "                excerpt.resolution = song.resolution\n",
    "                excerpt.tempos.append(song.tempos[0])\n",
    "                excerpt.time_signatures.append(song.time_signatures[0])\n",
    "                excerpt_track = muspy.Track()\n",
    "                excerpt_track.name = 'melody'\n",
    "                excerpt.append(excerpt_track)\n",
    "                # change time markers (move window x bars)\n",
    "                time_marker_start = time_marker_end\n",
    "                time_marker_end = time_marker_start + time_steps_per_bar * length_in_bars\n",
    "                # increase count and toggle call/response\n",
    "                if not is_call:\n",
    "                    count += 1\n",
    "                is_call = not is_call\n",
    "\n",
    "\n",
    "def get_melody_track(tracks):\n",
    "    for track in tracks:\n",
    "        if track.name.lower() == \"melody\" or track.name.lower() == \"vocals\" or track.name.lower() == \"mel\":\n",
    "            return track\n",
    "    else:\n",
    "        return None\n",
    "\n"
   ]
  },
  {
   "cell_type": "code",
   "execution_count": 5,
   "metadata": {},
   "outputs": [],
   "source": [
    "extract_melodies(song, 'pink_panther', 'test_set', 4)"
   ]
  }
 ]
}