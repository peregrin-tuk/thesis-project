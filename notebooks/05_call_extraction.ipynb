{
 "metadata": {
  "language_info": {
   "codemirror_mode": {
    "name": "ipython",
    "version": 3
   },
   "file_extension": ".py",
   "mimetype": "text/x-python",
   "name": "python",
   "nbconvert_exporter": "python",
   "pygments_lexer": "ipython3",
   "version": "3.7.9-final"
  },
  "orig_nbformat": 2,
  "kernelspec": {
   "name": "python3",
   "display_name": "Python 3.7.9 64-bit ('mpro': conda)",
   "metadata": {
    "interpreter": {
     "hash": "75a9ca51cf2daeb22ff0ca8785d387c49ea4e2c8c6428abeae8aacce62ee187c"
    }
   }
  }
 },
 "nbformat": 4,
 "nbformat_minor": 2,
 "cells": [
  {
   "cell_type": "code",
   "execution_count": 1,
   "metadata": {},
   "outputs": [],
   "source": [
    "import sys, os\n",
    "\n",
    "root_dir = os.path.join(os.getcwd(), '..')\n",
    "sys.path.append(root_dir)\n",
    "\n",
    "import muspy\n",
    "from pathlib import Path\n",
    "from tqdm.notebook import tqdm\n",
    "from src.utils import sequence_extraction"
   ]
  },
  {
   "source": [
    "# Sequence Extraction with a Single Song"
   ],
   "cell_type": "markdown",
   "metadata": {}
  },
  {
   "cell_type": "code",
   "execution_count": 2,
   "metadata": {},
   "outputs": [
    {
     "output_type": "stream",
     "name": "stdout",
     "text": [
      "Music(metadata=Metadata(schema_version='0.0', source_filename='intro-and-verse_symbol_key.mid', source_format='midi'), resolution=480, tempos=[Tempo(time=0, qpm=129.00007740004645)], key_signatures=[KeySignature(time=0, root=0, mode='major')], time_signatures=[TimeSignature(time=0, numerator=4, denominator=4)], tracks=[Track(program=0, is_drum=False, name='melody', notes=[Note(time=7200, pitch=41, duration=120, velocity=80), Note(time=7320, pitch=43, duration=120, velocity=80), Note(time=7440, pitch=47, duration=240, velocity=80), ...])])\n"
     ]
    },
    {
     "output_type": "execute_result",
     "data": {
      "text/plain": [
       "Note(time=30480, pitch=62, duration=240, velocity=80)"
      ]
     },
     "metadata": {},
     "execution_count": 2
    }
   ],
   "source": [
    "# song = muspy.read('../midi/examples/bitmidi/pink-panther.mid')\n",
    "song = muspy.read('../data/reference_data/raw/theorytab_midi/a/a-day-to-remember/downfall-of-us-all/intro-and-verse_symbol_key.mid')\n",
    "print(song)\n",
    "song[0][-1]"
   ]
  },
  {
   "cell_type": "code",
   "execution_count": 3,
   "metadata": {},
   "outputs": [
    {
     "output_type": "stream",
     "name": "stdout",
     "text": [
      "Sequence extraction returned 1\n"
     ]
    }
   ],
   "source": [
    "success = sequence_extraction.extract_melodies_to_folder(song, 'downfall-of-us-all', 'test_set', 4)\n",
    "print(\"Sequence extraction returned\", success)"
   ]
  },
  {
   "source": [
    "## Check if track is long enough for at least one call-and-response pair"
   ],
   "cell_type": "markdown",
   "metadata": {}
  },
  {
   "cell_type": "code",
   "execution_count": 23,
   "metadata": {},
   "outputs": [
    {
     "output_type": "stream",
     "name": "stdout",
     "text": [
      "End time: 0.015427\nDuration in bars: 0.0038568054687500002\nRequired duration in bars: 8\n"
     ]
    }
   ],
   "source": [
    "\n",
    "end_time = song.tracks[0][-1].time / song.resolution\n",
    "length_in_bars = 4\n",
    "quarters_per_bar = song.time_signatures[0].numerator * 4 / song.time_signatures[0].denominator\n",
    "\n",
    "if round(end_time / quarters_per_bar) >= length_in_bars * 2:\n",
    "    print(\"Track is long enough.\")\n",
    "\n",
    "print(\"End time: %f\" % end_time)\n",
    "print(\"Duration in bars: \" + str(end_time / quarters_per_bar))\n",
    "print(\"Required duration in bars: \" + str(length_in_bars*2))"
   ]
  },
  {
   "source": [
    "# Sequence Extraction from a Dataset\n",
    "Using a Set of crawled Midis from Theorytab"
   ],
   "cell_type": "markdown",
   "metadata": {}
  },
  {
   "cell_type": "code",
   "execution_count": 4,
   "metadata": {},
   "outputs": [
    {
     "output_type": "display_data",
     "data": {
      "text/plain": "0it [00:00, ?it/s]",
      "application/vnd.jupyter.widget-view+json": {
       "version_major": 2,
       "version_minor": 0,
       "model_id": "ae41092be601491192325958bc64174b"
      }
     },
     "metadata": {}
    },
    {
     "output_type": "stream",
     "name": "stdout",
     "text": [
      "18167 songs processed in 561.4556267261505 seconds.\n17752 call-and-response pairs created.\n1666 songs had no melody track.\n4758 songs were too short.\n0 songs could not be processed due to an error.\n"
     ]
    }
   ],
   "source": [
    "source_folder = '../data/reference_data/raw/theorytab_midi'  \n",
    "sequence_extraction.split_all_midis_from_folder(source_folder, 'theorytab', 4)"
   ]
  }
 ]
}