{
 "metadata": {
  "language_info": {
   "codemirror_mode": {
    "name": "ipython",
    "version": 3
   },
   "file_extension": ".py",
   "mimetype": "text/x-python",
   "name": "python",
   "nbconvert_exporter": "python",
   "pygments_lexer": "ipython3",
   "version": "3.7.9-final"
  },
  "orig_nbformat": 2,
  "kernelspec": {
   "name": "python3",
   "display_name": "Python 3.7.9 64-bit ('mpro': conda)",
   "metadata": {
    "interpreter": {
     "hash": "75a9ca51cf2daeb22ff0ca8785d387c49ea4e2c8c6428abeae8aacce62ee187c"
    }
   }
  }
 },
 "nbformat": 4,
 "nbformat_minor": 2,
 "cells": [
  {
   "cell_type": "code",
   "execution_count": 2,
   "metadata": {},
   "outputs": [],
   "source": [
    "import sys, os\n",
    "\n",
    "root_dir = os.path.join(os.getcwd(), '..')\n",
    "sys.path.append(root_dir)\n",
    "\n",
    "import muspy"
   ]
  },
  {
   "cell_type": "code",
   "execution_count": 9,
   "metadata": {},
   "outputs": [
    {
     "output_type": "execute_result",
     "data": {
      "text/plain": [
       "Music(metadata=Metadata(schema_version='0.0', source_filename='pink-panther.mid', source_format='midi'), resolution=240, tempos=[Tempo(time=0, qpm=125.0)], time_signatures=[TimeSignature(time=0, numerator=4, denominator=4)], tracks=[Track(program=0, is_drum=False, name='Melody', notes=[Note(time=640, pitch=56, duration=80, velocity=100), Note(time=720, pitch=57, duration=80, velocity=100), Note(time=880, pitch=58, duration=80, velocity=100), ...]), Track(program=0, is_drum=False, name='Piano Accomp', notes=[Note(time=640, pitch=37, duration=80, velocity=100), Note(time=640, pitch=44, duration=80, velocity=100), Note(time=640, pitch=49, duration=80, velocity=100), ...]), Track(program=0, is_drum=False, name='Alto Sax', notes=[Note(time=46960, pitch=51, duration=77, velocity=112), Note(time=47040, pitch=52, duration=77, velocity=112), Note(time=47440, pitch=54, duration=77, velocity=112), ...]), ...])"
      ]
     },
     "metadata": {},
     "execution_count": 9
    }
   ],
   "source": [
    "song = muspy.read('../midi/examples/bitmidi/pink-panther.mid')\n",
    "song"
   ]
  },
  {
   "cell_type": "code",
   "execution_count": 13,
   "metadata": {},
   "outputs": [
    {
     "output_type": "execute_result",
     "data": {
      "text/plain": [
       "Track(program=0, is_drum=False, name='Melody', notes=[Note(time=640, pitch=56, duration=80, velocity=100), Note(time=720, pitch=57, duration=80, velocity=100), Note(time=880, pitch=58, duration=80, velocity=100), ...])"
      ]
     },
     "metadata": {},
     "execution_count": 13
    }
   ],
   "source": [
    "song.tracks[0]"
   ]
  },
  {
   "cell_type": "code",
   "execution_count": null,
   "metadata": {},
   "outputs": [],
   "source": [
    "\n",
    "def extract_melodies(song, length_in_bars):\n",
    "    track = get_melody_track(song.tracks)\n",
    "\n",
    "    if track is not None:\n",
    "        is_call = true\n",
    "        # bar_dur_in_sec = 60 / song.tempos[0].qpm * song.time_signature[0].nominator * 4 / song.time_signature[0].denominator\n",
    "        time_steps_per_bar = song.resolution * song.time_signatrues[0].nominator * 4 / song.time_signature[0].denominator\n",
    "        starting_bar = round(track.notes[0].time / bar_dur_in_sec)\n",
    "\n",
    "        starting_time = starting_bar * time_steps_per_bar\n",
    "        time_marker_start = starting_time\n",
    "        time_marker_end = time_marker_start + time_steps_per_bar * length_in_bars\n",
    "\n",
    "        excerpt = muspy.Music()\n",
    "        excerpt_track = muspy.Track()\n",
    "        excerpt.append(excerpt_track)\n",
    "\n",
    "        for note in track.notes:\n",
    "            if (note.time < starting_time):\n",
    "                pass\n",
    "            else if (note.time < time_marker_end):\n",
    "\n",
    "            else:\n",
    "                excerpt_track.append(note)\n",
    "\n",
    "\n",
    "def get_melody_track(tracks):\n",
    "    for track in tracks:\n",
    "        if track.name.lower() == \"melody\" or track.name.lower() == \"vocals\" or track.name.lower() == \"mel\":\n",
    "            return track\n",
    "    else:\n",
    "        return None\n",
    "\n"
   ]
  }
 ]
}