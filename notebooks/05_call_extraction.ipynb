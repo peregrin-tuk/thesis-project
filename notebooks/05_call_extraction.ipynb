{
 "metadata": {
  "language_info": {
   "codemirror_mode": {
    "name": "ipython",
    "version": 3
   },
   "file_extension": ".py",
   "mimetype": "text/x-python",
   "name": "python",
   "nbconvert_exporter": "python",
   "pygments_lexer": "ipython3",
   "version": "3.7.9-final"
  },
  "orig_nbformat": 2,
  "kernelspec": {
   "name": "python3",
   "display_name": "Python 3.7.9 64-bit ('mpro': conda)",
   "metadata": {
    "interpreter": {
     "hash": "75a9ca51cf2daeb22ff0ca8785d387c49ea4e2c8c6428abeae8aacce62ee187c"
    }
   }
  }
 },
 "nbformat": 4,
 "nbformat_minor": 2,
 "cells": [
  {
   "cell_type": "code",
   "execution_count": 1,
   "source": [
    "import sys, os\r\n",
    "\r\n",
    "root_dir = os.path.join(os.getcwd(), '..')\r\n",
    "sys.path.append(root_dir)\r\n",
    "\r\n",
    "import muspy\r\n",
    "from pathlib import Path\r\n",
    "from tqdm.notebook import tqdm\r\n",
    "from src.utils import sequence_extraction"
   ],
   "outputs": [],
   "metadata": {}
  },
  {
   "cell_type": "markdown",
   "source": [
    "# Sequence Extraction with a Single Song"
   ],
   "metadata": {}
  },
  {
   "cell_type": "code",
   "execution_count": 2,
   "source": [
    "song = muspy.read('../data/reference_data/raw/theorytab_midi/a/a-day-to-remember/downfall-of-us-all/intro-and-verse_symbol_key.mid')\r\n",
    "print(song)\r\n",
    "song[0][-1]"
   ],
   "outputs": [
    {
     "output_type": "stream",
     "name": "stdout",
     "text": [
      "Music(metadata=Metadata(schema_version='0.0', source_filename='intro-and-verse_symbol_key.mid', source_format='midi'), resolution=480, tempos=[Tempo(time=0, qpm=129.00007740004645)], key_signatures=[KeySignature(time=0, root=0, mode='major')], time_signatures=[TimeSignature(time=0, numerator=4, denominator=4)], tracks=[Track(program=0, is_drum=False, name='melody', notes=[Note(time=7200, pitch=41, duration=120, velocity=80), Note(time=7320, pitch=43, duration=120, velocity=80), Note(time=7440, pitch=47, duration=240, velocity=80), ...])])\n"
     ]
    },
    {
     "output_type": "execute_result",
     "data": {
      "text/plain": [
       "Note(time=30480, pitch=62, duration=240, velocity=80)"
      ]
     },
     "metadata": {},
     "execution_count": 2
    }
   ],
   "metadata": {}
  },
  {
   "cell_type": "code",
   "execution_count": 3,
   "source": [
    "success = sequence_extraction.extract_melodies_to_folder(song, 'downfall-of-us-all', 'test_set', 4)\r\n",
    "print(\"Sequence extraction returned\", success)"
   ],
   "outputs": [
    {
     "output_type": "stream",
     "name": "stdout",
     "text": [
      "Sequence extraction returned 1\n"
     ]
    }
   ],
   "metadata": {}
  },
  {
   "cell_type": "markdown",
   "source": [
    "## Check if track is long enough for at least one call-and-response pair"
   ],
   "metadata": {}
  },
  {
   "cell_type": "code",
   "execution_count": 23,
   "source": [
    "\r\n",
    "end_time = song.tracks[0][-1].time / song.resolution\r\n",
    "length_in_bars = 4\r\n",
    "quarters_per_bar = song.time_signatures[0].numerator * 4 / song.time_signatures[0].denominator\r\n",
    "\r\n",
    "if round(end_time / quarters_per_bar) >= length_in_bars * 2:\r\n",
    "    print(\"Track is long enough.\")\r\n",
    "\r\n",
    "print(\"End time: %f\" % end_time)\r\n",
    "print(\"Duration in bars: \" + str(end_time / quarters_per_bar))\r\n",
    "print(\"Required duration in bars: \" + str(length_in_bars*2))"
   ],
   "outputs": [
    {
     "output_type": "stream",
     "name": "stdout",
     "text": [
      "End time: 0.015427\n",
      "Duration in bars: 0.0038568054687500002\n",
      "Required duration in bars: 8\n"
     ]
    }
   ],
   "metadata": {}
  },
  {
   "cell_type": "markdown",
   "source": [
    "# Sequence Extraction from a Dataset\n",
    "Using a Set of crawled Midis from Theorytab"
   ],
   "metadata": {}
  },
  {
   "cell_type": "code",
   "execution_count": 4,
   "source": [
    "source_folder = '../data/reference_data/raw/theorytab_midi'  \r\n",
    "sequence_extraction.split_all_midis_from_folder(source_folder, 'theorytab', 4)"
   ],
   "outputs": [
    {
     "output_type": "display_data",
     "data": {
      "application/vnd.jupyter.widget-view+json": {
       "version_major": 2,
       "version_minor": 0,
       "model_id": "ae41092be601491192325958bc64174b"
      },
      "text/plain": [
       "0it [00:00, ?it/s]"
      ]
     },
     "metadata": {}
    },
    {
     "output_type": "stream",
     "name": "stdout",
     "text": [
      "18167 songs processed in 561.4556267261505 seconds.\n",
      "17752 call-and-response pairs created.\n",
      "1666 songs had no melody track.\n",
      "4758 songs were too short.\n",
      "0 songs could not be processed due to an error.\n"
     ]
    }
   ],
   "metadata": {}
  }
 ]
}