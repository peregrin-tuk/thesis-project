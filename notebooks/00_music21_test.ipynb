{
 "metadata": {
  "language_info": {
   "codemirror_mode": {
    "name": "ipython",
    "version": 3
   },
   "file_extension": ".py",
   "mimetype": "text/x-python",
   "name": "python",
   "nbconvert_exporter": "python",
   "pygments_lexer": "ipython3",
   "version": "3.7.9-final"
  },
  "orig_nbformat": 2,
  "kernelspec": {
   "name": "python3",
   "display_name": "Python 3",
   "language": "python"
  }
 },
 "nbformat": 4,
 "nbformat_minor": 2,
 "cells": [
  {
   "cell_type": "code",
   "execution_count": 1,
   "metadata": {},
   "outputs": [],
   "source": [
    "import music21\n"
   ]
  },
  {
   "cell_type": "code",
   "execution_count": 2,
   "metadata": {},
   "outputs": [
    {
     "output_type": "stream",
     "name": "stdout",
     "text": [
      "\n",
      "______________________________________________________________________________ \n",
      "  \n",
      "Welcome the music21 Configuration Assistant. You will be guided through a \n",
      "number of questions to install and setup music21. Simply pressing return at a \n",
      "prompt will select a default, if available. \n",
      "\n",
      "You may run this configuration again at a later time by running \n",
      "music21/configure.py. \n",
      "  \n",
      "______________________________________________________________________________ \n",
      "  \n",
      "The BSD-licensed music21 software is distributed with a corpus of encoded \n",
      "compositions which are distributed with the permission of the encoders (and, \n",
      "where needed, the composers or arrangers) and where permitted under United \n",
      "States copyright law. Some encodings included in the corpus may not be used \n",
      "for commercial uses or have other restrictions: please see the licenses \n",
      "embedded in individual compositions or directories for more details. \n",
      "  \n",
      "In addition to the corpus distributed with music21, other pieces are not \n",
      "included in this distribution, but are indexed as links to other web sites \n",
      "where they can be downloaded (the \"virtual corpus\"). If you would like, \n",
      "music21 can help your computer automatically resolve these links and bring \n",
      "them to your hard drive for analysis. \n",
      "To the best of our knowledge, the music (if not the encodings) in the corpus \n",
      "are either out of copyright in the United States and/or are licensed for non- \n",
      "commercial use. These works, along with any works linked to in the virtual \n",
      "corpus, may or may not be free in your jurisdiction. If you believe this \n",
      "message to be in error regarding one or more works please contact Michael \n",
      "Cuthbert at cuthbert@mit.edu. \n",
      "  \n",
      "Would you like to: \n",
      "[1] Acknowledge these terms and allow music21 to aid in finding pieces in the \n",
      "corpus \n",
      "[2] Acknowledge these terms and block the virtual corpus \n",
      "[3] Do not agree to these terms and will not use music21 (agreeing to the \n",
      "terms of the corpus is mandatory for using the system). \n",
      "  \n",
      "Select a number from the preceding options (default is 1): \n",
      "Auto Download set to: deny \n",
      "  \n",
      "______________________________________________________________________________ \n",
      "  \n",
      "Would you like to send a pre-formatted email to music21 regarding your \n",
      "installation? Installation reports help us make music21 work better for you: \n",
      "Enter Yes or No (default is Yes): \n",
      "______________________________________________________________________________ \n",
      "  \n",
      "The music21 discussion group provides a forum for asking questions and getting \n",
      "help. Would you like to see the music21 discussion list or sign up for \n",
      "updates? Enter Yes or No (default is Yes): \n",
      "______________________________________________________________________________ \n",
      "  \n",
      "Would you like to view the music21 documentation in a web browser? Enter Yes \n",
      "or No (default is Yes): \n",
      "______________________________________________________________________________ \n",
      "  \n",
      "The music21 Configuration Assistant is complete. Press return to continue. "
     ]
    }
   ],
   "source": [
    "music21.configure.run()"
   ]
  },
  {
   "cell_type": "code",
   "execution_count": 3,
   "metadata": {},
   "outputs": [],
   "source": [
    "music21.environment.set('musescoreDirectPNGPath', 'C:\\\\Program Files\\\\MuseScore 3\\\\bin\\\\MuseScore3.exe')\n",
    "music21.environment.set('musicxmlPath', 'C:\\\\Program Files\\\\MuseScore 3\\\\bin\\\\MuseScore3.exe')"
   ]
  },
  {
   "cell_type": "code",
   "execution_count": 4,
   "metadata": {},
   "outputs": [
    {
     "output_type": "display_data",
     "data": {
      "text/plain": "<IPython.core.display.HTML object>",
      "text/html": "\n                <div id='midiPlayerDiv299'></div>\n                <link rel=\"stylesheet\" href=\"//cuthbertLab.github.io/music21j/css/m21.css\"\n                    type=\"text/css\" />\n                <script>\n                require.config({\n                    paths: {'music21': '//cuthbertLab.github.io/music21j/src/music21'}\n                });\n                require(['music21'], function() {\n                               mp = new music21.miditools.MidiPlayer();\n                               mp.addPlayer('#midiPlayerDiv299');\n                               mp.base64Load('data:audio/midi;base64,TVRoZAAAAAYAAQABBABNVHJrAAAA/gD/AwAA4ABAAMAAAP9RAwehIAD/WAQEAhgIiACQOU2EAIA5AIErkDlNggCAOQCCVZA5TYIAgDkAgSuQOU2CAIA5AFWQOU2CAIA5AIIAkDhNggCAOACCAJA9TYQAkE5iggCQTFpVgE4AgSuATAAAkElSggCASQAAkExWggCATAAAkE5eggCQTFZVgE4AgSuATAAAkElWggCASQAAkExaggCATAAAkE5eggCQTFZVgE4AgSuATAAAkElWggCASQAAkEdKggCARwAAkElSggCASQAAkEdSggCARwAAkElaggCASQAAkE5mggCATgAAkExmggCATACCAIA9AIgA/y8A');\n                        });\n                </script>"
     },
     "metadata": {}
    }
   ],
   "source": [
    "stream = music21.converter.parse('../midi/examples/monophonic/africa_intro_2b.mid')\n",
    "stream.show('midi')"
   ]
  },
  {
   "cell_type": "code",
   "execution_count": 5,
   "metadata": {},
   "outputs": [
    {
     "output_type": "execute_result",
     "data": {
      "text/plain": [
       "<music21.key.Key of A major>"
      ]
     },
     "metadata": {},
     "execution_count": 5
    }
   ],
   "source": [
    "stream.analyze('key')"
   ]
  },
  {
   "cell_type": "code",
   "execution_count": 6,
   "metadata": {},
   "outputs": [
    {
     "output_type": "stream",
     "name": "stdout",
     "text": [
      "9 A3\n9 A3\n9 A3\n9 A3\n9 A3\n8 G#3\n1 C#4\n6 F#5\n4 E5\n1 C#5\n4 E5\n6 F#5\n4 E5\n1 C#5\n4 E5\n6 F#5\n4 E5\n1 C#5\n11 B4\n1 C#5\n11 B4\n1 C#5\n6 F#5\n4 E5\n"
     ]
    }
   ],
   "source": [
    "for note in stream.parts[0].notes:\n",
    "    print(str(note.pitch.pitchClass) + \" \" + str(note.pitch))"
   ]
  },
  {
   "cell_type": "code",
   "execution_count": 7,
   "metadata": {},
   "outputs": [
    {
     "output_type": "execute_result",
     "data": {
      "text/plain": [
       "{1, 4, 6, 8, 9, 11}"
      ]
     },
     "metadata": {},
     "execution_count": 7
    }
   ],
   "source": [
    "allowedPitch = set()\n",
    "for note in stream.parts[0].notes:\n",
    "    allowedPitch.add(note.pitch.pitchClass)\n",
    "print(allowedPitch)"
   ]
  },
  {
   "cell_type": "code",
   "execution_count": 9,
   "metadata": {},
   "outputs": [
    {
     "output_type": "error",
     "ename": "AttributeError",
     "evalue": "'Note' object has no attribute 'Note'",
     "traceback": [
      "\u001b[1;31m---------------------------------------------------------------------------\u001b[0m",
      "\u001b[1;31mAttributeError\u001b[0m                            Traceback (most recent call last)",
      "\u001b[1;32m<ipython-input-9-2c095e5814d0>\u001b[0m in \u001b[0;36m<module>\u001b[1;34m\u001b[0m\n\u001b[1;32m----> 1\u001b[1;33m \u001b[0mb\u001b[0m \u001b[1;33m=\u001b[0m \u001b[0mnote\u001b[0m\u001b[1;33m.\u001b[0m\u001b[0mNote\u001b[0m\u001b[1;33m(\u001b[0m\u001b[1;34m\"B-2\"\u001b[0m\u001b[1;33m)\u001b[0m\u001b[1;33m\u001b[0m\u001b[1;33m\u001b[0m\u001b[0m\n\u001b[0m\u001b[0;32m      2\u001b[0m \u001b[0mb\u001b[0m\u001b[1;33m.\u001b[0m\u001b[0mshow\u001b[0m\u001b[1;33m(\u001b[0m\u001b[1;33m)\u001b[0m\u001b[1;33m\u001b[0m\u001b[1;33m\u001b[0m\u001b[0m\n",
      "\u001b[1;31mAttributeError\u001b[0m: 'Note' object has no attribute 'Note'"
     ]
    }
   ],
   "source": [
    "b = music21.note.Note(\"B-2\")"
   ]
  },
  {
   "cell_type": "code",
   "execution_count": 14,
   "metadata": {},
   "outputs": [
    {
     "output_type": "stream",
     "name": "stdout",
     "text": [
      "{'directoryScratch': None, 'lilypondPath': 'D:\\\\FH\\\\Masterarbeit\\\\Project\\\\lilypond', 'lilypondVersion': None, 'lilypondFormat': 'pdf', 'lilypondBackend': 'ps', 'musicxmlPath': 'D:\\\\FH\\\\Masterarbeit\\\\Project\\\\C:\\\\Program Files\\\\MuseScore 3.5\\\\MuseScore.exe', 'midiPath': None, 'graphicsPath': None, 'vectorPath': None, 'pdfPath': None, 'braillePath': None, 'musescoreDirectPNGPath': 'C:\\\\Program Files\\\\MuseScore 3\\\\bin\\\\MuseScore3.exe', 'showFormat': 'musicxml', 'writeFormat': 'musicxml', 'ipythonShowFormat': 'ipython.musicxml.png', 'autoDownload': 'allow', 'debug': '0', 'warnings': '1', 'localCorpusSettings': LocalCorpusSettings([]), 'localCorporaSettings': {}, 'manualCoreCorpusPath': None}\n"
     ]
    }
   ],
   "source": [
    "print(environment.Environment())"
   ]
  }
 ]
}