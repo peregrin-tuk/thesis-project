{
 "metadata": {
  "language_info": {
   "codemirror_mode": {
    "name": "ipython",
    "version": 3
   },
   "file_extension": ".py",
   "mimetype": "text/x-python",
   "name": "python",
   "nbconvert_exporter": "python",
   "pygments_lexer": "ipython3",
   "version": "3.7.9-final"
  },
  "orig_nbformat": 2,
  "kernelspec": {
   "name": "python3",
   "display_name": "Python 3",
   "language": "python"
  }
 },
 "nbformat": 4,
 "nbformat_minor": 2,
 "cells": [
  {
   "cell_type": "code",
   "execution_count": 1,
   "metadata": {},
   "outputs": [],
   "source": [
    "import music21\n"
   ]
  },
  {
   "cell_type": "code",
   "execution_count": 2,
   "metadata": {},
   "outputs": [],
   "source": [
    "#music21.configure.run()"
   ]
  },
  {
   "cell_type": "code",
   "execution_count": 3,
   "metadata": {},
   "outputs": [],
   "source": [
    "#music21.environment.set('musescoreDirectPNGPath', 'C:\\\\Program Files\\\\MuseScore 3\\\\bin\\\\MuseScore3.exe')\n",
    "#music21.environment.set('musicxmlPath', 'C:\\\\Program Files\\\\MuseScore 3\\\\bin\\\\MuseScore3.exe')"
   ]
  },
  {
   "cell_type": "code",
   "execution_count": 4,
   "metadata": {},
   "outputs": [
    {
     "output_type": "display_data",
     "data": {
      "text/plain": "<IPython.core.display.HTML object>",
      "text/html": "\n                <div id='midiPlayerDiv377'></div>\n                <link rel=\"stylesheet\" href=\"//cuthbertLab.github.io/music21j/css/m21.css\"\n                    type=\"text/css\" />\n                <script>\n                require.config({\n                    paths: {'music21': '//cuthbertLab.github.io/music21j/src/music21'}\n                });\n                require(['music21'], function() {\n                               mp = new music21.miditools.MidiPlayer();\n                               mp.addPlayer('#midiPlayerDiv377');\n                               mp.base64Load('data:audio/midi;base64,TVRoZAAAAAYAAQABBABNVHJrAAAA/gD/AwAA4ABAAMAAAP9RAwehIAD/WAQEAhgIiACQOU2EAIA5AIErkDlNggCAOQCCVZA5TYIAgDkAgSuQOU2CAIA5AFWQOU2CAIA5AIIAkDhNggCAOACCAJA9TYQAkE5iggCQTFpVgE4AgSuATAAAkElSggCASQAAkExWggCATAAAkE5eggCQTFZVgE4AgSuATAAAkElWggCASQAAkExaggCATAAAkE5eggCQTFZVgE4AgSuATAAAkElWggCASQAAkEdKggCARwAAkElSggCASQAAkEdSggCARwAAkElaggCASQAAkE5mggCATgAAkExmggCATACCAIA9AIgA/y8A');\n                        });\n                </script>"
     },
     "metadata": {}
    }
   ],
   "source": [
    "stream = music21.converter.parse('../midi/examples/monophonic/africa_intro_2b.mid')\n",
    "stream.show('midi')"
   ]
  },
  {
   "cell_type": "code",
   "execution_count": 5,
   "metadata": {},
   "outputs": [
    {
     "output_type": "execute_result",
     "data": {
      "text/plain": [
       "<music21.key.Key of A major>"
      ]
     },
     "metadata": {},
     "execution_count": 5
    }
   ],
   "source": [
    "stream.analyze('key')"
   ]
  },
  {
   "cell_type": "code",
   "execution_count": 6,
   "metadata": {},
   "outputs": [
    {
     "output_type": "stream",
     "name": "stdout",
     "text": [
      "9 A3\n9 A3\n9 A3\n9 A3\n9 A3\n8 G#3\n1 C#4\n6 F#5\n4 E5\n1 C#5\n4 E5\n6 F#5\n4 E5\n1 C#5\n4 E5\n6 F#5\n4 E5\n1 C#5\n11 B4\n1 C#5\n11 B4\n1 C#5\n6 F#5\n4 E5\n"
     ]
    }
   ],
   "source": [
    "for note in stream.parts[0].notes:\n",
    "    print(str(note.pitch.pitchClass) + \" \" + str(note.pitch))"
   ]
  },
  {
   "cell_type": "code",
   "execution_count": 7,
   "metadata": {},
   "outputs": [
    {
     "output_type": "stream",
     "name": "stdout",
     "text": [
      "{1, 4, 6, 8, 9, 11}\n"
     ]
    }
   ],
   "source": [
    "allowedPitch = set()\n",
    "for note in stream.parts[0].notes:\n",
    "    allowedPitch.add(note.pitch.pitchClass)\n",
    "print(allowedPitch)"
   ]
  },
  {
   "cell_type": "code",
   "execution_count": 8,
   "metadata": {},
   "outputs": [],
   "source": [
    "b = music21.note.Note(\"B-2\")"
   ]
  },
  {
   "cell_type": "code",
   "execution_count": 9,
   "metadata": {},
   "outputs": [
    {
     "output_type": "error",
     "ename": "NameError",
     "evalue": "name 'environment' is not defined",
     "traceback": [
      "\u001b[1;31m---------------------------------------------------------------------------\u001b[0m",
      "\u001b[1;31mNameError\u001b[0m                                 Traceback (most recent call last)",
      "\u001b[1;32m<ipython-input-9-bc3779fce134>\u001b[0m in \u001b[0;36m<module>\u001b[1;34m\u001b[0m\n\u001b[1;32m----> 1\u001b[1;33m \u001b[0mprint\u001b[0m\u001b[1;33m(\u001b[0m\u001b[0menvironment\u001b[0m\u001b[1;33m.\u001b[0m\u001b[0mEnvironment\u001b[0m\u001b[1;33m(\u001b[0m\u001b[1;33m)\u001b[0m\u001b[1;33m)\u001b[0m\u001b[1;33m\u001b[0m\u001b[1;33m\u001b[0m\u001b[0m\n\u001b[0m",
      "\u001b[1;31mNameError\u001b[0m: name 'environment' is not defined"
     ]
    }
   ],
   "source": [
    "print(environment.Environment())"
   ]
  }
 ]
}