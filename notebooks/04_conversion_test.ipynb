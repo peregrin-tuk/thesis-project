{
 "metadata": {
  "language_info": {
   "codemirror_mode": {
    "name": "ipython",
    "version": 3
   },
   "file_extension": ".py",
   "mimetype": "text/x-python",
   "name": "python",
   "nbconvert_exporter": "python",
   "pygments_lexer": "ipython3",
   "version": "3.7.9-final"
  },
  "orig_nbformat": 2,
  "kernelspec": {
   "name": "python3",
   "display_name": "Python 3.7.9 64-bit ('mpro': conda)",
   "metadata": {
    "interpreter": {
     "hash": "75a9ca51cf2daeb22ff0ca8785d387c49ea4e2c8c6428abeae8aacce62ee187c"
    }
   }
  }
 },
 "nbformat": 4,
 "nbformat_minor": 2,
 "cells": [
  {
   "source": [
    "# Imports"
   ],
   "cell_type": "markdown",
   "metadata": {}
  },
  {
   "cell_type": "code",
   "execution_count": 6,
   "metadata": {},
   "outputs": [],
   "source": [
    "import sys, os\n",
    "\n",
    "root_dir = os.path.join(os.getcwd(), '..')\n",
    "sys.path.append(root_dir)\n",
    "\n",
    "import time\n",
    "from src.io import output, input\n",
    "from src.io import conversion as conv\n",
    "from note_seq import midi_to_note_sequence\n",
    "from mido import MidiFile, MidiTrack"
   ]
  },
  {
   "cell_type": "code",
   "execution_count": 2,
   "metadata": {},
   "outputs": [],
   "source": [
    "midi = input.loadMidiFile('../midi/examples/monophonic/bohemian_mama_4b.mid')\n",
    "mmido = MidiFile('../midi/examples/monophonic/bohemian_mama_4b.mid')\n",
    "note_seq = midi_to_note_sequence(midi)"
   ]
  },
  {
   "source": [
    "# Conversion Tests\n",
    "\n",
    "### File System Conversion"
   ],
   "cell_type": "markdown",
   "metadata": {}
  },
  {
   "cell_type": "code",
   "execution_count": 5,
   "metadata": {},
   "outputs": [
    {
     "output_type": "stream",
     "name": "stdout",
     "text": [
      "[IO] file saved to:\n"
     ]
    },
    {
     "output_type": "display_data",
     "data": {
      "text/plain": "d:\\FH\\Masterarbeit\\Project\\midi\\tmp\\conversion_cache.mid",
      "text/html": "<a href='../midi/tmp/conversion_cache.mid' target='_blank'>../midi/tmp/conversion_cache.mid</a><br>"
     },
     "metadata": {}
    },
    {
     "output_type": "stream",
     "name": "stdout",
     "text": [
      "🎉 Converted PM to Music21 in 0.3978545665740967 sec.\n🎉 Converted NS to Music21 in 0.08800077438354492 sec.\n🎉 Converted Music21 to NS in 0.07599949836730957 sec.\n🎉 Converted Mido to NS in    0.009997367858886719 sec.\n"
     ]
    }
   ],
   "source": [
    "t1 = time.time()\n",
    "stream = conv.pretty_midi_to_music21_fs(midi)\n",
    "t2 = time.time()\n",
    "print('🎉 Converted PM to Music21 in ' + str(t2-t1) + ' sec.')\n",
    "\n",
    "t1 = time.time()\n",
    "stream = conv.note_seq_to_music21_fs(note_seq)\n",
    "t2 = time.time()\n",
    "print('🎉 Converted NS to Music21 in ' + str(t2-t1) + ' sec.')\n",
    "\n",
    "t1 = time.time()\n",
    "seq = conv.music21_to_note_seq_fs(stream)\n",
    "t2 = time.time()\n",
    "print('🎉 Converted Music21 to NS in ' + str(t2-t1) + ' sec.')\n",
    "\n",
    "t1 = time.time()\n",
    "seq = conv.mido_to_pretty_midi_fs(mmido)\n",
    "t2 = time.time()\n",
    "print('🎉 Converted Mido to NS in    ' + str(t2-t1) + ' sec.')"
   ]
  },
  {
   "source": [
    "### Muspy Conversion"
   ],
   "cell_type": "markdown",
   "metadata": {}
  },
  {
   "cell_type": "code",
   "execution_count": 8,
   "metadata": {},
   "outputs": [
    {
     "output_type": "stream",
     "name": "stdout",
     "text": [
      "🎉 Converted PM to Music21 in 0.005013227462768555 sec.\n🎉 Converted NS to Music21 in 0.011001110076904297 sec.\n🎉 Converted Music21 to NS in 0.015000343322753906 sec.\n🎉 Converted Mido to NS in    0.0010042190551757812 sec.\n"
     ]
    }
   ],
   "source": [
    "t1 = time.time()\n",
    "stream = conv.pretty_midi_to_music21_mp(midi)\n",
    "t2 = time.time()\n",
    "print('🎉 Converted PM to Music21 in ' + str(t2-t1) + ' sec.')\n",
    "\n",
    "t1 = time.time()\n",
    "stream = conv.note_seq_to_music21_mp(note_seq)\n",
    "t2 = time.time()\n",
    "print('🎉 Converted NS to Music21 in ' + str(t2-t1) + ' sec.')\n",
    "\n",
    "t1 = time.time()\n",
    "seq = conv.music21_to_note_seq_mp(stream)\n",
    "t2 = time.time() \n",
    "print('🎉 Converted Music21 to NS in ' + str(t2-t1) + ' sec.')\n",
    "\n",
    "t1 = time.time()\n",
    "seq = conv.mido_to_pretty_midi_mp(mmido)\n",
    "t2 = time.time()\n",
    "print('🎉 Converted Mido to NS in    ' + str(t2-t1) + ' sec.')"
   ]
  }
 ]
}