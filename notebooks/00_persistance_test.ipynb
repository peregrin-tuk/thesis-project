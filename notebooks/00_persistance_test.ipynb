{
 "metadata": {
  "language_info": {
   "codemirror_mode": {
    "name": "ipython",
    "version": 3
   },
   "file_extension": ".py",
   "mimetype": "text/x-python",
   "name": "python",
   "nbconvert_exporter": "python",
   "pygments_lexer": "ipython3",
   "version": "3.7.9-final"
  },
  "orig_nbformat": 2,
  "kernelspec": {
   "name": "python3",
   "display_name": "Python 3",
   "language": "python"
  }
 },
 "nbformat": 4,
 "nbformat_minor": 2,
 "cells": [
  {
   "source": [
    "## Imports"
   ],
   "cell_type": "markdown",
   "metadata": {}
  },
  {
   "cell_type": "code",
   "execution_count": 13,
   "metadata": {},
   "outputs": [],
   "source": [
    "import mido\n",
    "import sys, os\n",
    "\n",
    "root_dir = os.path.join(os.getcwd(), '..')\n",
    "sys.path.append(root_dir)\n",
    "\n",
    "from src.io import input\n",
    "from src.db import connection as db"
   ]
  },
  {
   "cell_type": "code",
   "execution_count": 14,
   "metadata": {},
   "outputs": [],
   "source": [
    "midi = input.loadMidiFile('../midi/examples/monophonic/mii1_4b.mid')\n",
    "midi2 = input.loadMidiFile('../midi/examples/monophonic/mii2_4b.mid')\n",
    "midi3 = input.loadMidiFile('../midi/examples/monophonic/mii3_4b.mid')"
   ]
  },
  {
   "source": [
    "## Create Tables"
   ],
   "cell_type": "markdown",
   "metadata": {}
  },
  {
   "cell_type": "code",
   "execution_count": 15,
   "metadata": {},
   "outputs": [],
   "source": [
    "# connection.create_tables()"
   ]
  },
  {
   "source": [
    "## Store Midi"
   ],
   "cell_type": "markdown",
   "metadata": {}
  },
  {
   "cell_type": "code",
   "execution_count": 16,
   "metadata": {},
   "outputs": [
    {
     "output_type": "execute_result",
     "data": {
      "text/plain": [
       "6"
      ]
     },
     "metadata": {},
     "execution_count": 16
    }
   ],
   "source": [
    "id = db.store_midi(midi, connection.SequenceType.EXAMPLE)\n",
    "print(id)"
   ]
  },
  {
   "source": [
    "## Store Generation Result"
   ],
   "cell_type": "markdown",
   "metadata": {}
  },
  {
   "cell_type": "code",
   "execution_count": 17,
   "metadata": {},
   "outputs": [
    {
     "output_type": "execute_result",
     "data": {
      "text/plain": [
       "2"
      ]
     },
     "metadata": {},
     "execution_count": 17
    }
   ],
   "source": [
    "id = db.store_generation_result(\n",
    "    midi,\n",
    "    midi2,\n",
    "    midi3,\n",
    "    gen_dur = 3.456,\n",
    "    gen_model = 'cat-mel_4bar_big',\n",
    "    gen_temperature = 0.2,\n",
    "    adapt_dur = 0.987654321)\n",
    "print(id)"
   ]
  },
  {
   "source": [
    "## Read Generation Result"
   ],
   "cell_type": "markdown",
   "metadata": {}
  },
  {
   "cell_type": "code",
   "execution_count": 18,
   "metadata": {},
   "outputs": [
    {
     "output_type": "execute_result",
     "data": {
      "text/plain": [
       "'cat-mel_4bar_big'"
      ]
     },
     "metadata": {},
     "execution_count": 18
    }
   ],
   "source": [
    "result = db.read_generation_result(1)\n",
    "print(result['gen_model'])"
   ]
  }
 ]
}