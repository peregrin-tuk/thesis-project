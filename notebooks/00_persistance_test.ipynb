{
 "metadata": {
  "language_info": {
   "codemirror_mode": {
    "name": "ipython",
    "version": 3
   },
   "file_extension": ".py",
   "mimetype": "text/x-python",
   "name": "python",
   "nbconvert_exporter": "python",
   "pygments_lexer": "ipython3",
   "version": "3.7.9-final"
  },
  "orig_nbformat": 2,
  "kernelspec": {
   "name": "python379jvsc74a57bd075a9ca51cf2daeb22ff0ca8785d387c49ea4e2c8c6428abeae8aacce62ee187c",
   "display_name": "Python 3.7.9 64-bit ('mpro': conda)"
  }
 },
 "nbformat": 4,
 "nbformat_minor": 2,
 "cells": [
  {
   "source": [
    "## Imports"
   ],
   "cell_type": "markdown",
   "metadata": {}
  },
  {
   "cell_type": "code",
   "execution_count": 1,
   "metadata": {},
   "outputs": [
    {
     "output_type": "stream",
     "name": "stdout",
     "text": [
      "pygame 2.0.1 (SDL 2.0.14, Python 3.7.9)\n",
      "Hello from the pygame community. https://www.pygame.org/contribute.html\n",
      "C:\\Users\\Eric\\miniconda3\\envs\\mpro\\lib\\site-packages\\pydub\\utils.py:170: RuntimeWarning: Couldn't find ffmpeg or avconv - defaulting to ffmpeg, but may not work\n",
      "  warn(\"Couldn't find ffmpeg or avconv - defaulting to ffmpeg, but may not work\", RuntimeWarning)\n"
     ]
    }
   ],
   "source": [
    "import mido\n",
    "import sys, os\n",
    "\n",
    "root_dir = os.path.join(os.getcwd(), '..')\n",
    "sys.path.append(root_dir)\n",
    "\n",
    "from src.io import input\n",
    "from src.db import generations as db\n",
    "from src.datatypes.melody_data import MelodyData\n",
    "from definitions import SequenceType"
   ]
  },
  {
   "cell_type": "code",
   "execution_count": 3,
   "metadata": {},
   "outputs": [],
   "source": [
    "midi = input.loadMidiFile('../midi/examples/monophonic/mii1_4b.mid')\n",
    "midi2 = input.loadMidiFile('../midi/examples/monophonic/mii2_4b.mid')\n",
    "midi3 = input.loadMidiFile('../midi/examples/monophonic/mii3_4b.mid')"
   ]
  },
  {
   "source": [
    "## Create Tables"
   ],
   "cell_type": "markdown",
   "metadata": {}
  },
  {
   "cell_type": "code",
   "execution_count": 4,
   "metadata": {},
   "outputs": [],
   "source": [
    "db.create_tables()"
   ]
  },
  {
   "source": [
    "## Store Midi"
   ],
   "cell_type": "markdown",
   "metadata": {}
  },
  {
   "cell_type": "code",
   "execution_count": 5,
   "metadata": {},
   "outputs": [
    {
     "output_type": "stream",
     "name": "stdout",
     "text": [
      "1\n"
     ]
    }
   ],
   "source": [
    "mel_data = MelodyData(midi, SequenceType.EXAMPLE)\n",
    "id = db.store_midi(mel_data)\n",
    "print(id)"
   ]
  },
  {
   "source": [
    "## Store Generation Result"
   ],
   "cell_type": "markdown",
   "metadata": {}
  },
  {
   "cell_type": "code",
   "execution_count": 6,
   "metadata": {},
   "outputs": [
    {
     "output_type": "stream",
     "name": "stdout",
     "text": [
      "1\n"
     ]
    }
   ],
   "source": [
    "input_data = MelodyData(midi, SequenceType.EXAMPLE, analysis={'analysis test dict': 'nothing here'})\n",
    "\n",
    "gen_base_data = MelodyData(midi2, SequenceType.GEN_BASE, {'generation': {'gen_dur': 3.456, 'model': 'MusicVAE', 'checkpoint': 'cat-mel_4bar_big', 'temperature': 0.2}}, {'analysis test dict': 'nothing here'})\n",
    "\n",
    "result_data = MelodyData(midi3, SequenceType.OUTPUT, {'generation': {'gen_dur': 3.456, 'model': 'MusicVAE', 'checkpoint': 'cat-mel_4bar_big', 'temperature': 0.2}, 'adaptation': {'steps': [{'testlist': 'of steps'}, {'another': 'one'}], 'total_duration': 0.123 }})\n",
    "\n",
    "id = db.store_generation_result(\n",
    "    input_data,\n",
    "    gen_base_data,\n",
    "    result_data)\n",
    "print(id)"
   ]
  },
  {
   "source": [
    "## Read Generation Result"
   ],
   "cell_type": "markdown",
   "metadata": {}
  },
  {
   "cell_type": "code",
   "execution_count": 7,
   "metadata": {},
   "outputs": [
    {
     "output_type": "stream",
     "name": "stdout",
     "text": [
      "MusicVAE cat-mel_4bar_big\n"
     ]
    }
   ],
   "source": [
    "result = db.read_generation_result(1)\n",
    "print(result['gen_model'])"
   ]
  },
  {
   "cell_type": "code",
   "execution_count": 18,
   "metadata": {},
   "outputs": [
    {
     "output_type": "execute_result",
     "data": {
      "text/plain": [
       "'{\"generation\": {\"gen_dur\": 3.456, \"model\": \"MusicVAE\", \"checkpoint\": \"cat-mel_4bar_big\", \"temperature\": 0.2}, \"adaptation\": {\"steps\": [{\"testlist\": \"of steps\"}, {\"another\": \"one\"}], \"total_duration\": 0.123}}'"
      ]
     },
     "metadata": {},
     "execution_count": 18
    }
   ],
   "source": [
    "import json\n",
    "\n",
    "x = json.dumps(result_data.meta)\n",
    "x"
   ]
  },
  {
   "source": [
    "## Convert object entries in dict to string"
   ],
   "cell_type": "markdown",
   "metadata": {}
  },
  {
   "cell_type": "code",
   "execution_count": 2,
   "metadata": {},
   "outputs": [
    {
     "output_type": "stream",
     "name": "stdout",
     "text": [
      "{'key': <music21.key.Key of C major>}\n{'key': 'C major'}\n"
     ]
    }
   ],
   "source": [
    "from music21.key import Key\n",
    "\n",
    "k = Key('C')\n",
    "\n",
    "dictionary = {'key': k}\n",
    "print(dictionary)\n",
    "result = db.dict_values_to_string(dictionary)\n",
    "print(result)"
   ]
  }
 ]
}