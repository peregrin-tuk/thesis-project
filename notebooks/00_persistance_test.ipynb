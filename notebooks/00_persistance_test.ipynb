{
 "metadata": {
  "language_info": {
   "codemirror_mode": {
    "name": "ipython",
    "version": 3
   },
   "file_extension": ".py",
   "mimetype": "text/x-python",
   "name": "python",
   "nbconvert_exporter": "python",
   "pygments_lexer": "ipython3",
   "version": "3.7.9"
  },
  "orig_nbformat": 2,
  "kernelspec": {
   "name": "python3",
   "display_name": "Python 3.7.9 64-bit ('mpro': conda)"
  },
  "interpreter": {
   "hash": "75a9ca51cf2daeb22ff0ca8785d387c49ea4e2c8c6428abeae8aacce62ee187c"
  }
 },
 "nbformat": 4,
 "nbformat_minor": 2,
 "cells": [
  {
   "cell_type": "markdown",
   "source": [
    "## Imports"
   ],
   "metadata": {}
  },
  {
   "cell_type": "code",
   "execution_count": 1,
   "source": [
    "import mido\r\n",
    "import sys, os\r\n",
    "\r\n",
    "root_dir = os.path.join(os.getcwd(), '..')\r\n",
    "sys.path.append(root_dir)\r\n",
    "\r\n",
    "from src.io import input\r\n",
    "from src.db import generations as db\r\n",
    "from src.datatypes.melody_data import MelodyData\r\n",
    "from definitions import SequenceType"
   ],
   "outputs": [
    {
     "output_type": "stream",
     "name": "stdout",
     "text": [
      "pygame 2.0.1 (SDL 2.0.14, Python 3.7.9)\n",
      "Hello from the pygame community. https://www.pygame.org/contribute.html\n"
     ]
    },
    {
     "output_type": "stream",
     "name": "stderr",
     "text": [
      "C:\\Users\\Eric\\miniconda3\\envs\\mpro\\lib\\site-packages\\pydub\\utils.py:170: RuntimeWarning: Couldn't find ffmpeg or avconv - defaulting to ffmpeg, but may not work\n",
      "  warn(\"Couldn't find ffmpeg or avconv - defaulting to ffmpeg, but may not work\", RuntimeWarning)\n"
     ]
    }
   ],
   "metadata": {}
  },
  {
   "cell_type": "code",
   "execution_count": 3,
   "source": [
    "midi = input.loadMidiFile('../midi/examples/monophonic/mii1_4b.mid')\r\n",
    "midi2 = input.loadMidiFile('../midi/examples/monophonic/mii2_4b.mid')\r\n",
    "midi3 = input.loadMidiFile('../midi/examples/monophonic/mii3_4b.mid')"
   ],
   "outputs": [],
   "metadata": {}
  },
  {
   "cell_type": "markdown",
   "source": [
    "## Create Tables"
   ],
   "metadata": {}
  },
  {
   "cell_type": "code",
   "execution_count": 4,
   "source": [
    "db.create_tables()"
   ],
   "outputs": [],
   "metadata": {}
  },
  {
   "cell_type": "markdown",
   "source": [
    "## Store Midi"
   ],
   "metadata": {}
  },
  {
   "cell_type": "code",
   "execution_count": 5,
   "source": [
    "mel_data = MelodyData(midi, SequenceType.FILE_INPUT)\r\n",
    "id = db.store_midi(mel_data)\r\n",
    "print(id)"
   ],
   "outputs": [
    {
     "output_type": "stream",
     "name": "stdout",
     "text": [
      "1\n"
     ]
    }
   ],
   "metadata": {}
  },
  {
   "cell_type": "markdown",
   "source": [
    "## Store Generation Result"
   ],
   "metadata": {}
  },
  {
   "cell_type": "code",
   "execution_count": 6,
   "source": [
    "input_data = MelodyData(midi, SequenceType.FILE_INPUT, analysis={'analysis test dict': 'nothing here'})\r\n",
    "\r\n",
    "gen_base_data = MelodyData(midi2, SequenceType.GEN_BASE, {'generation': {'gen_dur': 3.456, 'model': 'MusicVAE', 'checkpoint': 'cat-mel_4bar_big', 'temperature': 0.2}}, {'analysis test dict': 'nothing here'})\r\n",
    "\r\n",
    "result_data = MelodyData(midi3, SequenceType.OUTPUT, {'generation': {'gen_dur': 3.456, 'model': 'MusicVAE', 'checkpoint': 'cat-mel_4bar_big', 'temperature': 0.2}, 'adaptation': {'steps': [{'testlist': 'of steps'}, {'another': 'one'}], 'total_duration': 0.123 }})\r\n",
    "\r\n",
    "id = db.store_generation_result(\r\n",
    "    input_data,\r\n",
    "    gen_base_data,\r\n",
    "    result_data)\r\n",
    "print(id)"
   ],
   "outputs": [
    {
     "output_type": "stream",
     "name": "stdout",
     "text": [
      "1\n"
     ]
    }
   ],
   "metadata": {}
  },
  {
   "cell_type": "markdown",
   "source": [
    "## Read Generation Result"
   ],
   "metadata": {}
  },
  {
   "cell_type": "code",
   "execution_count": 3,
   "source": [
    "result = db.read_generation_result(1)\r\n",
    "print(result['input_id'])"
   ],
   "outputs": [
    {
     "output_type": "stream",
     "name": "stdout",
     "text": [
      "1\n"
     ]
    }
   ],
   "metadata": {}
  },
  {
   "cell_type": "code",
   "execution_count": 18,
   "source": [
    "import json\r\n",
    "\r\n",
    "x = json.dumps(result_data.meta)\r\n",
    "x"
   ],
   "outputs": [
    {
     "output_type": "execute_result",
     "data": {
      "text/plain": [
       "'{\"generation\": {\"gen_dur\": 3.456, \"model\": \"MusicVAE\", \"checkpoint\": \"cat-mel_4bar_big\", \"temperature\": 0.2}, \"adaptation\": {\"steps\": [{\"testlist\": \"of steps\"}, {\"another\": \"one\"}], \"total_duration\": 0.123}}'"
      ]
     },
     "metadata": {},
     "execution_count": 18
    }
   ],
   "metadata": {}
  },
  {
   "cell_type": "markdown",
   "source": [
    "## Convert object entries in dict to string"
   ],
   "metadata": {}
  },
  {
   "cell_type": "code",
   "execution_count": 2,
   "source": [
    "from music21.key import Key\r\n",
    "\r\n",
    "k = Key('C')\r\n",
    "\r\n",
    "dictionary = {'key': k}\r\n",
    "print(dictionary)\r\n",
    "result = db.dict_values_to_string(dictionary)\r\n",
    "print(result)"
   ],
   "outputs": [
    {
     "output_type": "stream",
     "name": "stdout",
     "text": [
      "{'key': <music21.key.Key of C major>}\n",
      "{'key': 'C major'}\n"
     ]
    }
   ],
   "metadata": {}
  }
 ]
}