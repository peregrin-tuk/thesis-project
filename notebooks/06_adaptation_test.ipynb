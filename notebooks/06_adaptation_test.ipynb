{
 "metadata": {
  "language_info": {
   "codemirror_mode": {
    "name": "ipython",
    "version": 3
   },
   "file_extension": ".py",
   "mimetype": "text/x-python",
   "name": "python",
   "nbconvert_exporter": "python",
   "pygments_lexer": "ipython3",
   "version": "3.7.9"
  },
  "orig_nbformat": 2,
  "kernelspec": {
   "name": "python379jvsc74a57bd075a9ca51cf2daeb22ff0ca8785d387c49ea4e2c8c6428abeae8aacce62ee187c",
   "display_name": "Python 3.7.9 64-bit ('mpro': conda)"
  }
 },
 "nbformat": 4,
 "nbformat_minor": 2,
 "cells": [
  {
   "cell_type": "code",
   "execution_count": 1,
   "metadata": {},
   "outputs": [
    {
     "output_type": "stream",
     "name": "stdout",
     "text": [
      "pygame 2.0.1 (SDL 2.0.14, Python 3.7.9)\n",
      "Hello from the pygame community. https://www.pygame.org/contribute.html\n",
      "C:\\Users\\Eric\\miniconda3\\envs\\mpro\\lib\\site-packages\\pydub\\utils.py:170: RuntimeWarning: Couldn't find ffmpeg or avconv - defaulting to ffmpeg, but may not work\n",
      "  warn(\"Couldn't find ffmpeg or avconv - defaulting to ffmpeg, but may not work\", RuntimeWarning)\n"
     ]
    }
   ],
   "source": [
    "import sys, os\n",
    "\n",
    "root_dir = os.path.join(os.getcwd(), '..')\n",
    "sys.path.append(root_dir)\n",
    "\n",
    "from src.io.input import loadMidiFile\n",
    "from src.io.output import pianoRoll, playPrettyMidi\n",
    "from src import analysis\n",
    "from src.adaptation import Adaptation\n",
    "from src.datatypes.melody_data import MelodyData\n",
    "from src.evaluation import Evaluation\n",
    "from src.db.reference_sets import get_normalization_values_of_ref_set\n",
    "from definitions import SequenceType\n",
    "from src.io.conversion import pretty_midi_to_music21, music21_to_pretty_midi"
   ]
  },
  {
   "source": [
    "## Instantiate Adaptation Object\n"
   ],
   "cell_type": "markdown",
   "metadata": {}
  },
  {
   "cell_type": "code",
   "execution_count": 2,
   "metadata": {},
   "outputs": [],
   "source": [
    "a = Adaptation()"
   ]
  },
  {
   "source": [
    "## Print available adaptation operations"
   ],
   "cell_type": "markdown",
   "metadata": {}
  },
  {
   "cell_type": "code",
   "execution_count": 3,
   "metadata": {},
   "outputs": [
    {
     "output_type": "stream",
     "name": "stdout",
     "text": [
      "SameNoteOffsetsOperation : Changes all note offsets at a certain beat position to a note offset that also occures in the control sequence at that beat position.\nStartAndEndOnCTOperation : Creates a chord based on the estimated key of the control sequence and transposes the first and last note of the base sequence so they are chord tones (e.g. 'c', 'e' or 'g' for a C major chord).\nTransposeNotesOperation : Estimates the key of both sequences and transposes every single note of the base sequence separately to the closest pitch that fits the key of the control sequence.\nTransposeSequenceOperation : Estimates the key of both sequences and transposes the base sequence to be in the same key as the control sequence.\n"
     ]
    }
   ],
   "source": [
    "for op in a.available_operations:\n",
    "    print(op.__name__, \":\", op.__doc__)"
   ]
  },
  {
   "source": [
    "## Construct a pipeline"
   ],
   "cell_type": "markdown",
   "metadata": {}
  },
  {
   "cell_type": "code",
   "execution_count": 4,
   "metadata": {},
   "outputs": [
    {
     "output_type": "execute_result",
     "data": {
      "text/plain": [
       "['SameNoteOffsetsOperation']"
      ]
     },
     "metadata": {},
     "execution_count": 4
    }
   ],
   "source": [
    "a.construct_pipeline(['SameNoteOffsetsOperation'])\n",
    "a.pipeline.get_operations()"
   ]
  },
  {
   "source": [
    "## Load 2 Melodies to emulate input and gen_base\n",
    "+ print the notes of melody 2 (the base for adaptation)"
   ],
   "cell_type": "markdown",
   "metadata": {}
  },
  {
   "cell_type": "code",
   "execution_count": 5,
   "metadata": {},
   "outputs": [
    {
     "output_type": "stream",
     "name": "stdout",
     "text": [
      "length: 19\n",
      "C:\\Users\\Eric\\miniconda3\\envs\\mpro\\lib\\site-packages\\pretty_midi\\pretty_midi.py:101: RuntimeWarning: Tempo, Key or Time signature change events found on non-zero tracks.  This is not a valid type 0 or type 1 MIDI file.  Tempo, Key or Time Signature may be wrong.\n",
      "  RuntimeWarning)\n"
     ]
    },
    {
     "output_type": "execute_result",
     "data": {
      "text/plain": [
       "[Note(start=0.000000, end=0.166667, pitch=52, velocity=115),\n",
       " Note(start=0.833333, end=1.000000, pitch=54, velocity=115),\n",
       " Note(start=1.000000, end=1.166667, pitch=55, velocity=115),\n",
       " Note(start=1.833333, end=2.000000, pitch=51, velocity=115),\n",
       " Note(start=2.000000, end=2.166667, pitch=52, velocity=115),\n",
       " Note(start=2.333333, end=2.500000, pitch=54, velocity=115),\n",
       " Note(start=2.500000, end=2.666667, pitch=55, velocity=115),\n",
       " Note(start=2.833333, end=3.000000, pitch=60, velocity=115),\n",
       " Note(start=3.000000, end=3.166667, pitch=59, velocity=115),\n",
       " Note(start=3.333333, end=3.500000, pitch=52, velocity=115),\n",
       " Note(start=3.500000, end=3.666667, pitch=55, velocity=115),\n",
       " Note(start=3.833333, end=4.000000, pitch=59, velocity=115),\n",
       " Note(start=4.000000, end=5.166667, pitch=58, velocity=115),\n",
       " Note(start=5.166667, end=5.333333, pitch=57, velocity=115),\n",
       " Note(start=5.333333, end=5.500000, pitch=55, velocity=115),\n",
       " Note(start=5.500000, end=5.666667, pitch=52, velocity=115),\n",
       " Note(start=5.666667, end=5.833333, pitch=50, velocity=115),\n",
       " Note(start=5.833333, end=7.500000, pitch=52, velocity=115),\n",
       " Note(start=7.833333, end=8.000000, pitch=51, velocity=115)]"
      ]
     },
     "metadata": {},
     "execution_count": 5
    }
   ],
   "source": [
    "midi1 = loadMidiFile('../midi/examples/monophonic/twinkle1_4b.mid')\n",
    "midi2 = loadMidiFile('../midi/examples/monophonic/pinkpanther_4b.mid')\n",
    "\n",
    "mel1 = MelodyData(midi1, SequenceType.REC_INPUT, {})\n",
    "mel2 = MelodyData(midi2, SequenceType.GEN_BASE, {})\n",
    "\n",
    "print(\"length:\", len(mel2.sequence.instruments[0].notes))\n",
    "mel2.sequence.instruments[0].notes"
   ]
  },
  {
   "source": [
    "## Adapt the melody and print the results"
   ],
   "cell_type": "markdown",
   "metadata": {}
  },
  {
   "cell_type": "code",
   "execution_count": 6,
   "metadata": {},
   "outputs": [
    {
     "output_type": "stream",
     "name": "stdout",
     "text": [
      "part length 14\n",
      "----------\n",
      "note index 0\n",
      "offset 0.0\n",
      "length 1/3\n",
      "next offset 0.0\n",
      "----------\n",
      "note index 1\n",
      "offset 2.0\n",
      "length 1/3\n",
      "next offset 2.0\n",
      "----------\n",
      "note index 2\n",
      "offset 3.0\n",
      "length 1/3\n",
      "next offset 3.0\n",
      "----------\n",
      "note index 3\n",
      "offset 4.0\n",
      "length 1/3\n",
      "next offset 4.0\n",
      "----------\n",
      "note index 4\n",
      "offset 5.0\n",
      "length 1/3\n",
      "next offset 5.0\n",
      "----------\n",
      "note index 5\n",
      "offset 6.0\n",
      "length 1/3\n",
      "next offset 6.0\n",
      "----------\n",
      "note index 6\n",
      "offset 7.0\n",
      "length 1/3\n",
      "next offset 7.0\n",
      "----------\n",
      "note index 7\n",
      "offset 8.0\n",
      "length 1/3\n",
      "next offset 8.0\n",
      "----------\n",
      "note index 8\n",
      "offset 9.0\n",
      "length 1/3\n",
      "next offset 9.0\n",
      "----------\n",
      "note index 9\n",
      "offset 10.0\n",
      "length 1/3\n",
      "next offset 10.0\n",
      "----------\n",
      "note index 10\n",
      "offset 11.0\n",
      "length 1/3\n",
      "next offset 11.0\n",
      "----------\n",
      "note index 11\n",
      "offset 12.0\n",
      "length 1/3\n",
      "next offset 12.0\n",
      "----------\n",
      "note index 12\n",
      "offset 13.0\n",
      "length 10/3\n",
      "next offset 13.0\n",
      "new length for note 12: 2.0\n",
      "----------\n",
      "note index 13\n",
      "offset 15.0\n",
      "length 1/3\n",
      "length: 14\n"
     ]
    },
    {
     "output_type": "execute_result",
     "data": {
      "text/plain": [
       "[Note(start=0.000000, end=0.166667, pitch=52, velocity=115),\n",
       " Note(start=1.000000, end=1.166667, pitch=54, velocity=115),\n",
       " Note(start=1.500000, end=1.666667, pitch=55, velocity=115),\n",
       " Note(start=2.000000, end=2.166667, pitch=51, velocity=115),\n",
       " Note(start=2.500000, end=2.666667, pitch=52, velocity=115),\n",
       " Note(start=3.000000, end=3.166667, pitch=54, velocity=115),\n",
       " Note(start=3.500000, end=3.666667, pitch=60, velocity=115),\n",
       " Note(start=4.000000, end=4.166667, pitch=52, velocity=115),\n",
       " Note(start=4.500000, end=4.666667, pitch=59, velocity=115),\n",
       " Note(start=5.000000, end=5.166667, pitch=57, velocity=115),\n",
       " Note(start=5.500000, end=5.666667, pitch=55, velocity=115),\n",
       " Note(start=6.000000, end=6.166667, pitch=52, velocity=115),\n",
       " Note(start=6.500000, end=7.500000, pitch=52, velocity=115),\n",
       " Note(start=7.500000, end=7.666667, pitch=51, velocity=115)]"
      ]
     },
     "metadata": {},
     "execution_count": 6
    }
   ],
   "source": [
    "result, control = a.adapt(mel2, mel1)\n",
    "print(\"length:\", len(result.sequence.instruments[0].notes))\n",
    "result.sequence.instruments[0].notes"
   ]
  },
  {
   "cell_type": "code",
   "execution_count": 7,
   "metadata": {},
   "outputs": [
    {
     "output_type": "execute_result",
     "data": {
      "text/plain": [
       "{}"
      ]
     },
     "metadata": {},
     "execution_count": 7
    }
   ],
   "source": [
    "result.analysis"
   ]
  },
  {
   "cell_type": "code",
   "execution_count": 8,
   "metadata": {},
   "outputs": [
    {
     "output_type": "execute_result",
     "data": {
      "text/plain": [
       "{'note_offsets_per_beat': [{0.0}, {0.0}, {0.0}, {0.0}]}"
      ]
     },
     "metadata": {},
     "execution_count": 8
    }
   ],
   "source": [
    "control.analysis"
   ]
  },
  {
   "source": [
    "## Offset tests"
   ],
   "cell_type": "markdown",
   "metadata": {}
  },
  {
   "cell_type": "code",
   "execution_count": 9,
   "metadata": {},
   "outputs": [
    {
     "output_type": "execute_result",
     "data": {
      "text/plain": [
       "13"
      ]
     },
     "metadata": {},
     "execution_count": 9
    }
   ],
   "source": [
    "from src.utils.melodies import find_closest\n",
    "\n",
    "stream = pretty_midi_to_music21(mel1.sequence)\n",
    "i = 0\n",
    "for n in stream.parts[0].notes:\n",
    "    beat = int(n.offset) % 4\n",
    "    relative_offset = float(n.offset % 1)\n",
    "    closest_allowed_offset = find_closest((0.0, 0.5), relative_offset)\n",
    "    n.offset = int(n.offset) + closest_allowed_offset\n",
    "    \n",
    "for p in stream.parts:\n",
    "    for n in p.notes.notes:\n",
    "        note_idx = p.index(n)\n",
    "        if note_idx < (len(p.notes) - 1) and n.offset + n.quarterLength > p.notes[note_idx+1].offset:\n",
    "            n.quarterLength = p.notes[note_idx+1].offset - n.offset\n",
    "            print('new length for note ' + str(note_idx) + ': ' + str(n.quarterLength))\n",
    "\n",
    "\n",
    "pm = music21_to_pretty_midi(stream)\n",
    "pm.instruments[0].notes\n",
    "\n",
    "stream.parts[0].notes.elements.index(n)"
   ]
  },
  {
   "source": [
    "# Evaluation"
   ],
   "cell_type": "markdown",
   "metadata": {}
  },
  {
   "cell_type": "code",
   "execution_count": 10,
   "metadata": {},
   "outputs": [
    {
     "output_type": "execute_result",
     "data": {
      "text/plain": [
       "{'avg_ioi': 0.040211928,\n",
       " 'avg_pitch_interval': 0.4,\n",
       " 'note_count': 2,\n",
       " 'note_length_histogram': 0.2018644384,\n",
       " 'note_length_transition_matrix': 4.3588989435,\n",
       " 'pitch_class_histogram': 0.2924397324,\n",
       " 'pitch_class_histogram_per_bar': 0.2924397324,\n",
       " 'pitch_class_transition_matrix': 4.2426406871,\n",
       " 'pitch_count': 1,\n",
       " 'pitch_range': 2,\n",
       " 'avg_pitch_interval_distance': nan}"
      ]
     },
     "metadata": {},
     "execution_count": 10
    }
   ],
   "source": [
    "normalization_values = get_normalization_values_of_ref_set(1)\n",
    "normalization_values"
   ]
  },
  {
   "source": [
    "### Result Evaluation"
   ],
   "cell_type": "markdown",
   "metadata": {}
  },
  {
   "cell_type": "code",
   "execution_count": 11,
   "metadata": {},
   "outputs": [
    {
     "output_type": "execute_result",
     "data": {
      "text/plain": [
       "{'absolute': {'pitch_count': 1.0,\n",
       "  'pitch_class_histogram': 0.5367115905856383,\n",
       "  'pitch_class_transition_matrix': 3.7416573867739413,\n",
       "  'avg_pitch_interval': 1.6153846153846154,\n",
       "  'pitch_range': 0.0,\n",
       "  'note_count': 0.0,\n",
       "  'note_length_histogram': 1.0996697092253451,\n",
       "  'note_length_transition_matrix': 16.15549442140351,\n",
       "  'avg_ioi': 0.038461538461538436},\n",
       " 'normalized': {'pitch_count': 1.0,\n",
       "  'pitch_class_histogram': 1.8352895695155491,\n",
       "  'pitch_class_transition_matrix': 0.8819171036922057,\n",
       "  'avg_pitch_interval': 4.038461538461538,\n",
       "  'pitch_range': 0.0,\n",
       "  'note_count': 0.0,\n",
       "  'note_length_histogram': 5.447565296500214,\n",
       "  'note_length_transition_matrix': 3.7063246087626376,\n",
       "  'avg_ioi': 0.9564708874824016}}"
      ]
     },
     "metadata": {},
     "execution_count": 11
    }
   ],
   "source": [
    "eval = Evaluation(normalization_values)\n",
    "evaluation = eval.evaluate_similarity(result.sequence, control.sequence)\n",
    "evaluation"
   ]
  }
 ]
}