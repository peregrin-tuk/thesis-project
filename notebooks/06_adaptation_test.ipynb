{
 "metadata": {
  "language_info": {
   "codemirror_mode": {
    "name": "ipython",
    "version": 3
   },
   "file_extension": ".py",
   "mimetype": "text/x-python",
   "name": "python",
   "nbconvert_exporter": "python",
   "pygments_lexer": "ipython3",
   "version": "3.7.9-final"
  },
  "orig_nbformat": 2,
  "kernelspec": {
   "name": "python3",
   "display_name": "Python 3.7.9 64-bit",
   "metadata": {
    "interpreter": {
     "hash": "75a9ca51cf2daeb22ff0ca8785d387c49ea4e2c8c6428abeae8aacce62ee187c"
    }
   }
  }
 },
 "nbformat": 4,
 "nbformat_minor": 2,
 "cells": [
  {
   "cell_type": "code",
   "execution_count": 1,
   "metadata": {},
   "outputs": [
    {
     "output_type": "stream",
     "name": "stderr",
     "text": [
      "C:\\Users\\Eric\\miniconda3\\envs\\mpro\\lib\\site-packages\\pydub\\utils.py:170: RuntimeWarning: Couldn't find ffmpeg or avconv - defaulting to ffmpeg, but may not work\n  warn(\"Couldn't find ffmpeg or avconv - defaulting to ffmpeg, but may not work\", RuntimeWarning)\n"
     ]
    }
   ],
   "source": [
    "import sys, os\n",
    "\n",
    "root_dir = os.path.join(os.getcwd(), '..')\n",
    "sys.path.append(root_dir)\n",
    "\n",
    "from src.io.input import loadMidiFile\n",
    "from src.adaptation import Adaptation\n",
    "from src.datatypes.melody_data import MelodyData\n",
    "from definitions import SequenceType"
   ]
  },
  {
   "cell_type": "code",
   "execution_count": 2,
   "metadata": {},
   "outputs": [
    {
     "output_type": "execute_result",
     "data": {
      "text/plain": [
       "[src.adaptation.operations.start_end_on_ct_operation.StartEncOnCTOperation,\n",
       " src.adaptation.operations.transpose_notes_operation.TransposeNotesOperation,\n",
       " src.adaptation.operations.transpose_sequence_operation.TransposeSequenceOperation]"
      ]
     },
     "metadata": {},
     "execution_count": 2
    }
   ],
   "source": [
    "a = Adaptation()\n",
    "a.available_operations"
   ]
  },
  {
   "cell_type": "code",
   "execution_count": 3,
   "metadata": {},
   "outputs": [
    {
     "output_type": "stream",
     "name": "stdout",
     "text": [
      "StartEncOnCTOperation\nNone\nTransposeNotesOperation\nNone\nTransposeSequenceOperation\nEstimates the key of both sequences and transposes the base sequence to be in the same key as the control sequence.\n"
     ]
    }
   ],
   "source": [
    "for op in a.available_operations:\n",
    "    print(op.__name__)\n",
    "    print(op.__doc__)"
   ]
  },
  {
   "cell_type": "code",
   "execution_count": 4,
   "metadata": {},
   "outputs": [
    {
     "output_type": "execute_result",
     "data": {
      "text/plain": [
       "['StartEncOnCTOperation',\n",
       " 'TransposeNotesOperation',\n",
       " 'TransposeSequenceOperation']"
      ]
     },
     "metadata": {},
     "execution_count": 4
    }
   ],
   "source": [
    "a.construct_pipeline(a.available_operations)\n",
    "a.pipeline.get_operations()"
   ]
  },
  {
   "cell_type": "code",
   "execution_count": 5,
   "metadata": {},
   "outputs": [
    {
     "output_type": "execute_result",
     "data": {
      "text/plain": [
       "['TransposeSequenceOperation']"
      ]
     },
     "metadata": {},
     "execution_count": 5
    }
   ],
   "source": [
    "a.construct_pipeline(['TransposeSequenceOperation'])\n",
    "a.pipeline.get_operations()"
   ]
  },
  {
   "cell_type": "code",
   "execution_count": 6,
   "metadata": {},
   "outputs": [],
   "source": [
    "midi1 = loadMidiFile('../midi/examples/monophonic/bohemian_mama2_4b.mid')\n",
    "midi2 = loadMidiFile('../midi/examples/monophonic/mozart1_4b.mid')\n",
    "\n",
    "mel1 = MelodyData(midi1, SequenceType.REC_INPUT, {})\n",
    "mel2 = MelodyData(midi2, SequenceType.GEN_BASE, {})"
   ]
  },
  {
   "cell_type": "code",
   "execution_count": 9,
   "metadata": {},
   "outputs": [
    {
     "output_type": "stream",
     "name": "stdout",
     "text": [
      "{'adaptation_steps': [{'name': 'TransposeSequenceOperation', 'duration': 0.054975271224975586, 'intermediate_result': <music21.stream.Score 0x29db3249b88>}], 'adaptation_duration': 0.05597662925720215}\n"
     ]
    }
   ],
   "source": [
    "result = a.adapt(mel2, mel1)\n",
    "print(result.meta)"
   ]
  }
 ]
}