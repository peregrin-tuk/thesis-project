{
 "metadata": {
  "language_info": {
   "codemirror_mode": {
    "name": "ipython",
    "version": 3
   },
   "file_extension": ".py",
   "mimetype": "text/x-python",
   "name": "python",
   "nbconvert_exporter": "python",
   "pygments_lexer": "ipython3",
   "version": "3.7.9"
  },
  "orig_nbformat": 2,
  "kernelspec": {
   "name": "python379jvsc74a57bd075a9ca51cf2daeb22ff0ca8785d387c49ea4e2c8c6428abeae8aacce62ee187c",
   "display_name": "Python 3.7.9 64-bit ('mpro': conda)"
  }
 },
 "nbformat": 4,
 "nbformat_minor": 2,
 "cells": [
  {
   "cell_type": "code",
   "execution_count": 1,
   "metadata": {},
   "outputs": [
    {
     "output_type": "stream",
     "name": "stdout",
     "text": [
      "pygame 2.0.1 (SDL 2.0.14, Python 3.7.9)\n",
      "Hello from the pygame community. https://www.pygame.org/contribute.html\n",
      "C:\\Users\\Eric\\miniconda3\\envs\\mpro\\lib\\site-packages\\pydub\\utils.py:170: RuntimeWarning: Couldn't find ffmpeg or avconv - defaulting to ffmpeg, but may not work\n",
      "  warn(\"Couldn't find ffmpeg or avconv - defaulting to ffmpeg, but may not work\", RuntimeWarning)\n"
     ]
    }
   ],
   "source": [
    "import sys, os\n",
    "\n",
    "root_dir = os.path.join(os.getcwd(), '..')\n",
    "sys.path.append(root_dir)\n",
    "\n",
    "from src.io.input import loadMidiFile\n",
    "from src.io.output import pianoRoll, playPrettyMidi\n",
    "from src import analysis\n",
    "from src.adaptation import Adaptation\n",
    "from src.datatypes.melody_data import MelodyData\n",
    "from src.evaluation import Evaluation\n",
    "from src.db.reference_sets import get_normalization_values_of_ref_set\n",
    "from definitions import SequenceType\n",
    "from src.io.conversion import pretty_midi_to_music21, music21_to_pretty_midi"
   ]
  },
  {
   "source": [
    "## Instantiate Adaptation Object\n"
   ],
   "cell_type": "markdown",
   "metadata": {}
  },
  {
   "cell_type": "code",
   "execution_count": 2,
   "metadata": {},
   "outputs": [],
   "source": [
    "a = Adaptation()"
   ]
  },
  {
   "source": [
    "## Print available adaptation operations"
   ],
   "cell_type": "markdown",
   "metadata": {}
  },
  {
   "cell_type": "code",
   "execution_count": 3,
   "metadata": {},
   "outputs": [
    {
     "output_type": "stream",
     "name": "stdout",
     "text": [
      "SameNoteOffsetsOperation : Changes all note offsets at a certain beat position to a note offset that also occures in the control sequence at that beat position.\nStartAndEndOnCTOperation : Creates a chord based on the estimated key of the control sequence and transposes the first and last note of the base sequence so they are chord tones (e.g. 'c', 'e' or 'g' for a C major chord).\nTransposeNotesOperation : Estimates the key of both sequences and transposes every single note of the base sequence separately to the closest pitch that fits the key of the control sequence.\nTransposeSequenceOperation : Estimates the key of both sequences and transposes the base sequence to be in the same key as the control sequence.\n"
     ]
    }
   ],
   "source": [
    "for op in a.available_operations:\n",
    "    print(op.__name__, \":\", op.__doc__)"
   ]
  },
  {
   "source": [
    "## Construct a pipeline"
   ],
   "cell_type": "markdown",
   "metadata": {}
  },
  {
   "cell_type": "code",
   "execution_count": 4,
   "metadata": {},
   "outputs": [
    {
     "output_type": "execute_result",
     "data": {
      "text/plain": [
       "['SameNoteOffsetsOperation']"
      ]
     },
     "metadata": {},
     "execution_count": 4
    }
   ],
   "source": [
    "a.construct_pipeline(['SameNoteOffsetsOperation'])\n",
    "a.pipeline.get_operations()"
   ]
  },
  {
   "source": [
    "## Load 2 Melodies to emulate input and gen_base\n",
    "+ print the notes of melody 2 (the base for adaptation)"
   ],
   "cell_type": "markdown",
   "metadata": {}
  },
  {
   "cell_type": "code",
   "execution_count": 5,
   "metadata": {},
   "outputs": [
    {
     "output_type": "stream",
     "name": "stdout",
     "text": [
      "length: 18\n",
      "C:\\Users\\Eric\\miniconda3\\envs\\mpro\\lib\\site-packages\\pretty_midi\\pretty_midi.py:101: RuntimeWarning: Tempo, Key or Time signature change events found on non-zero tracks.  This is not a valid type 0 or type 1 MIDI file.  Tempo, Key or Time Signature may be wrong.\n",
      "  RuntimeWarning)\n"
     ]
    },
    {
     "output_type": "execute_result",
     "data": {
      "text/plain": [
       "[Note(start=0.005208, end=0.214583, pitch=66, velocity=73),\n",
       " Note(start=0.514583, end=0.610417, pitch=69, velocity=69),\n",
       " Note(start=0.761458, end=0.859375, pitch=73, velocity=68),\n",
       " Note(start=1.259375, end=1.355208, pitch=69, velocity=68),\n",
       " Note(start=1.752083, end=1.850000, pitch=66, velocity=68),\n",
       " Note(start=2.002083, end=2.116667, pitch=62, velocity=67),\n",
       " Note(start=2.266667, end=2.364583, pitch=62, velocity=62),\n",
       " Note(start=2.514583, end=2.610417, pitch=62, velocity=63),\n",
       " Note(start=3.752083, end=4.029167, pitch=61, velocity=62),\n",
       " Note(start=4.002083, end=4.116667, pitch=62, velocity=57),\n",
       " Note(start=4.266667, end=4.364583, pitch=66, velocity=68),\n",
       " Note(start=4.514583, end=4.610417, pitch=69, velocity=69),\n",
       " Note(start=4.761458, end=4.859375, pitch=73, velocity=68),\n",
       " Note(start=5.259375, end=5.355208, pitch=69, velocity=68),\n",
       " Note(start=5.752083, end=5.850000, pitch=66, velocity=68),\n",
       " Note(start=6.002083, end=6.760417, pitch=76, velocity=73),\n",
       " Note(start=6.761458, end=7.009375, pitch=75, velocity=68),\n",
       " Note(start=7.010417, end=7.205208, pitch=74, velocity=71)]"
      ]
     },
     "metadata": {},
     "execution_count": 5
    }
   ],
   "source": [
    "midi1 = loadMidiFile('../midi/examples/monophonic/twinkle1_4b.mid')\n",
    "midi2 = loadMidiFile('../midi/examples/monophonic/mii1_4b.mid')\n",
    "\n",
    "mel1 = MelodyData(midi1, SequenceType.REC_INPUT, {})\n",
    "mel2 = MelodyData(midi2, SequenceType.GEN_BASE, {})\n",
    "\n",
    "print(\"length:\", len(mel2.sequence.instruments[0].notes))\n",
    "mel2.sequence.instruments[0].notes"
   ]
  },
  {
   "source": [
    "## Adapt the melody and print the results"
   ],
   "cell_type": "markdown",
   "metadata": {}
  },
  {
   "cell_type": "code",
   "execution_count": 6,
   "metadata": {},
   "outputs": [
    {
     "output_type": "stream",
     "name": "stdout",
     "text": [
      "adapted 1/96\ninserted Note(start=0.000000, end=0.209375, pitch=66, velocity=73)\nlength: 18\n"
     ]
    },
    {
     "output_type": "execute_result",
     "data": {
      "text/plain": [
       "[Note(start=0.000000, end=0.209375, pitch=66, velocity=73),\n",
       " Note(start=0.500000, end=0.595833, pitch=69, velocity=69),\n",
       " Note(start=0.500000, end=0.597917, pitch=73, velocity=68),\n",
       " Note(start=1.000000, end=1.095833, pitch=69, velocity=68),\n",
       " Note(start=1.500000, end=1.597917, pitch=66, velocity=68),\n",
       " Note(start=0.000000, end=0.114583, pitch=62, velocity=67),\n",
       " Note(start=0.000000, end=0.097917, pitch=62, velocity=62),\n",
       " Note(start=0.500000, end=0.595833, pitch=62, velocity=63),\n",
       " Note(start=1.500000, end=1.777083, pitch=61, velocity=62),\n",
       " Note(start=0.000000, end=0.114583, pitch=62, velocity=57),\n",
       " Note(start=0.000000, end=0.097917, pitch=66, velocity=68),\n",
       " Note(start=0.500000, end=0.595833, pitch=69, velocity=69),\n",
       " Note(start=0.500000, end=0.597917, pitch=73, velocity=68),\n",
       " Note(start=1.000000, end=1.095833, pitch=69, velocity=68),\n",
       " Note(start=1.500000, end=1.597917, pitch=66, velocity=68),\n",
       " Note(start=0.000000, end=0.758333, pitch=76, velocity=73),\n",
       " Note(start=0.500000, end=0.747917, pitch=75, velocity=68),\n",
       " Note(start=1.000000, end=1.194792, pitch=74, velocity=71)]"
      ]
     },
     "metadata": {},
     "execution_count": 6
    }
   ],
   "source": [
    "result, control = a.adapt(mel2, mel1)\n",
    "print(\"length:\", len(result.sequence.instruments[0].notes))\n",
    "result.sequence.instruments[0].notes"
   ]
  },
  {
   "cell_type": "code",
   "execution_count": 7,
   "metadata": {},
   "outputs": [
    {
     "output_type": "execute_result",
     "data": {
      "text/plain": [
       "{}"
      ]
     },
     "metadata": {},
     "execution_count": 7
    }
   ],
   "source": [
    "result.analysis"
   ]
  },
  {
   "cell_type": "code",
   "execution_count": 8,
   "metadata": {},
   "outputs": [
    {
     "output_type": "execute_result",
     "data": {
      "text/plain": [
       "{'note_offsets_per_beat': [{0.0}, {0.0}, {0.0}, {0.0}]}"
      ]
     },
     "metadata": {},
     "execution_count": 8
    }
   ],
   "source": [
    "control.analysis"
   ]
  },
  {
   "cell_type": "code",
   "execution_count": 9,
   "metadata": {},
   "outputs": [
    {
     "output_type": "execute_result",
     "data": {
      "text/plain": [
       "[Note(start=0.000000, end=0.209375, pitch=66, velocity=73),\n",
       " Note(start=0.500000, end=0.595833, pitch=69, velocity=69),\n",
       " Note(start=0.500000, end=0.597917, pitch=73, velocity=68),\n",
       " Note(start=1.000000, end=1.095833, pitch=69, velocity=68),\n",
       " Note(start=1.500000, end=1.597917, pitch=66, velocity=68),\n",
       " Note(start=0.000000, end=0.114583, pitch=62, velocity=67),\n",
       " Note(start=0.000000, end=0.097917, pitch=62, velocity=62),\n",
       " Note(start=0.500000, end=0.595833, pitch=62, velocity=63),\n",
       " Note(start=1.500000, end=1.777083, pitch=61, velocity=62),\n",
       " Note(start=0.000000, end=0.114583, pitch=62, velocity=57),\n",
       " Note(start=0.000000, end=0.097917, pitch=66, velocity=68),\n",
       " Note(start=0.500000, end=0.595833, pitch=69, velocity=69),\n",
       " Note(start=0.500000, end=0.597917, pitch=73, velocity=68),\n",
       " Note(start=1.000000, end=1.095833, pitch=69, velocity=68),\n",
       " Note(start=1.500000, end=1.597917, pitch=66, velocity=68),\n",
       " Note(start=0.000000, end=0.758333, pitch=76, velocity=73),\n",
       " Note(start=0.500000, end=0.747917, pitch=75, velocity=68),\n",
       " Note(start=1.000000, end=1.194792, pitch=74, velocity=71)]"
      ]
     },
     "metadata": {},
     "execution_count": 9
    }
   ],
   "source": [
    "from src.utils.melodies import find_closest\n",
    "\n",
    "stream = pretty_midi_to_music21(result.sequence)\n",
    "i = 0\n",
    "for n in stream.parts[0].notes:\n",
    "    beat = int(n.offset) % 4\n",
    "    relative_offset = float(n.offset % 1)\n",
    "    closest_allowed_offset = find_closest((0.0, 0.5), relative_offset)\n",
    "    n.offset = int(n.offset) + closest_allowed_offset\n",
    "    \n",
    "pm = music21_to_pretty_midi(stream)\n",
    "pm.instruments[0].notes"
   ]
  },
  {
   "source": [
    "# Evaluation"
   ],
   "cell_type": "markdown",
   "metadata": {}
  },
  {
   "cell_type": "code",
   "execution_count": 10,
   "metadata": {},
   "outputs": [
    {
     "output_type": "execute_result",
     "data": {
      "text/plain": [
       "{'avg_ioi': 0.040211928,\n",
       " 'avg_pitch_interval': 0.4,\n",
       " 'note_count': 2,\n",
       " 'note_length_histogram': 0.2018644384,\n",
       " 'note_length_transition_matrix': 4.3588989435,\n",
       " 'pitch_class_histogram': 0.2924397324,\n",
       " 'pitch_class_histogram_per_bar': 0.2924397324,\n",
       " 'pitch_class_transition_matrix': 4.2426406871,\n",
       " 'pitch_count': 1,\n",
       " 'pitch_range': 2,\n",
       " 'avg_pitch_interval_distance': nan}"
      ]
     },
     "metadata": {},
     "execution_count": 10
    }
   ],
   "source": [
    "normalization_values = get_normalization_values_of_ref_set(1)\n",
    "normalization_values"
   ]
  },
  {
   "source": [
    "### Result Evaluation"
   ],
   "cell_type": "markdown",
   "metadata": {}
  },
  {
   "cell_type": "code",
   "execution_count": 11,
   "metadata": {},
   "outputs": [
    {
     "output_type": "execute_result",
     "data": {
      "text/plain": [
       "{'absolute': {'pitch_count': 2.0,\n",
       "  'pitch_class_histogram': 0.4772594526094087,\n",
       "  'pitch_class_transition_matrix': 3.605551275463989,\n",
       "  'avg_pitch_interval': 2.7330316742081444,\n",
       "  'pitch_range': 6.0,\n",
       "  'note_count': 4.0,\n",
       "  'note_length_histogram': 1.1065666703449761,\n",
       "  'note_length_transition_matrix': 13.076696830622021,\n",
       "  'avg_ioi': 0.45022624434389136},\n",
       " 'normalized': {'pitch_count': 2.0,\n",
       "  'pitch_class_histogram': 1.6319925089953637,\n",
       "  'pitch_class_transition_matrix': 0.8498365856026605,\n",
       "  'avg_pitch_interval': 6.832579185520361,\n",
       "  'pitch_range': 3.0,\n",
       "  'note_count': 2.0,\n",
       "  'note_length_histogram': 5.481731597282546,\n",
       "  'note_length_transition_matrix': 3.0000000000279936,\n",
       "  'avg_ioi': 11.196335682882237}}"
      ]
     },
     "metadata": {},
     "execution_count": 11
    }
   ],
   "source": [
    "eval = Evaluation(normalization_values)\n",
    "evaluation = eval.evaluate_similarity(result.sequence, control.sequence)\n",
    "evaluation"
   ]
  }
 ]
}