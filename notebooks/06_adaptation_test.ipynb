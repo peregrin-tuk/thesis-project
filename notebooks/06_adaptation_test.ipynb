{
 "metadata": {
  "language_info": {
   "codemirror_mode": {
    "name": "ipython",
    "version": 3
   },
   "file_extension": ".py",
   "mimetype": "text/x-python",
   "name": "python",
   "nbconvert_exporter": "python",
   "pygments_lexer": "ipython3",
   "version": "3.7.9-final"
  },
  "orig_nbformat": 2,
  "kernelspec": {
   "name": "python3",
   "display_name": "Python 3.7.9 64-bit ('mpro': conda)",
   "metadata": {
    "interpreter": {
     "hash": "75a9ca51cf2daeb22ff0ca8785d387c49ea4e2c8c6428abeae8aacce62ee187c"
    }
   }
  }
 },
 "nbformat": 4,
 "nbformat_minor": 2,
 "cells": [
  {
   "cell_type": "code",
   "execution_count": 1,
   "metadata": {},
   "outputs": [
    {
     "output_type": "stream",
     "name": "stderr",
     "text": [
      "C:\\Users\\Eric\\miniconda3\\envs\\mpro\\lib\\site-packages\\pydub\\utils.py:170: RuntimeWarning: Couldn't find ffmpeg or avconv - defaulting to ffmpeg, but may not work\n  warn(\"Couldn't find ffmpeg or avconv - defaulting to ffmpeg, but may not work\", RuntimeWarning)\n"
     ]
    }
   ],
   "source": [
    "import sys, os\n",
    "\n",
    "root_dir = os.path.join(os.getcwd(), '..')\n",
    "sys.path.append(root_dir)\n",
    "\n",
    "from src.io.input import loadMidiFile\n",
    "from src.io.output import pianoRoll\n",
    "from src import analysis\n",
    "from src.adaptation import Adaptation\n",
    "from src.datatypes.melody_data import MelodyData\n",
    "from definitions import SequenceType"
   ]
  },
  {
   "source": [
    "## Instantiate Adaptation Object\n"
   ],
   "cell_type": "markdown",
   "metadata": {}
  },
  {
   "cell_type": "code",
   "execution_count": 2,
   "metadata": {},
   "outputs": [],
   "source": [
    "a = Adaptation()"
   ]
  },
  {
   "source": [
    "## Print available adaptation operations"
   ],
   "cell_type": "markdown",
   "metadata": {}
  },
  {
   "cell_type": "code",
   "execution_count": 3,
   "metadata": {},
   "outputs": [
    {
     "output_type": "stream",
     "name": "stdout",
     "text": [
      "StartAndEndOnCTOperation : None\nTransposeNotesOperation : None\nTransposeSequenceOperation : Estimates the key of both sequences and transposes the base sequence to be in the same key as the control sequence.\n"
     ]
    }
   ],
   "source": [
    "for op in a.available_operations:\n",
    "    print(op.__name__, \":\", op.__doc__)"
   ]
  },
  {
   "source": [
    "## Construct a pipeline"
   ],
   "cell_type": "markdown",
   "metadata": {}
  },
  {
   "cell_type": "code",
   "execution_count": 4,
   "metadata": {},
   "outputs": [
    {
     "output_type": "execute_result",
     "data": {
      "text/plain": [
       "['StartAndEndOnCTOperation', 'TransposeNotesOperation']"
      ]
     },
     "metadata": {},
     "execution_count": 4
    }
   ],
   "source": [
    "a.construct_pipeline(['StartAndEndOnCTOperation', 'TransposeNotesOperation'])\n",
    "a.pipeline.get_operations()"
   ]
  },
  {
   "source": [
    "## Load 2 Melodies to emulate input and gen_base\n",
    "+ print the notes of melody 2 (the base for adaptation)"
   ],
   "cell_type": "markdown",
   "metadata": {}
  },
  {
   "cell_type": "code",
   "execution_count": 5,
   "metadata": {},
   "outputs": [
    {
     "output_type": "stream",
     "name": "stdout",
     "text": [
      "length: 18\n"
     ]
    },
    {
     "output_type": "execute_result",
     "data": {
      "text/plain": [
       "[Note(start=0.005208, end=0.214583, pitch=66, velocity=73),\n",
       " Note(start=0.514583, end=0.610417, pitch=69, velocity=69),\n",
       " Note(start=0.761458, end=0.859375, pitch=73, velocity=68),\n",
       " Note(start=1.259375, end=1.355208, pitch=69, velocity=68),\n",
       " Note(start=1.752083, end=1.850000, pitch=66, velocity=68),\n",
       " Note(start=2.002083, end=2.116667, pitch=62, velocity=67),\n",
       " Note(start=2.266667, end=2.364583, pitch=62, velocity=62),\n",
       " Note(start=2.514583, end=2.610417, pitch=62, velocity=63),\n",
       " Note(start=3.752083, end=4.029167, pitch=61, velocity=62),\n",
       " Note(start=4.002083, end=4.116667, pitch=62, velocity=57),\n",
       " Note(start=4.266667, end=4.364583, pitch=66, velocity=68),\n",
       " Note(start=4.514583, end=4.610417, pitch=69, velocity=69),\n",
       " Note(start=4.761458, end=4.859375, pitch=73, velocity=68),\n",
       " Note(start=5.259375, end=5.355208, pitch=69, velocity=68),\n",
       " Note(start=5.752083, end=5.850000, pitch=66, velocity=68),\n",
       " Note(start=6.002083, end=6.760417, pitch=76, velocity=73),\n",
       " Note(start=6.761458, end=7.009375, pitch=75, velocity=68),\n",
       " Note(start=7.010417, end=7.205208, pitch=74, velocity=71)]"
      ]
     },
     "metadata": {},
     "execution_count": 5
    }
   ],
   "source": [
    "midi1 = loadMidiFile('../midi/examples/monophonic/bohemian_mama2_4b.mid')\n",
    "midi2 = loadMidiFile('../midi/examples/monophonic/mii1_4b.mid')\n",
    "\n",
    "mel1 = MelodyData(midi1, SequenceType.REC_INPUT, {})\n",
    "mel2 = MelodyData(midi2, SequenceType.GEN_BASE, {})\n",
    "\n",
    "print(\"length:\", len(mel2.sequence.instruments[0].notes))\n",
    "mel2.sequence.instruments[0].notes"
   ]
  },
  {
   "source": [
    "## Adapt the melody and print the results"
   ],
   "cell_type": "markdown",
   "metadata": {}
  },
  {
   "cell_type": "code",
   "execution_count": 6,
   "metadata": {},
   "outputs": [
    {
     "output_type": "stream",
     "name": "stdout",
     "text": [
      "<music21.chord.Chord A3 B-3 C4 D4 E-4 F4 G4 A4 B-4 C5 D5 E-5 F5 G5 A5>\n{'adaptation_steps': [{'name': 'StartAndEndOnCTOperation', 'duration': 0.00897216796875, 'intermediate_result': <music21.stream.Score 0x1d83704ec08>}, {'name': 'TransposeNotesOperation', 'duration': 0.006998300552368164, 'intermediate_result': <music21.stream.Score 0x1d83704ec08>}], 'adaptation_duration': 0.015970468521118164}\nlength: 18\n"
     ]
    },
    {
     "output_type": "execute_result",
     "data": {
      "text/plain": [
       "[Note(start=0.005208, end=0.214583, pitch=63, velocity=73),\n",
       " Note(start=0.514583, end=0.610417, pitch=69, velocity=69),\n",
       " Note(start=0.761458, end=0.859375, pitch=72, velocity=68),\n",
       " Note(start=1.259375, end=1.355208, pitch=69, velocity=68),\n",
       " Note(start=1.752083, end=1.850000, pitch=65, velocity=68),\n",
       " Note(start=2.002083, end=2.116667, pitch=62, velocity=67),\n",
       " Note(start=2.266667, end=2.364583, pitch=62, velocity=62),\n",
       " Note(start=2.514583, end=2.610417, pitch=62, velocity=63),\n",
       " Note(start=3.752083, end=4.029167, pitch=60, velocity=62),\n",
       " Note(start=4.002083, end=4.116667, pitch=62, velocity=57),\n",
       " Note(start=4.266667, end=4.364583, pitch=65, velocity=68),\n",
       " Note(start=4.514583, end=4.610417, pitch=69, velocity=69),\n",
       " Note(start=4.761458, end=4.859375, pitch=72, velocity=68),\n",
       " Note(start=5.259375, end=5.355208, pitch=69, velocity=68),\n",
       " Note(start=5.752083, end=5.850000, pitch=65, velocity=68),\n",
       " Note(start=6.002083, end=6.760417, pitch=75, velocity=73),\n",
       " Note(start=6.761458, end=7.009375, pitch=75, velocity=68),\n",
       " Note(start=7.010417, end=7.205208, pitch=74, velocity=71)]"
      ]
     },
     "metadata": {},
     "execution_count": 6
    }
   ],
   "source": [
    "result = a.adapt(mel2, mel1)\n",
    "print(result.meta)\n",
    "print(\"length:\", len(result.sequence.instruments[0].notes))\n",
    "result.sequence.instruments[0].notes"
   ]
  }
 ]
}