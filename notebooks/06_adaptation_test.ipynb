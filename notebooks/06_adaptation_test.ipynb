{
 "metadata": {
  "language_info": {
   "codemirror_mode": {
    "name": "ipython",
    "version": 3
   },
   "file_extension": ".py",
   "mimetype": "text/x-python",
   "name": "python",
   "nbconvert_exporter": "python",
   "pygments_lexer": "ipython3",
   "version": "3.7.9-final"
  },
  "orig_nbformat": 2,
  "kernelspec": {
   "name": "python3",
   "display_name": "Python 3.7.9 64-bit ('mpro': conda)",
   "metadata": {
    "interpreter": {
     "hash": "75a9ca51cf2daeb22ff0ca8785d387c49ea4e2c8c6428abeae8aacce62ee187c"
    }
   }
  }
 },
 "nbformat": 4,
 "nbformat_minor": 2,
 "cells": [
  {
   "cell_type": "code",
   "execution_count": 23,
   "metadata": {},
   "outputs": [],
   "source": [
    "import sys, os\n",
    "\n",
    "root_dir = os.path.join(os.getcwd(), '..')\n",
    "sys.path.append(root_dir)\n",
    "\n",
    "from src.io.input import loadMidiFile\n",
    "from src.io.output import pianoRoll\n",
    "from src.adaptation import Adaptation\n",
    "from src.datatypes.melody_data import MelodyData\n",
    "from definitions import SequenceType"
   ]
  },
  {
   "cell_type": "code",
   "execution_count": 24,
   "metadata": {},
   "outputs": [
    {
     "output_type": "execute_result",
     "data": {
      "text/plain": [
       "[src.adaptation.operations.start_end_on_ct_operation.StartEncOnCTOperation,\n",
       " src.adaptation.operations.transpose_notes_operation.TransposeNotesOperation,\n",
       " src.adaptation.operations.transpose_sequence_operation.TransposeSequenceOperation]"
      ]
     },
     "metadata": {},
     "execution_count": 24
    }
   ],
   "source": [
    "a = Adaptation()\n",
    "a.available_operations"
   ]
  },
  {
   "cell_type": "code",
   "execution_count": 25,
   "metadata": {},
   "outputs": [
    {
     "output_type": "stream",
     "name": "stdout",
     "text": [
      "StartEncOnCTOperation\nNone\nTransposeNotesOperation\nNone\nTransposeSequenceOperation\nEstimates the key of both sequences and transposes the base sequence to be in the same key as the control sequence.\n"
     ]
    }
   ],
   "source": [
    "for op in a.available_operations:\n",
    "    print(op.__name__)\n",
    "    print(op.__doc__)"
   ]
  },
  {
   "cell_type": "code",
   "execution_count": 26,
   "metadata": {},
   "outputs": [
    {
     "output_type": "execute_result",
     "data": {
      "text/plain": [
       "['StartEncOnCTOperation',\n",
       " 'TransposeNotesOperation',\n",
       " 'TransposeSequenceOperation']"
      ]
     },
     "metadata": {},
     "execution_count": 26
    }
   ],
   "source": [
    "a.construct_pipeline(a.available_operations)\n",
    "a.pipeline.get_operations()"
   ]
  },
  {
   "cell_type": "code",
   "execution_count": 27,
   "metadata": {},
   "outputs": [
    {
     "output_type": "execute_result",
     "data": {
      "text/plain": [
       "['TransposeSequenceOperation']"
      ]
     },
     "metadata": {},
     "execution_count": 27
    }
   ],
   "source": [
    "a.construct_pipeline(['TransposeSequenceOperation'])\n",
    "a.pipeline.get_operations()"
   ]
  },
  {
   "cell_type": "code",
   "execution_count": 28,
   "metadata": {},
   "outputs": [
    {
     "output_type": "execute_result",
     "data": {
      "text/plain": [
       "[Note(start=0.000000, end=0.260417, pitch=57, velocity=77),\n",
       " Note(start=0.354167, end=0.401042, pitch=57, velocity=77),\n",
       " Note(start=0.604167, end=0.645833, pitch=57, velocity=77),\n",
       " Note(start=0.854167, end=0.906250, pitch=57, velocity=77),\n",
       " Note(start=0.979167, end=1.052083, pitch=57, velocity=77),\n",
       " Note(start=1.229167, end=1.296875, pitch=56, velocity=77),\n",
       " Note(start=1.759375, end=1.926042, pitch=78, velocity=98),\n",
       " Note(start=1.884375, end=2.019792, pitch=76, velocity=90),\n",
       " Note(start=2.009375, end=2.155208, pitch=73, velocity=82),\n",
       " Note(start=2.134375, end=2.254167, pitch=76, velocity=86),\n",
       " Note(start=2.259375, end=2.431250, pitch=78, velocity=94),\n",
       " Note(start=2.389583, end=2.519792, pitch=76, velocity=86),\n",
       " Note(start=2.509375, end=2.603125, pitch=73, velocity=86),\n",
       " Note(start=2.634375, end=2.759375, pitch=76, velocity=90),\n",
       " Note(start=2.759375, end=2.946875, pitch=78, velocity=94),\n",
       " Note(start=2.884375, end=3.004167, pitch=76, velocity=86),\n",
       " Note(start=3.014583, end=3.139583, pitch=73, velocity=86),\n",
       " Note(start=3.134375, end=3.228125, pitch=71, velocity=74),\n",
       " Note(start=3.259375, end=3.368750, pitch=73, velocity=82),\n",
       " Note(start=3.384375, end=3.493750, pitch=71, velocity=82),\n",
       " Note(start=3.530208, end=3.582292, pitch=73, velocity=90),\n",
       " Note(start=3.634375, end=3.769792, pitch=78, velocity=102),\n",
       " Note(start=3.759375, end=3.894792, pitch=76, velocity=102),\n",
       " Note(start=1.479167, end=3.942708, pitch=61, velocity=77)]"
      ]
     },
     "metadata": {},
     "execution_count": 28
    }
   ],
   "source": [
    "midi1 = loadMidiFile('../midi/examples/monophonic/bohemian_mama2_4b.mid')\n",
    "midi2 = loadMidiFile('../midi/examples/monophonic/africa_intro_2b.mid')\n",
    "\n",
    "mel1 = MelodyData(midi1, SequenceType.REC_INPUT, {})\n",
    "mel2 = MelodyData(midi2, SequenceType.GEN_BASE, {})\n",
    "\n",
    "mel2.sequence.instruments[0].notes"
   ]
  },
  {
   "cell_type": "code",
   "execution_count": 29,
   "metadata": {},
   "outputs": [
    {
     "output_type": "stream",
     "name": "stdout",
     "text": [
      "{0.0} <music21.stream.Part 0x16366fa2108>\n    {0.0} <music21.tempo.MetronomeMark animato Quarter=120.0>\n    {0.0} <music21.meter.TimeSignature 4/4>\n    {0.0} <music21.note.Note A>\n    {0.7083} <music21.note.Note A>\n    {1.2083} <music21.note.Note A>\n    {1.7083} <music21.note.Note A>\n    {1.9583} <music21.note.Note A>\n    {2.4583} <music21.note.Note G#>\n    {3.5187} <music21.note.Note F#>\n    {3.7687} <music21.note.Note E>\n    {4.0187} <music21.note.Note C#>\n    {4.2687} <music21.note.Note E>\n    {4.5187} <music21.note.Note F#>\n    {4.7792} <music21.note.Note E>\n    {5.0187} <music21.note.Note C#>\n    {5.2687} <music21.note.Note E>\n    {5.5187} <music21.note.Note F#>\n    {5.7687} <music21.note.Note E>\n    {6.0292} <music21.note.Note C#>\n    {6.2687} <music21.note.Note B>\n    {6.5187} <music21.note.Note C#>\n    {6.7687} <music21.note.Note B>\n    {7.0604} <music21.note.Note C#>\n    {7.2687} <music21.note.Note F#>\n    {7.5187} <music21.note.Note E>\n    {2.9583} <music21.note.Note C#>\n"
     ]
    }
   ],
   "source": [
    "ad_mel2 = mel2.to_adaptation_data()\n",
    "ad_mel2.sequence.show('text')"
   ]
  },
  {
   "cell_type": "code",
   "execution_count": 30,
   "metadata": {},
   "outputs": [
    {
     "output_type": "execute_result",
     "data": {
      "text/plain": [
       "480"
      ]
     },
     "metadata": {},
     "execution_count": 30
    }
   ],
   "source": [
    "mel2.update_sequence_from_adaptation_data(ad_mel2)\n",
    "mel2.sequence.instruments[0].notes\n",
    "mel2.sequence.resolution"
   ]
  },
  {
   "cell_type": "code",
   "execution_count": 31,
   "metadata": {},
   "outputs": [
    {
     "output_type": "stream",
     "name": "stdout",
     "text": [
      "{'adaptation_steps': [{'name': 'TransposeSequenceOperation', 'duration': 0.2129976749420166, 'intermediate_result': <music21.stream.Score 0x163670b5948>}], 'adaptation_duration': 0.21399569511413574}\n"
     ]
    },
    {
     "output_type": "execute_result",
     "data": {
      "text/plain": [
       "[Note(start=0.000000, end=0.260417, pitch=55, velocity=77),\n",
       " Note(start=0.354167, end=0.401042, pitch=55, velocity=77),\n",
       " Note(start=0.604167, end=0.645833, pitch=55, velocity=77),\n",
       " Note(start=0.854167, end=0.906250, pitch=55, velocity=77),\n",
       " Note(start=0.979167, end=1.052083, pitch=55, velocity=77),\n",
       " Note(start=1.229167, end=1.296875, pitch=54, velocity=77),\n",
       " Note(start=1.759375, end=1.926042, pitch=76, velocity=98),\n",
       " Note(start=1.884375, end=2.019792, pitch=74, velocity=90),\n",
       " Note(start=2.009375, end=2.155208, pitch=71, velocity=82),\n",
       " Note(start=2.134375, end=2.254167, pitch=74, velocity=86),\n",
       " Note(start=2.259375, end=2.431250, pitch=76, velocity=94),\n",
       " Note(start=2.389583, end=2.519792, pitch=74, velocity=86),\n",
       " Note(start=2.509375, end=2.603125, pitch=71, velocity=86),\n",
       " Note(start=2.634375, end=2.759375, pitch=74, velocity=90),\n",
       " Note(start=2.759375, end=2.946875, pitch=76, velocity=94),\n",
       " Note(start=2.884375, end=3.004167, pitch=74, velocity=86),\n",
       " Note(start=3.014583, end=3.139583, pitch=71, velocity=86),\n",
       " Note(start=3.134375, end=3.228125, pitch=69, velocity=74),\n",
       " Note(start=3.259375, end=3.368750, pitch=71, velocity=82),\n",
       " Note(start=3.384375, end=3.493750, pitch=69, velocity=82),\n",
       " Note(start=3.530208, end=3.582292, pitch=71, velocity=90),\n",
       " Note(start=3.634375, end=3.769792, pitch=76, velocity=102),\n",
       " Note(start=3.759375, end=3.894792, pitch=74, velocity=102),\n",
       " Note(start=1.479167, end=3.942708, pitch=59, velocity=77)]"
      ]
     },
     "metadata": {},
     "execution_count": 31
    }
   ],
   "source": [
    "result = a.adapt(mel2, mel1)\n",
    "print(result.meta)\n",
    "result.sequence.instruments[0].notes"
   ]
  }
 ]
}