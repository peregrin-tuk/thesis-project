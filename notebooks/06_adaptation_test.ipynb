{
 "metadata": {
  "language_info": {
   "codemirror_mode": {
    "name": "ipython",
    "version": 3
   },
   "file_extension": ".py",
   "mimetype": "text/x-python",
   "name": "python",
   "nbconvert_exporter": "python",
   "pygments_lexer": "ipython3",
   "version": "3.7.9-final"
  },
  "orig_nbformat": 2,
  "kernelspec": {
   "name": "python3",
   "display_name": "Python 3.7.9 64-bit ('mpro': conda)",
   "metadata": {
    "interpreter": {
     "hash": "75a9ca51cf2daeb22ff0ca8785d387c49ea4e2c8c6428abeae8aacce62ee187c"
    }
   }
  }
 },
 "nbformat": 4,
 "nbformat_minor": 2,
 "cells": [
  {
   "cell_type": "code",
   "execution_count": 1,
   "metadata": {},
   "outputs": [
    {
     "output_type": "stream",
     "name": "stderr",
     "text": [
      "C:\\Users\\Eric\\miniconda3\\envs\\mpro\\lib\\site-packages\\pydub\\utils.py:170: RuntimeWarning: Couldn't find ffmpeg or avconv - defaulting to ffmpeg, but may not work\n  warn(\"Couldn't find ffmpeg or avconv - defaulting to ffmpeg, but may not work\", RuntimeWarning)\n"
     ]
    }
   ],
   "source": [
    "import sys, os\n",
    "\n",
    "root_dir = os.path.join(os.getcwd(), '..')\n",
    "sys.path.append(root_dir)\n",
    "\n",
    "from src.io.input import loadMidiFile\n",
    "from src.io.output import pianoRoll\n",
    "from src import analysis\n",
    "from src.adaptation import Adaptation\n",
    "from src.datatypes.melody_data import MelodyData\n",
    "from definitions import SequenceType"
   ]
  },
  {
   "source": [
    "## Instantiate Adaptation Object\n"
   ],
   "cell_type": "markdown",
   "metadata": {}
  },
  {
   "cell_type": "code",
   "execution_count": 2,
   "metadata": {},
   "outputs": [],
   "source": [
    "a = Adaptation()"
   ]
  },
  {
   "source": [
    "## Print available adaptation operations"
   ],
   "cell_type": "markdown",
   "metadata": {}
  },
  {
   "cell_type": "code",
   "execution_count": 3,
   "metadata": {},
   "outputs": [
    {
     "output_type": "stream",
     "name": "stdout",
     "text": [
      "StartEncOnCTOperation : None\nTransposeNotesOperation : None\nTransposeSequenceOperation : Estimates the key of both sequences and transposes the base sequence to be in the same key as the control sequence.\n"
     ]
    }
   ],
   "source": [
    "for op in a.available_operations:\n",
    "    print(op.__name__, \":\", op.__doc__)"
   ]
  },
  {
   "source": [
    "## Construct a pipeline"
   ],
   "cell_type": "markdown",
   "metadata": {}
  },
  {
   "cell_type": "code",
   "execution_count": 4,
   "metadata": {},
   "outputs": [
    {
     "output_type": "execute_result",
     "data": {
      "text/plain": [
       "['TransposeNotesOperation']"
      ]
     },
     "metadata": {},
     "execution_count": 4
    }
   ],
   "source": [
    "a.construct_pipeline(['TransposeNotesOperation'])\n",
    "a.pipeline.get_operations()"
   ]
  },
  {
   "source": [
    "## Load 2 Melodies to emulate input and gen_base\n",
    "+ print the notes of melody 2 (the base for adaptation)"
   ],
   "cell_type": "markdown",
   "metadata": {}
  },
  {
   "cell_type": "code",
   "execution_count": 5,
   "metadata": {},
   "outputs": [
    {
     "output_type": "execute_result",
     "data": {
      "text/plain": [
       "[Note(start=0.000000, end=0.260417, pitch=57, velocity=77),\n",
       " Note(start=0.354167, end=0.401042, pitch=57, velocity=77),\n",
       " Note(start=0.604167, end=0.645833, pitch=57, velocity=77),\n",
       " Note(start=0.854167, end=0.906250, pitch=57, velocity=77),\n",
       " Note(start=0.979167, end=1.052083, pitch=57, velocity=77),\n",
       " Note(start=1.229167, end=1.296875, pitch=56, velocity=77),\n",
       " Note(start=1.759375, end=1.926042, pitch=78, velocity=98),\n",
       " Note(start=1.884375, end=2.019792, pitch=76, velocity=90),\n",
       " Note(start=2.009375, end=2.155208, pitch=73, velocity=82),\n",
       " Note(start=2.134375, end=2.254167, pitch=76, velocity=86),\n",
       " Note(start=2.259375, end=2.431250, pitch=78, velocity=94),\n",
       " Note(start=2.389583, end=2.519792, pitch=76, velocity=86),\n",
       " Note(start=2.509375, end=2.603125, pitch=73, velocity=86),\n",
       " Note(start=2.634375, end=2.759375, pitch=76, velocity=90),\n",
       " Note(start=2.759375, end=2.946875, pitch=78, velocity=94),\n",
       " Note(start=2.884375, end=3.004167, pitch=76, velocity=86),\n",
       " Note(start=3.014583, end=3.139583, pitch=73, velocity=86),\n",
       " Note(start=3.134375, end=3.228125, pitch=71, velocity=74),\n",
       " Note(start=3.259375, end=3.368750, pitch=73, velocity=82),\n",
       " Note(start=3.384375, end=3.493750, pitch=71, velocity=82),\n",
       " Note(start=3.530208, end=3.582292, pitch=73, velocity=90),\n",
       " Note(start=3.634375, end=3.769792, pitch=78, velocity=102),\n",
       " Note(start=3.759375, end=3.894792, pitch=76, velocity=102),\n",
       " Note(start=1.479167, end=3.942708, pitch=61, velocity=77)]"
      ]
     },
     "metadata": {},
     "execution_count": 5
    }
   ],
   "source": [
    "midi1 = loadMidiFile('../midi/examples/monophonic/bohemian_mama2_4b.mid')\n",
    "midi2 = loadMidiFile('../midi/examples/monophonic/africa_intro_2b.mid')\n",
    "\n",
    "mel1 = MelodyData(midi1, SequenceType.REC_INPUT, {})\n",
    "mel2 = MelodyData(midi2, SequenceType.GEN_BASE, {})\n",
    "\n",
    "mel2.sequence.instruments[0].notes"
   ]
  },
  {
   "source": [
    "## Adapt the melody and print the results"
   ],
   "cell_type": "markdown",
   "metadata": {}
  },
  {
   "cell_type": "code",
   "execution_count": 6,
   "metadata": {},
   "outputs": [
    {
     "output_type": "stream",
     "name": "stdout",
     "text": [
      "{'adaptation_steps': [{'name': 'TransposeNotesOperation', 'duration': 0.012002706527709961, 'intermediate_result': <music21.stream.Score 0x1d6661caa88>}], 'adaptation_duration': 0.012002706527709961}\n"
     ]
    },
    {
     "output_type": "execute_result",
     "data": {
      "text/plain": [
       "[Note(start=0.000000, end=0.260417, pitch=57, velocity=77),\n",
       " Note(start=0.354167, end=0.401042, pitch=57, velocity=77),\n",
       " Note(start=0.604167, end=0.645833, pitch=57, velocity=77),\n",
       " Note(start=0.854167, end=0.906250, pitch=57, velocity=77),\n",
       " Note(start=0.979167, end=1.052083, pitch=57, velocity=77),\n",
       " Note(start=1.229167, end=1.296875, pitch=55, velocity=77),\n",
       " Note(start=1.759375, end=1.926042, pitch=77, velocity=98),\n",
       " Note(start=1.884375, end=2.019792, pitch=75, velocity=90),\n",
       " Note(start=2.009375, end=2.155208, pitch=72, velocity=82),\n",
       " Note(start=2.134375, end=2.254167, pitch=75, velocity=86),\n",
       " Note(start=2.259375, end=2.431250, pitch=77, velocity=94),\n",
       " Note(start=2.389583, end=2.519792, pitch=75, velocity=86),\n",
       " Note(start=2.509375, end=2.603125, pitch=72, velocity=86),\n",
       " Note(start=2.634375, end=2.759375, pitch=75, velocity=90),\n",
       " Note(start=2.759375, end=2.946875, pitch=77, velocity=94),\n",
       " Note(start=2.884375, end=3.004167, pitch=75, velocity=86),\n",
       " Note(start=3.014583, end=3.139583, pitch=72, velocity=86),\n",
       " Note(start=3.134375, end=3.228125, pitch=70, velocity=74),\n",
       " Note(start=3.259375, end=3.368750, pitch=72, velocity=82),\n",
       " Note(start=3.384375, end=3.493750, pitch=70, velocity=82),\n",
       " Note(start=3.530208, end=3.582292, pitch=72, velocity=90),\n",
       " Note(start=3.634375, end=3.769792, pitch=77, velocity=102),\n",
       " Note(start=3.759375, end=3.894792, pitch=75, velocity=102),\n",
       " Note(start=1.479167, end=3.942708, pitch=60, velocity=77)]"
      ]
     },
     "metadata": {},
     "execution_count": 6
    }
   ],
   "source": [
    "result = a.adapt(mel2, mel1)\n",
    "print(result.meta)\n",
    "result.sequence.instruments[0].notes"
   ]
  }
 ]
}