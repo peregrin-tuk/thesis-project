{
 "metadata": {
  "language_info": {
   "codemirror_mode": {
    "name": "ipython",
    "version": 3
   },
   "file_extension": ".py",
   "mimetype": "text/x-python",
   "name": "python",
   "nbconvert_exporter": "python",
   "pygments_lexer": "ipython3",
   "version": "3.7.9-final"
  },
  "orig_nbformat": 2,
  "kernelspec": {
   "name": "python3",
   "display_name": "Python 3.7.9 64-bit",
   "metadata": {
    "interpreter": {
     "hash": "75a9ca51cf2daeb22ff0ca8785d387c49ea4e2c8c6428abeae8aacce62ee187c"
    }
   }
  }
 },
 "nbformat": 4,
 "nbformat_minor": 2,
 "cells": [
  {
   "cell_type": "code",
   "execution_count": 1,
   "metadata": {},
   "outputs": [
    {
     "output_type": "stream",
     "name": "stderr",
     "text": [
      "C:\\Users\\Eric\\miniconda3\\envs\\mpro\\lib\\site-packages\\pydub\\utils.py:170: RuntimeWarning: Couldn't find ffmpeg or avconv - defaulting to ffmpeg, but may not work\n  warn(\"Couldn't find ffmpeg or avconv - defaulting to ffmpeg, but may not work\", RuntimeWarning)\n"
     ]
    }
   ],
   "source": [
    "import sys, os\n",
    "\n",
    "root_dir = os.path.join(os.getcwd(), '..')\n",
    "sys.path.append(root_dir)\n",
    "\n",
    "from src.io.input import loadMidiFile\n",
    "from src.io.output import pianoRoll\n",
    "from src.adaptation import Adaptation\n",
    "from src.datatypes.melody_data import MelodyData\n",
    "from definitions import SequenceType"
   ]
  },
  {
   "cell_type": "code",
   "execution_count": 2,
   "metadata": {},
   "outputs": [
    {
     "output_type": "execute_result",
     "data": {
      "text/plain": [
       "[src.adaptation.operations.start_end_on_ct_operation.StartEncOnCTOperation,\n",
       " src.adaptation.operations.transpose_notes_operation.TransposeNotesOperation,\n",
       " src.adaptation.operations.transpose_sequence_operation.TransposeSequenceOperation]"
      ]
     },
     "metadata": {},
     "execution_count": 2
    }
   ],
   "source": [
    "a = Adaptation()\n",
    "a.available_operations"
   ]
  },
  {
   "cell_type": "code",
   "execution_count": 3,
   "metadata": {},
   "outputs": [
    {
     "output_type": "stream",
     "name": "stdout",
     "text": [
      "StartEncOnCTOperation\nNone\nTransposeNotesOperation\nNone\nTransposeSequenceOperation\nEstimates the key of both sequences and transposes the base sequence to be in the same key as the control sequence.\n"
     ]
    }
   ],
   "source": [
    "for op in a.available_operations:\n",
    "    print(op.__name__)\n",
    "    print(op.__doc__)"
   ]
  },
  {
   "cell_type": "code",
   "execution_count": 4,
   "metadata": {},
   "outputs": [
    {
     "output_type": "execute_result",
     "data": {
      "text/plain": [
       "['StartEncOnCTOperation',\n",
       " 'TransposeNotesOperation',\n",
       " 'TransposeSequenceOperation']"
      ]
     },
     "metadata": {},
     "execution_count": 4
    }
   ],
   "source": [
    "a.construct_pipeline(a.available_operations)\n",
    "a.pipeline.get_operations()"
   ]
  },
  {
   "cell_type": "code",
   "execution_count": 5,
   "metadata": {},
   "outputs": [
    {
     "output_type": "execute_result",
     "data": {
      "text/plain": [
       "['TransposeSequenceOperation']"
      ]
     },
     "metadata": {},
     "execution_count": 5
    }
   ],
   "source": [
    "a.construct_pipeline(['TransposeSequenceOperation'])\n",
    "a.pipeline.get_operations()"
   ]
  },
  {
   "cell_type": "code",
   "execution_count": null,
   "metadata": {},
   "outputs": [],
   "source": [
    "midi1 = loadMidiFile('../midi/examples/monophonic/bohemian_mama2_4b.mid')\n",
    "midi2 = loadMidiFile('../midi/examples/monophonic/mozart1_4b.mid')\n",
    "\n",
    "mel1 = MelodyData(midi1, SequenceType.REC_INPUT, {})\n",
    "mel2 = MelodyData(midi2, SequenceType.GEN_BASE, {})\n",
    "\n",
    "mel2.sequence.instruments[0].notes"
   ]
  },
  {
   "cell_type": "code",
   "execution_count": 12,
   "metadata": {},
   "outputs": [
    {
     "output_type": "error",
     "ename": "MemoryError",
     "evalue": "",
     "traceback": [
      "\u001b[1;31m---------------------------------------------------------------------------\u001b[0m",
      "\u001b[1;31mMemoryError\u001b[0m                               Traceback (most recent call last)",
      "\u001b[1;32m<ipython-input-12-a7e060442dcb>\u001b[0m in \u001b[0;36m<module>\u001b[1;34m\u001b[0m\n\u001b[1;32m----> 1\u001b[1;33m \u001b[0mad_mel2\u001b[0m \u001b[1;33m=\u001b[0m \u001b[0mmel2\u001b[0m\u001b[1;33m.\u001b[0m\u001b[0mto_adaptation_data\u001b[0m\u001b[1;33m(\u001b[0m\u001b[1;33m)\u001b[0m\u001b[1;33m\u001b[0m\u001b[1;33m\u001b[0m\u001b[0m\n\u001b[0m\u001b[0;32m      2\u001b[0m \u001b[0mad_mel2\u001b[0m\u001b[1;33m.\u001b[0m\u001b[0msequence\u001b[0m\u001b[1;33m.\u001b[0m\u001b[0mshow\u001b[0m\u001b[1;33m(\u001b[0m\u001b[1;34m'text'\u001b[0m\u001b[1;33m)\u001b[0m\u001b[1;33m\u001b[0m\u001b[1;33m\u001b[0m\u001b[0m\n",
      "\u001b[1;32md:\\FH\\Masterarbeit\\Project\\notebooks\\..\\src\\datatypes\\melody_data.py\u001b[0m in \u001b[0;36mto_adaptation_data\u001b[1;34m(self)\u001b[0m\n\u001b[0;32m     21\u001b[0m \u001b[1;33m\u001b[0m\u001b[0m\n\u001b[0;32m     22\u001b[0m     \u001b[1;32mdef\u001b[0m \u001b[0mto_adaptation_data\u001b[0m\u001b[1;33m(\u001b[0m\u001b[0mself\u001b[0m\u001b[1;33m)\u001b[0m\u001b[1;33m:\u001b[0m\u001b[1;33m\u001b[0m\u001b[1;33m\u001b[0m\u001b[0m\n\u001b[1;32m---> 23\u001b[1;33m         \u001b[0mstream\u001b[0m \u001b[1;33m=\u001b[0m \u001b[0mpretty_midi_to_music21\u001b[0m\u001b[1;33m(\u001b[0m\u001b[0mself\u001b[0m\u001b[1;33m.\u001b[0m\u001b[0msequence\u001b[0m\u001b[1;33m)\u001b[0m\u001b[1;33m\u001b[0m\u001b[1;33m\u001b[0m\u001b[0m\n\u001b[0m\u001b[0;32m     24\u001b[0m         \u001b[1;32mreturn\u001b[0m \u001b[0mAdaptationMelodyData\u001b[0m\u001b[1;33m(\u001b[0m\u001b[0mstream\u001b[0m\u001b[1;33m)\u001b[0m\u001b[1;33m\u001b[0m\u001b[1;33m\u001b[0m\u001b[0m\n\u001b[0;32m     25\u001b[0m \u001b[1;33m\u001b[0m\u001b[0m\n",
      "\u001b[1;32md:\\FH\\Masterarbeit\\Project\\notebooks\\..\\src\\io\\conversion.py\u001b[0m in \u001b[0;36mpretty_midi_to_music21\u001b[1;34m(melody)\u001b[0m\n\u001b[0;32m      8\u001b[0m \u001b[1;32mdef\u001b[0m \u001b[0mpretty_midi_to_music21\u001b[0m\u001b[1;33m(\u001b[0m\u001b[0mmelody\u001b[0m\u001b[1;33m:\u001b[0m \u001b[0mPrettyMIDI\u001b[0m\u001b[1;33m)\u001b[0m\u001b[1;33m:\u001b[0m\u001b[1;33m\u001b[0m\u001b[1;33m\u001b[0m\u001b[0m\n\u001b[0;32m      9\u001b[0m     \u001b[0mtmp\u001b[0m \u001b[1;33m=\u001b[0m \u001b[0m_from_pretty_midi_wrapper\u001b[0m\u001b[1;33m(\u001b[0m\u001b[0mmelody\u001b[0m\u001b[1;33m,\u001b[0m \u001b[0mmelody\u001b[0m\u001b[1;33m.\u001b[0m\u001b[0mresolution\u001b[0m\u001b[1;33m)\u001b[0m\u001b[1;33m\u001b[0m\u001b[1;33m\u001b[0m\u001b[0m\n\u001b[1;32m---> 10\u001b[1;33m     \u001b[1;32mreturn\u001b[0m \u001b[0mmuspy\u001b[0m\u001b[1;33m.\u001b[0m\u001b[0mto_music21\u001b[0m\u001b[1;33m(\u001b[0m\u001b[0mtmp\u001b[0m\u001b[1;33m)\u001b[0m\u001b[1;33m\u001b[0m\u001b[1;33m\u001b[0m\u001b[0m\n\u001b[0m\u001b[0;32m     11\u001b[0m \u001b[1;33m\u001b[0m\u001b[0m\n\u001b[0;32m     12\u001b[0m \u001b[1;32mdef\u001b[0m \u001b[0mmusic21_to_pretty_midi\u001b[0m\u001b[1;33m(\u001b[0m\u001b[0mmelody\u001b[0m\u001b[1;33m:\u001b[0m \u001b[0mmusic21\u001b[0m\u001b[1;33m.\u001b[0m\u001b[0mstream\u001b[0m\u001b[1;33m.\u001b[0m\u001b[0mStream\u001b[0m\u001b[1;33m)\u001b[0m\u001b[1;33m:\u001b[0m\u001b[1;33m\u001b[0m\u001b[1;33m\u001b[0m\u001b[0m\n",
      "\u001b[1;32md:\\FH\\Masterarbeit\\Project\\notebooks\\..\\src\\io\\conversion.py\u001b[0m in \u001b[0;36m_patched_to_music21\u001b[1;34m(music)\u001b[0m\n\u001b[0;32m     90\u001b[0m \u001b[1;33m\u001b[0m\u001b[0m\n\u001b[0;32m     91\u001b[0m         \u001b[1;31m# Make measures\u001b[0m\u001b[1;33m\u001b[0m\u001b[1;33m\u001b[0m\u001b[1;33m\u001b[0m\u001b[0m\n\u001b[1;32m---> 92\u001b[1;33m         \u001b[0mscore\u001b[0m\u001b[1;33m.\u001b[0m\u001b[0mmakeMeasures\u001b[0m\u001b[1;33m(\u001b[0m\u001b[1;33m)\u001b[0m\u001b[1;33m\u001b[0m\u001b[1;33m\u001b[0m\u001b[0m\n\u001b[0m\u001b[0;32m     93\u001b[0m \u001b[1;33m\u001b[0m\u001b[0m\n\u001b[0;32m     94\u001b[0m         \u001b[1;32mreturn\u001b[0m \u001b[0mscore\u001b[0m\u001b[1;33m\u001b[0m\u001b[1;33m\u001b[0m\u001b[0m\n",
      "\u001b[1;32m~\\miniconda3\\envs\\mpro\\lib\\site-packages\\music21\\stream\\__init__.py\u001b[0m in \u001b[0;36mmakeMeasures\u001b[1;34m(self, meterStream, refStreamOrTimeRange, searchContext, innerBarline, finalBarline, bestClef, inPlace)\u001b[0m\n\u001b[0;32m   5805\u001b[0m             \u001b[0mfinalBarline\u001b[0m\u001b[1;33m=\u001b[0m\u001b[0mfinalBarline\u001b[0m\u001b[1;33m,\u001b[0m\u001b[1;33m\u001b[0m\u001b[1;33m\u001b[0m\u001b[0m\n\u001b[0;32m   5806\u001b[0m             \u001b[0mbestClef\u001b[0m\u001b[1;33m=\u001b[0m\u001b[0mbestClef\u001b[0m\u001b[1;33m,\u001b[0m\u001b[1;33m\u001b[0m\u001b[1;33m\u001b[0m\u001b[0m\n\u001b[1;32m-> 5807\u001b[1;33m             \u001b[0minPlace\u001b[0m\u001b[1;33m=\u001b[0m\u001b[0minPlace\u001b[0m\u001b[1;33m,\u001b[0m\u001b[1;33m\u001b[0m\u001b[1;33m\u001b[0m\u001b[0m\n\u001b[0m\u001b[0;32m   5808\u001b[0m         )\n\u001b[0;32m   5809\u001b[0m \u001b[1;33m\u001b[0m\u001b[0m\n",
      "\u001b[1;32m~\\miniconda3\\envs\\mpro\\lib\\site-packages\\music21\\stream\\makeNotation.py\u001b[0m in \u001b[0;36mmakeMeasures\u001b[1;34m(s, meterStream, refStreamOrTimeRange, searchContext, innerBarline, finalBarline, bestClef, inPlace)\u001b[0m\n\u001b[0;32m    518\u001b[0m                 'time signature {0!r} has no duration'.format(\n\u001b[0;32m    519\u001b[0m                     thisTimeSignature))\n\u001b[1;32m--> 520\u001b[1;33m         \u001b[0mpost\u001b[0m\u001b[1;33m.\u001b[0m\u001b[0mcoreInsert\u001b[0m\u001b[1;33m(\u001b[0m\u001b[0mo\u001b[0m\u001b[1;33m,\u001b[0m \u001b[0mm\u001b[0m\u001b[1;33m)\u001b[0m  \u001b[1;31m# insert measure\u001b[0m\u001b[1;33m\u001b[0m\u001b[1;33m\u001b[0m\u001b[0m\n\u001b[0m\u001b[0;32m    521\u001b[0m         \u001b[1;31m# increment by meter length\u001b[0m\u001b[1;33m\u001b[0m\u001b[1;33m\u001b[0m\u001b[1;33m\u001b[0m\u001b[0m\n\u001b[0;32m    522\u001b[0m         \u001b[0mo\u001b[0m \u001b[1;33m+=\u001b[0m \u001b[0mthisTimeSignature\u001b[0m\u001b[1;33m.\u001b[0m\u001b[0mbarDuration\u001b[0m\u001b[1;33m.\u001b[0m\u001b[0mquarterLength\u001b[0m\u001b[1;33m\u001b[0m\u001b[1;33m\u001b[0m\u001b[0m\n",
      "\u001b[1;32m~\\miniconda3\\envs\\mpro\\lib\\site-packages\\music21\\stream\\core.py\u001b[0m in \u001b[0;36mcoreInsert\u001b[1;34m(self, offset, element, ignoreSort, setActiveSite)\u001b[0m\n\u001b[0;32m     94\u001b[0m                             \u001b[0mstoreSorted\u001b[0m \u001b[1;33m=\u001b[0m \u001b[1;32mTrue\u001b[0m\u001b[1;33m\u001b[0m\u001b[1;33m\u001b[0m\u001b[0m\n\u001b[0;32m     95\u001b[0m \u001b[1;33m\u001b[0m\u001b[0m\n\u001b[1;32m---> 96\u001b[1;33m         \u001b[0mself\u001b[0m\u001b[1;33m.\u001b[0m\u001b[0msetElementOffset\u001b[0m\u001b[1;33m(\u001b[0m\u001b[0melement\u001b[0m\u001b[1;33m,\u001b[0m \u001b[0mfloat\u001b[0m\u001b[1;33m(\u001b[0m\u001b[0moffset\u001b[0m\u001b[1;33m)\u001b[0m\u001b[1;33m,\u001b[0m \u001b[0maddElement\u001b[0m\u001b[1;33m=\u001b[0m\u001b[1;32mTrue\u001b[0m\u001b[1;33m,\u001b[0m \u001b[0msetActiveSite\u001b[0m\u001b[1;33m=\u001b[0m\u001b[0msetActiveSite\u001b[0m\u001b[1;33m)\u001b[0m\u001b[1;33m\u001b[0m\u001b[1;33m\u001b[0m\u001b[0m\n\u001b[0m\u001b[0;32m     97\u001b[0m         \u001b[0melement\u001b[0m\u001b[1;33m.\u001b[0m\u001b[0msites\u001b[0m\u001b[1;33m.\u001b[0m\u001b[0madd\u001b[0m\u001b[1;33m(\u001b[0m\u001b[0mself\u001b[0m\u001b[1;33m)\u001b[0m\u001b[1;33m\u001b[0m\u001b[1;33m\u001b[0m\u001b[0m\n\u001b[0;32m     98\u001b[0m         \u001b[1;31m# need to explicitly set the activeSite of the element\u001b[0m\u001b[1;33m\u001b[0m\u001b[1;33m\u001b[0m\u001b[1;33m\u001b[0m\u001b[0m\n",
      "\u001b[1;32m~\\miniconda3\\envs\\mpro\\lib\\site-packages\\music21\\stream\\__init__.py\u001b[0m in \u001b[0;36msetElementOffset\u001b[1;34m(self, element, offset, addElement, setActiveSite)\u001b[0m\n\u001b[0;32m   1583\u001b[0m             raise StreamException(\n\u001b[0;32m   1584\u001b[0m                 'Cannot set the offset for element {}, not in Stream {}.'.format(element, self))\n\u001b[1;32m-> 1585\u001b[1;33m         \u001b[0mself\u001b[0m\u001b[1;33m.\u001b[0m\u001b[0m_offsetDict\u001b[0m\u001b[1;33m[\u001b[0m\u001b[0midEl\u001b[0m\u001b[1;33m]\u001b[0m \u001b[1;33m=\u001b[0m \u001b[1;33m(\u001b[0m\u001b[0moffset\u001b[0m\u001b[1;33m,\u001b[0m \u001b[0melement\u001b[0m\u001b[1;33m)\u001b[0m  \u001b[1;31m# fast\u001b[0m\u001b[1;33m\u001b[0m\u001b[1;33m\u001b[0m\u001b[0m\n\u001b[0m\u001b[0;32m   1586\u001b[0m         \u001b[1;32mif\u001b[0m \u001b[0msetActiveSite\u001b[0m\u001b[1;33m:\u001b[0m\u001b[1;33m\u001b[0m\u001b[1;33m\u001b[0m\u001b[0m\n\u001b[0;32m   1587\u001b[0m             \u001b[0mself\u001b[0m\u001b[1;33m.\u001b[0m\u001b[0mcoreSelfActiveSite\u001b[0m\u001b[1;33m(\u001b[0m\u001b[0melement\u001b[0m\u001b[1;33m)\u001b[0m\u001b[1;33m\u001b[0m\u001b[1;33m\u001b[0m\u001b[0m\n",
      "\u001b[1;31mMemoryError\u001b[0m: "
     ]
    }
   ],
   "source": [
    "ad_mel2 = mel2.to_adaptation_data()\n",
    "ad_mel2.sequence.show('text')"
   ]
  },
  {
   "cell_type": "code",
   "execution_count": 8,
   "metadata": {},
   "outputs": [
    {
     "output_type": "execute_result",
     "data": {
      "text/plain": [
       "220"
      ]
     },
     "metadata": {},
     "execution_count": 8
    }
   ],
   "source": [
    "mel2.update_sequence_from_adaptation_data(ad_mel2)\n",
    "mel2.sequence.instruments[0].notes\n",
    "mel2.sequence.resolution"
   ]
  },
  {
   "cell_type": "code",
   "execution_count": 11,
   "metadata": {},
   "outputs": [
    {
     "output_type": "stream",
     "name": "stdout",
     "text": [
      "{'adaptation_steps': [{'name': 'TransposeSequenceOperation', 'duration': 0.04063773155212402, 'intermediate_result': <music21.stream.Score 0x1f57b171888>}], 'adaptation_duration': 0.04063773155212402}\n"
     ]
    },
    {
     "output_type": "execute_result",
     "data": {
      "text/plain": [
       "[Note(start=0.000000, end=552960.000000, pitch=79, velocity=95),\n",
       " Note(start=552960.000000, end=995328.000000, pitch=74, velocity=86),\n",
       " Note(start=995328.000000, end=1327104.000000, pitch=79, velocity=94),\n",
       " Note(start=1327104.000000, end=1880064.000000, pitch=74, velocity=75),\n",
       " Note(start=1880064.000000, end=2433024.000000, pitch=79, velocity=92),\n",
       " Note(start=2433024.000000, end=2985984.000000, pitch=74, velocity=87),\n",
       " Note(start=2985984.000000, end=3428352.000000, pitch=79, velocity=91),\n",
       " Note(start=3428352.000000, end=3870720.000000, pitch=83, velocity=94),\n",
       " Note(start=3870720.000000, end=7962624.000000, pitch=86, velocity=95),\n",
       " Note(start=7962624.000000, end=8294400.000000, pitch=84, velocity=103),\n",
       " Note(start=8294400.000000, end=8736768.000000, pitch=81, velocity=81),\n",
       " Note(start=8736768.000000, end=9289728.000000, pitch=84, velocity=86),\n",
       " Note(start=9289728.000000, end=9732096.000000, pitch=81, velocity=82),\n",
       " Note(start=9732096.000000, end=10174464.000000, pitch=84, velocity=83),\n",
       " Note(start=10174464.000000, end=10727424.000000, pitch=81, velocity=92),\n",
       " Note(start=10727424.000000, end=11169792.000000, pitch=78, velocity=99),\n",
       " Note(start=11169792.000000, end=11612160.000000, pitch=81, velocity=88),\n",
       " Note(start=11612160.000000, end=15261696.000000, pitch=74, velocity=92)]"
      ]
     },
     "metadata": {},
     "execution_count": 11
    }
   ],
   "source": [
    "result = a.adapt(mel2, mel1)\n",
    "print(result.meta)\n",
    "result.sequence.instruments[0].notes"
   ]
  }
 ]
}