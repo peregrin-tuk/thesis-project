{
 "cells": [
  {
   "cell_type": "code",
   "execution_count": 1,
   "metadata": {},
   "outputs": [],
   "source": [
    "import sys, os\n",
    "import IPython.display\n",
    "\n",
    "root_dir = os.path.join(os.getcwd(), '..')\n",
    "sys.path.append(root_dir)"
   ]
  },
  {
   "cell_type": "code",
   "execution_count": 2,
   "metadata": {},
   "outputs": [],
   "source": [
    "from src.io.midi_input import MidiInput"
   ]
  },
  {
   "cell_type": "code",
   "execution_count": 3,
   "metadata": {},
   "outputs": [
    {
     "output_type": "stream",
     "name": "stdout",
     "text": [
      "IO: \"MPK Mini Mk II 0\" connected as input port\n"
     ]
    }
   ],
   "source": [
    "input = MidiInput()"
   ]
  },
  {
   "cell_type": "code",
   "execution_count": 4,
   "metadata": {},
   "outputs": [
    {
     "output_type": "stream",
     "name": "stdout",
     "text": [
      "IO: NOW RECORDING ...\n",
      "60 62 64 65 67 65 64 62 60 IO: recording successful.\n"
     ]
    }
   ],
   "source": [
    "midi = input.midoRecordUntilRest()"
   ]
  },
  {
   "cell_type": "code",
   "execution_count": 5,
   "metadata": {},
   "outputs": [
    {
     "output_type": "stream",
     "name": "stdout",
     "text": [
      "IO: Input port \"MPK Mini Mk II 0\" closed.\n"
     ]
    }
   ],
   "source": [
    "input.close_port()"
   ]
  },
  {
   "cell_type": "code",
   "execution_count": 6,
   "metadata": {},
   "outputs": [],
   "source": [
    "if midi is not None:\n",
    "    IPython.display.Audio(midi.fluidsynth(fs=16000), rate=16000)"
   ]
  },
  {
   "cell_type": "code",
   "execution_count": 7,
   "metadata": {},
   "outputs": [
    {
     "output_type": "execute_result",
     "data": {
      "text/plain": [
       "d:\\FH\\Masterarbeit\\Project\\notebooks\\test_midi.mid"
      ],
      "text/html": "<a href='test_midi.mid' target='_blank'>test_midi.mid</a><br>"
     },
     "metadata": {},
     "execution_count": 7
    }
   ],
   "source": [
    "IPython.display.FileLink('test_midi.mid')"
   ]
  },
  {
   "cell_type": "code",
   "execution_count": 8,
   "metadata": {},
   "outputs": [],
   "source": [
    "if midi is not None:\n",
    "    midi.instruments[0].notes"
   ]
  },
  {
   "cell_type": "code",
   "execution_count": 9,
   "metadata": {},
   "outputs": [],
   "source": [
    "def test(arg, arg2):\n",
    "    string = \"tralala\"\n",
    "    number = 4\n",
    "    return string, number\n",
    "\n",
    "x, y = test(1, 2)"
   ]
  },
  {
   "cell_type": "code",
   "execution_count": 10,
   "metadata": {},
   "outputs": [
    {
     "output_type": "execute_result",
     "data": {
      "text/plain": [
       "'tralala'"
      ]
     },
     "metadata": {},
     "execution_count": 10
    }
   ],
   "source": [
    "x"
   ]
  }
 ],
 "metadata": {
  "kernelspec": {
   "display_name": "mpro",
   "language": "python",
   "name": "mpro"
  },
  "language_info": {
   "codemirror_mode": {
    "name": "ipython",
    "version": 3
   },
   "file_extension": ".py",
   "mimetype": "text/x-python",
   "name": "python",
   "nbconvert_exporter": "python",
   "pygments_lexer": "ipython3",
   "version": "3.8.5-final"
  }
 },
 "nbformat": 4,
 "nbformat_minor": 2
}