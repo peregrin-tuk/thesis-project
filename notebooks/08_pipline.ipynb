{
 "metadata": {
  "language_info": {
   "codemirror_mode": {
    "name": "ipython",
    "version": 3
   },
   "file_extension": ".py",
   "mimetype": "text/x-python",
   "name": "python",
   "nbconvert_exporter": "python",
   "pygments_lexer": "ipython3",
   "version": "3.7.9-final"
  },
  "orig_nbformat": 2,
  "kernelspec": {
   "name": "python3",
   "display_name": "Python 3.7.9 64-bit ('mpro': conda)",
   "metadata": {
    "interpreter": {
     "hash": "75a9ca51cf2daeb22ff0ca8785d387c49ea4e2c8c6428abeae8aacce62ee187c"
    }
   }
  }
 },
 "nbformat": 4,
 "nbformat_minor": 2,
 "cells": [
  {
   "cell_type": "code",
   "execution_count": 5,
   "metadata": {},
   "outputs": [],
   "source": [
    "import sys, os\n",
    "\n",
    "root_dir = os.path.join(os.getcwd(), '..')\n",
    "sys.path.append(root_dir)\n",
    "\n",
    "from src.io.input import loadMidiFile\n",
    "from src.io.record_midi import MidiInput\n",
    "from src.io.output import pianoRoll, playPrettyMidi\n",
    "from src.io.conversion import note_seq_to_pretty_midi\n",
    "from src import analysis\n",
    "from src.adaptation import Adaptation\n",
    "from src.datatypes.melody_data import MelodyData\n",
    "from definitions import SequenceType\n",
    "from src.generation.musicvae_generator import MusicVAEGenerator, Checkpoint"
   ]
  },
  {
   "source": [
    "# Initialize the generation model\n",
    "(takes up to 3 minutes)"
   ],
   "cell_type": "markdown",
   "metadata": {}
  },
  {
   "cell_type": "code",
   "execution_count": 16,
   "metadata": {},
   "outputs": [
    {
     "output_type": "stream",
     "name": "stdout",
     "text": [
      "[GEN] Initializing Music VAE with checkpoint 'cat-mel_2bar_big'...\n",
      "INFO:tensorflow:Building MusicVAE model with BidirectionalLstmEncoder, CategoricalLstmDecoder, and hparams:\n",
      "{'max_seq_len': 32, 'z_size': 512, 'free_bits': 0, 'max_beta': 0.5, 'beta_rate': 0.99999, 'batch_size': 4, 'grad_clip': 1.0, 'clip_mode': 'global_norm', 'grad_norm_clip_to_zero': 10000, 'learning_rate': 0.001, 'decay_rate': 0.9999, 'min_learning_rate': 1e-05, 'conditional': True, 'dec_rnn_size': [2048, 2048, 2048], 'enc_rnn_size': [2048], 'dropout_keep_prob': 1.0, 'sampling_schedule': 'inverse_sigmoid', 'sampling_rate': 1000, 'use_cudnn': False, 'residual_encoder': False, 'residual_decoder': False, 'control_preprocessing_rnn_size': [256]}\n",
      "INFO:tensorflow:\n",
      "Encoder Cells (bidirectional):\n",
      "  units: [2048]\n",
      "\n",
      "INFO:tensorflow:\n",
      "Decoder Cells:\n",
      "  units: [2048, 2048, 2048]\n",
      "\n",
      "WARNING:tensorflow:Setting non-training sampling schedule from inverse_sigmoid:1000.000000 to constant:1.0.\n",
      "INFO:tensorflow:Unbundling checkpoint.\n",
      "INFO:tensorflow:Restoring parameters from C:\\Users\\Eric\\AppData\\Local\\Temp\\tmpzkobgxcy\\cat-mel_2bar_big.ckpt\n",
      "[GEN] 🎉 Initialization finished in 193.06910157203674 sec.\n"
     ]
    }
   ],
   "source": [
    "vae = MusicVAEGenerator()"
   ]
  },
  {
   "source": [
    "# Preparation of the Adaptation Pipeline\n",
    "## Instantiate Adaptation Object\n"
   ],
   "cell_type": "markdown",
   "metadata": {}
  },
  {
   "cell_type": "code",
   "execution_count": 31,
   "metadata": {},
   "outputs": [],
   "source": [
    "a = Adaptation()"
   ]
  },
  {
   "source": [
    "## Print available adaptation operations"
   ],
   "cell_type": "markdown",
   "metadata": {}
  },
  {
   "cell_type": "code",
   "execution_count": 32,
   "metadata": {},
   "outputs": [
    {
     "output_type": "stream",
     "name": "stdout",
     "text": [
      "StartAndEndOnCTOperation : Creates a chord based on the estimated key of the control sequence and transposes the first and last note of the base sequence so they are chord tones (e.g. 'c', 'e' or 'g' for a C major chord).\nTransposeNotesOperation : Estimates the key of both sequences and transposes every single note of the base sequence separately to the closest pitch that fits the key of the control sequence.\nTransposeSequenceOperation : Estimates the key of both sequences and transposes the base sequence to be in the same key as the control sequence.\n"
     ]
    }
   ],
   "source": [
    "for op in a.available_operations:\n",
    "    print(op.__name__, \":\", op.__doc__)"
   ]
  },
  {
   "source": [
    "## Construct a pipeline"
   ],
   "cell_type": "markdown",
   "metadata": {}
  },
  {
   "cell_type": "code",
   "execution_count": 33,
   "metadata": {},
   "outputs": [],
   "source": [
    "a.construct_pipeline(['StartAndEndOnCTOperation', 'TransposeNotesOperation'])"
   ]
  },
  {
   "source": [
    "# Record input melody with a length of 4 bars\n",
    "+ using metronome but no playback"
   ],
   "cell_type": "markdown",
   "metadata": {}
  },
  {
   "cell_type": "code",
   "execution_count": 40,
   "metadata": {},
   "outputs": [
    {
     "output_type": "stream",
     "name": "stdout",
     "text": [
      "[IO] \"MPK Mini Mk II 0\" connected as input port\n",
      "[IO] WARNING: Input port \"MPK Mini Mk II 0\" could not be closed. Most likely, it is already closed.\n",
      "[IO] NOW RECORDING ...\n",
      "\n",
      "[IO] recording successful.\n"
     ]
    }
   ],
   "source": [
    "recorder = MidiInput(tempo=120, playback=False)\n",
    "recorded_input = recorder.recordBars(4)"
   ]
  },
  {
   "source": [
    "# Generate base sequence for adaptation\n",
    "+ parameters: number of beats and temperature"
   ],
   "cell_type": "markdown",
   "metadata": {}
  },
  {
   "cell_type": "code",
   "execution_count": 42,
   "metadata": {},
   "outputs": [],
   "source": [
    "gen_base = vae.generate(16, 0.2)"
   ]
  },
  {
   "source": [
    "# Create MelodyData objects and start adaptation"
   ],
   "cell_type": "markdown",
   "metadata": {}
  },
  {
   "cell_type": "code",
   "execution_count": 44,
   "metadata": {},
   "outputs": [],
   "source": [
    "mel_input = MelodyData(recorded_input, SequenceType.REC_INPUT, {})\n",
    "mel_gen_base = MelodyData(note_seq_to_pretty_midi(gen_base['sequence']), SequenceType.GEN_BASE, { 'generation': gen_base['meta'] })\n",
    "\n",
    "result = a.adapt(mel_gen_base, mel_input)"
   ]
  },
  {
   "source": [
    "# Print & play the results"
   ],
   "cell_type": "markdown",
   "metadata": {}
  },
  {
   "cell_type": "code",
   "execution_count": 45,
   "metadata": {},
   "outputs": [
    {
     "output_type": "display_data",
     "data": {
      "text/html": "\n    <div class=\"bk-root\">\n        <a href=\"https://bokeh.org\" target=\"_blank\" class=\"bk-logo bk-logo-small bk-logo-notebook\"></a>\n        <span id=\"2924\">Loading BokehJS ...</span>\n    </div>"
     },
     "metadata": {}
    },
    {
     "output_type": "display_data",
     "data": {
      "application/javascript": "\n(function(root) {\n  function now() {\n    return new Date();\n  }\n\n  var force = true;\n\n  if (typeof root._bokeh_onload_callbacks === \"undefined\" || force === true) {\n    root._bokeh_onload_callbacks = [];\n    root._bokeh_is_loading = undefined;\n  }\n\n  var JS_MIME_TYPE = 'application/javascript';\n  var HTML_MIME_TYPE = 'text/html';\n  var EXEC_MIME_TYPE = 'application/vnd.bokehjs_exec.v0+json';\n  var CLASS_NAME = 'output_bokeh rendered_html';\n\n  /**\n   * Render data to the DOM node\n   */\n  function render(props, node) {\n    var script = document.createElement(\"script\");\n    node.appendChild(script);\n  }\n\n  /**\n   * Handle when an output is cleared or removed\n   */\n  function handleClearOutput(event, handle) {\n    var cell = handle.cell;\n\n    var id = cell.output_area._bokeh_element_id;\n    var server_id = cell.output_area._bokeh_server_id;\n    // Clean up Bokeh references\n    if (id != null && id in Bokeh.index) {\n      Bokeh.index[id].model.document.clear();\n      delete Bokeh.index[id];\n    }\n\n    if (server_id !== undefined) {\n      // Clean up Bokeh references\n      var cmd = \"from bokeh.io.state import curstate; print(curstate().uuid_to_server['\" + server_id + \"'].get_sessions()[0].document.roots[0]._id)\";\n      cell.notebook.kernel.execute(cmd, {\n        iopub: {\n          output: function(msg) {\n            var id = msg.content.text.trim();\n            if (id in Bokeh.index) {\n              Bokeh.index[id].model.document.clear();\n              delete Bokeh.index[id];\n            }\n          }\n        }\n      });\n      // Destroy server and session\n      var cmd = \"import bokeh.io.notebook as ion; ion.destroy_server('\" + server_id + \"')\";\n      cell.notebook.kernel.execute(cmd);\n    }\n  }\n\n  /**\n   * Handle when a new output is added\n   */\n  function handleAddOutput(event, handle) {\n    var output_area = handle.output_area;\n    var output = handle.output;\n\n    // limit handleAddOutput to display_data with EXEC_MIME_TYPE content only\n    if ((output.output_type != \"display_data\") || (!output.data.hasOwnProperty(EXEC_MIME_TYPE))) {\n      return\n    }\n\n    var toinsert = output_area.element.find(\".\" + CLASS_NAME.split(' ')[0]);\n\n    if (output.metadata[EXEC_MIME_TYPE][\"id\"] !== undefined) {\n      toinsert[toinsert.length - 1].firstChild.textContent = output.data[JS_MIME_TYPE];\n      // store reference to embed id on output_area\n      output_area._bokeh_element_id = output.metadata[EXEC_MIME_TYPE][\"id\"];\n    }\n    if (output.metadata[EXEC_MIME_TYPE][\"server_id\"] !== undefined) {\n      var bk_div = document.createElement(\"div\");\n      bk_div.innerHTML = output.data[HTML_MIME_TYPE];\n      var script_attrs = bk_div.children[0].attributes;\n      for (var i = 0; i < script_attrs.length; i++) {\n        toinsert[toinsert.length - 1].firstChild.setAttribute(script_attrs[i].name, script_attrs[i].value);\n        toinsert[toinsert.length - 1].firstChild.textContent = bk_div.children[0].textContent\n      }\n      // store reference to server id on output_area\n      output_area._bokeh_server_id = output.metadata[EXEC_MIME_TYPE][\"server_id\"];\n    }\n  }\n\n  function register_renderer(events, OutputArea) {\n\n    function append_mime(data, metadata, element) {\n      // create a DOM node to render to\n      var toinsert = this.create_output_subarea(\n        metadata,\n        CLASS_NAME,\n        EXEC_MIME_TYPE\n      );\n      this.keyboard_manager.register_events(toinsert);\n      // Render to node\n      var props = {data: data, metadata: metadata[EXEC_MIME_TYPE]};\n      render(props, toinsert[toinsert.length - 1]);\n      element.append(toinsert);\n      return toinsert\n    }\n\n    /* Handle when an output is cleared or removed */\n    events.on('clear_output.CodeCell', handleClearOutput);\n    events.on('delete.Cell', handleClearOutput);\n\n    /* Handle when a new output is added */\n    events.on('output_added.OutputArea', handleAddOutput);\n\n    /**\n     * Register the mime type and append_mime function with output_area\n     */\n    OutputArea.prototype.register_mime_type(EXEC_MIME_TYPE, append_mime, {\n      /* Is output safe? */\n      safe: true,\n      /* Index of renderer in `output_area.display_order` */\n      index: 0\n    });\n  }\n\n  // register the mime type if in Jupyter Notebook environment and previously unregistered\n  if (root.Jupyter !== undefined) {\n    var events = require('base/js/events');\n    var OutputArea = require('notebook/js/outputarea').OutputArea;\n\n    if (OutputArea.prototype.mime_types().indexOf(EXEC_MIME_TYPE) == -1) {\n      register_renderer(events, OutputArea);\n    }\n  }\n\n  \n  if (typeof (root._bokeh_timeout) === \"undefined\" || force === true) {\n    root._bokeh_timeout = Date.now() + 5000;\n    root._bokeh_failed_load = false;\n  }\n\n  var NB_LOAD_WARNING = {'data': {'text/html':\n     \"<div style='background-color: #fdd'>\\n\"+\n     \"<p>\\n\"+\n     \"BokehJS does not appear to have successfully loaded. If loading BokehJS from CDN, this \\n\"+\n     \"may be due to a slow or bad network connection. Possible fixes:\\n\"+\n     \"</p>\\n\"+\n     \"<ul>\\n\"+\n     \"<li>re-rerun `output_notebook()` to attempt to load from CDN again, or</li>\\n\"+\n     \"<li>use INLINE resources instead, as so:</li>\\n\"+\n     \"</ul>\\n\"+\n     \"<code>\\n\"+\n     \"from bokeh.resources import INLINE\\n\"+\n     \"output_notebook(resources=INLINE)\\n\"+\n     \"</code>\\n\"+\n     \"</div>\"}};\n\n  function display_loaded() {\n    var el = document.getElementById(\"2924\");\n    if (el != null) {\n      el.textContent = \"BokehJS is loading...\";\n    }\n    if (root.Bokeh !== undefined) {\n      if (el != null) {\n        el.textContent = \"BokehJS \" + root.Bokeh.version + \" successfully loaded.\";\n      }\n    } else if (Date.now() < root._bokeh_timeout) {\n      setTimeout(display_loaded, 100)\n    }\n  }\n\n\n  function run_callbacks() {\n    try {\n      root._bokeh_onload_callbacks.forEach(function(callback) {\n        if (callback != null)\n          callback();\n      });\n    } finally {\n      delete root._bokeh_onload_callbacks\n    }\n    console.debug(\"Bokeh: all callbacks have finished\");\n  }\n\n  function load_libs(css_urls, js_urls, callback) {\n    if (css_urls == null) css_urls = [];\n    if (js_urls == null) js_urls = [];\n\n    root._bokeh_onload_callbacks.push(callback);\n    if (root._bokeh_is_loading > 0) {\n      console.debug(\"Bokeh: BokehJS is being loaded, scheduling callback at\", now());\n      return null;\n    }\n    if (js_urls == null || js_urls.length === 0) {\n      run_callbacks();\n      return null;\n    }\n    console.debug(\"Bokeh: BokehJS not loaded, scheduling load and callback at\", now());\n    root._bokeh_is_loading = css_urls.length + js_urls.length;\n\n    function on_load() {\n      root._bokeh_is_loading--;\n      if (root._bokeh_is_loading === 0) {\n        console.debug(\"Bokeh: all BokehJS libraries/stylesheets loaded\");\n        run_callbacks()\n      }\n    }\n\n    function on_error() {\n      console.error(\"failed to load \" + url);\n    }\n\n    for (var i = 0; i < css_urls.length; i++) {\n      var url = css_urls[i];\n      const element = document.createElement(\"link\");\n      element.onload = on_load;\n      element.onerror = on_error;\n      element.rel = \"stylesheet\";\n      element.type = \"text/css\";\n      element.href = url;\n      console.debug(\"Bokeh: injecting link tag for BokehJS stylesheet: \", url);\n      document.body.appendChild(element);\n    }\n\n    const hashes = {\"https://cdn.bokeh.org/bokeh/release/bokeh-2.2.3.min.js\": \"T2yuo9Oe71Cz/I4X9Ac5+gpEa5a8PpJCDlqKYO0CfAuEszu1JrXLl8YugMqYe3sM\", \"https://cdn.bokeh.org/bokeh/release/bokeh-widgets-2.2.3.min.js\": \"98GDGJ0kOMCUMUePhksaQ/GYgB3+NH9h996V88sh3aOiUNX3N+fLXAtry6xctSZ6\", \"https://cdn.bokeh.org/bokeh/release/bokeh-tables-2.2.3.min.js\": \"89bArO+nlbP3sgakeHjCo1JYxYR5wufVgA3IbUvDY+K7w4zyxJqssu7wVnfeKCq8\"};\n\n    for (var i = 0; i < js_urls.length; i++) {\n      var url = js_urls[i];\n      var element = document.createElement('script');\n      element.onload = on_load;\n      element.onerror = on_error;\n      element.async = false;\n      element.src = url;\n      if (url in hashes) {\n        element.crossOrigin = \"anonymous\";\n        element.integrity = \"sha384-\" + hashes[url];\n      }\n      console.debug(\"Bokeh: injecting script tag for BokehJS library: \", url);\n      document.head.appendChild(element);\n    }\n  };\n\n  function inject_raw_css(css) {\n    const element = document.createElement(\"style\");\n    element.appendChild(document.createTextNode(css));\n    document.body.appendChild(element);\n  }\n\n  \n  var js_urls = [\"https://cdn.bokeh.org/bokeh/release/bokeh-2.2.3.min.js\", \"https://cdn.bokeh.org/bokeh/release/bokeh-widgets-2.2.3.min.js\", \"https://cdn.bokeh.org/bokeh/release/bokeh-tables-2.2.3.min.js\"];\n  var css_urls = [];\n  \n\n  var inline_js = [\n    function(Bokeh) {\n      Bokeh.set_log_level(\"info\");\n    },\n    function(Bokeh) {\n    \n    \n    }\n  ];\n\n  function run_inline_js() {\n    \n    if (root.Bokeh !== undefined || force === true) {\n      \n    for (var i = 0; i < inline_js.length; i++) {\n      inline_js[i].call(root, root.Bokeh);\n    }\n    if (force === true) {\n        display_loaded();\n      }} else if (Date.now() < root._bokeh_timeout) {\n      setTimeout(run_inline_js, 100);\n    } else if (!root._bokeh_failed_load) {\n      console.log(\"Bokeh: BokehJS failed to load within specified timeout.\");\n      root._bokeh_failed_load = true;\n    } else if (force !== true) {\n      var cell = $(document.getElementById(\"2924\")).parents('.cell').data().cell;\n      cell.output_area.append_execute_result(NB_LOAD_WARNING)\n    }\n\n  }\n\n  if (root._bokeh_is_loading === 0) {\n    console.debug(\"Bokeh: BokehJS loaded, going straight to plotting\");\n    run_inline_js();\n  } else {\n    load_libs(css_urls, js_urls, function() {\n      console.debug(\"Bokeh: BokehJS plotting callback run at\", now());\n      run_inline_js();\n    });\n  }\n}(window));",
      "application/vnd.bokehjs_load.v0+json": "\n(function(root) {\n  function now() {\n    return new Date();\n  }\n\n  var force = true;\n\n  if (typeof root._bokeh_onload_callbacks === \"undefined\" || force === true) {\n    root._bokeh_onload_callbacks = [];\n    root._bokeh_is_loading = undefined;\n  }\n\n  \n\n  \n  if (typeof (root._bokeh_timeout) === \"undefined\" || force === true) {\n    root._bokeh_timeout = Date.now() + 5000;\n    root._bokeh_failed_load = false;\n  }\n\n  var NB_LOAD_WARNING = {'data': {'text/html':\n     \"<div style='background-color: #fdd'>\\n\"+\n     \"<p>\\n\"+\n     \"BokehJS does not appear to have successfully loaded. If loading BokehJS from CDN, this \\n\"+\n     \"may be due to a slow or bad network connection. Possible fixes:\\n\"+\n     \"</p>\\n\"+\n     \"<ul>\\n\"+\n     \"<li>re-rerun `output_notebook()` to attempt to load from CDN again, or</li>\\n\"+\n     \"<li>use INLINE resources instead, as so:</li>\\n\"+\n     \"</ul>\\n\"+\n     \"<code>\\n\"+\n     \"from bokeh.resources import INLINE\\n\"+\n     \"output_notebook(resources=INLINE)\\n\"+\n     \"</code>\\n\"+\n     \"</div>\"}};\n\n  function display_loaded() {\n    var el = document.getElementById(\"2924\");\n    if (el != null) {\n      el.textContent = \"BokehJS is loading...\";\n    }\n    if (root.Bokeh !== undefined) {\n      if (el != null) {\n        el.textContent = \"BokehJS \" + root.Bokeh.version + \" successfully loaded.\";\n      }\n    } else if (Date.now() < root._bokeh_timeout) {\n      setTimeout(display_loaded, 100)\n    }\n  }\n\n\n  function run_callbacks() {\n    try {\n      root._bokeh_onload_callbacks.forEach(function(callback) {\n        if (callback != null)\n          callback();\n      });\n    } finally {\n      delete root._bokeh_onload_callbacks\n    }\n    console.debug(\"Bokeh: all callbacks have finished\");\n  }\n\n  function load_libs(css_urls, js_urls, callback) {\n    if (css_urls == null) css_urls = [];\n    if (js_urls == null) js_urls = [];\n\n    root._bokeh_onload_callbacks.push(callback);\n    if (root._bokeh_is_loading > 0) {\n      console.debug(\"Bokeh: BokehJS is being loaded, scheduling callback at\", now());\n      return null;\n    }\n    if (js_urls == null || js_urls.length === 0) {\n      run_callbacks();\n      return null;\n    }\n    console.debug(\"Bokeh: BokehJS not loaded, scheduling load and callback at\", now());\n    root._bokeh_is_loading = css_urls.length + js_urls.length;\n\n    function on_load() {\n      root._bokeh_is_loading--;\n      if (root._bokeh_is_loading === 0) {\n        console.debug(\"Bokeh: all BokehJS libraries/stylesheets loaded\");\n        run_callbacks()\n      }\n    }\n\n    function on_error() {\n      console.error(\"failed to load \" + url);\n    }\n\n    for (var i = 0; i < css_urls.length; i++) {\n      var url = css_urls[i];\n      const element = document.createElement(\"link\");\n      element.onload = on_load;\n      element.onerror = on_error;\n      element.rel = \"stylesheet\";\n      element.type = \"text/css\";\n      element.href = url;\n      console.debug(\"Bokeh: injecting link tag for BokehJS stylesheet: \", url);\n      document.body.appendChild(element);\n    }\n\n    const hashes = {\"https://cdn.bokeh.org/bokeh/release/bokeh-2.2.3.min.js\": \"T2yuo9Oe71Cz/I4X9Ac5+gpEa5a8PpJCDlqKYO0CfAuEszu1JrXLl8YugMqYe3sM\", \"https://cdn.bokeh.org/bokeh/release/bokeh-widgets-2.2.3.min.js\": \"98GDGJ0kOMCUMUePhksaQ/GYgB3+NH9h996V88sh3aOiUNX3N+fLXAtry6xctSZ6\", \"https://cdn.bokeh.org/bokeh/release/bokeh-tables-2.2.3.min.js\": \"89bArO+nlbP3sgakeHjCo1JYxYR5wufVgA3IbUvDY+K7w4zyxJqssu7wVnfeKCq8\"};\n\n    for (var i = 0; i < js_urls.length; i++) {\n      var url = js_urls[i];\n      var element = document.createElement('script');\n      element.onload = on_load;\n      element.onerror = on_error;\n      element.async = false;\n      element.src = url;\n      if (url in hashes) {\n        element.crossOrigin = \"anonymous\";\n        element.integrity = \"sha384-\" + hashes[url];\n      }\n      console.debug(\"Bokeh: injecting script tag for BokehJS library: \", url);\n      document.head.appendChild(element);\n    }\n  };\n\n  function inject_raw_css(css) {\n    const element = document.createElement(\"style\");\n    element.appendChild(document.createTextNode(css));\n    document.body.appendChild(element);\n  }\n\n  \n  var js_urls = [\"https://cdn.bokeh.org/bokeh/release/bokeh-2.2.3.min.js\", \"https://cdn.bokeh.org/bokeh/release/bokeh-widgets-2.2.3.min.js\", \"https://cdn.bokeh.org/bokeh/release/bokeh-tables-2.2.3.min.js\"];\n  var css_urls = [];\n  \n\n  var inline_js = [\n    function(Bokeh) {\n      Bokeh.set_log_level(\"info\");\n    },\n    function(Bokeh) {\n    \n    \n    }\n  ];\n\n  function run_inline_js() {\n    \n    if (root.Bokeh !== undefined || force === true) {\n      \n    for (var i = 0; i < inline_js.length; i++) {\n      inline_js[i].call(root, root.Bokeh);\n    }\n    if (force === true) {\n        display_loaded();\n      }} else if (Date.now() < root._bokeh_timeout) {\n      setTimeout(run_inline_js, 100);\n    } else if (!root._bokeh_failed_load) {\n      console.log(\"Bokeh: BokehJS failed to load within specified timeout.\");\n      root._bokeh_failed_load = true;\n    } else if (force !== true) {\n      var cell = $(document.getElementById(\"2924\")).parents('.cell').data().cell;\n      cell.output_area.append_execute_result(NB_LOAD_WARNING)\n    }\n\n  }\n\n  if (root._bokeh_is_loading === 0) {\n    console.debug(\"Bokeh: BokehJS loaded, going straight to plotting\");\n    run_inline_js();\n  } else {\n    load_libs(css_urls, js_urls, function() {\n      console.debug(\"Bokeh: BokehJS plotting callback run at\", now());\n      run_inline_js();\n    });\n  }\n}(window));"
     },
     "metadata": {}
    },
    {
     "output_type": "display_data",
     "data": {
      "text/html": "\n\n\n\n\n\n  <div class=\"bk-root\" id=\"8b12f695-bb42-4916-88bb-8b1963d3bbfb\" data-root-id=\"2923\"></div>\n"
     },
     "metadata": {}
    },
    {
     "output_type": "display_data",
     "data": {
      "application/javascript": "(function(root) {\n  function embed_document(root) {\n    \n  var docs_json = {\"85baa253-f3be-4f55-a258-fa93a7ce0d48\":{\"roots\":{\"references\":[{\"attributes\":{\"children\":[{\"id\":\"2849\"}]},\"id\":\"2923\",\"type\":\"Column\"},{\"attributes\":{\"data_source\":{\"id\":\"2883\"},\"glyph\":{\"id\":\"2885\"},\"hover_glyph\":null,\"muted_glyph\":null,\"nonselection_glyph\":{\"id\":\"2886\"},\"selection_glyph\":null,\"view\":{\"id\":\"2888\"}},\"id\":\"2887\",\"type\":\"GlyphRenderer\"},{\"attributes\":{\"axis\":{\"id\":\"2862\"},\"dimension\":1,\"grid_line_color\":null,\"ticker\":null},\"id\":\"2865\",\"type\":\"Grid\"},{\"attributes\":{\"fill_color\":null,\"left\":0.5,\"level\":\"underlay\",\"line_alpha\":0.4,\"line_color\":\"black\",\"right\":1.0},\"id\":\"2907\",\"type\":\"BoxAnnotation\"},{\"attributes\":{},\"id\":\"2866\",\"type\":\"ResetTool\"},{\"attributes\":{\"fill_color\":null,\"left\":1.0,\"level\":\"underlay\",\"line_alpha\":0.4,\"line_color\":\"black\",\"right\":1.5},\"id\":\"2908\",\"type\":\"BoxAnnotation\"},{\"attributes\":{\"bottom\":{\"field\":\"bottom\"},\"fill_alpha\":{\"value\":0.1},\"fill_color\":{\"field\":\"color\"},\"left\":{\"field\":\"left\"},\"line_alpha\":{\"value\":0.1},\"right\":{\"field\":\"right\"},\"top\":{\"field\":\"top\"}},\"id\":\"2886\",\"type\":\"Quad\"},{\"attributes\":{},\"id\":\"2880\",\"type\":\"BasicTickFormatter\"},{\"attributes\":{\"bottom\":65,\"fill_alpha\":0.0,\"fill_color\":\"gray\",\"level\":\"underlay\",\"line_color\":\"black\",\"top\":66},\"id\":\"2889\",\"type\":\"BoxAnnotation\"},{\"attributes\":{\"fill_color\":null,\"left\":0.0,\"level\":\"underlay\",\"line_alpha\":0.4,\"line_color\":\"black\",\"right\":0.5},\"id\":\"2906\",\"type\":\"BoxAnnotation\"},{\"attributes\":{\"source\":{\"id\":\"2883\"}},\"id\":\"2888\",\"type\":\"CDSView\"},{\"attributes\":{\"fill_alpha\":0.25,\"fill_color\":\"gray\",\"left\":4.0,\"level\":\"underlay\",\"line_alpha\":0.5,\"line_color\":\"black\",\"line_width\":2,\"right\":6.0},\"id\":\"2905\",\"type\":\"BoxAnnotation\"},{\"attributes\":{\"bottom\":70,\"fill_alpha\":0.15,\"fill_color\":\"gray\",\"level\":\"underlay\",\"line_color\":\"black\",\"top\":71},\"id\":\"2899\",\"type\":\"BoxAnnotation\"},{\"attributes\":{\"render_mode\":\"css\",\"text\":\"69\",\"text_font_size\":\"10px\",\"x\":-18,\"x_units\":\"screen\",\"y\":69.1},\"id\":\"2898\",\"type\":\"Label\"},{\"attributes\":{\"fill_color\":null,\"left\":3.5,\"level\":\"underlay\",\"line_alpha\":0.4,\"line_color\":\"black\",\"right\":4.0},\"id\":\"2913\",\"type\":\"BoxAnnotation\"},{\"attributes\":{\"bottom\":{\"field\":\"bottom\"},\"fill_color\":{\"field\":\"color\"},\"left\":{\"field\":\"left\"},\"right\":{\"field\":\"right\"},\"top\":{\"field\":\"top\"}},\"id\":\"2885\",\"type\":\"Quad\"},{\"attributes\":{\"active_drag\":\"auto\",\"active_inspect\":\"auto\",\"active_multi\":null,\"active_scroll\":\"auto\",\"active_tap\":\"auto\",\"tools\":[{\"id\":\"2866\"},{\"id\":\"2867\"},{\"id\":\"2868\"},{\"id\":\"2869\"},{\"id\":\"2870\"}]},\"id\":\"2871\",\"type\":\"Toolbar\"},{\"attributes\":{},\"id\":\"2882\",\"type\":\"BasicTickFormatter\"},{\"attributes\":{\"below\":[{\"id\":\"2858\"}],\"center\":[{\"id\":\"2861\"},{\"id\":\"2865\"},{\"id\":\"2889\"},{\"id\":\"2890\"},{\"id\":\"2891\"},{\"id\":\"2892\"},{\"id\":\"2893\"},{\"id\":\"2894\"},{\"id\":\"2895\"},{\"id\":\"2896\"},{\"id\":\"2897\"},{\"id\":\"2898\"},{\"id\":\"2899\"},{\"id\":\"2900\"},{\"id\":\"2901\"},{\"id\":\"2902\"},{\"id\":\"2903\"},{\"id\":\"2904\"},{\"id\":\"2905\"},{\"id\":\"2906\"},{\"id\":\"2907\"},{\"id\":\"2908\"},{\"id\":\"2909\"},{\"id\":\"2910\"},{\"id\":\"2911\"},{\"id\":\"2912\"},{\"id\":\"2913\"},{\"id\":\"2914\"}],\"left\":[{\"id\":\"2862\"}],\"min_border_right\":50,\"outline_line_color\":\"black\",\"plot_height\":400,\"plot_width\":1200,\"renderers\":[{\"id\":\"2887\"}],\"title\":{\"id\":\"2919\"},\"toolbar\":{\"id\":\"2871\"},\"x_range\":{\"id\":\"2921\"},\"x_scale\":{\"id\":\"2854\"},\"y_range\":{\"id\":\"2922\"},\"y_scale\":{\"id\":\"2856\"}},\"id\":\"2849\",\"subtype\":\"Figure\",\"type\":\"Plot\"},{\"attributes\":{\"data\":{\"bottom\":[65.62992125984252,71.62992125984252,68.62992125984252,65.62992125984252,68.62992125984252],\"color\":[\"rgb(173, 90, 215)\",\"rgb(164, 150, 243)\",\"rgb(106, 0, 181)\",\"rgb(173, 90, 215)\",\"rgb(106, 0, 181)\"],\"duration\":[0.25,0.75,0.25,1.75,1.0],\"left\":[0.5,0.75,1.5,1.75,3.5],\"program\":[0,0,0,0,0],\"right\":[0.75,1.5,1.75,3.5,4.5],\"top\":[65,71,68,65,68],\"velocity\":[80,80,80,80,80]},\"selected\":{\"id\":\"2979\"},\"selection_policy\":{\"id\":\"2978\"}},\"id\":\"2883\",\"type\":\"ColumnDataSource\"},{\"attributes\":{\"fill_alpha\":0.05,\"fill_color\":\"gray\",\"left\":2.0,\"level\":\"underlay\",\"line_alpha\":0.5,\"line_color\":\"black\",\"line_width\":2,\"right\":4.0},\"id\":\"2904\",\"type\":\"BoxAnnotation\"},{\"attributes\":{\"axis_label\":\"pitch (MIDI)\",\"axis_label_standoff\":0,\"axis_label_text_font_size\":\"12px\",\"bounds\":[65,72],\"formatter\":{\"id\":\"2880\"},\"major_label_text_alpha\":0,\"major_tick_line_alpha\":0.9,\"major_tick_out\":25,\"minor_tick_line_alpha\":0,\"ticker\":{\"id\":\"2917\"}},\"id\":\"2862\",\"type\":\"LinearAxis\"},{\"attributes\":{\"fill_color\":null,\"left\":1.5,\"level\":\"underlay\",\"line_alpha\":0.4,\"line_color\":\"black\",\"right\":2.0},\"id\":\"2909\",\"type\":\"BoxAnnotation\"},{\"attributes\":{\"bottom\":68,\"fill_alpha\":0.15,\"fill_color\":\"gray\",\"level\":\"underlay\",\"line_color\":\"black\",\"top\":69},\"id\":\"2895\",\"type\":\"BoxAnnotation\"},{\"attributes\":{\"fill_color\":null,\"left\":3.0,\"level\":\"underlay\",\"line_alpha\":0.4,\"line_color\":\"black\",\"right\":3.5},\"id\":\"2912\",\"type\":\"BoxAnnotation\"},{\"attributes\":{},\"id\":\"2854\",\"type\":\"LinearScale\"},{\"attributes\":{\"callback\":null,\"tooltips\":[[\"program\",\"@program\"],[\"pitch\",\"@top\"],[\"velocity\",\"@velocity\"],[\"duration\",\"@duration\"],[\"start_time\",\"@left\"],[\"end_time\",\"@right\"]]},\"id\":\"2867\",\"type\":\"HoverTool\"},{\"attributes\":{},\"id\":\"2979\",\"type\":\"Selection\"},{\"attributes\":{\"render_mode\":\"css\",\"text\":\"67\",\"text_font_size\":\"10px\",\"x\":-18,\"x_units\":\"screen\",\"y\":67.1},\"id\":\"2894\",\"type\":\"Label\"},{\"attributes\":{\"render_mode\":\"css\",\"text\":\"68\",\"text_font_size\":\"10px\",\"x\":-18,\"x_units\":\"screen\",\"y\":68.1},\"id\":\"2896\",\"type\":\"Label\"},{\"attributes\":{\"interval\":1},\"id\":\"2917\",\"type\":\"SingleIntervalTicker\"},{\"attributes\":{\"render_mode\":\"css\",\"text\":\"71\",\"text_font_size\":\"10px\",\"x\":-18,\"x_units\":\"screen\",\"y\":71.1},\"id\":\"2902\",\"type\":\"Label\"},{\"attributes\":{\"interval\":1},\"id\":\"2915\",\"type\":\"SingleIntervalTicker\"},{\"attributes\":{\"text\":\"Visual MIDI (120 QPM, 4/4)\",\"text_font_size\":{\"value\":\"14px\"}},\"id\":\"2919\",\"type\":\"Title\"},{\"attributes\":{\"fill_color\":null,\"left\":4.0,\"level\":\"underlay\",\"line_alpha\":0.4,\"line_color\":\"black\",\"right\":4.5},\"id\":\"2914\",\"type\":\"BoxAnnotation\"},{\"attributes\":{\"bottom\":69,\"fill_alpha\":0.0,\"fill_color\":\"gray\",\"level\":\"underlay\",\"line_color\":\"black\",\"top\":70},\"id\":\"2897\",\"type\":\"BoxAnnotation\"},{\"attributes\":{\"axis_label\":\"time (SEC)\",\"axis_label_text_font_size\":\"12px\",\"bounds\":[0.0,6.0],\"formatter\":{\"id\":\"2882\"},\"major_label_text_font_size\":\"10px\",\"major_tick_line_alpha\":0.9,\"major_tick_out\":5,\"minor_tick_line_alpha\":0,\"ticker\":{\"id\":\"2915\"}},\"id\":\"2858\",\"type\":\"LinearAxis\"},{\"attributes\":{},\"id\":\"2869\",\"type\":\"WheelZoomTool\"},{\"attributes\":{\"bottom\":67,\"fill_alpha\":0.0,\"fill_color\":\"gray\",\"level\":\"underlay\",\"line_color\":\"black\",\"top\":68},\"id\":\"2893\",\"type\":\"BoxAnnotation\"},{\"attributes\":{\"axis\":{\"id\":\"2858\"},\"grid_line_color\":null,\"ticker\":null},\"id\":\"2861\",\"type\":\"Grid\"},{\"attributes\":{},\"id\":\"2978\",\"type\":\"UnionRenderers\"},{\"attributes\":{\"render_mode\":\"css\",\"text\":\"65\",\"text_font_size\":\"10px\",\"x\":-18,\"x_units\":\"screen\",\"y\":65.1},\"id\":\"2890\",\"type\":\"Label\"},{\"attributes\":{\"fill_color\":null,\"left\":2.5,\"level\":\"underlay\",\"line_alpha\":0.4,\"line_color\":\"black\",\"right\":3.0},\"id\":\"2911\",\"type\":\"BoxAnnotation\"},{\"attributes\":{\"end\":6.0},\"id\":\"2921\",\"type\":\"Range1d\"},{\"attributes\":{\"render_mode\":\"css\",\"text\":\"66\",\"text_font_size\":\"10px\",\"x\":-18,\"x_units\":\"screen\",\"y\":66.1},\"id\":\"2892\",\"type\":\"Label\"},{\"attributes\":{\"bottom\":71,\"fill_alpha\":0.0,\"fill_color\":\"gray\",\"level\":\"underlay\",\"line_color\":\"black\",\"top\":72},\"id\":\"2901\",\"type\":\"BoxAnnotation\"},{\"attributes\":{},\"id\":\"2870\",\"type\":\"PanTool\"},{\"attributes\":{},\"id\":\"2856\",\"type\":\"LinearScale\"},{\"attributes\":{\"fill_alpha\":0.25,\"fill_color\":\"gray\",\"left\":0.0,\"level\":\"underlay\",\"line_alpha\":0.5,\"line_color\":\"black\",\"line_width\":2,\"right\":2.0},\"id\":\"2903\",\"type\":\"BoxAnnotation\"},{\"attributes\":{\"bottom\":66,\"fill_alpha\":0.15,\"fill_color\":\"gray\",\"level\":\"underlay\",\"line_color\":\"black\",\"top\":67},\"id\":\"2891\",\"type\":\"BoxAnnotation\"},{\"attributes\":{\"render_mode\":\"css\",\"text\":\"70\",\"text_font_size\":\"10px\",\"x\":-18,\"x_units\":\"screen\",\"y\":70.1},\"id\":\"2900\",\"type\":\"Label\"},{\"attributes\":{\"fill_color\":null,\"left\":2.0,\"level\":\"underlay\",\"line_alpha\":0.4,\"line_color\":\"black\",\"right\":2.5},\"id\":\"2910\",\"type\":\"BoxAnnotation\"},{\"attributes\":{\"end\":72,\"start\":65},\"id\":\"2922\",\"type\":\"Range1d\"},{\"attributes\":{},\"id\":\"2868\",\"type\":\"SaveTool\"}],\"root_ids\":[\"2923\"]},\"title\":\"Bokeh Application\",\"version\":\"2.2.3\"}};\n  var render_items = [{\"docid\":\"85baa253-f3be-4f55-a258-fa93a7ce0d48\",\"root_ids\":[\"2923\"],\"roots\":{\"2923\":\"8b12f695-bb42-4916-88bb-8b1963d3bbfb\"}}];\n  root.Bokeh.embed.embed_items_notebook(docs_json, render_items);\n\n  }\n  if (root.Bokeh !== undefined) {\n    embed_document(root);\n  } else {\n    var attempts = 0;\n    var timer = setInterval(function(root) {\n      if (root.Bokeh !== undefined) {\n        clearInterval(timer);\n        embed_document(root);\n      } else {\n        attempts++;\n        if (attempts > 100) {\n          clearInterval(timer);\n          console.log(\"Bokeh: ERROR: Unable to run BokehJS code because BokehJS library is missing\");\n        }\n      }\n    }, 10, root)\n  }\n})(window);",
      "application/vnd.bokehjs_exec.v0+json": ""
     },
     "metadata": {
      "application/vnd.bokehjs_exec.v0+json": {
       "id": "2923"
      }
     }
    },
    {
     "output_type": "display_data",
     "data": {
      "text/html": "\n    <div class=\"bk-root\">\n        <a href=\"https://bokeh.org\" target=\"_blank\" class=\"bk-logo bk-logo-small bk-logo-notebook\"></a>\n        <span id=\"3080\">Loading BokehJS ...</span>\n    </div>"
     },
     "metadata": {}
    },
    {
     "output_type": "display_data",
     "data": {
      "application/javascript": "\n(function(root) {\n  function now() {\n    return new Date();\n  }\n\n  var force = true;\n\n  if (typeof root._bokeh_onload_callbacks === \"undefined\" || force === true) {\n    root._bokeh_onload_callbacks = [];\n    root._bokeh_is_loading = undefined;\n  }\n\n  var JS_MIME_TYPE = 'application/javascript';\n  var HTML_MIME_TYPE = 'text/html';\n  var EXEC_MIME_TYPE = 'application/vnd.bokehjs_exec.v0+json';\n  var CLASS_NAME = 'output_bokeh rendered_html';\n\n  /**\n   * Render data to the DOM node\n   */\n  function render(props, node) {\n    var script = document.createElement(\"script\");\n    node.appendChild(script);\n  }\n\n  /**\n   * Handle when an output is cleared or removed\n   */\n  function handleClearOutput(event, handle) {\n    var cell = handle.cell;\n\n    var id = cell.output_area._bokeh_element_id;\n    var server_id = cell.output_area._bokeh_server_id;\n    // Clean up Bokeh references\n    if (id != null && id in Bokeh.index) {\n      Bokeh.index[id].model.document.clear();\n      delete Bokeh.index[id];\n    }\n\n    if (server_id !== undefined) {\n      // Clean up Bokeh references\n      var cmd = \"from bokeh.io.state import curstate; print(curstate().uuid_to_server['\" + server_id + \"'].get_sessions()[0].document.roots[0]._id)\";\n      cell.notebook.kernel.execute(cmd, {\n        iopub: {\n          output: function(msg) {\n            var id = msg.content.text.trim();\n            if (id in Bokeh.index) {\n              Bokeh.index[id].model.document.clear();\n              delete Bokeh.index[id];\n            }\n          }\n        }\n      });\n      // Destroy server and session\n      var cmd = \"import bokeh.io.notebook as ion; ion.destroy_server('\" + server_id + \"')\";\n      cell.notebook.kernel.execute(cmd);\n    }\n  }\n\n  /**\n   * Handle when a new output is added\n   */\n  function handleAddOutput(event, handle) {\n    var output_area = handle.output_area;\n    var output = handle.output;\n\n    // limit handleAddOutput to display_data with EXEC_MIME_TYPE content only\n    if ((output.output_type != \"display_data\") || (!output.data.hasOwnProperty(EXEC_MIME_TYPE))) {\n      return\n    }\n\n    var toinsert = output_area.element.find(\".\" + CLASS_NAME.split(' ')[0]);\n\n    if (output.metadata[EXEC_MIME_TYPE][\"id\"] !== undefined) {\n      toinsert[toinsert.length - 1].firstChild.textContent = output.data[JS_MIME_TYPE];\n      // store reference to embed id on output_area\n      output_area._bokeh_element_id = output.metadata[EXEC_MIME_TYPE][\"id\"];\n    }\n    if (output.metadata[EXEC_MIME_TYPE][\"server_id\"] !== undefined) {\n      var bk_div = document.createElement(\"div\");\n      bk_div.innerHTML = output.data[HTML_MIME_TYPE];\n      var script_attrs = bk_div.children[0].attributes;\n      for (var i = 0; i < script_attrs.length; i++) {\n        toinsert[toinsert.length - 1].firstChild.setAttribute(script_attrs[i].name, script_attrs[i].value);\n        toinsert[toinsert.length - 1].firstChild.textContent = bk_div.children[0].textContent\n      }\n      // store reference to server id on output_area\n      output_area._bokeh_server_id = output.metadata[EXEC_MIME_TYPE][\"server_id\"];\n    }\n  }\n\n  function register_renderer(events, OutputArea) {\n\n    function append_mime(data, metadata, element) {\n      // create a DOM node to render to\n      var toinsert = this.create_output_subarea(\n        metadata,\n        CLASS_NAME,\n        EXEC_MIME_TYPE\n      );\n      this.keyboard_manager.register_events(toinsert);\n      // Render to node\n      var props = {data: data, metadata: metadata[EXEC_MIME_TYPE]};\n      render(props, toinsert[toinsert.length - 1]);\n      element.append(toinsert);\n      return toinsert\n    }\n\n    /* Handle when an output is cleared or removed */\n    events.on('clear_output.CodeCell', handleClearOutput);\n    events.on('delete.Cell', handleClearOutput);\n\n    /* Handle when a new output is added */\n    events.on('output_added.OutputArea', handleAddOutput);\n\n    /**\n     * Register the mime type and append_mime function with output_area\n     */\n    OutputArea.prototype.register_mime_type(EXEC_MIME_TYPE, append_mime, {\n      /* Is output safe? */\n      safe: true,\n      /* Index of renderer in `output_area.display_order` */\n      index: 0\n    });\n  }\n\n  // register the mime type if in Jupyter Notebook environment and previously unregistered\n  if (root.Jupyter !== undefined) {\n    var events = require('base/js/events');\n    var OutputArea = require('notebook/js/outputarea').OutputArea;\n\n    if (OutputArea.prototype.mime_types().indexOf(EXEC_MIME_TYPE) == -1) {\n      register_renderer(events, OutputArea);\n    }\n  }\n\n  \n  if (typeof (root._bokeh_timeout) === \"undefined\" || force === true) {\n    root._bokeh_timeout = Date.now() + 5000;\n    root._bokeh_failed_load = false;\n  }\n\n  var NB_LOAD_WARNING = {'data': {'text/html':\n     \"<div style='background-color: #fdd'>\\n\"+\n     \"<p>\\n\"+\n     \"BokehJS does not appear to have successfully loaded. If loading BokehJS from CDN, this \\n\"+\n     \"may be due to a slow or bad network connection. Possible fixes:\\n\"+\n     \"</p>\\n\"+\n     \"<ul>\\n\"+\n     \"<li>re-rerun `output_notebook()` to attempt to load from CDN again, or</li>\\n\"+\n     \"<li>use INLINE resources instead, as so:</li>\\n\"+\n     \"</ul>\\n\"+\n     \"<code>\\n\"+\n     \"from bokeh.resources import INLINE\\n\"+\n     \"output_notebook(resources=INLINE)\\n\"+\n     \"</code>\\n\"+\n     \"</div>\"}};\n\n  function display_loaded() {\n    var el = document.getElementById(\"3080\");\n    if (el != null) {\n      el.textContent = \"BokehJS is loading...\";\n    }\n    if (root.Bokeh !== undefined) {\n      if (el != null) {\n        el.textContent = \"BokehJS \" + root.Bokeh.version + \" successfully loaded.\";\n      }\n    } else if (Date.now() < root._bokeh_timeout) {\n      setTimeout(display_loaded, 100)\n    }\n  }\n\n\n  function run_callbacks() {\n    try {\n      root._bokeh_onload_callbacks.forEach(function(callback) {\n        if (callback != null)\n          callback();\n      });\n    } finally {\n      delete root._bokeh_onload_callbacks\n    }\n    console.debug(\"Bokeh: all callbacks have finished\");\n  }\n\n  function load_libs(css_urls, js_urls, callback) {\n    if (css_urls == null) css_urls = [];\n    if (js_urls == null) js_urls = [];\n\n    root._bokeh_onload_callbacks.push(callback);\n    if (root._bokeh_is_loading > 0) {\n      console.debug(\"Bokeh: BokehJS is being loaded, scheduling callback at\", now());\n      return null;\n    }\n    if (js_urls == null || js_urls.length === 0) {\n      run_callbacks();\n      return null;\n    }\n    console.debug(\"Bokeh: BokehJS not loaded, scheduling load and callback at\", now());\n    root._bokeh_is_loading = css_urls.length + js_urls.length;\n\n    function on_load() {\n      root._bokeh_is_loading--;\n      if (root._bokeh_is_loading === 0) {\n        console.debug(\"Bokeh: all BokehJS libraries/stylesheets loaded\");\n        run_callbacks()\n      }\n    }\n\n    function on_error() {\n      console.error(\"failed to load \" + url);\n    }\n\n    for (var i = 0; i < css_urls.length; i++) {\n      var url = css_urls[i];\n      const element = document.createElement(\"link\");\n      element.onload = on_load;\n      element.onerror = on_error;\n      element.rel = \"stylesheet\";\n      element.type = \"text/css\";\n      element.href = url;\n      console.debug(\"Bokeh: injecting link tag for BokehJS stylesheet: \", url);\n      document.body.appendChild(element);\n    }\n\n    const hashes = {\"https://cdn.bokeh.org/bokeh/release/bokeh-2.2.3.min.js\": \"T2yuo9Oe71Cz/I4X9Ac5+gpEa5a8PpJCDlqKYO0CfAuEszu1JrXLl8YugMqYe3sM\", \"https://cdn.bokeh.org/bokeh/release/bokeh-widgets-2.2.3.min.js\": \"98GDGJ0kOMCUMUePhksaQ/GYgB3+NH9h996V88sh3aOiUNX3N+fLXAtry6xctSZ6\", \"https://cdn.bokeh.org/bokeh/release/bokeh-tables-2.2.3.min.js\": \"89bArO+nlbP3sgakeHjCo1JYxYR5wufVgA3IbUvDY+K7w4zyxJqssu7wVnfeKCq8\"};\n\n    for (var i = 0; i < js_urls.length; i++) {\n      var url = js_urls[i];\n      var element = document.createElement('script');\n      element.onload = on_load;\n      element.onerror = on_error;\n      element.async = false;\n      element.src = url;\n      if (url in hashes) {\n        element.crossOrigin = \"anonymous\";\n        element.integrity = \"sha384-\" + hashes[url];\n      }\n      console.debug(\"Bokeh: injecting script tag for BokehJS library: \", url);\n      document.head.appendChild(element);\n    }\n  };\n\n  function inject_raw_css(css) {\n    const element = document.createElement(\"style\");\n    element.appendChild(document.createTextNode(css));\n    document.body.appendChild(element);\n  }\n\n  \n  var js_urls = [\"https://cdn.bokeh.org/bokeh/release/bokeh-2.2.3.min.js\", \"https://cdn.bokeh.org/bokeh/release/bokeh-widgets-2.2.3.min.js\", \"https://cdn.bokeh.org/bokeh/release/bokeh-tables-2.2.3.min.js\"];\n  var css_urls = [];\n  \n\n  var inline_js = [\n    function(Bokeh) {\n      Bokeh.set_log_level(\"info\");\n    },\n    function(Bokeh) {\n    \n    \n    }\n  ];\n\n  function run_inline_js() {\n    \n    if (root.Bokeh !== undefined || force === true) {\n      \n    for (var i = 0; i < inline_js.length; i++) {\n      inline_js[i].call(root, root.Bokeh);\n    }\n    if (force === true) {\n        display_loaded();\n      }} else if (Date.now() < root._bokeh_timeout) {\n      setTimeout(run_inline_js, 100);\n    } else if (!root._bokeh_failed_load) {\n      console.log(\"Bokeh: BokehJS failed to load within specified timeout.\");\n      root._bokeh_failed_load = true;\n    } else if (force !== true) {\n      var cell = $(document.getElementById(\"3080\")).parents('.cell').data().cell;\n      cell.output_area.append_execute_result(NB_LOAD_WARNING)\n    }\n\n  }\n\n  if (root._bokeh_is_loading === 0) {\n    console.debug(\"Bokeh: BokehJS loaded, going straight to plotting\");\n    run_inline_js();\n  } else {\n    load_libs(css_urls, js_urls, function() {\n      console.debug(\"Bokeh: BokehJS plotting callback run at\", now());\n      run_inline_js();\n    });\n  }\n}(window));",
      "application/vnd.bokehjs_load.v0+json": "\n(function(root) {\n  function now() {\n    return new Date();\n  }\n\n  var force = true;\n\n  if (typeof root._bokeh_onload_callbacks === \"undefined\" || force === true) {\n    root._bokeh_onload_callbacks = [];\n    root._bokeh_is_loading = undefined;\n  }\n\n  \n\n  \n  if (typeof (root._bokeh_timeout) === \"undefined\" || force === true) {\n    root._bokeh_timeout = Date.now() + 5000;\n    root._bokeh_failed_load = false;\n  }\n\n  var NB_LOAD_WARNING = {'data': {'text/html':\n     \"<div style='background-color: #fdd'>\\n\"+\n     \"<p>\\n\"+\n     \"BokehJS does not appear to have successfully loaded. If loading BokehJS from CDN, this \\n\"+\n     \"may be due to a slow or bad network connection. Possible fixes:\\n\"+\n     \"</p>\\n\"+\n     \"<ul>\\n\"+\n     \"<li>re-rerun `output_notebook()` to attempt to load from CDN again, or</li>\\n\"+\n     \"<li>use INLINE resources instead, as so:</li>\\n\"+\n     \"</ul>\\n\"+\n     \"<code>\\n\"+\n     \"from bokeh.resources import INLINE\\n\"+\n     \"output_notebook(resources=INLINE)\\n\"+\n     \"</code>\\n\"+\n     \"</div>\"}};\n\n  function display_loaded() {\n    var el = document.getElementById(\"3080\");\n    if (el != null) {\n      el.textContent = \"BokehJS is loading...\";\n    }\n    if (root.Bokeh !== undefined) {\n      if (el != null) {\n        el.textContent = \"BokehJS \" + root.Bokeh.version + \" successfully loaded.\";\n      }\n    } else if (Date.now() < root._bokeh_timeout) {\n      setTimeout(display_loaded, 100)\n    }\n  }\n\n\n  function run_callbacks() {\n    try {\n      root._bokeh_onload_callbacks.forEach(function(callback) {\n        if (callback != null)\n          callback();\n      });\n    } finally {\n      delete root._bokeh_onload_callbacks\n    }\n    console.debug(\"Bokeh: all callbacks have finished\");\n  }\n\n  function load_libs(css_urls, js_urls, callback) {\n    if (css_urls == null) css_urls = [];\n    if (js_urls == null) js_urls = [];\n\n    root._bokeh_onload_callbacks.push(callback);\n    if (root._bokeh_is_loading > 0) {\n      console.debug(\"Bokeh: BokehJS is being loaded, scheduling callback at\", now());\n      return null;\n    }\n    if (js_urls == null || js_urls.length === 0) {\n      run_callbacks();\n      return null;\n    }\n    console.debug(\"Bokeh: BokehJS not loaded, scheduling load and callback at\", now());\n    root._bokeh_is_loading = css_urls.length + js_urls.length;\n\n    function on_load() {\n      root._bokeh_is_loading--;\n      if (root._bokeh_is_loading === 0) {\n        console.debug(\"Bokeh: all BokehJS libraries/stylesheets loaded\");\n        run_callbacks()\n      }\n    }\n\n    function on_error() {\n      console.error(\"failed to load \" + url);\n    }\n\n    for (var i = 0; i < css_urls.length; i++) {\n      var url = css_urls[i];\n      const element = document.createElement(\"link\");\n      element.onload = on_load;\n      element.onerror = on_error;\n      element.rel = \"stylesheet\";\n      element.type = \"text/css\";\n      element.href = url;\n      console.debug(\"Bokeh: injecting link tag for BokehJS stylesheet: \", url);\n      document.body.appendChild(element);\n    }\n\n    const hashes = {\"https://cdn.bokeh.org/bokeh/release/bokeh-2.2.3.min.js\": \"T2yuo9Oe71Cz/I4X9Ac5+gpEa5a8PpJCDlqKYO0CfAuEszu1JrXLl8YugMqYe3sM\", \"https://cdn.bokeh.org/bokeh/release/bokeh-widgets-2.2.3.min.js\": \"98GDGJ0kOMCUMUePhksaQ/GYgB3+NH9h996V88sh3aOiUNX3N+fLXAtry6xctSZ6\", \"https://cdn.bokeh.org/bokeh/release/bokeh-tables-2.2.3.min.js\": \"89bArO+nlbP3sgakeHjCo1JYxYR5wufVgA3IbUvDY+K7w4zyxJqssu7wVnfeKCq8\"};\n\n    for (var i = 0; i < js_urls.length; i++) {\n      var url = js_urls[i];\n      var element = document.createElement('script');\n      element.onload = on_load;\n      element.onerror = on_error;\n      element.async = false;\n      element.src = url;\n      if (url in hashes) {\n        element.crossOrigin = \"anonymous\";\n        element.integrity = \"sha384-\" + hashes[url];\n      }\n      console.debug(\"Bokeh: injecting script tag for BokehJS library: \", url);\n      document.head.appendChild(element);\n    }\n  };\n\n  function inject_raw_css(css) {\n    const element = document.createElement(\"style\");\n    element.appendChild(document.createTextNode(css));\n    document.body.appendChild(element);\n  }\n\n  \n  var js_urls = [\"https://cdn.bokeh.org/bokeh/release/bokeh-2.2.3.min.js\", \"https://cdn.bokeh.org/bokeh/release/bokeh-widgets-2.2.3.min.js\", \"https://cdn.bokeh.org/bokeh/release/bokeh-tables-2.2.3.min.js\"];\n  var css_urls = [];\n  \n\n  var inline_js = [\n    function(Bokeh) {\n      Bokeh.set_log_level(\"info\");\n    },\n    function(Bokeh) {\n    \n    \n    }\n  ];\n\n  function run_inline_js() {\n    \n    if (root.Bokeh !== undefined || force === true) {\n      \n    for (var i = 0; i < inline_js.length; i++) {\n      inline_js[i].call(root, root.Bokeh);\n    }\n    if (force === true) {\n        display_loaded();\n      }} else if (Date.now() < root._bokeh_timeout) {\n      setTimeout(run_inline_js, 100);\n    } else if (!root._bokeh_failed_load) {\n      console.log(\"Bokeh: BokehJS failed to load within specified timeout.\");\n      root._bokeh_failed_load = true;\n    } else if (force !== true) {\n      var cell = $(document.getElementById(\"3080\")).parents('.cell').data().cell;\n      cell.output_area.append_execute_result(NB_LOAD_WARNING)\n    }\n\n  }\n\n  if (root._bokeh_is_loading === 0) {\n    console.debug(\"Bokeh: BokehJS loaded, going straight to plotting\");\n    run_inline_js();\n  } else {\n    load_libs(css_urls, js_urls, function() {\n      console.debug(\"Bokeh: BokehJS plotting callback run at\", now());\n      run_inline_js();\n    });\n  }\n}(window));"
     },
     "metadata": {}
    },
    {
     "output_type": "display_data",
     "data": {
      "text/html": "\n\n\n\n\n\n  <div class=\"bk-root\" id=\"630439b6-6987-46fe-a678-8b7af03c7bba\" data-root-id=\"3079\"></div>\n"
     },
     "metadata": {}
    },
    {
     "output_type": "display_data",
     "data": {
      "application/javascript": "(function(root) {\n  function embed_document(root) {\n    \n  var docs_json = {\"b2606047-9066-405a-8db8-9a88feb589ae\":{\"roots\":{\"references\":[{\"attributes\":{\"children\":[{\"id\":\"3005\"}]},\"id\":\"3079\",\"type\":\"Column\"},{\"attributes\":{},\"id\":\"3140\",\"type\":\"Selection\"},{\"attributes\":{},\"id\":\"3022\",\"type\":\"ResetTool\"},{\"attributes\":{\"fill_alpha\":0.25,\"fill_color\":\"gray\",\"left\":0.0,\"level\":\"underlay\",\"line_alpha\":0.5,\"line_color\":\"black\",\"line_width\":2,\"right\":2.0},\"id\":\"3059\",\"type\":\"BoxAnnotation\"},{\"attributes\":{\"fill_color\":null,\"left\":2.5,\"level\":\"underlay\",\"line_alpha\":0.4,\"line_color\":\"black\",\"right\":3.0},\"id\":\"3067\",\"type\":\"BoxAnnotation\"},{\"attributes\":{\"bottom\":{\"field\":\"bottom\"},\"fill_color\":{\"field\":\"color\"},\"left\":{\"field\":\"left\"},\"right\":{\"field\":\"right\"},\"top\":{\"field\":\"top\"}},\"id\":\"3041\",\"type\":\"Quad\"},{\"attributes\":{\"render_mode\":\"css\",\"text\":\"68\",\"text_font_size\":\"10px\",\"x\":-18,\"x_units\":\"screen\",\"y\":68.1},\"id\":\"3052\",\"type\":\"Label\"},{\"attributes\":{\"render_mode\":\"css\",\"text\":\"71\",\"text_font_size\":\"10px\",\"x\":-18,\"x_units\":\"screen\",\"y\":71.1},\"id\":\"3058\",\"type\":\"Label\"},{\"attributes\":{\"bottom\":71,\"fill_alpha\":0.0,\"fill_color\":\"gray\",\"level\":\"underlay\",\"line_color\":\"black\",\"top\":72},\"id\":\"3057\",\"type\":\"BoxAnnotation\"},{\"attributes\":{},\"id\":\"3025\",\"type\":\"WheelZoomTool\"},{\"attributes\":{\"bottom\":66,\"fill_alpha\":0.15,\"fill_color\":\"gray\",\"level\":\"underlay\",\"line_color\":\"black\",\"top\":67},\"id\":\"3047\",\"type\":\"BoxAnnotation\"},{\"attributes\":{\"bottom\":70,\"fill_alpha\":0.15,\"fill_color\":\"gray\",\"level\":\"underlay\",\"line_color\":\"black\",\"top\":71},\"id\":\"3055\",\"type\":\"BoxAnnotation\"},{\"attributes\":{\"render_mode\":\"css\",\"text\":\"67\",\"text_font_size\":\"10px\",\"x\":-18,\"x_units\":\"screen\",\"y\":67.1},\"id\":\"3050\",\"type\":\"Label\"},{\"attributes\":{\"render_mode\":\"css\",\"text\":\"70\",\"text_font_size\":\"10px\",\"x\":-18,\"x_units\":\"screen\",\"y\":70.1},\"id\":\"3056\",\"type\":\"Label\"},{\"attributes\":{\"fill_color\":null,\"left\":2.0,\"level\":\"underlay\",\"line_alpha\":0.4,\"line_color\":\"black\",\"right\":2.5},\"id\":\"3066\",\"type\":\"BoxAnnotation\"},{\"attributes\":{},\"id\":\"3026\",\"type\":\"PanTool\"},{\"attributes\":{\"bottom\":68,\"fill_alpha\":0.15,\"fill_color\":\"gray\",\"level\":\"underlay\",\"line_color\":\"black\",\"top\":69},\"id\":\"3051\",\"type\":\"BoxAnnotation\"},{\"attributes\":{\"fill_color\":null,\"left\":0.5,\"level\":\"underlay\",\"line_alpha\":0.4,\"line_color\":\"black\",\"right\":1.0},\"id\":\"3063\",\"type\":\"BoxAnnotation\"},{\"attributes\":{\"data\":{\"bottom\":[65.62992125984252,71.62992125984252,68.62992125984252,65.62992125984252,68.62992125984252],\"color\":[\"rgb(173, 90, 215)\",\"rgb(164, 150, 243)\",\"rgb(106, 0, 181)\",\"rgb(173, 90, 215)\",\"rgb(106, 0, 181)\"],\"duration\":[0.25,0.75,0.25,1.75,1.0],\"left\":[0.5,0.75,1.5,1.75,3.5],\"program\":[0,0,0,0,0],\"right\":[0.75,1.5,1.75,3.5,4.5],\"top\":[65,71,68,65,68],\"velocity\":[80,80,80,80,80]},\"selected\":{\"id\":\"3140\"},\"selection_policy\":{\"id\":\"3139\"}},\"id\":\"3039\",\"type\":\"ColumnDataSource\"},{\"attributes\":{\"render_mode\":\"css\",\"text\":\"69\",\"text_font_size\":\"10px\",\"x\":-18,\"x_units\":\"screen\",\"y\":69.1},\"id\":\"3054\",\"type\":\"Label\"},{\"attributes\":{},\"id\":\"3010\",\"type\":\"LinearScale\"},{\"attributes\":{\"source\":{\"id\":\"3039\"}},\"id\":\"3044\",\"type\":\"CDSView\"},{\"attributes\":{\"fill_color\":null,\"left\":0.0,\"level\":\"underlay\",\"line_alpha\":0.4,\"line_color\":\"black\",\"right\":0.5},\"id\":\"3062\",\"type\":\"BoxAnnotation\"},{\"attributes\":{\"bottom\":{\"field\":\"bottom\"},\"fill_alpha\":{\"value\":0.1},\"fill_color\":{\"field\":\"color\"},\"left\":{\"field\":\"left\"},\"line_alpha\":{\"value\":0.1},\"right\":{\"field\":\"right\"},\"top\":{\"field\":\"top\"}},\"id\":\"3042\",\"type\":\"Quad\"},{\"attributes\":{\"below\":[{\"id\":\"3014\"}],\"center\":[{\"id\":\"3017\"},{\"id\":\"3021\"},{\"id\":\"3045\"},{\"id\":\"3046\"},{\"id\":\"3047\"},{\"id\":\"3048\"},{\"id\":\"3049\"},{\"id\":\"3050\"},{\"id\":\"3051\"},{\"id\":\"3052\"},{\"id\":\"3053\"},{\"id\":\"3054\"},{\"id\":\"3055\"},{\"id\":\"3056\"},{\"id\":\"3057\"},{\"id\":\"3058\"},{\"id\":\"3059\"},{\"id\":\"3060\"},{\"id\":\"3061\"},{\"id\":\"3062\"},{\"id\":\"3063\"},{\"id\":\"3064\"},{\"id\":\"3065\"},{\"id\":\"3066\"},{\"id\":\"3067\"},{\"id\":\"3068\"},{\"id\":\"3069\"},{\"id\":\"3070\"}],\"left\":[{\"id\":\"3018\"}],\"min_border_right\":50,\"outline_line_color\":\"black\",\"plot_height\":400,\"plot_width\":1200,\"renderers\":[{\"id\":\"3043\"}],\"title\":{\"id\":\"3075\"},\"toolbar\":{\"id\":\"3027\"},\"x_range\":{\"id\":\"3077\"},\"x_scale\":{\"id\":\"3010\"},\"y_range\":{\"id\":\"3078\"},\"y_scale\":{\"id\":\"3012\"}},\"id\":\"3005\",\"subtype\":\"Figure\",\"type\":\"Plot\"},{\"attributes\":{\"end\":72,\"start\":65},\"id\":\"3078\",\"type\":\"Range1d\"},{\"attributes\":{\"active_drag\":\"auto\",\"active_inspect\":\"auto\",\"active_multi\":null,\"active_scroll\":\"auto\",\"active_tap\":\"auto\",\"tools\":[{\"id\":\"3022\"},{\"id\":\"3023\"},{\"id\":\"3024\"},{\"id\":\"3025\"},{\"id\":\"3026\"}]},\"id\":\"3027\",\"type\":\"Toolbar\"},{\"attributes\":{\"render_mode\":\"css\",\"text\":\"65\",\"text_font_size\":\"10px\",\"x\":-18,\"x_units\":\"screen\",\"y\":65.1},\"id\":\"3046\",\"type\":\"Label\"},{\"attributes\":{\"fill_alpha\":0.25,\"fill_color\":\"gray\",\"left\":4.0,\"level\":\"underlay\",\"line_alpha\":0.5,\"line_color\":\"black\",\"line_width\":2,\"right\":6.0},\"id\":\"3061\",\"type\":\"BoxAnnotation\"},{\"attributes\":{\"fill_color\":null,\"left\":3.0,\"level\":\"underlay\",\"line_alpha\":0.4,\"line_color\":\"black\",\"right\":3.5},\"id\":\"3068\",\"type\":\"BoxAnnotation\"},{\"attributes\":{},\"id\":\"3139\",\"type\":\"UnionRenderers\"},{\"attributes\":{\"interval\":1},\"id\":\"3073\",\"type\":\"SingleIntervalTicker\"},{\"attributes\":{},\"id\":\"3012\",\"type\":\"LinearScale\"},{\"attributes\":{\"axis_label\":\"pitch (MIDI)\",\"axis_label_standoff\":0,\"axis_label_text_font_size\":\"12px\",\"bounds\":[65,72],\"formatter\":{\"id\":\"3036\"},\"major_label_text_alpha\":0,\"major_tick_line_alpha\":0.9,\"major_tick_out\":25,\"minor_tick_line_alpha\":0,\"ticker\":{\"id\":\"3073\"}},\"id\":\"3018\",\"type\":\"LinearAxis\"},{\"attributes\":{\"fill_alpha\":0.05,\"fill_color\":\"gray\",\"left\":2.0,\"level\":\"underlay\",\"line_alpha\":0.5,\"line_color\":\"black\",\"line_width\":2,\"right\":4.0},\"id\":\"3060\",\"type\":\"BoxAnnotation\"},{\"attributes\":{\"data_source\":{\"id\":\"3039\"},\"glyph\":{\"id\":\"3041\"},\"hover_glyph\":null,\"muted_glyph\":null,\"nonselection_glyph\":{\"id\":\"3042\"},\"selection_glyph\":null,\"view\":{\"id\":\"3044\"}},\"id\":\"3043\",\"type\":\"GlyphRenderer\"},{\"attributes\":{\"text\":\"Visual MIDI (120 QPM, 4/4)\",\"text_font_size\":{\"value\":\"14px\"}},\"id\":\"3075\",\"type\":\"Title\"},{\"attributes\":{},\"id\":\"3024\",\"type\":\"SaveTool\"},{\"attributes\":{\"axis\":{\"id\":\"3014\"},\"grid_line_color\":null,\"ticker\":null},\"id\":\"3017\",\"type\":\"Grid\"},{\"attributes\":{\"axis_label\":\"time (SEC)\",\"axis_label_text_font_size\":\"12px\",\"bounds\":[0.0,6.0],\"formatter\":{\"id\":\"3038\"},\"major_label_text_font_size\":\"10px\",\"major_tick_line_alpha\":0.9,\"major_tick_out\":5,\"minor_tick_line_alpha\":0,\"ticker\":{\"id\":\"3071\"}},\"id\":\"3014\",\"type\":\"LinearAxis\"},{\"attributes\":{\"callback\":null,\"tooltips\":[[\"program\",\"@program\"],[\"pitch\",\"@top\"],[\"velocity\",\"@velocity\"],[\"duration\",\"@duration\"],[\"start_time\",\"@left\"],[\"end_time\",\"@right\"]]},\"id\":\"3023\",\"type\":\"HoverTool\"},{\"attributes\":{\"fill_color\":null,\"left\":1.5,\"level\":\"underlay\",\"line_alpha\":0.4,\"line_color\":\"black\",\"right\":2.0},\"id\":\"3065\",\"type\":\"BoxAnnotation\"},{\"attributes\":{\"end\":6.0},\"id\":\"3077\",\"type\":\"Range1d\"},{\"attributes\":{\"render_mode\":\"css\",\"text\":\"66\",\"text_font_size\":\"10px\",\"x\":-18,\"x_units\":\"screen\",\"y\":66.1},\"id\":\"3048\",\"type\":\"Label\"},{\"attributes\":{\"fill_color\":null,\"left\":4.0,\"level\":\"underlay\",\"line_alpha\":0.4,\"line_color\":\"black\",\"right\":4.5},\"id\":\"3070\",\"type\":\"BoxAnnotation\"},{\"attributes\":{\"bottom\":65,\"fill_alpha\":0.0,\"fill_color\":\"gray\",\"level\":\"underlay\",\"line_color\":\"black\",\"top\":66},\"id\":\"3045\",\"type\":\"BoxAnnotation\"},{\"attributes\":{\"bottom\":67,\"fill_alpha\":0.0,\"fill_color\":\"gray\",\"level\":\"underlay\",\"line_color\":\"black\",\"top\":68},\"id\":\"3049\",\"type\":\"BoxAnnotation\"},{\"attributes\":{},\"id\":\"3036\",\"type\":\"BasicTickFormatter\"},{\"attributes\":{\"axis\":{\"id\":\"3018\"},\"dimension\":1,\"grid_line_color\":null,\"ticker\":null},\"id\":\"3021\",\"type\":\"Grid\"},{\"attributes\":{\"bottom\":69,\"fill_alpha\":0.0,\"fill_color\":\"gray\",\"level\":\"underlay\",\"line_color\":\"black\",\"top\":70},\"id\":\"3053\",\"type\":\"BoxAnnotation\"},{\"attributes\":{\"fill_color\":null,\"left\":3.5,\"level\":\"underlay\",\"line_alpha\":0.4,\"line_color\":\"black\",\"right\":4.0},\"id\":\"3069\",\"type\":\"BoxAnnotation\"},{\"attributes\":{\"interval\":1},\"id\":\"3071\",\"type\":\"SingleIntervalTicker\"},{\"attributes\":{},\"id\":\"3038\",\"type\":\"BasicTickFormatter\"},{\"attributes\":{\"fill_color\":null,\"left\":1.0,\"level\":\"underlay\",\"line_alpha\":0.4,\"line_color\":\"black\",\"right\":1.5},\"id\":\"3064\",\"type\":\"BoxAnnotation\"}],\"root_ids\":[\"3079\"]},\"title\":\"Bokeh Application\",\"version\":\"2.2.3\"}};\n  var render_items = [{\"docid\":\"b2606047-9066-405a-8db8-9a88feb589ae\",\"root_ids\":[\"3079\"],\"roots\":{\"3079\":\"630439b6-6987-46fe-a678-8b7af03c7bba\"}}];\n  root.Bokeh.embed.embed_items_notebook(docs_json, render_items);\n\n  }\n  if (root.Bokeh !== undefined) {\n    embed_document(root);\n  } else {\n    var attempts = 0;\n    var timer = setInterval(function(root) {\n      if (root.Bokeh !== undefined) {\n        clearInterval(timer);\n        embed_document(root);\n      } else {\n        attempts++;\n        if (attempts > 100) {\n          clearInterval(timer);\n          console.log(\"Bokeh: ERROR: Unable to run BokehJS code because BokehJS library is missing\");\n        }\n      }\n    }, 10, root)\n  }\n})(window);",
      "application/vnd.bokehjs_exec.v0+json": ""
     },
     "metadata": {
      "application/vnd.bokehjs_exec.v0+json": {
       "id": "3079"
      }
     }
    },
    {
     "output_type": "stream",
     "name": "stdout",
     "text": [
      "{'generation': {'gen_dur': 20.904886722564697, 'model': 'MusicVAE', 'checkpoint': 'cat-mel_2bar_big', 'temperature': 0.2}, 'adaptation_steps': [{'name': 'StartAndEndOnCTOperation', 'duration': 0.16910433769226074, 'intermediate_result': <music21.stream.Score 0x19373993308>}, {'name': 'TransposeNotesOperation', 'duration': 0.12018799781799316, 'intermediate_result': <music21.stream.Score 0x19373993308>}], 'adaptation_duration': 0.2892923355102539}\n"
     ]
    }
   ],
   "source": [
    "pianoRoll(mel_gen_base.sequence)\n",
    "pianoRoll(result.sequence)\n",
    "print(result.meta)"
   ]
  },
  {
   "cell_type": "code",
   "execution_count": 46,
   "metadata": {},
   "outputs": [],
   "source": [
    "playPrettyMidi(mel_gen_base.sequence)"
   ]
  },
  {
   "cell_type": "code",
   "execution_count": 47,
   "metadata": {},
   "outputs": [],
   "source": [
    "playPrettyMidi(result.sequence)"
   ]
  }
 ]
}