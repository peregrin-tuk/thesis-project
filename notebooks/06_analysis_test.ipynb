{
 "metadata": {
  "language_info": {
   "codemirror_mode": {
    "name": "ipython",
    "version": 3
   },
   "file_extension": ".py",
   "mimetype": "text/x-python",
   "name": "python",
   "nbconvert_exporter": "python",
   "pygments_lexer": "ipython3",
   "version": "3.7.9-final"
  },
  "orig_nbformat": 2,
  "kernelspec": {
   "name": "python3",
   "display_name": "Python 3.7.9 64-bit ('mpro': conda)",
   "metadata": {
    "interpreter": {
     "hash": "75a9ca51cf2daeb22ff0ca8785d387c49ea4e2c8c6428abeae8aacce62ee187c"
    }
   }
  }
 },
 "nbformat": 4,
 "nbformat_minor": 2,
 "cells": [
  {
   "cell_type": "code",
   "execution_count": 1,
   "metadata": {},
   "outputs": [
    {
     "output_type": "stream",
     "name": "stderr",
     "text": [
      "C:\\Users\\Eric\\miniconda3\\envs\\mpro\\lib\\site-packages\\pydub\\utils.py:170: RuntimeWarning: Couldn't find ffmpeg or avconv - defaulting to ffmpeg, but may not work\n  warn(\"Couldn't find ffmpeg or avconv - defaulting to ffmpeg, but may not work\", RuntimeWarning)\n"
     ]
    }
   ],
   "source": [
    "import sys, os\n",
    "\n",
    "root_dir = os.path.join(os.getcwd(), '..')\n",
    "sys.path.append(root_dir)\n",
    "\n",
    "from src.io.input import loadMidiFile\n",
    "from src.analysis.expectancy import get_expectancy_ratings_for_sequence"
   ]
  },
  {
   "cell_type": "code",
   "execution_count": 2,
   "metadata": {},
   "outputs": [],
   "source": [
    "melody = loadMidiFile('../midi/examples/monophonic/africa_intro_2b.mid')"
   ]
  },
  {
   "cell_type": "code",
   "execution_count": 3,
   "metadata": {},
   "outputs": [
    {
     "output_type": "execute_result",
     "data": {
      "text/plain": [
       "24"
      ]
     },
     "metadata": {},
     "execution_count": 3
    }
   ],
   "source": [
    "len(melody.instruments[0].notes)"
   ]
  },
  {
   "cell_type": "code",
   "execution_count": 4,
   "metadata": {},
   "outputs": [
    {
     "output_type": "execute_result",
     "data": {
      "text/plain": [
       "[None,\n",
       " None,\n",
       " 96.0,\n",
       " 96.0,\n",
       " 96.0,\n",
       " 72,\n",
       " 0.5,\n",
       " 235,\n",
       " 62,\n",
       " 125,\n",
       " 70,\n",
       " 160,\n",
       " 62,\n",
       " 125,\n",
       " 70,\n",
       " 160,\n",
       " 62,\n",
       " 134,\n",
       " 64,\n",
       " 128,\n",
       " 64,\n",
       " 44,\n",
       " 166,\n",
       " 12.5]"
      ]
     },
     "metadata": {},
     "execution_count": 4
    }
   ],
   "source": [
    "e = get_expectancy_ratings_for_sequence(melody)\n",
    "e"
   ]
  }
 ]
}