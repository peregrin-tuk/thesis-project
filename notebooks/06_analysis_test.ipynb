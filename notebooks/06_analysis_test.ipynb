{
 "metadata": {
  "language_info": {
   "codemirror_mode": {
    "name": "ipython",
    "version": 3
   },
   "file_extension": ".py",
   "mimetype": "text/x-python",
   "name": "python",
   "nbconvert_exporter": "python",
   "pygments_lexer": "ipython3",
   "version": "3.7.9-final"
  },
  "orig_nbformat": 2,
  "kernelspec": {
   "name": "python3",
   "display_name": "Python 3.7.9 64-bit ('mpro': conda)",
   "metadata": {
    "interpreter": {
     "hash": "75a9ca51cf2daeb22ff0ca8785d387c49ea4e2c8c6428abeae8aacce62ee187c"
    }
   }
  }
 },
 "nbformat": 4,
 "nbformat_minor": 2,
 "cells": [
  {
   "cell_type": "code",
   "execution_count": 1,
   "metadata": {},
   "outputs": [
    {
     "output_type": "stream",
     "name": "stderr",
     "text": [
      "C:\\Users\\Eric\\miniconda3\\envs\\mpro\\lib\\site-packages\\pydub\\utils.py:170: RuntimeWarning: Couldn't find ffmpeg or avconv - defaulting to ffmpeg, but may not work\n  warn(\"Couldn't find ffmpeg or avconv - defaulting to ffmpeg, but may not work\", RuntimeWarning)\n"
     ]
    }
   ],
   "source": [
    "import sys, os\n",
    "\n",
    "root_dir = os.path.join(os.getcwd(), '..')\n",
    "sys.path.append(root_dir)\n",
    "\n",
    "from src.io.input import loadMidiFile\n",
    "from src.io.conversion import pretty_midi_to_music21\n",
    "from src.analysis import expectancy, metrical, harmonic"
   ]
  },
  {
   "cell_type": "code",
   "execution_count": 2,
   "metadata": {},
   "outputs": [],
   "source": [
    "melody = loadMidiFile('../midi/examples/monophonic/bohemian_mama_4b.mid')\n",
    "melody2 = loadMidiFile('../midi/examples/monophonic/bohemian_mama2_4b.mid')"
   ]
  },
  {
   "cell_type": "code",
   "execution_count": 3,
   "metadata": {},
   "outputs": [
    {
     "output_type": "stream",
     "name": "stdout",
     "text": [
      "19\n18\n"
     ]
    }
   ],
   "source": [
    "print(len(melody.instruments[0].notes))\n",
    "print(len(melody2.instruments[0].notes))"
   ]
  },
  {
   "source": [
    "# Test Methods of Analysis Module"
   ],
   "cell_type": "markdown",
   "metadata": {}
  },
  {
   "cell_type": "code",
   "execution_count": 4,
   "metadata": {},
   "outputs": [
    {
     "output_type": "stream",
     "name": "stdout",
     "text": [
      "[None, None, 40, 192, 140, 96.0, 96.0, 96.0, 72, 148, 64, 156, 212, 144.0, 128, 84, 148, 64, 156]\n[None, None, 96.0, 100, 86, 160, 120.0, 120.0, 50, 48.0, 48.0, 48.0, 48.0, 125, 46, 144, 96.0, 192]\n"
     ]
    }
   ],
   "source": [
    "e = expectancy.get_expectancy_ratings_for_sequence(melody)\n",
    "e2 = expectancy.get_expectancy_ratings_for_sequence(melody2)\n",
    "print(e)\n",
    "print(e2)"
   ]
  },
  {
   "cell_type": "code",
   "execution_count": 5,
   "metadata": {},
   "outputs": [
    {
     "output_type": "stream",
     "name": "stdout",
     "text": [
      "[1.0, 0.0, 0.71, 0.0957, 0.67, 0.0, 0.0, 0.0, 0.33, 0.5561, 0.085, 0.25, 0.5, 0.0, 0.33, 0.22110000000000002, 0.5561, 0.085, 0.5]\n[1.0, 0.0, 0.0, 0.33, 0.5561, 0.17, 0.0, 0.0, 1.0, 0.0, 0.0, 0.0, 0.0, 0.5, 0.25, 0.5, 0.0, 1.0]\n"
     ]
    }
   ],
   "source": [
    "tma = metrical.thomassen_melodic_accent(pretty_midi_to_music21(melody))\n",
    "tma2 = metrical.thomassen_melodic_accent(pretty_midi_to_music21(melody2))\n",
    "print(tma)\n",
    "print(tma2)"
   ]
  },
  {
   "cell_type": "code",
   "execution_count": 6,
   "metadata": {},
   "outputs": [
    {
     "output_type": "stream",
     "name": "stdout",
     "text": [
      "[1.0, 0.25, 1.0, 0.0625, 0.0625, 0.0625, 0.0625, 0.0625, 0.0625, 0.0625, 0.0625, 0.25, 0.0625, 0.0625, 0.0625, 0.0625, 0.0625, 0.0625, 0.0625]\n[1.0, 0.0625, 0.0625, 0.0625, 0.0625, 0.0625, 0.0625, 0.0625, 0.0625, 0.0625, 0.0625, 0.0625, 0.0625, 0.0625, 0.0625, 0.0625, 0.0625, 0.0625]\n"
     ]
    }
   ],
   "source": [
    "bd = metrical.beat_strength(pretty_midi_to_music21(melody))\n",
    "bd2 = metrical.beat_strength(pretty_midi_to_music21(melody2))\n",
    "print(bd)\n",
    "print(bd2)"
   ]
  },
  {
   "cell_type": "code",
   "execution_count": 7,
   "metadata": {},
   "outputs": [
    {
     "output_type": "stream",
     "name": "stdout",
     "text": [
      "B- major\ng minor\n"
     ]
    }
   ],
   "source": [
    "key = harmonic.key(pretty_midi_to_music21(melody))\n",
    "key2 = harmonic.key(pretty_midi_to_music21(melody2))\n",
    "print(key)\n",
    "print(key2)"
   ]
  },
  {
   "cell_type": "code",
   "execution_count": 8,
   "metadata": {},
   "outputs": [
    {
     "output_type": "stream",
     "name": "stdout",
     "text": [
      "smooth: [<music21.key.Key of G major>, <music21.key.Key of G major>, <music21.key.Key of E- major>, <music21.key.Key of F major>, <music21.key.Key of G major>, <music21.key.Key of G major>, <music21.key.Key of G major>, <music21.key.Key of B- major>, <music21.key.Key of c minor>, <music21.key.Key of B- major>, <music21.key.Key of A- major>, <music21.key.Key of G major>, <music21.key.Key of F major>, <music21.key.Key of F major>, <music21.key.Key of G major>, <music21.key.Key of e- minor>, <music21.key.Key of B- major>, <music21.key.Key of A- major>, <music21.key.Key of G major>]\nraw:    [<music21.key.Key of G major>, <music21.key.Key of G major>, None, None, None, None, None, None, None, None, None, None, None, None, None, <music21.key.Key of E- major>, None, <music21.key.Key of F major>, None, <music21.key.Key of G major>, <music21.key.Key of G major>, None, None, None, None, None, None, None, None, None, None, <music21.key.Key of G major>, <music21.key.Key of G major>, <music21.key.Key of A- major>, <music21.key.Key of B- major>, None, <music21.key.Key of A- major>, None, <music21.key.Key of G major>, None, <music21.key.Key of F major>, None, None, None, None, <music21.key.Key of F major>, None, <music21.key.Key of G major>, None, <music21.key.Key of A- major>, <music21.key.Key of B- major>, None, None, <music21.key.Key of A- major>, None, <music21.key.Key of G major>, None, None]\n\nsmooth: [<music21.key.Key of G major>, <music21.key.Key of G major>, <music21.key.Key of G major>, <music21.key.Key of B- major>, <music21.key.Key of D major>, <music21.key.Key of C major>, <music21.key.Key of C major>, <music21.key.Key of C major>, <music21.key.Key of E- major>, <music21.key.Key of E- major>, <music21.key.Key of E- major>, <music21.key.Key of E- major>, <music21.key.Key of E- major>, <music21.key.Key of c minor>, <music21.key.Key of c minor>, <music21.key.Key of c minor>, <music21.key.Key of G major>, <music21.key.Key of c minor>]\nraw:    [<music21.key.Key of G major>, <music21.key.Key of G major>, None, None, None, None, None, None, None, None, None, None, None, <music21.key.Key of G major>, None, <music21.key.Key of B- major>, None, None, <music21.key.Key of D major>, None, None, None, <music21.key.Key of C major>, <music21.key.Key of C major>, None, None, None, None, None, None, None, None, <music21.key.Key of C major>, None, <music21.key.Key of E- major>, None, None, <music21.key.Key of E- major>, None, <music21.key.Key of E- major>, None, <music21.key.Key of E- major>, None, <music21.key.Key of E- major>, None, None, None, <music21.key.Key of C major>, <music21.key.Key of A- major>, <music21.key.Key of G major>, None, None, None, <music21.key.Key of G major>, <music21.key.Key of F major>, None, None, None, None, None, None, None, None, None, None, None, None, None]\n"
     ]
    }
   ],
   "source": [
    "fskey = harmonic.smoothed_key_per_bar(pretty_midi_to_music21(melody))\n",
    "frkey = harmonic.raw_key_per_bar(pretty_midi_to_music21(melody))\n",
    "fskey2 = harmonic.smoothed_key_per_bar(pretty_midi_to_music21(melody2))\n",
    "frkey2 = harmonic.raw_key_per_bar(pretty_midi_to_music21(melody2))\n",
    "print('smooth:', fskey)\n",
    "print('raw:   ', frkey)\n",
    "print('\\nsmooth:', fskey2)\n",
    "print('raw:   ', frkey2)"
   ]
  },
  {
   "source": [
    "# Quick Tests of types and internal functionings"
   ],
   "cell_type": "markdown",
   "metadata": {}
  },
  {
   "cell_type": "code",
   "execution_count": 9,
   "metadata": {},
   "outputs": [
    {
     "output_type": "execute_result",
     "data": {
      "text/plain": [
       "[6.35, 2.23, 3.48, 2.33, 4.38, 4.09, 2.52, 5.19, 2.39, 3.66, 2.29, 2.88]"
      ]
     },
     "metadata": {},
     "execution_count": 9
    }
   ],
   "source": [
    "import music21\n",
    "\n",
    "a = music21.analysis.discrete.KrumhanslSchmuckler()\n",
    "a.getWeights()"
   ]
  },
  {
   "cell_type": "code",
   "execution_count": 10,
   "metadata": {},
   "outputs": [
    {
     "output_type": "execute_result",
     "data": {
      "text/plain": [
       "'key'"
      ]
     },
     "metadata": {},
     "execution_count": 10
    }
   ],
   "source": [
    "from src.analysis.harmonic import key\n",
    "key.__name__"
   ]
  },
  {
   "cell_type": "code",
   "execution_count": 11,
   "metadata": {},
   "outputs": [
    {
     "output_type": "execute_result",
     "data": {
      "text/plain": [
       "music21.stream.Score"
      ]
     },
     "metadata": {},
     "execution_count": 11
    }
   ],
   "source": [
    "stream = pretty_midi_to_music21(melody)\n",
    "type(stream)"
   ]
  },
  {
   "cell_type": "code",
   "execution_count": 12,
   "metadata": {},
   "outputs": [
    {
     "output_type": "stream",
     "name": "stdout",
     "text": [
      "{0.0} <music21.stream.Part 0x29ca9e17248>\n",
      "    {0.0} <music21.tempo.MetronomeMark andantino Quarter=80.00010666680888>\n",
      "    {0.0} <music21.meter.TimeSignature 4/4>\n",
      "    {0.0} <music21.note.Note D>\n",
      "    {5.0} <music21.note.Note D>\n",
      "    {60.0} <music21.note.Note A#>\n",
      "    {68.75} <music21.note.Note C>\n",
      "    {78.5417} <music21.note.Note D>\n",
      "    {83.5417} <music21.note.Note D>\n",
      "    {124.1667} <music21.note.Note D>\n",
      "    {128.125} <music21.note.Note D>\n",
      "    {132.7083} <music21.note.Note D#>\n",
      "    {139.1667} <music21.note.Note F>\n",
      "    {144.375} <music21.note.Note D#>\n",
      "    {155.0} <music21.note.Note D>\n",
      "    {162.0833} <music21.note.Note C>\n",
      "    {180.8333} <music21.note.Note C>\n",
      "    {188.9583} <music21.note.Note D>\n",
      "    {198.125} <music21.note.Note D#>\n",
      "    {203.5417} <music21.note.Note F>\n",
      "    {212.0833} <music21.note.Note D#>\n",
      "    {220.8333} <music21.note.Note D>\n"
     ]
    }
   ],
   "source": [
    "stream.show('text')"
   ]
  }
 ]
}