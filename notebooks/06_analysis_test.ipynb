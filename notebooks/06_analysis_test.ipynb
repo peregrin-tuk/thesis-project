{
 "metadata": {
  "language_info": {
   "codemirror_mode": {
    "name": "ipython",
    "version": 3
   },
   "file_extension": ".py",
   "mimetype": "text/x-python",
   "name": "python",
   "nbconvert_exporter": "python",
   "pygments_lexer": "ipython3",
   "version": "3.7.9-final"
  },
  "orig_nbformat": 2,
  "kernelspec": {
   "name": "python3",
   "display_name": "Python 3.7.9 64-bit ('mpro': conda)",
   "metadata": {
    "interpreter": {
     "hash": "75a9ca51cf2daeb22ff0ca8785d387c49ea4e2c8c6428abeae8aacce62ee187c"
    }
   }
  }
 },
 "nbformat": 4,
 "nbformat_minor": 2,
 "cells": [
  {
   "cell_type": "code",
   "execution_count": 4,
   "metadata": {},
   "outputs": [
    {
     "output_type": "stream",
     "name": "stderr",
     "text": [
      "C:\\Users\\Eric\\miniconda3\\envs\\mpro\\lib\\site-packages\\pydub\\utils.py:170: RuntimeWarning: Couldn't find ffmpeg or avconv - defaulting to ffmpeg, but may not work\n  warn(\"Couldn't find ffmpeg or avconv - defaulting to ffmpeg, but may not work\", RuntimeWarning)\n"
     ]
    }
   ],
   "source": [
    "import sys, os\n",
    "\n",
    "root_dir = os.path.join(os.getcwd(), '..')\n",
    "sys.path.append(root_dir)\n",
    "\n",
    "from src.io.input import loadMidiFile\n",
    "from src.io.conversion import pretty_midi_to_music21\n",
    "from src.analysis import expectancy, metrical"
   ]
  },
  {
   "cell_type": "code",
   "execution_count": 6,
   "metadata": {},
   "outputs": [],
   "source": [
    "melody = loadMidiFile('../midi/examples/monophonic/bohemian_mama_4b.mid')"
   ]
  },
  {
   "cell_type": "code",
   "execution_count": 3,
   "metadata": {},
   "outputs": [
    {
     "output_type": "execute_result",
     "data": {
      "text/plain": [
       "19"
      ]
     },
     "metadata": {},
     "execution_count": 3
    }
   ],
   "source": [
    "len(melody.instruments[0].notes)"
   ]
  },
  {
   "cell_type": "code",
   "execution_count": 4,
   "metadata": {},
   "outputs": [
    {
     "output_type": "execute_result",
     "data": {
      "text/plain": [
       "[None,\n",
       " None,\n",
       " 40,\n",
       " 192,\n",
       " 140,\n",
       " 96.0,\n",
       " 96.0,\n",
       " 96.0,\n",
       " 72,\n",
       " 148,\n",
       " 64,\n",
       " 156,\n",
       " 212,\n",
       " 144.0,\n",
       " 128,\n",
       " 84,\n",
       " 148,\n",
       " 64,\n",
       " 156]"
      ]
     },
     "metadata": {},
     "execution_count": 4
    }
   ],
   "source": [
    "e = expectancy.get_expectancy_ratings_for_sequence(melody)\n",
    "e"
   ]
  },
  {
   "cell_type": "code",
   "execution_count": 5,
   "metadata": {},
   "outputs": [
    {
     "output_type": "execute_result",
     "data": {
      "text/plain": [
       "[1.0,\n",
       " 0.0,\n",
       " 0.71,\n",
       " 0.0957,\n",
       " 0.67,\n",
       " 0.0,\n",
       " 0.0,\n",
       " 0.0,\n",
       " 0.33,\n",
       " 0.5561,\n",
       " 0.085,\n",
       " 0.25,\n",
       " 0.5,\n",
       " 0.0,\n",
       " 0.33,\n",
       " 0.22110000000000002,\n",
       " 0.5561,\n",
       " 0.085,\n",
       " 0.5]"
      ]
     },
     "metadata": {},
     "execution_count": 5
    }
   ],
   "source": [
    "tma = metrical.thomassen_melodic_accent(melody)\n",
    "tma"
   ]
  },
  {
   "cell_type": "code",
   "execution_count": 6,
   "metadata": {},
   "outputs": [
    {
     "output_type": "execute_result",
     "data": {
      "text/plain": [
       "[1.0,\n",
       " 0.0625,\n",
       " 0.25,\n",
       " 0.0625,\n",
       " 0.0625,\n",
       " 0.0625,\n",
       " 0.0625,\n",
       " 0.0625,\n",
       " 0.0625,\n",
       " 0.25,\n",
       " 0.0625,\n",
       " 0.0625,\n",
       " 0.0625,\n",
       " 0.25,\n",
       " 0.0625,\n",
       " 0.0625,\n",
       " 0.0625,\n",
       " 0.0625,\n",
       " 0.0625]"
      ]
     },
     "metadata": {},
     "execution_count": 6
    }
   ],
   "source": [
    "bd = metrical.beat_strength(melody)\n",
    "bd"
   ]
  },
  {
   "cell_type": "code",
   "execution_count": 10,
   "metadata": {},
   "outputs": [
    {
     "output_type": "execute_result",
     "data": {
      "text/plain": [
       "[6.35, 2.23, 3.48, 2.33, 4.38, 4.09, 2.52, 5.19, 2.39, 3.66, 2.29, 2.88]"
      ]
     },
     "metadata": {},
     "execution_count": 10
    }
   ],
   "source": [
    "import music21\n",
    "\n",
    "a = music21.analysis.discrete.KrumhanslSchmuckler()\n",
    "a.getWeights()"
   ]
  },
  {
   "cell_type": "code",
   "execution_count": 5,
   "metadata": {},
   "outputs": [
    {
     "output_type": "execute_result",
     "data": {
      "text/plain": [
       "'key'"
      ]
     },
     "metadata": {},
     "execution_count": 5
    }
   ],
   "source": [
    "from src.analysis.harmonic import key\n",
    "key.__name__"
   ]
  },
  {
   "cell_type": "code",
   "execution_count": 13,
   "metadata": {},
   "outputs": [
    {
     "output_type": "execute_result",
     "data": {
      "text/plain": [
       "music21.stream.Score"
      ]
     },
     "metadata": {},
     "execution_count": 13
    }
   ],
   "source": [
    "stream = pretty_midi_to_music21(melody)\n",
    "type(stream)"
   ]
  }
 ]
}