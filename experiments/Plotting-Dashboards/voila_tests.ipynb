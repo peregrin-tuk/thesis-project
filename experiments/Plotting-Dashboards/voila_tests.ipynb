{
 "metadata": {
  "language_info": {
   "codemirror_mode": {
    "name": "ipython",
    "version": 3
   },
   "file_extension": ".py",
   "mimetype": "text/x-python",
   "name": "python",
   "nbconvert_exporter": "python",
   "pygments_lexer": "ipython3",
   "version": "3.7.9-final"
  },
  "orig_nbformat": 2,
  "kernelspec": {
   "name": "python379jvsc74a57bd075a9ca51cf2daeb22ff0ca8785d387c49ea4e2c8c6428abeae8aacce62ee187c",
   "display_name": "Python 3.7.9 64-bit ('mpro': conda)"
  }
 },
 "nbformat": 4,
 "nbformat_minor": 2,
 "cells": [
  {
   "cell_type": "code",
   "execution_count": 1,
   "source": [
    "import os, sys\r\n",
    "from IPython.display import display\r\n",
    "import ipywidgets as widgets\r\n",
    "from ipywidgets import HBox, VBox, Label\r\n",
    "\r\n",
    "# append parent of cwd to sys path to find modules\r\n",
    "root_dir = os.path.join(os.getcwd(), '..')\r\n",
    "sys.path.append(root_dir)\r\n",
    "\r\n",
    "from src.io.plot import pianoroll, multitrack_pianoroll\r\n",
    "from src.io.output import play_button\r\n",
    "from src.io.input import loadMidiFile\r\n",
    "from visual_midi import Plotter\r\n",
    "\r\n",
    "output = widgets.Output()\r\n",
    "output2 = widgets.Output()"
   ],
   "outputs": [
    {
     "output_type": "stream",
     "name": "stdout",
     "text": [
      "pygame 2.0.1 (SDL 2.0.14, Python 3.7.9)\n",
      "Hello from the pygame community. https://www.pygame.org/contribute.html\n",
      "C:\\Users\\Eric\\miniconda3\\envs\\mpro\\lib\\site-packages\\pydub\\utils.py:170: RuntimeWarning: Couldn't find ffmpeg or avconv - defaulting to ffmpeg, but may not work\n",
      "  warn(\"Couldn't find ffmpeg or avconv - defaulting to ffmpeg, but may not work\", RuntimeWarning)\n"
     ]
    }
   ],
   "metadata": {}
  },
  {
   "cell_type": "code",
   "execution_count": 2,
   "source": [
    "def print_lol(b):\r\n",
    "    with output:\r\n",
    "        print('Lol')"
   ],
   "outputs": [],
   "metadata": {}
  },
  {
   "cell_type": "code",
   "execution_count": 3,
   "source": [
    "startButton = widgets.Button(\r\n",
    "    description='  RUN',\r\n",
    "    disabled=False,\r\n",
    "    button_style='success',\r\n",
    "    icon='play'\r\n",
    ")\r\n",
    "startButton.on_click(print_lol)\r\n",
    "\r\n",
    "heading = widgets.HTML(\r\n",
    "    value=\"<h2>Test Heading<h2>\",\r\n",
    "    placeholder='Test Heading',\r\n",
    ")"
   ],
   "outputs": [],
   "metadata": {}
  },
  {
   "cell_type": "code",
   "execution_count": 4,
   "source": [
    "display(startButton)\r\n",
    "display(heading)\r\n",
    "display(output)\r\n",
    "display(output2)"
   ],
   "outputs": [
    {
     "output_type": "display_data",
     "data": {
      "application/vnd.jupyter.widget-view+json": {
       "version_major": 2,
       "version_minor": 0,
       "model_id": "68b100fc6c084e848de338665f9315f1"
      },
      "text/plain": [
       "Button(button_style='success', description='  RUN', icon='play', style=ButtonStyle())"
      ]
     },
     "metadata": {}
    },
    {
     "output_type": "display_data",
     "data": {
      "application/vnd.jupyter.widget-view+json": {
       "version_major": 2,
       "version_minor": 0,
       "model_id": "3b626d8e8769452bb52bce993d0f62f9"
      },
      "text/plain": [
       "HTML(value='<h2>Test Heading<h2>', placeholder='Test Heading')"
      ]
     },
     "metadata": {}
    },
    {
     "output_type": "display_data",
     "data": {
      "application/vnd.jupyter.widget-view+json": {
       "version_major": 2,
       "version_minor": 0,
       "model_id": "23bbebfde1314293976daf364534c8d7"
      },
      "text/plain": [
       "Output()"
      ]
     },
     "metadata": {}
    },
    {
     "output_type": "display_data",
     "data": {
      "application/vnd.jupyter.widget-view+json": {
       "version_major": 2,
       "version_minor": 0,
       "model_id": "3f2268ae28b04340825f5e06ee25d065"
      },
      "text/plain": [
       "Output()"
      ]
     },
     "metadata": {}
    }
   ],
   "metadata": {}
  },
  {
   "cell_type": "code",
   "execution_count": 5,
   "source": [
    "midi = loadMidiFile('../midi/examples/monophonic/twinkle1_4b.mid')\r\n",
    "midi2 = loadMidiFile('../midi/examples/monophonic/twinkle2_4b.mid')"
   ],
   "outputs": [
    {
     "output_type": "stream",
     "name": "stderr",
     "text": [
      "C:\\Users\\Eric\\miniconda3\\envs\\mpro\\lib\\site-packages\\pretty_midi\\pretty_midi.py:101: RuntimeWarning: Tempo, Key or Time signature change events found on non-zero tracks.  This is not a valid type 0 or type 1 MIDI file.  Tempo, Key or Time Signature may be wrong.\n",
      "  RuntimeWarning)\n"
     ]
    }
   ],
   "metadata": {}
  },
  {
   "cell_type": "code",
   "execution_count": 6,
   "source": [
    "import pypianoroll\n",
    "%matplotlib widget\n",
    "\n",
    "with output:\n",
    "    output.clear_output()\n",
    "\n",
    "midi_list = [midi, midi2]\n",
    "name_list = ['Input', 'Generation']\n",
    "multitrack_pianoroll(midis=midi_list, names=name_list, out=output)\n",
    "play_button(midi, output, 'Hello')\n"
   ],
   "outputs": [
    {
     "output_type": "stream",
     "name": "stdout",
     "text": [
      "midis [<pretty_midi.pretty_midi.PrettyMIDI object at 0x0000024AD2C45448>, <pretty_midi.pretty_midi.PrettyMIDI object at 0x0000024AD2C45408>]\n",
      "names ['Input', 'Generation']\n"
     ]
    }
   ],
   "metadata": {}
  },
  {
   "cell_type": "code",
   "execution_count": 7,
   "source": [
    "from dashboards.widgets import h2_heading\n",
    "\n",
    "display(h2_heading('Hallo'))"
   ],
   "outputs": [
    {
     "output_type": "display_data",
     "data": {
      "application/vnd.jupyter.widget-view+json": {
       "version_major": 2,
       "version_minor": 0,
       "model_id": "3029c1affa674a219cfc66e67c9bc32b"
      },
      "text/plain": [
       "HTML(value='<h2>Hallo<h2>', placeholder='Hallo')"
      ]
     },
     "metadata": {}
    }
   ],
   "metadata": {}
  }
 ]
}