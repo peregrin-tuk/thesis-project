{
 "cells": [
  {
   "cell_type": "code",
   "execution_count": 1,
   "metadata": {},
   "outputs": [
    {
     "name": "stderr",
     "output_type": "stream",
     "text": [
      "C:\\Users\\Eric\\miniconda3\\envs\\mpro\\lib\\site-packages\\pydub\\utils.py:170: RuntimeWarning: Couldn't find ffmpeg or avconv - defaulting to ffmpeg, but may not work\n",
      "  warn(\"Couldn't find ffmpeg or avconv - defaulting to ffmpeg, but may not work\", RuntimeWarning)\n"
     ]
    }
   ],
   "source": [
    "# IMPORTS\n",
    "from ipywidgets import HBox, VBox, Label, Layout, AppLayout, Output, Tab, Text\n",
    "from IPython.display import display\n",
    "import sys, os\n",
    "import traceback\n",
    "from pathlib import Path\n",
    "from pprint import pprint\n",
    "import pandas as pd\n",
    "\n",
    "# append parent of cwd to sys path to find modules\n",
    "root_dir = os.path.join(os.getcwd(), '..')\n",
    "sys.path.append(root_dir)\n",
    "\n",
    "# surpress pygame version prompt\n",
    "os.environ['PYGAME_HIDE_SUPPORT_PROMPT'] = \"hide\"\n",
    "\n",
    "# enable matplotlib widgets\n",
    "%matplotlib widget\n",
    "\n",
    "from definitions import ROOT_DIR\n",
    "from src.app_explore import AppExplore as App\n",
    "from src.io.plot import multi_evaluation_bars, two_multibar_plots, animated_plotly_pianoroll, multitrack_plotly_pianoroll\n",
    "from src.io.output import play_button\n",
    "\n",
    "# widget objects\n",
    "from dashboards.widgets import paginationSlider, iconButton, exploreHeading, databaseIdTextfield, showButton\n",
    "\n",
    "# widget functions\n",
    "from dashboards.widgets import h2_heading"
   ]
  },
  {
   "cell_type": "code",
   "execution_count": 2,
   "metadata": {},
   "outputs": [],
   "source": [
    "##########################\n",
    "#C#    OUTPUT & APP    ###\n",
    "##########################\n",
    "\n",
    "log = Output()\n",
    "\n",
    "summary_container = Output()\n",
    "pianoroll_container = Output()\n",
    "input_play_button_container = Output()\n",
    "gen_play_button_container = Output()\n",
    "output_play_button_container = Output()\n",
    "evaluation_container = Output()\n",
    "meta_container = Output()\n",
    "generation_info = Output()\n",
    "\n",
    "# init\n",
    "app = App(log=log)"
   ]
  },
  {
   "cell_type": "code",
   "execution_count": 3,
   "metadata": {},
   "outputs": [],
   "source": [
    "##########################\n",
    "#M#   SELECTION DATA   ###\n",
    "##########################\n",
    "\n",
    "\n",
    "# UI Elements\n",
    "generation_page_slider = paginationSlider(1, '')\n",
    "refreshButton = iconButton('refresh', 'Load sample')\n",
    "leftButton = iconButton('arrow-left', 'Previous')\n",
    "rightButton = iconButton('arrow-right', 'Next')"
   ]
  },
  {
   "cell_type": "code",
   "execution_count": 4,
   "metadata": {},
   "outputs": [],
   "source": [
    "##########################\n",
    "#C#     CONTROLLER     ###\n",
    "##########################\n",
    "\n",
    "input_cache = str(ROOT_DIR / Path('midi\\\\tmp\\\\mgeval_cache.mid'))\n",
    "\n",
    "result = None\n",
    "\n",
    "def run_explore(b):\n",
    "    try:\n",
    "        # reset output containers\n",
    "        summary_container.clear_output()            \n",
    "\n",
    "        # run\n",
    "        result = app.run(databaseIdTextfield.value)\n",
    "        generation_page_slider.value = len(result['generations']) - 1\n",
    "\n",
    "\n",
    "        display_details(None)\n",
    "    except:\n",
    "        # printing stack trace\n",
    "        with log:\n",
    "            traceback.print_exc()\n",
    "\n",
    "\n",
    "def display_details(b):\n",
    "    try:\n",
    "        # reset output containers\n",
    "        pianoroll_container.clear_output()\n",
    "        input_play_button_container.clear_output()\n",
    "        gen_play_button_container.clear_output()\n",
    "        output_play_button_container.clear_output()\n",
    "        evaluation_container.clear_output()\n",
    "        meta_container.clear_output()\n",
    "\n",
    "        if app.result is None:\n",
    "            with pianoroll_container:\n",
    "                print('ERROR: No results available.')\n",
    "                return\n",
    "        \n",
    "        if b is not None and b.tooltip is \"Previous\":\n",
    "            x = generation_page_slider.value - 1\n",
    "            if x < 0: return\n",
    "        elif b is not None and b.tooltip is \"Next\":\n",
    "            x = generation_page_slider.value + 1\n",
    "            if x >= len(app.result['generations']): return\n",
    "        else:\n",
    "            x = generation_page_slider.value\n",
    "\n",
    "        cr_set = app.result['generations'][x]\n",
    "        generation_page_slider.value = x\n",
    "\n",
    "        # create pianoroll plots from results and print them\n",
    "        midi_list = [cr_set.input_sequence.sequence, cr_set.generated_base_sequence.sequence, cr_set.output_sequence.sequence]\n",
    "        name_list = ['Input', 'Generation', 'Result']\n",
    "\n",
    "        multitrack_plotly_pianoroll(midi_list, name_list, 'Sequences', pianoroll_container)\n",
    "\n",
    "\n",
    "        # display play buttons for audio\n",
    "        with input_play_button_container: \n",
    "            display(h2_heading('Input:'))\n",
    "        play_button(midi_list[0], input_play_button_container)\n",
    "        with gen_play_button_container: \n",
    "            display(h2_heading('Generation:'))    \n",
    "        play_button(midi_list[1], gen_play_button_container)\n",
    "        with output_play_button_container: \n",
    "            display(h2_heading('Adaptation:'))\n",
    "        play_button(midi_list[2], output_play_button_container)\n",
    "\n",
    "\n",
    "        # create evaluation plots\n",
    "        eval_data = [cr_set.generation_similarity['normalized'], cr_set.output_similarity['normalized']]\n",
    "        multi_evaluation_bars(eval_data, evaluation_container, ['Generated Sequence', 'Adapted Sequence'])\n",
    "\n",
    "\n",
    "        # print avg sim/var\n",
    "        numeric_data = pd.DataFrame()\n",
    "        numeric_data = numeric_data.append(pd.Series(app.evaluation.calc_meta_scores(eval_data[0]), name='Generation Similarity:'))\n",
    "        numeric_data = numeric_data.append(pd.Series(app.evaluation.calc_meta_scores(eval_data[1]), name='Adaptation Similarity:'))\n",
    "\n",
    "        with meta_container:\n",
    "            display(numeric_data)\n",
    "\n",
    "        # print meta data\n",
    "        with meta_container:\n",
    "            display(h2_heading('Input Analysis:'))\n",
    "            pprint(cr_set.input_sequence.analysis)\n",
    "            display(h2_heading('Generation Analysis:'))\n",
    "            pprint(cr_set.output_sequence.analysis)\n",
    "            display(h2_heading('Process Meta Data:'))\n",
    "            pprint(cr_set.output_sequence.meta)\n",
    "\n",
    "            if app.result['db_generation_ids'] is not None:\n",
    "                print('Database ID of Gen Base (Table MIDIs): ' + str(app.result['db_generation_ids'][x]))\n",
    "    except:\n",
    "        # printing stack trace\n",
    "        with log:\n",
    "            traceback.print_exc()\n",
    "\n",
    "def reload_details(change):\n",
    "    display_details(None)\n",
    "\n",
    "\n",
    "# settings button click handlers\n",
    "showButton.on_click(run_explore)\n",
    "\n",
    "# pagination event handlers\n",
    "refreshButton.on_click(display_details)\n",
    "leftButton.on_click(display_details)\n",
    "rightButton.on_click(display_details)\n",
    "generation_page_slider.observe(reload_details, names='value')"
   ]
  },
  {
   "cell_type": "code",
   "execution_count": 5,
   "metadata": {},
   "outputs": [],
   "source": [
    "##########################\n",
    "#V#  SETTINGS SIDEBAR  ###\n",
    "##########################\n",
    "\n",
    "side_bar_layout = Layout(border='1px solid grey', padding='10px')\n",
    "\n",
    "settings_box = VBox([\n",
    "        exploreHeading,\n",
    "         HBox([Label('Generation ID:'), databaseIdTextfield]),\n",
    "        showButton,\n",
    "    ], layout = side_bar_layout)"
   ]
  },
  {
   "cell_type": "code",
   "execution_count": 6,
   "metadata": {},
   "outputs": [],
   "source": [
    "##########################\n",
    "#V#    RESULTS AREA    ###\n",
    "##########################\n",
    "\n",
    "main_layout = Layout(padding='10px')\n",
    "\n",
    "# AVG & SUMMARY\n",
    "summary_box = summary_container\n",
    "\n",
    "# DETAILS\n",
    "pagination_box = HBox([leftButton, rightButton, Label('Sample Nr.:'), generation_page_slider, refreshButton])\n",
    "play_buttons = HBox([input_play_button_container, gen_play_button_container, output_play_button_container])\n",
    "details_box = VBox([pagination_box, pianoroll_container, play_buttons, evaluation_container, meta_container], layout=main_layout)"
   ]
  },
  {
   "cell_type": "code",
   "execution_count": 7,
   "metadata": {},
   "outputs": [],
   "source": [
    "##########################\n",
    "#V#        TABS        ###\n",
    "##########################\n",
    "\n",
    "tabs = Tab()\n",
    "tabs.children = [summary_box, details_box]\n",
    "tabs.set_title(0, \"Summary\")\n",
    "tabs.set_title(1, \"Detailed Results\")"
   ]
  },
  {
   "cell_type": "code",
   "execution_count": 8,
   "metadata": {
    "scrolled": false
   },
   "outputs": [
    {
     "data": {
      "application/vnd.jupyter.widget-view+json": {
       "model_id": "be35f0596ecd445eb5ef9052de97ce82",
       "version_major": 2,
       "version_minor": 0
      },
      "text/plain": [
       "AppLayout(children=(Output(layout=Layout(grid_area='footer')), VBox(children=(HTML(value='<h2>Select an entry …"
      ]
     },
     "metadata": {},
     "output_type": "display_data"
    }
   ],
   "source": [
    "##########################\n",
    "#V#     APP LAYOUT     ###\n",
    "##########################\n",
    "\n",
    "AppLayout(left_sidebar=settings_box,\n",
    "          center=tabs,\n",
    "          header=None,\n",
    "          footer=log,\n",
    "          right_sidebar=None,\n",
    "          pane_widths=[1,2,0],\n",
    "          pane_heights=[0,4,'200px'])"
   ]
  },
  {
   "cell_type": "code",
   "execution_count": 9,
   "metadata": {},
   "outputs": [],
   "source": [
    "# display_details(None)"
   ]
  },
  {
   "cell_type": "code",
   "execution_count": 10,
   "metadata": {
    "tags": []
   },
   "outputs": [],
   "source": [
    "# run_explore(showButton)"
   ]
  },
  {
   "cell_type": "code",
   "execution_count": null,
   "metadata": {},
   "outputs": [],
   "source": []
  }
 ],
 "metadata": {
  "kernelspec": {
   "display_name": "mpro",
   "language": "python",
   "name": "mpro"
  },
  "language_info": {
   "codemirror_mode": {
    "name": "ipython",
    "version": 3
   },
   "file_extension": ".py",
   "mimetype": "text/x-python",
   "name": "python",
   "nbconvert_exporter": "python",
   "pygments_lexer": "ipython3",
   "version": "3.7.9"
  }
 },
 "nbformat": 4,
 "nbformat_minor": 2
}
