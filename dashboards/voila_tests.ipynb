{
 "metadata": {
  "language_info": {
   "codemirror_mode": {
    "name": "ipython",
    "version": 3
   },
   "file_extension": ".py",
   "mimetype": "text/x-python",
   "name": "python",
   "nbconvert_exporter": "python",
   "pygments_lexer": "ipython3",
   "version": "3.7.9-final"
  },
  "orig_nbformat": 2,
  "kernelspec": {
   "name": "python379jvsc74a57bd075a9ca51cf2daeb22ff0ca8785d387c49ea4e2c8c6428abeae8aacce62ee187c",
   "display_name": "Python 3.7.9 64-bit ('mpro': conda)"
  }
 },
 "nbformat": 4,
 "nbformat_minor": 2,
 "cells": [
  {
   "cell_type": "code",
   "execution_count": 1,
   "metadata": {},
   "outputs": [
    {
     "output_type": "stream",
     "name": "stdout",
     "text": [
      "pygame 2.0.1 (SDL 2.0.14, Python 3.7.9)\n",
      "Hello from the pygame community. https://www.pygame.org/contribute.html\n",
      "C:\\Users\\Eric\\miniconda3\\envs\\mpro\\lib\\site-packages\\pydub\\utils.py:170: RuntimeWarning: Couldn't find ffmpeg or avconv - defaulting to ffmpeg, but may not work\n",
      "  warn(\"Couldn't find ffmpeg or avconv - defaulting to ffmpeg, but may not work\", RuntimeWarning)\n"
     ]
    }
   ],
   "source": [
    "from IPython.display import display\n",
    "import ipywidgets as widgets\n",
    "from ipywidgets import HBox, VBox, Label\n",
    "\n",
    "# append parent of cwd to sys path to find modules\n",
    "root_dir = os.path.join(os.getcwd(), '..')\n",
    "sys.path.append(root_dir)\n",
    "\n",
    "from src.io.plot import pianoroll, multitrack_pianoroll\n",
    "from src.io.output import play_button\n",
    "from src.io.input import loadMidiFile\n",
    "from visual_midi import Plotter\n",
    "\n",
    "output = widgets.Output()\n",
    "output2 = widgets.Output()"
   ]
  },
  {
   "cell_type": "code",
   "execution_count": 2,
   "metadata": {},
   "outputs": [],
   "source": [
    "def print_lol(b):\n",
    "    with output:\n",
    "        print('Lol')"
   ]
  },
  {
   "cell_type": "code",
   "execution_count": 3,
   "metadata": {},
   "outputs": [],
   "source": [
    "startButton = widgets.Button(\n",
    "    description='  RUN',\n",
    "    disabled=False,\n",
    "    button_style='success',\n",
    "    icon='play'\n",
    ")\n",
    "startButton.on_click(print_lol)\n",
    "\n",
    "heading = widgets.HTML(\n",
    "    value=\"<h2>Test Heading<h2>\",\n",
    "    placeholder='Test Heading',\n",
    ")"
   ]
  },
  {
   "cell_type": "code",
   "execution_count": 4,
   "metadata": {},
   "outputs": [
    {
     "output_type": "display_data",
     "data": {
      "text/plain": "Button(button_style='success', description='  RUN', icon='play', style=ButtonStyle())",
      "application/vnd.jupyter.widget-view+json": {
       "version_major": 2,
       "version_minor": 0,
       "model_id": "68b100fc6c084e848de338665f9315f1"
      }
     },
     "metadata": {}
    },
    {
     "output_type": "display_data",
     "data": {
      "text/plain": "HTML(value='<h2>Test Heading<h2>', placeholder='Test Heading')",
      "application/vnd.jupyter.widget-view+json": {
       "version_major": 2,
       "version_minor": 0,
       "model_id": "3b626d8e8769452bb52bce993d0f62f9"
      }
     },
     "metadata": {}
    },
    {
     "output_type": "display_data",
     "data": {
      "text/plain": "Output()",
      "application/vnd.jupyter.widget-view+json": {
       "version_major": 2,
       "version_minor": 0,
       "model_id": "23bbebfde1314293976daf364534c8d7"
      }
     },
     "metadata": {}
    },
    {
     "output_type": "display_data",
     "data": {
      "text/plain": "Output()",
      "application/vnd.jupyter.widget-view+json": {
       "version_major": 2,
       "version_minor": 0,
       "model_id": "3f2268ae28b04340825f5e06ee25d065"
      }
     },
     "metadata": {}
    }
   ],
   "source": [
    "display(startButton)\n",
    "display(heading)\n",
    "display(output)\n",
    "display(output2)"
   ]
  },
  {
   "cell_type": "code",
   "execution_count": 5,
   "metadata": {},
   "outputs": [
    {
     "output_type": "stream",
     "name": "stderr",
     "text": [
      "C:\\Users\\Eric\\miniconda3\\envs\\mpro\\lib\\site-packages\\pretty_midi\\pretty_midi.py:101: RuntimeWarning: Tempo, Key or Time signature change events found on non-zero tracks.  This is not a valid type 0 or type 1 MIDI file.  Tempo, Key or Time Signature may be wrong.\n  RuntimeWarning)\n"
     ]
    }
   ],
   "source": [
    "midi = loadMidiFile('../midi/examples/monophonic/twinkle1_4b.mid')\n",
    "midi2 = loadMidiFile('../midi/examples/monophonic/twinkle2_4b.mid')"
   ]
  },
  {
   "cell_type": "code",
   "execution_count": 6,
   "metadata": {},
   "outputs": [
    {
     "output_type": "stream",
     "name": "stdout",
     "text": [
      "midis [<pretty_midi.pretty_midi.PrettyMIDI object at 0x0000024AD2C45448>, <pretty_midi.pretty_midi.PrettyMIDI object at 0x0000024AD2C45408>]\nnames ['Input', 'Generation']\n"
     ]
    }
   ],
   "source": [
    "import pypianoroll\n",
    "%matplotlib widget\n",
    "\n",
    "with output:\n",
    "    output.clear_output()\n",
    "\n",
    "midi_list = [midi, midi2]\n",
    "name_list = ['Input', 'Generation']\n",
    "multitrack_pianoroll(midis=midi_list, names=name_list, out=output)\n",
    "play_button(midi, output, 'Hello')\n"
   ]
  },
  {
   "cell_type": "code",
   "execution_count": 7,
   "metadata": {},
   "outputs": [
    {
     "output_type": "display_data",
     "data": {
      "text/plain": "HTML(value='<h2>Hallo<h2>', placeholder='Hallo')",
      "application/vnd.jupyter.widget-view+json": {
       "version_major": 2,
       "version_minor": 0,
       "model_id": "3029c1affa674a219cfc66e67c9bc32b"
      }
     },
     "metadata": {}
    }
   ],
   "source": [
    "from dashboards.widgets import h2_heading\n",
    "\n",
    "display(h2_heading('Hallo'))"
   ]
  }
 ]
}