{
 "cells": [
  {
   "cell_type": "code",
   "execution_count": 1,
   "metadata": {},
   "outputs": [
    {
     "output_type": "stream",
     "name": "stderr",
     "text": [
      "C:\\Users\\Eric\\miniconda3\\envs\\mpro\\lib\\site-packages\\pydub\\utils.py:170: RuntimeWarning: Couldn't find ffmpeg or avconv - defaulting to ffmpeg, but may not work\n  warn(\"Couldn't find ffmpeg or avconv - defaulting to ffmpeg, but may not work\", RuntimeWarning)\n"
     ]
    }
   ],
   "source": [
    "# IMPORTS\n",
    "from ipywidgets import HBox, VBox, Label, Layout, AppLayout, Output\n",
    "from IPython.display import display\n",
    "import sys, os\n",
    "import yaml\n",
    "\n",
    "# append parent of cwd to sys path to find modules\n",
    "root_dir = os.path.join(os.getcwd(), '..')\n",
    "sys.path.append(root_dir)\n",
    "\n",
    "# surpress pygame version prompt\n",
    "os.environ['PYGAME_HIDE_SUPPORT_PROMPT'] = \"hide\"\n",
    "\n",
    "# enable matplotlib widgets\n",
    "%matplotlib widget\n",
    "\n",
    "from src.app_batch import AppBatch as App\n",
    "from src.datatypes.call_response_set import CallResponseSet\n",
    "from dashboards.widgets import inputHeading, inputSelect, inputUpload, generationHeading, checkpointSelect, tempSlider, generationInfo, adaptationHeading, stepsSelect, startButton, applyGenerationSettingsButton, applyAdaptationSettingsButton, generationAmount, adaptationAmount\n",
    "from dashboards.widgets import h2_heading \n",
    "\n",
    "from src.io.plot import multitrack_pianoroll, multi_evaluation_bars\n",
    "from src.io.output import play_button\n",
    "from src.io.input import loadMidiFile"
   ]
  },
  {
   "cell_type": "code",
   "execution_count": 2,
   "metadata": {},
   "outputs": [],
   "source": [
    "##########################\n",
    "#C#    OUTPUT & APP    ###\n",
    "##########################\n",
    "\n",
    "log = Output()\n",
    "output = Output()\n",
    "\n",
    "pianoroll_container = Output()\n",
    "play_button_container = Output()\n",
    "evaluation_container = Output()\n",
    "meta_l_container = Output()\n",
    "meta_m_container = Output()\n",
    "meta_r_container = Output()\n",
    "generation_info = Output()\n",
    "\n",
    "# init\n",
    "app = App(log=log)\n",
    "\n",
    "with generation_info:\n",
    "    display(generationInfo)"
   ]
  },
  {
   "cell_type": "code",
   "execution_count": 3,
   "metadata": {},
   "outputs": [],
   "source": [
    "##########################\n",
    "#M#   SELECTION DATA   ###\n",
    "##########################\n",
    "\n",
    "adaptation_operations = app.get_adaptation_operations()\n",
    "generators = app.get_generators()\n",
    "demo_melodies = app.get_demo_input()\n",
    "\n",
    "checkpointSelect.options = [(g[0], generators.index(g)) for g in generators]\n",
    "stepsSelect.options = adaptation_operations\n",
    "inputSelect.options = [(d[0], demo_melodies.index(d)) for d in demo_melodies]"
   ]
  },
  {
   "cell_type": "code",
   "execution_count": 4,
   "metadata": {},
   "outputs": [],
   "source": [
    "##########################\n",
    "#C#     CONTROLLER     ###\n",
    "##########################\n",
    "\n",
    "def apply_generator_settings(b):\n",
    "    generator = app.apply_generator_settings(checkpointSelect.value, tempSlider.value)\n",
    "    generation_info.clear_output()\n",
    "    with generation_info:\n",
    "        print('Using: ' + generator)\n",
    "\n",
    "def apply_adaptation_settings(b):\n",
    "    app.apply_adaptation_settings(stepsSelect.value)\n",
    "\n",
    "def run_adaptation(b):\n",
    "    # reset output containers\n",
    "    pianoroll_container.clear_output()\n",
    "    play_button_container.clear_output()\n",
    "    evaluation_container.clear_output()\n",
    "    meta_l_container.clear_output()\n",
    "    meta_m_container.clear_output()\n",
    "    meta_r_container.clear_output()\n",
    "\n",
    "    # TODO handle file upload\n",
    "    input_path = demo_melodies[inputSelect.value][1]\n",
    "    cr_set = app.run(input_path, generationAmount.value, adaptationAmount.value)\n",
    "\n",
    "    # create pianoroll plots from results and print them\n",
    "    midi_list = [cr_set.input_sequence.sequence, cr_set.generated_base_sequence.sequence, cr_set.output_sequence.sequence]\n",
    "    name_list = ['Input', 'Generation', 'Result']\n",
    "    multitrack_pianoroll(midi_list, name_list, pianoroll_container)\n",
    "\n",
    "    # display play buttons for audio\n",
    "    with play_button_container: \n",
    "        display(h2_heading('Input:'))\n",
    "    play_button(midi_list[0], play_button_container)\n",
    "    with play_button_container: \n",
    "        display(h2_heading('Generation:'))    \n",
    "    play_button(midi_list[1], play_button_container)\n",
    "    with play_button_container: \n",
    "        display(h2_heading('Adaptation:'))\n",
    "    play_button(midi_list[2], play_button_container)\n",
    "\n",
    "    # create evaluation plots\n",
    "    eval_data = [cr_set.generation_similarity['normalized'], cr_set.output_similarity['normalized']]\n",
    "    multi_evaluation_bars(eval_data, evaluation_container, ['Generated Sequence', 'Adapted Sequence'])\n",
    "\n",
    "    # print meta data\n",
    "    with meta_l_container:\n",
    "        print('Input Analysis:\\n', yaml.dump(cr_set.input_sequence.analysis, sort_keys=False, default_flow_style=False))\n",
    "    with meta_m_container:\n",
    "        print('Gen Analysis:\\n', yaml.dump(cr_set.output_sequence.analysis, sort_keys=False, default_flow_style=False))\n",
    "    with meta_r_container:\n",
    "        print('Adaptation Meta:\\n', yaml.dump(cr_set.output_sequence.meta, sort_keys=False, default_flow_style=False))\n",
    "\n",
    "\n",
    "startButton.on_click(run_adaptation)\n",
    "applyGenerationSettingsButton.on_click(apply_generator_settings)\n",
    "applyAdaptationSettingsButton.on_click(apply_adaptation_settings)"
   ]
  },
  {
   "cell_type": "code",
   "execution_count": 5,
   "metadata": {},
   "outputs": [],
   "source": [
    "##########################\n",
    "#V#  SETTINGS SIDEBAR  ###\n",
    "##########################\n",
    "\n",
    "side_bar_layout = Layout(border='1px solid grey', padding='10px')\n",
    "\n",
    "settings_box = VBox([\n",
    "        generationHeading,\n",
    "        HBox([Label('Model & Checkpoint:'), checkpointSelect]),\n",
    "        HBox([Label('Temperature:'), tempSlider]),\n",
    "        generation_info,\n",
    "        applyGenerationSettingsButton,\n",
    "        adaptationHeading,\n",
    "        HBox([Label('Steps:'), stepsSelect]),\n",
    "        applyAdaptationSettingsButton,\n",
    "        inputHeading,\n",
    "        inputSelect,\n",
    "        HBox([Label('Or upload own file:'), inputUpload]),\n",
    "        HBox([Label('Amount of generations:'), generationAmount]),\n",
    "        HBox([Label('Amount of adaptations per generation:'), adaptationAmount]),\n",
    "        startButton,\n",
    "    ], layout = side_bar_layout)"
   ]
  },
  {
   "cell_type": "code",
   "execution_count": 6,
   "metadata": {},
   "outputs": [],
   "source": [
    "##########################\n",
    "#V#    RESULTS AREA    ###\n",
    "##########################\n",
    "\n",
    "main_layout = Layout(border='1px solid grey', padding='10px')\n",
    "\n",
    "pianorolls = HBox([pianoroll_container, play_button_container])\n",
    "meta = HBox([meta_l_container, meta_m_container, meta_r_container])\n",
    "\n",
    "results_box = VBox([pianorolls, evaluation_container, meta, output], layout=main_layout)"
   ]
  },
  {
   "cell_type": "code",
   "execution_count": 7,
   "metadata": {},
   "outputs": [
    {
     "output_type": "display_data",
     "data": {
      "text/plain": "AppLayout(children=(Output(layout=Layout(grid_area='footer')), VBox(children=(HTML(value='<h2>Generation Setti…",
      "application/vnd.jupyter.widget-view+json": {
       "version_major": 2,
       "version_minor": 0,
       "model_id": "91d8c283297445419bc0432b74b47aa5"
      }
     },
     "metadata": {}
    }
   ],
   "source": [
    "##########################\n",
    "#V#     APP LAYOUT     ###\n",
    "##########################\n",
    "\n",
    "AppLayout(left_sidebar=settings_box,\n",
    "          center=results_box,\n",
    "          header=None,\n",
    "          footer=log,\n",
    "          right_sidebar=None,\n",
    "          pane_widths=[1,2,0],\n",
    "          pane_heights=[0,4,1])"
   ]
  },
  {
   "cell_type": "code",
   "execution_count": 9,
   "metadata": {},
   "outputs": [
    {
     "output_type": "error",
     "ename": "TypeError",
     "evalue": "only integer scalar arrays can be converted to a scalar index",
     "traceback": [
      "\u001b[1;31m---------------------------------------------------------------------------\u001b[0m",
      "\u001b[1;31mTypeError\u001b[0m                                 Traceback (most recent call last)",
      "\u001b[1;32m<ipython-input-9-7e94a127fb18>\u001b[0m in \u001b[0;36m<module>\u001b[1;34m\u001b[0m\n\u001b[1;32m----> 1\u001b[1;33m \u001b[0mrun_adaptation\u001b[0m\u001b[1;33m(\u001b[0m\u001b[0mstartButton\u001b[0m\u001b[1;33m)\u001b[0m\u001b[1;33m\u001b[0m\u001b[1;33m\u001b[0m\u001b[0m\n\u001b[0m",
      "\u001b[1;32m<ipython-input-4-d738fe89803f>\u001b[0m in \u001b[0;36mrun_adaptation\u001b[1;34m(b)\u001b[0m\n\u001b[0;32m     23\u001b[0m     \u001b[1;31m# TODO handle file upload\u001b[0m\u001b[1;33m\u001b[0m\u001b[1;33m\u001b[0m\u001b[1;33m\u001b[0m\u001b[0m\n\u001b[0;32m     24\u001b[0m     \u001b[0minput_path\u001b[0m \u001b[1;33m=\u001b[0m \u001b[0mdemo_melodies\u001b[0m\u001b[1;33m[\u001b[0m\u001b[0minputSelect\u001b[0m\u001b[1;33m.\u001b[0m\u001b[0mvalue\u001b[0m\u001b[1;33m]\u001b[0m\u001b[1;33m[\u001b[0m\u001b[1;36m1\u001b[0m\u001b[1;33m]\u001b[0m\u001b[1;33m\u001b[0m\u001b[1;33m\u001b[0m\u001b[0m\n\u001b[1;32m---> 25\u001b[1;33m     \u001b[0mcr_set\u001b[0m \u001b[1;33m=\u001b[0m \u001b[0mapp\u001b[0m\u001b[1;33m.\u001b[0m\u001b[0mrun\u001b[0m\u001b[1;33m(\u001b[0m\u001b[0minput_path\u001b[0m\u001b[1;33m,\u001b[0m \u001b[0mgenerationAmount\u001b[0m\u001b[1;33m.\u001b[0m\u001b[0mvalue\u001b[0m\u001b[1;33m,\u001b[0m \u001b[0madaptationAmount\u001b[0m\u001b[1;33m.\u001b[0m\u001b[0mvalue\u001b[0m\u001b[1;33m)\u001b[0m\u001b[1;33m\u001b[0m\u001b[1;33m\u001b[0m\u001b[0m\n\u001b[0m\u001b[0;32m     26\u001b[0m \u001b[1;33m\u001b[0m\u001b[0m\n\u001b[0;32m     27\u001b[0m     \u001b[1;31m# create pianoroll plots from results and print them\u001b[0m\u001b[1;33m\u001b[0m\u001b[1;33m\u001b[0m\u001b[1;33m\u001b[0m\u001b[0m\n",
      "\u001b[1;32md:\\FH\\Masterarbeit\\Project\\dashboards\\..\\src\\app_batch.py\u001b[0m in \u001b[0;36mrun\u001b[1;34m(self, input_file_path, generation_amount, adaptation_amount, store_results)\u001b[0m\n\u001b[0;32m    129\u001b[0m \u001b[1;33m\u001b[0m\u001b[0m\n\u001b[0;32m    130\u001b[0m             \u001b[1;31m# evaluate adaptation variance (intra set distance)\u001b[0m\u001b[1;33m\u001b[0m\u001b[1;33m\u001b[0m\u001b[1;33m\u001b[0m\u001b[0m\n\u001b[1;32m--> 131\u001b[1;33m             \u001b[0madaptation_variance\u001b[0m \u001b[1;33m=\u001b[0m \u001b[0mself\u001b[0m\u001b[1;33m.\u001b[0m\u001b[0mevaluation\u001b[0m\u001b[1;33m.\u001b[0m\u001b[0mevaluate_variance\u001b[0m\u001b[1;33m(\u001b[0m\u001b[1;33m[\u001b[0m\u001b[0mcr_set\u001b[0m\u001b[1;33m.\u001b[0m\u001b[0moutput_sequence\u001b[0m\u001b[1;33m.\u001b[0m\u001b[0msequence\u001b[0m \u001b[1;32mfor\u001b[0m \u001b[0mcr_set\u001b[0m \u001b[1;32min\u001b[0m \u001b[0madaptations\u001b[0m\u001b[1;33m]\u001b[0m\u001b[1;33m)\u001b[0m\u001b[1;33m\u001b[0m\u001b[1;33m\u001b[0m\u001b[0m\n\u001b[0m\u001b[0;32m    132\u001b[0m \u001b[1;33m\u001b[0m\u001b[0m\n\u001b[0;32m    133\u001b[0m             \u001b[1;31m# TEST calculate average similarity values for adaptations set\u001b[0m\u001b[1;33m\u001b[0m\u001b[1;33m\u001b[0m\u001b[1;33m\u001b[0m\u001b[0m\n",
      "\u001b[1;32md:\\FH\\Masterarbeit\\Project\\dashboards\\..\\src\\evaluation\\evaluation.py\u001b[0m in \u001b[0;36mevaluate_variance\u001b[1;34m(self, sequences)\u001b[0m\n\u001b[0;32m     31\u001b[0m             \u001b[0mevals\u001b[0m\u001b[1;33m.\u001b[0m\u001b[0mappend\u001b[0m\u001b[1;33m(\u001b[0m\u001b[0manalyze_pretty_midi\u001b[0m\u001b[1;33m(\u001b[0m\u001b[0ms\u001b[0m\u001b[1;33m)\u001b[0m\u001b[1;33m)\u001b[0m\u001b[1;33m\u001b[0m\u001b[1;33m\u001b[0m\u001b[0m\n\u001b[0;32m     32\u001b[0m \u001b[1;33m\u001b[0m\u001b[0m\n\u001b[1;32m---> 33\u001b[1;33m         \u001b[1;32mreturn\u001b[0m \u001b[0mcalc_intra_set_distances\u001b[0m\u001b[1;33m(\u001b[0m\u001b[0mevals\u001b[0m\u001b[1;33m)\u001b[0m\u001b[1;33m\u001b[0m\u001b[1;33m\u001b[0m\u001b[0m\n\u001b[0m\u001b[0;32m     34\u001b[0m \u001b[1;33m\u001b[0m\u001b[0m\n\u001b[0;32m     35\u001b[0m \u001b[1;33m\u001b[0m\u001b[0m\n",
      "\u001b[1;32md:\\FH\\Masterarbeit\\Project\\dashboards\\..\\src\\evaluation\\mgeval.py\u001b[0m in \u001b[0;36mcalc_intra_set_distances\u001b[1;34m(set_of_sequences)\u001b[0m\n\u001b[0;32m     91\u001b[0m     \u001b[1;32mfor\u001b[0m \u001b[0mkey\u001b[0m \u001b[1;32min\u001b[0m \u001b[0mset_of_sequences\u001b[0m\u001b[1;33m[\u001b[0m\u001b[1;36m0\u001b[0m\u001b[1;33m]\u001b[0m\u001b[1;33m:\u001b[0m\u001b[1;33m\u001b[0m\u001b[1;33m\u001b[0m\u001b[0m\n\u001b[0;32m     92\u001b[0m         \u001b[1;32mfor\u001b[0m \u001b[0mtrain_index\u001b[0m\u001b[1;33m,\u001b[0m \u001b[0mtest_index\u001b[0m \u001b[1;32min\u001b[0m \u001b[0mloo\u001b[0m\u001b[1;33m.\u001b[0m\u001b[0msplit\u001b[0m\u001b[1;33m(\u001b[0m\u001b[0mnp\u001b[0m\u001b[1;33m.\u001b[0m\u001b[0marange\u001b[0m\u001b[1;33m(\u001b[0m\u001b[0mlen\u001b[0m\u001b[1;33m(\u001b[0m\u001b[0mset_of_sequences\u001b[0m\u001b[1;33m)\u001b[0m\u001b[1;33m)\u001b[0m\u001b[1;33m)\u001b[0m\u001b[1;33m:\u001b[0m\u001b[1;33m\u001b[0m\u001b[1;33m\u001b[0m\u001b[0m\n\u001b[1;32m---> 93\u001b[1;33m             \u001b[0mx\u001b[0m \u001b[1;33m=\u001b[0m \u001b[0mutils\u001b[0m\u001b[1;33m.\u001b[0m\u001b[0mc_dist\u001b[0m\u001b[1;33m(\u001b[0m\u001b[0mset_of_sequences\u001b[0m\u001b[1;33m[\u001b[0m\u001b[0mtest_index\u001b[0m\u001b[1;33m]\u001b[0m\u001b[1;33m[\u001b[0m\u001b[0mkey\u001b[0m\u001b[1;33m]\u001b[0m\u001b[1;33m,\u001b[0m \u001b[0mset_of_sequences\u001b[0m\u001b[1;33m[\u001b[0m\u001b[0mtrain_index\u001b[0m\u001b[1;33m]\u001b[0m\u001b[1;33m[\u001b[0m\u001b[0mkey\u001b[0m\u001b[1;33m]\u001b[0m\u001b[1;33m)\u001b[0m\u001b[1;33m\u001b[0m\u001b[1;33m\u001b[0m\u001b[0m\n\u001b[0m\u001b[0;32m     94\u001b[0m             \u001b[0mintra_set_distances\u001b[0m\u001b[1;33m[\u001b[0m\u001b[0mtest_index\u001b[0m\u001b[1;33m[\u001b[0m\u001b[1;36m0\u001b[0m\u001b[1;33m]\u001b[0m\u001b[1;33m]\u001b[0m\u001b[1;33m[\u001b[0m\u001b[0mi\u001b[0m\u001b[1;33m]\u001b[0m \u001b[1;33m=\u001b[0m \u001b[0mx\u001b[0m\u001b[1;33m\u001b[0m\u001b[1;33m\u001b[0m\u001b[0m\n\u001b[0;32m     95\u001b[0m         \u001b[0mi\u001b[0m \u001b[1;33m+=\u001b[0m \u001b[0mi\u001b[0m\u001b[1;33m\u001b[0m\u001b[1;33m\u001b[0m\u001b[0m\n",
      "\u001b[1;31mTypeError\u001b[0m: only integer scalar arrays can be converted to a scalar index"
     ]
    }
   ],
   "source": [
    "run_adaptation(startButton)"
   ]
  }
 ],
 "metadata": {
  "kernelspec": {
   "display_name": "mpro",
   "language": "python",
   "name": "mpro"
  },
  "language_info": {
   "codemirror_mode": {
    "name": "ipython",
    "version": 3
   },
   "file_extension": ".py",
   "mimetype": "text/x-python",
   "name": "python",
   "nbconvert_exporter": "python",
   "pygments_lexer": "ipython3",
   "version": "3.7.9"
  }
 },
 "nbformat": 4,
 "nbformat_minor": 2
}