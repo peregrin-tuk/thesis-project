{
 "cells": [
  {
   "cell_type": "code",
   "execution_count": 1,
   "metadata": {},
   "outputs": [
    {
     "output_type": "stream",
     "name": "stderr",
     "text": [
      "C:\\Users\\Eric\\miniconda3\\envs\\mpro\\lib\\site-packages\\pydub\\utils.py:170: RuntimeWarning: Couldn't find ffmpeg or avconv - defaulting to ffmpeg, but may not work\n  warn(\"Couldn't find ffmpeg or avconv - defaulting to ffmpeg, but may not work\", RuntimeWarning)\n"
     ]
    }
   ],
   "source": [
    "# IMPORTS\n",
    "from ipywidgets import HBox, VBox, Label, Layout, AppLayout, Output, Tab, Text\n",
    "from IPython.display import display\n",
    "import sys, os\n",
    "import yaml\n",
    "from pprint import pprint\n",
    "\n",
    "# append parent of cwd to sys path to find modules\n",
    "root_dir = os.path.join(os.getcwd(), '..')\n",
    "sys.path.append(root_dir)\n",
    "\n",
    "# surpress pygame version prompt\n",
    "os.environ['PYGAME_HIDE_SUPPORT_PROMPT'] = \"hide\"\n",
    "\n",
    "# enable matplotlib widgets\n",
    "%matplotlib widget\n",
    "\n",
    "from src.app_batch import AppBatch as App\n",
    "from src.datatypes.call_response_set import CallResponseSet\n",
    "from src.io.plot import multitrack_pianoroll, multi_evaluation_bars, two_multibar_plots\n",
    "from src.io.output import play_button\n",
    "from src.io.input import loadMidiFile\n",
    "\n",
    "# widget objects\n",
    "from dashboards.widgets import inputHeading, inputSelect, inputUpload, generationHeading, checkpointSelect, tempSlider, generationInfo, adaptationHeading, stepsSelect, startButton, applyGenerationSettingsButton, applyAdaptationSettingsButton, generationAmount, adaptationAmount, paginationSlider, refreshButton\n",
    "\n",
    "# widget functions\n",
    "from dashboards.widgets import h2_heading, bar_plot_group"
   ]
  },
  {
   "cell_type": "code",
   "execution_count": 2,
   "metadata": {},
   "outputs": [],
   "source": [
    "##########################\n",
    "#C#    OUTPUT & APP    ###\n",
    "##########################\n",
    "\n",
    "log = Output()\n",
    "\n",
    "summary_container = Output()\n",
    "pianoroll_container = Output()\n",
    "play_button_container = Output()\n",
    "evaluation_container = Output()\n",
    "meta_container = Output()\n",
    "generation_info = Output()\n",
    "\n",
    "# init\n",
    "app = App(log=log)\n",
    "\n",
    "with generation_info:\n",
    "    display(generationInfo)"
   ]
  },
  {
   "cell_type": "code",
   "execution_count": 3,
   "metadata": {},
   "outputs": [],
   "source": [
    "##########################\n",
    "#M#   SELECTION DATA   ###\n",
    "##########################\n",
    "\n",
    "adaptation_operations = app.get_adaptation_operations()\n",
    "generators = app.get_generators()\n",
    "demo_melodies = app.get_demo_input()\n",
    "\n",
    "checkpointSelect.options = [(g[0], generators.index(g)) for g in generators]\n",
    "stepsSelect.options = adaptation_operations\n",
    "inputSelect.options = [(d[0], demo_melodies.index(d)) for d in demo_melodies]\n",
    "\n",
    "generation_page_slider = paginationSlider(generationAmount.value, 'Generation')\n",
    "adaptation_page_slider = paginationSlider(adaptationAmount.value, 'Adaptation')"
   ]
  },
  {
   "cell_type": "code",
   "execution_count": 4,
   "metadata": {},
   "outputs": [],
   "source": [
    "##########################\n",
    "#C#     CONTROLLER     ###\n",
    "##########################\n",
    "\n",
    "def apply_generator_settings(b):\n",
    "    generator = app.apply_generator_settings(checkpointSelect.value, tempSlider.value)\n",
    "    generation_info.clear_output()\n",
    "    with generation_info:\n",
    "        print('Using: ' + generator)\n",
    "\n",
    "def apply_adaptation_settings(b):\n",
    "    app.apply_adaptation_settings(stepsSelect.value)\n",
    "\n",
    "result = None\n",
    "\n",
    "def run_adaptation(b):\n",
    "    # reset output containers\n",
    "    summary_container.clear_output()\n",
    "\n",
    "    # TODO handle file upload\n",
    "    input_path = demo_melodies[inputSelect.value][1]\n",
    "    result = app.run(input_path, generationAmount.value, adaptationAmount.value, False)\n",
    "    pprint(result)\n",
    "\n",
    "    # init pagination\n",
    "    generation_page_slider.max = generationAmount.value-1\n",
    "    adaptation_page_slider.max = adaptationAmount.value-1\n",
    "\n",
    "    with summary_container:\n",
    "        # TODO print metrics ? \n",
    "        pass\n",
    "\n",
    "    # create avg similarity plot\n",
    "    with summary_container: \n",
    "        display(h2_heading('Avg. Input-Similarity of all Generations/Adaptations (normalized):'))\n",
    "    sim_data = [result['generation_set_avg_similarity']['normalized'], result['adaptation_avg_similarity']['normalized']]\n",
    "    multi_evaluation_bars(sim_data, summary_container, ['Generations', 'Adaptations'])\n",
    "\n",
    "    # create avg variance plot\n",
    "    with summary_container: \n",
    "        display(h2_heading('Variance within Generations/Adaptations (normalized):'))\n",
    "    var_data = [result['generation_set_variance']['normalized'], result['adaptation_avg_variance']['normalized']]\n",
    "    multi_evaluation_bars(var_data, summary_container, ['Generations', 'Adaptations (avg.)'])\n",
    "\n",
    "    two_multibar_plots(sim_data, ['Generations', 'Adaptations'], 'Similarity', var_data, ['Generations', 'Adaptations (avg.)'], 'Variance', 'Average over all Generations/Adaptations', summary_container)\n",
    "\n",
    "    display_details()\n",
    "\n",
    "\n",
    "def display_details(b):\n",
    "    # reset output containers\n",
    "    pianoroll_container.clear_output()\n",
    "    play_button_container.clear_output()\n",
    "    evaluation_container.clear_output()\n",
    "    meta_container.clear_output()\n",
    "\n",
    "    if app.result is None:\n",
    "        with meta_container:\n",
    "            print('ERROR: No results available.')\n",
    "            return\n",
    "    \n",
    "    cr_set = app.result['generations'][generation_page_slider.value]['adaptations'][adaptation_page_slider.value]\n",
    "\n",
    "    # create pianoroll plots from results and print them\n",
    "    midi_list = [cr_set.input_sequence.sequence, cr_set.generated_base_sequence.sequence, cr_set.output_sequence.sequence]\n",
    "    name_list = ['Input', 'Generation', 'Result']\n",
    "    multitrack_pianoroll(midi_list, name_list, pianoroll_container)\n",
    "\n",
    "    # display play buttons for audio\n",
    "    with play_button_container: \n",
    "        display(h2_heading('Input:'))\n",
    "    play_button(midi_list[0], play_button_container)\n",
    "    with play_button_container: \n",
    "        display(h2_heading('Generation:'))    \n",
    "    play_button(midi_list[1], play_button_container)\n",
    "    with play_button_container: \n",
    "        display(h2_heading('Adaptation:'))\n",
    "    play_button(midi_list[2], play_button_container)\n",
    "\n",
    "    # create evaluation plots\n",
    "    eval_data = [cr_set.generation_similarity['normalized'], cr_set.output_similarity['normalized']]\n",
    "    multi_evaluation_bars(eval_data, evaluation_container, ['Generated Sequence', 'Adapted Sequence'])\n",
    "\n",
    "    # print meta data\n",
    "    with meta_container:\n",
    "        display(h2_heading('Input Analysis:'))\n",
    "        pprint(cr_set.input_sequence.analysis)\n",
    "        display(h2_heading('Generation Analysis:'))\n",
    "        pprint(cr_set.output_sequence.analysis)\n",
    "        display(h2_heading('Process Meta Data:'))\n",
    "        pprint(cr_set.output_sequence.meta)\n",
    "\n",
    "def reload_details(change):\n",
    "    display_details()\n",
    "\n",
    "\n",
    "# settings button click handlers\n",
    "startButton.on_click(run_adaptation)\n",
    "applyGenerationSettingsButton.on_click(apply_generator_settings)\n",
    "applyAdaptationSettingsButton.on_click(apply_adaptation_settings)\n",
    "\n",
    "# pagination event handlers\n",
    "refreshButton.on_click(display_details)\n",
    "generation_page_slider.observe(reload_details, names='value')\n",
    "adaptation_page_slider.observe(reload_details, names='value')"
   ]
  },
  {
   "cell_type": "code",
   "execution_count": 5,
   "metadata": {},
   "outputs": [],
   "source": [
    "##########################\n",
    "#V#  SETTINGS SIDEBAR  ###\n",
    "##########################\n",
    "\n",
    "side_bar_layout = Layout(border='1px solid grey', padding='10px')\n",
    "\n",
    "settings_box = VBox([\n",
    "        generationHeading,\n",
    "        HBox([Label('Model & Checkpoint:'), checkpointSelect]),\n",
    "        HBox([Label('Temperature:'), tempSlider]),\n",
    "        generation_info,\n",
    "        applyGenerationSettingsButton,\n",
    "        adaptationHeading,\n",
    "        HBox([Label('Steps:'), stepsSelect]),\n",
    "        applyAdaptationSettingsButton,\n",
    "        inputHeading,\n",
    "        inputSelect,\n",
    "        HBox([Label('Or upload own file:'), inputUpload]),\n",
    "        HBox([Label('Amount of generations:'), generationAmount]),\n",
    "        HBox([Label('Amount of adaptations per generation:'), adaptationAmount]),\n",
    "        startButton,\n",
    "    ], layout = side_bar_layout)"
   ]
  },
  {
   "cell_type": "code",
   "execution_count": 6,
   "metadata": {},
   "outputs": [],
   "source": [
    "##########################\n",
    "#V#    RESULTS AREA    ###\n",
    "##########################\n",
    "\n",
    "main_layout = Layout(padding='10px')\n",
    "\n",
    "# AVG & SUMMARY\n",
    "summary_box = summary_container\n",
    "\n",
    "# DETAILS\n",
    "pagination_box = HBox([generation_page_slider, adaptation_page_slider, refreshButton])\n",
    "pianorolls = HBox([pianoroll_container, play_button_container])\n",
    "details_box = VBox([pagination_box, pianorolls, evaluation_container, meta_container], layout=main_layout)"
   ]
  },
  {
   "cell_type": "code",
   "execution_count": 7,
   "metadata": {},
   "outputs": [],
   "source": [
    "##########################\n",
    "#V#        TABS        ###\n",
    "##########################\n",
    "\n",
    "tabs = Tab()\n",
    "tabs.children = [summary_box, details_box]\n",
    "tabs.set_title(0, \"Summary & Statistics\")\n",
    "tabs.set_title(1, \"Detailed Results\")"
   ]
  },
  {
   "cell_type": "code",
   "execution_count": 8,
   "metadata": {},
   "outputs": [
    {
     "output_type": "display_data",
     "data": {
      "text/plain": "AppLayout(children=(Output(layout=Layout(grid_area='footer')), VBox(children=(HTML(value='<h2>Generation Setti…",
      "application/vnd.jupyter.widget-view+json": {
       "version_major": 2,
       "version_minor": 0,
       "model_id": "5fce99781536460b9a95c393f5074657"
      }
     },
     "metadata": {}
    }
   ],
   "source": [
    "##########################\n",
    "#V#     APP LAYOUT     ###\n",
    "##########################\n",
    "\n",
    "AppLayout(left_sidebar=settings_box,\n",
    "          center=tabs,\n",
    "          header=None,\n",
    "          footer=log,\n",
    "          right_sidebar=None,\n",
    "          pane_widths=[1,2,0],\n",
    "          pane_heights=[0,4,1])"
   ]
  },
  {
   "cell_type": "code",
   "execution_count": 9,
   "metadata": {},
   "outputs": [
    {
     "output_type": "error",
     "ename": "TypeError",
     "evalue": "display_details() missing 1 required positional argument: 'b'",
     "traceback": [
      "\u001b[1;31m---------------------------------------------------------------------------\u001b[0m",
      "\u001b[1;31mTypeError\u001b[0m                                 Traceback (most recent call last)",
      "\u001b[1;32m<ipython-input-9-0aac0d79185a>\u001b[0m in \u001b[0;36m<module>\u001b[1;34m\u001b[0m\n\u001b[1;32m----> 1\u001b[1;33m \u001b[0mdisplay_details\u001b[0m\u001b[1;33m(\u001b[0m\u001b[1;33m)\u001b[0m\u001b[1;33m\u001b[0m\u001b[1;33m\u001b[0m\u001b[0m\n\u001b[0m",
      "\u001b[1;31mTypeError\u001b[0m: display_details() missing 1 required positional argument: 'b'"
     ]
    }
   ],
   "source": [
    "display_details()"
   ]
  },
  {
   "cell_type": "code",
   "execution_count": 10,
   "metadata": {
    "tags": []
   },
   "outputs": [
    {
     "output_type": "stream",
     "name": "stdout",
     "text": [
      "{'adaptation_avg_similarity': {'absolute': {'avg_ioi': 0.26014957264957267,\n                                            'avg_pitch_interval': 2.7403846153846154,\n                                            'note_count': 7.0,\n                                            'note_length_histogram': 0.4729990263764761,\n                                            'note_length_transition_matrix': 6.394838276111351,\n                                            'pitch_class_histogram': 0.5557254926585096,\n                                            'pitch_class_transition_matrix': 3.720759220056127,\n                                            'pitch_count': 2.3333333333333335,\n                                            'pitch_range': 4.666666666666667},\n                               'normalized': {'avg_ioi': 6.469462808387917,\n                                              'avg_pitch_interval': 6.850961538461537,\n                                              'note_count': 3.5,\n                                              'note_length_histogram': 2.3431518207244375,\n                                              'note_length_transition_matrix': 1.4670765161113335,\n                                              'pitch_class_histogram': 1.90030775947499,\n                                              'pitch_class_transition_matrix': 0.876991358558672,\n                                              'pitch_count': 2.3333333333333335,\n                                              'pitch_range': 2.3333333333333335}},\n 'adaptation_avg_variance': {'absolute': {'avg_ioi': 0.0,\n                                          'avg_pitch_interval': 0.0,\n                                          'note_count': 0.0,\n                                          'note_length_histogram': 0.0,\n                                          'note_length_transition_matrix': 0.0,\n                                          'pitch_class_histogram': 0.0,\n                                          'pitch_class_transition_matrix': 0.0,\n                                          'pitch_count': 0.0,\n                                          'pitch_range': 0.0},\n                             'normalized': {'avg_ioi': 0.0,\n                                            'avg_pitch_interval': 0.0,\n                                            'note_count': 0.0,\n                                            'note_length_histogram': 0.0,\n                                            'note_length_transition_matrix': 0.0,\n                                            'pitch_class_histogram': 0.0,\n                                            'pitch_class_transition_matrix': 0.0,\n                                            'pitch_count': 0.0,\n                                            'pitch_range': 0.0}},\n 'generation_set_avg_similarity': {'absolute': {'avg_ioi': 0.1920405982905983,\n                                                'avg_pitch_interval': 1.3931623931623933,\n                                                'note_count': 7.0,\n                                                'note_length_histogram': 0.5835427967287217,\n                                                'note_length_transition_matrix': 6.742918851774317,\n                                                'pitch_class_histogram': 0.6260726193486951,\n                                                'pitch_class_transition_matrix': 4.171206739515905,\n                                                'pitch_count': 1.6666666666666667,\n                                                'pitch_range': 4.666666666666667},\n                                   'normalized': {'avg_ioi': 4.775712278471162,\n                                                  'avg_pitch_interval': 3.482905982905983,\n                                                  'note_count': 3.5,\n                                                  'note_length_histogram': 2.890765710661802,\n                                                  'note_length_transition_matrix': 1.5469316768238857,\n                                                  'pitch_class_histogram': 2.14086032089631,\n                                                  'pitch_class_transition_matrix': 0.9831628570853774,\n                                                  'pitch_count': 1.6666666666666667,\n                                                  'pitch_range': 2.3333333333333335}},\n 'generation_set_variance': {'absolute': {'avg_ioi': 0.3541666666666667,\n                                          'avg_pitch_interval': 1.0555555555555556,\n                                          'note_count': 2.6666666666666665,\n                                          'note_length_histogram': 0.5539082818626907,\n                                          'note_length_transition_matrix': 4.09099715159309,\n                                          'pitch_class_histogram': 0.7279125424636135,\n                                          'pitch_class_transition_matrix': 3.4201306813486494,\n                                          'pitch_count': 2.0,\n                                          'pitch_range': 9.333333333333334},\n                             'normalized': {'avg_ioi': 8.807502755567121,\n                                            'avg_pitch_interval': 2.638888888888889,\n                                            'note_count': 1.3333333333333333,\n                                            'note_length_histogram': 2.7439616717685857,\n                                            'note_length_transition_matrix': 0.9385391138038642,\n                                            'pitch_class_histogram': 2.489102751154116,\n                                            'pitch_class_transition_matrix': 0.8061325324455968,\n                                            'pitch_count': 2.0,\n                                            'pitch_range': 4.666666666666667}},\n 'generations': [{'adaptation_set_avg_similarity': {'absolute': {'avg_ioi': 0.33653846153846156,\n                                                                 'avg_pitch_interval': 1.3653846153846154,\n                                                                 'note_count': 9.0,\n                                                                 'note_length_histogram': 0.33073819722257786,\n                                                                 'note_length_transition_matrix': 6.082762530298219,\n                                                                 'pitch_class_histogram': 0.6467181985312335,\n                                                                 'pitch_class_transition_matrix': 3.1622776601683795,\n                                                                 'pitch_count': 3.0,\n                                                                 'pitch_range': 0.0},\n                                                    'normalized': {'avg_ioi': 8.36912026547102,\n                                                                   'avg_pitch_interval': 3.4134615384615383,\n                                                                   'note_count': 4.5,\n                                                                   'note_length_histogram': 1.6384173450462378,\n                                                                   'note_length_transition_matrix': 1.3954814298617426,\n                                                                   'pitch_class_histogram': 2.211458043760792,\n                                                                   'pitch_class_transition_matrix': 0.7453559925033181,\n                                                                   'pitch_count': 3.0,\n                                                                   'pitch_range': 0.0}},\n                  'adaptation_set_variance': {'absolute': {'avg_ioi': 0.0,\n                                                           'avg_pitch_interval': 0.0,\n                                                           'note_count': 0.0,\n                                                           'note_length_histogram': 0.0,\n                                                           'note_length_transition_matrix': 0.0,\n                                                           'pitch_class_histogram': 0.0,\n                                                           'pitch_class_transition_matrix': 0.0,\n                                                           'pitch_count': 0.0,\n                                                           'pitch_range': 0.0},\n                                              'normalized': {'avg_ioi': 0.0,\n                                                             'avg_pitch_interval': 0.0,\n                                                             'note_count': 0.0,\n                                                             'note_length_histogram': 0.0,\n                                                             'note_length_transition_matrix': 0.0,\n                                                             'pitch_class_histogram': 0.0,\n                                                             'pitch_class_transition_matrix': 0.0,\n                                                             'pitch_count': 0.0,\n                                                             'pitch_range': 0.0}},\n                  'adaptations': [<src.datatypes.call_response_set.CallResponseSet object at 0x0000025A8F64E848>,\n                                  <src.datatypes.call_response_set.CallResponseSet object at 0x0000025A7E009D88>],\n                  'gen_data': <src.datatypes.melody_data.MelodyData object at 0x0000025A863257C8>},\n                 {'adaptation_set_avg_similarity': {'absolute': {'avg_ioi': 0.39903846153846156,\n                                                                 'avg_pitch_interval': 1.2403846153846154,\n                                                                 'note_count': 5.0,\n                                                                 'note_length_histogram': 0.7959248543399773,\n                                                                 'note_length_transition_matrix': 7.810249675906654,\n                                                                 'pitch_class_histogram': 0.4515949317302947,\n                                                                 'pitch_class_transition_matrix': 4.0,\n                                                                 'pitch_count': 1.0,\n                                                                 'pitch_range': 2.0},\n                                                    'normalized': {'avg_ioi': 9.923385457629925,\n                                                                   'avg_pitch_interval': 3.1009615384615383,\n                                                                   'note_count': 2.5,\n                                                                   'note_length_histogram': 3.9428680982572573,\n                                                                   'note_length_transition_matrix': 1.7917941611271617,\n                                                                   'pitch_class_histogram': 1.544232474924446,\n                                                                   'pitch_class_transition_matrix': 0.942809041586349,\n                                                                   'pitch_count': 1.0,\n                                                                   'pitch_range': 1.0}},\n                  'adaptation_set_variance': {'absolute': {'avg_ioi': 0.0,\n                                                           'avg_pitch_interval': 0.0,\n                                                           'note_count': 0.0,\n                                                           'note_length_histogram': 0.0,\n                                                           'note_length_transition_matrix': 0.0,\n                                                           'pitch_class_histogram': 0.0,\n                                                           'pitch_class_transition_matrix': 0.0,\n                                                           'pitch_count': 0.0,\n                                                           'pitch_range': 0.0},\n                                              'normalized': {'avg_ioi': 0.0,\n                                                             'avg_pitch_interval': 0.0,\n                                                             'note_count': 0.0,\n                                                             'note_length_histogram': 0.0,\n                                                             'note_length_transition_matrix': 0.0,\n                                                             'pitch_class_histogram': 0.0,\n                                                             'pitch_class_transition_matrix': 0.0,\n                                                             'pitch_count': 0.0,\n                                                             'pitch_range': 0.0}},\n                  'adaptations': [<src.datatypes.call_response_set.CallResponseSet object at 0x0000025A8F4C4548>,\n                                  <src.datatypes.call_response_set.CallResponseSet object at 0x0000025A8F2DACC8>],\n                  'gen_data': <src.datatypes.melody_data.MelodyData object at 0x0000025A8F0F5C48>},\n                 {'adaptation_set_avg_similarity': {'absolute': {'avg_ioi': 0.044871794871794934,\n                                                                 'avg_pitch_interval': 5.615384615384615,\n                                                                 'note_count': 7.0,\n                                                                 'note_length_histogram': 0.2923340275668732,\n                                                                 'note_length_transition_matrix': 5.291502622129181,\n                                                                 'pitch_class_histogram': 0.5688633477140006,\n                                                                 'pitch_class_transition_matrix': 4.0,\n                                                                 'pitch_count': 3.0,\n                                                                 'pitch_range': 12.0},\n                                                    'normalized': {'avg_ioi': 1.1158827020628042,\n                                                                   'avg_pitch_interval': 14.038461538461537,\n                                                                   'note_count': 3.5,\n                                                                   'note_length_histogram': 1.4481700188698179,\n                                                                   'note_length_transition_matrix': 1.2139539573450957,\n                                                                   'pitch_class_histogram': 1.9452327597397316,\n                                                                   'pitch_class_transition_matrix': 0.942809041586349,\n                                                                   'pitch_count': 3.0,\n                                                                   'pitch_range': 6.0}},\n                  'adaptation_set_variance': {'absolute': {'avg_ioi': 0.0,\n                                                           'avg_pitch_interval': 0.0,\n                                                           'note_count': 0.0,\n                                                           'note_length_histogram': 0.0,\n                                                           'note_length_transition_matrix': 0.0,\n                                                           'pitch_class_histogram': 0.0,\n                                                           'pitch_class_transition_matrix': 0.0,\n                                                           'pitch_count': 0.0,\n                                                           'pitch_range': 0.0},\n                                              'normalized': {'avg_ioi': 0.0,\n                                                             'avg_pitch_interval': 0.0,\n                                                             'note_count': 0.0,\n                                                             'note_length_histogram': 0.0,\n                                                             'note_length_transition_matrix': 0.0,\n                                                             'pitch_class_histogram': 0.0,\n                                                             'pitch_class_transition_matrix': 0.0,\n                                                             'pitch_count': 0.0,\n                                                             'pitch_range': 0.0}},\n                  'adaptations': [<src.datatypes.call_response_set.CallResponseSet object at 0x0000025A8F12D988>,\n                                  <src.datatypes.call_response_set.CallResponseSet object at 0x0000025A8F299648>],\n                  'gen_data': <src.datatypes.melody_data.MelodyData object at 0x0000025A8F2E2448>}]}\n"
     ]
    },
    {
     "output_type": "display_data",
     "data": {
      "text/plain": "HTML(value='<h2>Variance within Generations/Adaptations (normalized):<h2>', placeholder='Variance within Gener…",
      "application/vnd.jupyter.widget-view+json": {
       "version_major": 2,
       "version_minor": 0,
       "model_id": "39e67b1c0abb4059b5aca92da1e66614"
      }
     },
     "metadata": {}
    },
    {
     "output_type": "error",
     "ename": "ValueError",
     "evalue": "\n    Invalid element(s) received for the 'data' property of \n        Invalid elements include: [Figure({\n    'data': [], 'layout': {'barmode': 'group', 'template': '...'}\n})]\n\n    The 'data' property is a tuple of trace instances\n    that may be specified as:\n      - A list or tuple of trace instances\n        (e.g. [Scatter(...), Bar(...)])\n      - A single trace instance\n        (e.g. Scatter(...), Bar(...), etc.)\n      - A list or tuple of dicts of string/value properties where:\n        - The 'type' property specifies the trace type\n            One of: ['area', 'bar', 'barpolar', 'box',\n                     'candlestick', 'carpet', 'choropleth',\n                     'choroplethmapbox', 'cone', 'contour',\n                     'contourcarpet', 'densitymapbox', 'funnel',\n                     'funnelarea', 'heatmap', 'heatmapgl',\n                     'histogram', 'histogram2d',\n                     'histogram2dcontour', 'image', 'indicator',\n                     'isosurface', 'mesh3d', 'ohlc', 'parcats',\n                     'parcoords', 'pie', 'pointcloud', 'sankey',\n                     'scatter', 'scatter3d', 'scattercarpet',\n                     'scattergeo', 'scattergl', 'scattermapbox',\n                     'scatterpolar', 'scatterpolargl',\n                     'scatterternary', 'splom', 'streamtube',\n                     'sunburst', 'surface', 'table', 'treemap',\n                     'violin', 'volume', 'waterfall']\n\n        - All remaining properties are passed to the constructor of\n          the specified trace type\n\n        (e.g. [{'type': 'scatter', ...}, {'type': 'bar, ...}])",
     "traceback": [
      "\u001b[1;31m---------------------------------------------------------------------------\u001b[0m",
      "\u001b[1;31mValueError\u001b[0m                                Traceback (most recent call last)",
      "\u001b[1;32m<ipython-input-10-017c70bafb8d>\u001b[0m in \u001b[0;36m<module>\u001b[1;34m\u001b[0m\n\u001b[1;32m----> 1\u001b[1;33m \u001b[0mrun_adaptation\u001b[0m\u001b[1;33m(\u001b[0m\u001b[0mstartButton\u001b[0m\u001b[1;33m)\u001b[0m\u001b[1;33m\u001b[0m\u001b[1;33m\u001b[0m\u001b[0m\n\u001b[0m",
      "\u001b[1;32m<ipython-input-4-df0fb3ce4cdd>\u001b[0m in \u001b[0;36mrun_adaptation\u001b[1;34m(b)\u001b[0m\n\u001b[0;32m     43\u001b[0m     \u001b[0mmulti_evaluation_bars\u001b[0m\u001b[1;33m(\u001b[0m\u001b[0mvar_data\u001b[0m\u001b[1;33m,\u001b[0m \u001b[0msummary_container\u001b[0m\u001b[1;33m,\u001b[0m \u001b[1;33m[\u001b[0m\u001b[1;34m'Generations'\u001b[0m\u001b[1;33m,\u001b[0m \u001b[1;34m'Adaptations (avg.)'\u001b[0m\u001b[1;33m]\u001b[0m\u001b[1;33m)\u001b[0m\u001b[1;33m\u001b[0m\u001b[1;33m\u001b[0m\u001b[0m\n\u001b[0;32m     44\u001b[0m \u001b[1;33m\u001b[0m\u001b[0m\n\u001b[1;32m---> 45\u001b[1;33m     \u001b[0mtwo_multibar_plots\u001b[0m\u001b[1;33m(\u001b[0m\u001b[0msim_data\u001b[0m\u001b[1;33m,\u001b[0m \u001b[1;33m[\u001b[0m\u001b[1;34m'Generations'\u001b[0m\u001b[1;33m,\u001b[0m \u001b[1;34m'Adaptations'\u001b[0m\u001b[1;33m]\u001b[0m\u001b[1;33m,\u001b[0m \u001b[1;34m'Similarity'\u001b[0m\u001b[1;33m,\u001b[0m \u001b[0mvar_data\u001b[0m\u001b[1;33m,\u001b[0m \u001b[1;33m[\u001b[0m\u001b[1;34m'Generations'\u001b[0m\u001b[1;33m,\u001b[0m \u001b[1;34m'Adaptations (avg.)'\u001b[0m\u001b[1;33m]\u001b[0m\u001b[1;33m,\u001b[0m \u001b[1;34m'Variance'\u001b[0m\u001b[1;33m,\u001b[0m \u001b[1;34m'Average over all Generations/Adaptations'\u001b[0m\u001b[1;33m,\u001b[0m \u001b[0msummary_container\u001b[0m\u001b[1;33m)\u001b[0m\u001b[1;33m\u001b[0m\u001b[1;33m\u001b[0m\u001b[0m\n\u001b[0m\u001b[0;32m     46\u001b[0m \u001b[1;33m\u001b[0m\u001b[0m\n\u001b[0;32m     47\u001b[0m     \u001b[0mdisplay_details\u001b[0m\u001b[1;33m(\u001b[0m\u001b[1;33m)\u001b[0m\u001b[1;33m\u001b[0m\u001b[1;33m\u001b[0m\u001b[0m\n",
      "\u001b[1;32md:\\FH\\Masterarbeit\\Project\\dashboards\\..\\src\\io\\plot.py\u001b[0m in \u001b[0;36mtwo_multibar_plots\u001b[1;34m(left_data, left_names, left_title, right_data, right_names, right_title, headline, out)\u001b[0m\n\u001b[0;32m    116\u001b[0m     fig.add_trace(\n\u001b[0;32m    117\u001b[0m         \u001b[0mleft_fig\u001b[0m\u001b[1;33m,\u001b[0m\u001b[1;33m\u001b[0m\u001b[1;33m\u001b[0m\u001b[0m\n\u001b[1;32m--> 118\u001b[1;33m         \u001b[0mrow\u001b[0m\u001b[1;33m=\u001b[0m\u001b[1;36m1\u001b[0m\u001b[1;33m,\u001b[0m \u001b[0mcol\u001b[0m\u001b[1;33m=\u001b[0m\u001b[1;36m1\u001b[0m\u001b[1;33m\u001b[0m\u001b[1;33m\u001b[0m\u001b[0m\n\u001b[0m\u001b[0;32m    119\u001b[0m     )\n\u001b[0;32m    120\u001b[0m \u001b[1;33m\u001b[0m\u001b[0m\n",
      "\u001b[1;32m~\\miniconda3\\envs\\mpro\\lib\\site-packages\\plotly\\basedatatypes.py\u001b[0m in \u001b[0;36madd_trace\u001b[1;34m(self, trace, row, col, secondary_y, exclude_empty_subplots)\u001b[0m\n\u001b[0;32m   2102\u001b[0m             \u001b[0mcols\u001b[0m\u001b[1;33m=\u001b[0m\u001b[1;33m[\u001b[0m\u001b[0mcol\u001b[0m\u001b[1;33m]\u001b[0m \u001b[1;32mif\u001b[0m \u001b[0mcol\u001b[0m \u001b[1;32mis\u001b[0m \u001b[1;32mnot\u001b[0m \u001b[1;32mNone\u001b[0m \u001b[1;32melse\u001b[0m \u001b[1;32mNone\u001b[0m\u001b[1;33m,\u001b[0m\u001b[1;33m\u001b[0m\u001b[1;33m\u001b[0m\u001b[0m\n\u001b[0;32m   2103\u001b[0m             \u001b[0msecondary_ys\u001b[0m\u001b[1;33m=\u001b[0m\u001b[1;33m[\u001b[0m\u001b[0msecondary_y\u001b[0m\u001b[1;33m]\u001b[0m \u001b[1;32mif\u001b[0m \u001b[0msecondary_y\u001b[0m \u001b[1;32mis\u001b[0m \u001b[1;32mnot\u001b[0m \u001b[1;32mNone\u001b[0m \u001b[1;32melse\u001b[0m \u001b[1;32mNone\u001b[0m\u001b[1;33m,\u001b[0m\u001b[1;33m\u001b[0m\u001b[1;33m\u001b[0m\u001b[0m\n\u001b[1;32m-> 2104\u001b[1;33m             \u001b[0mexclude_empty_subplots\u001b[0m\u001b[1;33m=\u001b[0m\u001b[0mexclude_empty_subplots\u001b[0m\u001b[1;33m,\u001b[0m\u001b[1;33m\u001b[0m\u001b[1;33m\u001b[0m\u001b[0m\n\u001b[0m\u001b[0;32m   2105\u001b[0m         )\n\u001b[0;32m   2106\u001b[0m \u001b[1;33m\u001b[0m\u001b[0m\n",
      "\u001b[1;32m~\\miniconda3\\envs\\mpro\\lib\\site-packages\\plotly\\basedatatypes.py\u001b[0m in \u001b[0;36madd_traces\u001b[1;34m(self, data, rows, cols, secondary_ys, exclude_empty_subplots)\u001b[0m\n\u001b[0;32m   2181\u001b[0m \u001b[1;33m\u001b[0m\u001b[0m\n\u001b[0;32m   2182\u001b[0m         \u001b[1;31m# Validate traces\u001b[0m\u001b[1;33m\u001b[0m\u001b[1;33m\u001b[0m\u001b[1;33m\u001b[0m\u001b[0m\n\u001b[1;32m-> 2183\u001b[1;33m         \u001b[0mdata\u001b[0m \u001b[1;33m=\u001b[0m \u001b[0mself\u001b[0m\u001b[1;33m.\u001b[0m\u001b[0m_data_validator\u001b[0m\u001b[1;33m.\u001b[0m\u001b[0mvalidate_coerce\u001b[0m\u001b[1;33m(\u001b[0m\u001b[0mdata\u001b[0m\u001b[1;33m)\u001b[0m\u001b[1;33m\u001b[0m\u001b[1;33m\u001b[0m\u001b[0m\n\u001b[0m\u001b[0;32m   2184\u001b[0m \u001b[1;33m\u001b[0m\u001b[0m\n\u001b[0;32m   2185\u001b[0m         \u001b[1;31m# Set trace indexes\u001b[0m\u001b[1;33m\u001b[0m\u001b[1;33m\u001b[0m\u001b[1;33m\u001b[0m\u001b[0m\n",
      "\u001b[1;32m~\\miniconda3\\envs\\mpro\\lib\\site-packages\\_plotly_utils\\basevalidators.py\u001b[0m in \u001b[0;36mvalidate_coerce\u001b[1;34m(self, v, skip_invalid, _validate)\u001b[0m\n\u001b[0;32m   2675\u001b[0m \u001b[1;33m\u001b[0m\u001b[0m\n\u001b[0;32m   2676\u001b[0m             \u001b[1;32mif\u001b[0m \u001b[0minvalid_els\u001b[0m\u001b[1;33m:\u001b[0m\u001b[1;33m\u001b[0m\u001b[1;33m\u001b[0m\u001b[0m\n\u001b[1;32m-> 2677\u001b[1;33m                 \u001b[0mself\u001b[0m\u001b[1;33m.\u001b[0m\u001b[0mraise_invalid_elements\u001b[0m\u001b[1;33m(\u001b[0m\u001b[0minvalid_els\u001b[0m\u001b[1;33m)\u001b[0m\u001b[1;33m\u001b[0m\u001b[1;33m\u001b[0m\u001b[0m\n\u001b[0m\u001b[0;32m   2678\u001b[0m \u001b[1;33m\u001b[0m\u001b[0m\n\u001b[0;32m   2679\u001b[0m             \u001b[0mv\u001b[0m \u001b[1;33m=\u001b[0m \u001b[0mto_scalar_or_list\u001b[0m\u001b[1;33m(\u001b[0m\u001b[0mres\u001b[0m\u001b[1;33m)\u001b[0m\u001b[1;33m\u001b[0m\u001b[1;33m\u001b[0m\u001b[0m\n",
      "\u001b[1;32m~\\miniconda3\\envs\\mpro\\lib\\site-packages\\_plotly_utils\\basevalidators.py\u001b[0m in \u001b[0;36mraise_invalid_elements\u001b[1;34m(self, invalid_els)\u001b[0m\n\u001b[0;32m    300\u001b[0m                     \u001b[0mpname\u001b[0m\u001b[1;33m=\u001b[0m\u001b[0mself\u001b[0m\u001b[1;33m.\u001b[0m\u001b[0mparent_name\u001b[0m\u001b[1;33m,\u001b[0m\u001b[1;33m\u001b[0m\u001b[1;33m\u001b[0m\u001b[0m\n\u001b[0;32m    301\u001b[0m                     \u001b[0minvalid\u001b[0m\u001b[1;33m=\u001b[0m\u001b[0minvalid_els\u001b[0m\u001b[1;33m[\u001b[0m\u001b[1;33m:\u001b[0m\u001b[1;36m10\u001b[0m\u001b[1;33m]\u001b[0m\u001b[1;33m,\u001b[0m\u001b[1;33m\u001b[0m\u001b[1;33m\u001b[0m\u001b[0m\n\u001b[1;32m--> 302\u001b[1;33m                     \u001b[0mvalid_clr_desc\u001b[0m\u001b[1;33m=\u001b[0m\u001b[0mself\u001b[0m\u001b[1;33m.\u001b[0m\u001b[0mdescription\u001b[0m\u001b[1;33m(\u001b[0m\u001b[1;33m)\u001b[0m\u001b[1;33m,\u001b[0m\u001b[1;33m\u001b[0m\u001b[1;33m\u001b[0m\u001b[0m\n\u001b[0m\u001b[0;32m    303\u001b[0m                 )\n\u001b[0;32m    304\u001b[0m             )\n",
      "\u001b[1;31mValueError\u001b[0m: \n    Invalid element(s) received for the 'data' property of \n        Invalid elements include: [Figure({\n    'data': [], 'layout': {'barmode': 'group', 'template': '...'}\n})]\n\n    The 'data' property is a tuple of trace instances\n    that may be specified as:\n      - A list or tuple of trace instances\n        (e.g. [Scatter(...), Bar(...)])\n      - A single trace instance\n        (e.g. Scatter(...), Bar(...), etc.)\n      - A list or tuple of dicts of string/value properties where:\n        - The 'type' property specifies the trace type\n            One of: ['area', 'bar', 'barpolar', 'box',\n                     'candlestick', 'carpet', 'choropleth',\n                     'choroplethmapbox', 'cone', 'contour',\n                     'contourcarpet', 'densitymapbox', 'funnel',\n                     'funnelarea', 'heatmap', 'heatmapgl',\n                     'histogram', 'histogram2d',\n                     'histogram2dcontour', 'image', 'indicator',\n                     'isosurface', 'mesh3d', 'ohlc', 'parcats',\n                     'parcoords', 'pie', 'pointcloud', 'sankey',\n                     'scatter', 'scatter3d', 'scattercarpet',\n                     'scattergeo', 'scattergl', 'scattermapbox',\n                     'scatterpolar', 'scatterpolargl',\n                     'scatterternary', 'splom', 'streamtube',\n                     'sunburst', 'surface', 'table', 'treemap',\n                     'violin', 'volume', 'waterfall']\n\n        - All remaining properties are passed to the constructor of\n          the specified trace type\n\n        (e.g. [{'type': 'scatter', ...}, {'type': 'bar, ...}])"
     ]
    }
   ],
   "source": [
    "run_adaptation(startButton)  "
   ]
  }
 ],
 "metadata": {
  "kernelspec": {
   "display_name": "mpro",
   "language": "python",
   "name": "mpro"
  },
  "language_info": {
   "codemirror_mode": {
    "name": "ipython",
    "version": 3
   },
   "file_extension": ".py",
   "mimetype": "text/x-python",
   "name": "python",
   "nbconvert_exporter": "python",
   "pygments_lexer": "ipython3",
   "version": "3.7.9"
  }
 },
 "nbformat": 4,
 "nbformat_minor": 2
}