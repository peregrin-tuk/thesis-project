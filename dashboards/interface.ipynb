{
 "cells": [
  {
   "cell_type": "code",
   "execution_count": 1,
   "metadata": {},
   "outputs": [
    {
     "output_type": "stream",
     "name": "stderr",
     "text": [
      "C:\\Users\\Eric\\miniconda3\\envs\\mpro\\lib\\site-packages\\pydub\\utils.py:170: RuntimeWarning: Couldn't find ffmpeg or avconv - defaulting to ffmpeg, but may not work\n  warn(\"Couldn't find ffmpeg or avconv - defaulting to ffmpeg, but may not work\", RuntimeWarning)\n"
     ]
    }
   ],
   "source": [
    "# IMPORTS\n",
    "from ipywidgets import HBox, VBox, Label, Layout, AppLayout, Output\n",
    "from IPython.display import display\n",
    "import sys, os\n",
    "\n",
    "# append parent of cwd to sys path to find modules\n",
    "root_dir = os.path.join(os.getcwd(), '..')\n",
    "sys.path.append(root_dir)\n",
    "\n",
    "# surpress pygame version prompt\n",
    "os.environ['PYGAME_HIDE_SUPPORT_PROMPT'] = \"hide\"\n",
    "\n",
    "# enable matplotlib widgets\n",
    "%matplotlib widget\n",
    "\n",
    "from src.app import App\n",
    "from src.datatypes.call_response_set import CallResponseSet\n",
    "from dashboards.widgets import inputHeading, inputSelect, inputUpload, generationHeading, checkpointSelect, tempSlider, adaptationHeading, stepsSelect, startButton, applySettingsButton\n",
    "from dashboards.widgets import h2_heading \n",
    "\n",
    "from src.io.plot import multitrack_pianoroll\n",
    "from src.io.output import play_button\n",
    "from src.io.input import loadMidiFile"
   ]
  },
  {
   "cell_type": "code",
   "execution_count": 2,
   "metadata": {},
   "outputs": [],
   "source": [
    "##########################\n",
    "#C#    OUTPUT & APP    ###\n",
    "##########################\n",
    "\n",
    "log = Output()\n",
    "output = Output()\n",
    "\n",
    "pianoroll_container = Output()\n",
    "play_button_container = Output()\n",
    "meta_container = Output()\n",
    "\n",
    "# init\n",
    "app = App(log=log)"
   ]
  },
  {
   "cell_type": "code",
   "execution_count": 3,
   "metadata": {},
   "outputs": [],
   "source": [
    "##########################\n",
    "#M#   SELECTION DATA   ###\n",
    "##########################\n",
    "\n",
    "adaptation_operations = app.get_adaptation_operations()\n",
    "generators = app.get_generators()\n",
    "demo_melodies = app.get_demo_input()\n",
    "\n",
    "checkpointSelect.options = [(g[0], generators.index(g)) for g in generators]\n",
    "stepsSelect.options = adaptation_operations\n",
    "inputSelect.options = [(d[0], demo_melodies.index(d)) for d in demo_melodies]"
   ]
  },
  {
   "cell_type": "code",
   "execution_count": 4,
   "metadata": {},
   "outputs": [],
   "source": [
    "##########################\n",
    "#C#     CONTROLLER     ###\n",
    "##########################\n",
    "\n",
    "def apply_settings(b):\n",
    "    app.apply_settings(checkpointSelect.value, tempSlider.value, stepsSelect.value)\n",
    "    pass\n",
    "\n",
    "def run_adaptation(b):\n",
    "    # TODO handle file upload\n",
    "    input_path = demo_melodies[inputSelect.value][1]\n",
    "    cr_set = app.run(input_path)\n",
    "\n",
    "    # rest output containers\n",
    "    pianoroll_container.clear_output()\n",
    "    play_button_container.clear_output()\n",
    "\n",
    "    # create pianoroll plots from results and print them\n",
    "    midi_list = [cr_set.input_sequence.sequence, cr_set.generated_base_sequence.sequence, cr_set.output_sequence.sequence]\n",
    "    name_list = ['Input', 'Generation', 'Result']\n",
    "    multitrack_pianoroll(midi_list, name_list, pianoroll_container)\n",
    "\n",
    "    # display play buttons for audio\n",
    "    with play_button_container: \n",
    "        display(h2_heading('Input:'))\n",
    "    play_button(midi_list[0], play_button_container)\n",
    "    with play_button_container: \n",
    "        display(h2_heading('Generation:'))    \n",
    "    play_button(midi_list[1], play_button_container)\n",
    "    with play_button_container: \n",
    "        display(h2_heading('Adaptation:'))\n",
    "    play_button(midi_list[2], play_button_container)\n",
    "\n",
    "    # create evaluation plots\n",
    "\n",
    "    # print meta data\n",
    "    with meta_container:\n",
    "        print('Input Analysis', cr_set.input_sequence.analysis)\n",
    "        print('Gen Analysis', cr_set.output_sequence.analysis)\n",
    "        print('Gen Meta', cr_set.generated_base_sequence.meta)\n",
    "        print('Adaptation Meta', cr_set.output_sequence.meta)\n",
    "\n",
    "\n",
    "\n",
    "startButton.on_click(run_adaptation)\n",
    "applySettingsButton.on_click(apply_settings)"
   ]
  },
  {
   "cell_type": "code",
   "execution_count": 5,
   "metadata": {},
   "outputs": [],
   "source": [
    "##########################\n",
    "#V#  SETTINGS SIDEBAR  ###\n",
    "##########################\n",
    "\n",
    "side_bar_layout = Layout(border='1px solid grey', padding='10px')\n",
    "\n",
    "settings_box = VBox([\n",
    "        generationHeading,\n",
    "        HBox([Label('Model & Checkpoint:'), checkpointSelect]),\n",
    "        HBox([Label('Temperature:'), tempSlider]),\n",
    "        adaptationHeading,\n",
    "        HBox([Label('Steps:'), stepsSelect]),\n",
    "        applySettingsButton,\n",
    "        inputHeading,\n",
    "        inputSelect,\n",
    "        HBox([Label('Or upload own file:'), inputUpload]),\n",
    "        startButton,\n",
    "    ], layout = side_bar_layout)"
   ]
  },
  {
   "cell_type": "code",
   "execution_count": 6,
   "metadata": {},
   "outputs": [],
   "source": [
    "##########################\n",
    "#V#    RESULTS AREA    ###\n",
    "##########################\n",
    "\n",
    "main_layout = Layout(border='1px solid grey', padding='10px')\n",
    "\n",
    "pianorolls = HBox([pianoroll_container, play_button_container])\n",
    "\n",
    "results_box = VBox([pianorolls, meta_container, output], layout=main_layout)"
   ]
  },
  {
   "cell_type": "code",
   "execution_count": 7,
   "metadata": {},
   "outputs": [
    {
     "output_type": "display_data",
     "data": {
      "text/plain": "AppLayout(children=(Output(layout=Layout(grid_area='footer')), VBox(children=(HTML(value='<h2>Generation Setti…",
      "application/vnd.jupyter.widget-view+json": {
       "version_major": 2,
       "version_minor": 0,
       "model_id": "15eef3bd5aaa47c68848decb61a8986b"
      }
     },
     "metadata": {}
    }
   ],
   "source": [
    "##########################\n",
    "#V#     APP LAYOUT     ###\n",
    "##########################\n",
    "\n",
    "AppLayout(left_sidebar=settings_box,\n",
    "          center=results_box,\n",
    "          header=None,\n",
    "          footer=log,\n",
    "          right_sidebar=None,\n",
    "          pane_widths=[1,2,0],\n",
    "          pane_heights=[0,4,1])"
   ]
  },
  {
   "cell_type": "code",
   "execution_count": 9,
   "metadata": {},
   "outputs": [
    {
     "output_type": "stream",
     "name": "stdout",
     "text": [
      "midis [<pretty_midi.pretty_midi.PrettyMIDI object at 0x0000018130099708>, <pretty_midi.pretty_midi.PrettyMIDI object at 0x000001811D8EE488>, <pretty_midi.pretty_midi.PrettyMIDI object at 0x00000181300A0508>]\nnames ['Input', 'Generation', 'Result']\n"
     ]
    }
   ],
   "source": [
    "run_adaptation(startButton)"
   ]
  }
 ],
 "metadata": {
  "kernelspec": {
   "display_name": "mpro",
   "language": "python",
   "name": "mpro"
  },
  "language_info": {
   "codemirror_mode": {
    "name": "ipython",
    "version": 3
   },
   "file_extension": ".py",
   "mimetype": "text/x-python",
   "name": "python",
   "nbconvert_exporter": "python",
   "pygments_lexer": "ipython3",
   "version": "3.7.9-final"
  }
 },
 "nbformat": 4,
 "nbformat_minor": 2
}