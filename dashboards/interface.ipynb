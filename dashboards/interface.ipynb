{
 "cells": [
  {
   "cell_type": "code",
   "execution_count": 1,
   "metadata": {},
   "outputs": [
    {
     "name": "stderr",
     "output_type": "stream",
     "text": [
      "C:\\Users\\Eric\\miniconda3\\envs\\mpro\\lib\\site-packages\\pydub\\utils.py:170: RuntimeWarning: Couldn't find ffmpeg or avconv - defaulting to ffmpeg, but may not work\n",
      "  warn(\"Couldn't find ffmpeg or avconv - defaulting to ffmpeg, but may not work\", RuntimeWarning)\n"
     ]
    }
   ],
   "source": [
    "# IMPORTS\n",
    "from ipywidgets import HBox, VBox, Label, Layout, AppLayout, Output\n",
    "from IPython.display import display\n",
    "import sys, os\n",
    "\n",
    "# append parent of cwd to sys path to find modules\n",
    "root_dir = os.path.join(os.getcwd(), '..')\n",
    "sys.path.append(root_dir)\n",
    "\n",
    "# surpress pygame version prompt\n",
    "os.environ['PYGAME_HIDE_SUPPORT_PROMPT'] = \"hide\"\n",
    "\n",
    "from src.app import App\n",
    "from src.datatypes.call_response_set import CallResponseSet\n",
    "from dashboards.widgets import inputHeading, inputSelect, inputUpload, generationHeading, checkpointSelect, tempSlider, adaptationHeading, stepsSelect, startButton, applySettingsButton"
   ]
  },
  {
   "cell_type": "code",
   "execution_count": 2,
   "metadata": {},
   "outputs": [],
   "source": [
    "##########################\n",
    "#C#  OUTPUT INSTANCES  ###\n",
    "##########################\n",
    "\n",
    "log = Output()\n",
    "output = Output()"
   ]
  },
  {
   "cell_type": "code",
   "execution_count": 3,
   "metadata": {},
   "outputs": [],
   "source": [
    "##########################\n",
    "#C#     CONTROLLER     ###\n",
    "##########################\n",
    "\n",
    "\n",
    "# init\n",
    "app = App(log=log)\n",
    "\n",
    "def apply_settings(b):\n",
    "    # TODO get values from inputs\n",
    "    with log:\n",
    "        print(\"APPLYING SETTINGS ...\")\n",
    "    #app.apply_settings()\n",
    "\n",
    "def run_adaptation(b):\n",
    "    with log:\n",
    "        print(\"PROCESS STARTED ...\")\n",
    "\n",
    "    # run generation and adaptation by calling methods from app\n",
    "    # TODO get input sequence\n",
    "    #app.run()\n",
    "\n",
    "    # create plots from results and print them\n",
    "    with output:\n",
    "        output.clear_output()\n",
    "        print(\"TEST OUTPUT FOR RESULTS\")\n",
    "\n",
    "\n",
    "startButton.on_click(run_adaptation)\n",
    "applySettingsButton.on_click(apply_settings)"
   ]
  },
  {
   "cell_type": "code",
   "execution_count": 4,
   "metadata": {},
   "outputs": [],
   "source": [
    "##########################\n",
    "#M#   SELECTION DATA   ###\n",
    "##########################\n",
    "\n",
    "adaptation_operations = app.get_adaptation_operations()\n",
    "generators = app.get_generators()\n",
    "\n",
    "checkpointSelect.options = [(g[0], generators.index(g)) for g in generators]\n",
    "stepsSelect.options = adaptation_operations"
   ]
  },
  {
   "cell_type": "code",
   "execution_count": 5,
   "metadata": {},
   "outputs": [],
   "source": [
    "##########################\n",
    "#V#  SETTINGS SIDEBAR  ###\n",
    "##########################\n",
    "\n",
    "side_bar_layout = Layout(border='1px solid grey', padding='10px')\n",
    "\n",
    "settings_box = VBox([\n",
    "        generationHeading,\n",
    "        HBox([Label('Model & Checkpoint:'), checkpointSelect]),\n",
    "        HBox([Label('Temperature:'), tempSlider]),\n",
    "        adaptationHeading,\n",
    "        HBox([Label('Steps:'), stepsSelect]),\n",
    "        applySettingsButton,\n",
    "        inputHeading,\n",
    "        inputSelect,\n",
    "        HBox([Label('Or upload own file:'), inputUpload]),\n",
    "        startButton,\n",
    "    ], layout = side_bar_layout)"
   ]
  },
  {
   "cell_type": "code",
   "execution_count": 6,
   "metadata": {},
   "outputs": [],
   "source": [
    "##########################\n",
    "#V#    RESULTS AREA    ###\n",
    "##########################\n",
    "\n",
    "main_layout = Layout(border='1px solid grey', padding='10px')\n",
    "\n",
    "results_box = VBox([output], layout=main_layout)"
   ]
  },
  {
   "cell_type": "code",
   "execution_count": 7,
   "metadata": {},
   "outputs": [
    {
     "data": {
      "application/vnd.jupyter.widget-view+json": {
       "model_id": "a444dbda238b46d9a56b3797e2638af6",
       "version_major": 2,
       "version_minor": 0
      },
      "text/plain": [
       "AppLayout(children=(Output(layout=Layout(grid_area='footer')), VBox(children=(HTML(value='<h2>Generation Setti…"
      ]
     },
     "metadata": {},
     "output_type": "display_data"
    }
   ],
   "source": [
    "##########################\n",
    "#V#     APP LAYOUT     ###\n",
    "##########################\n",
    "\n",
    "AppLayout(left_sidebar=settings_box,\n",
    "          center=results_box,\n",
    "          header=None,\n",
    "          footer=log,\n",
    "          right_sidebar=None,\n",
    "          pane_widths=[1,2,0],\n",
    "          pane_heights=[0,4,1])"
   ]
  }
 ],
 "metadata": {
  "kernelspec": {
   "display_name": "mpro",
   "language": "python",
   "name": "mpro"
  },
  "language_info": {
   "codemirror_mode": {
    "name": "ipython",
    "version": 3
   },
   "file_extension": ".py",
   "mimetype": "text/x-python",
   "name": "python",
   "nbconvert_exporter": "python",
   "pygments_lexer": "ipython3",
   "version": "3.7.9"
  }
 },
 "nbformat": 4,
 "nbformat_minor": 2
}
