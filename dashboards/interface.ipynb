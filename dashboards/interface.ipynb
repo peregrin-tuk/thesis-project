{
 "cells": [
  {
   "cell_type": "code",
   "execution_count": 1,
   "metadata": {},
   "outputs": [
    {
     "name": "stderr",
     "output_type": "stream",
     "text": [
      "C:\\Users\\Eric\\miniconda3\\envs\\mpro\\lib\\site-packages\\pydub\\utils.py:170: RuntimeWarning: Couldn't find ffmpeg or avconv - defaulting to ffmpeg, but may not work\n",
      "  warn(\"Couldn't find ffmpeg or avconv - defaulting to ffmpeg, but may not work\", RuntimeWarning)\n"
     ]
    }
   ],
   "source": [
    "# IMPORTS\n",
    "from ipywidgets import HBox, VBox, Label, Layout, AppLayout, Output\n",
    "from IPython.display import display\n",
    "import sys, os\n",
    "\n",
    "# append parent of cwd to sys path to find modules\n",
    "root_dir = os.path.join(os.getcwd(), '..')\n",
    "sys.path.append(root_dir)\n",
    "\n",
    "# surpress pygame version prompt\n",
    "os.environ['PYGAME_HIDE_SUPPORT_PROMPT'] = \"hide\"\n",
    "\n",
    "from src.app import App\n",
    "from src.datatypes.call_response_set import CallResponseSet\n",
    "from dashboards.widgets import inputHeading, inputSelect, inputUpload, generationHeading, checkpointSelect, tempSlider, adaptationHeading, stepsSelect, startButton, applySettingsButton\n",
    "\n",
    "from src.io.plot import pianoRoll\n",
    "from src.io.input import loadMidiFile"
   ]
  },
  {
   "cell_type": "code",
   "execution_count": 2,
   "metadata": {},
   "outputs": [],
   "source": [
    "##########################\n",
    "#C#    OUTPUT & APP    ###\n",
    "##########################\n",
    "\n",
    "log = Output()\n",
    "output = Output()\n",
    "\n",
    "# init\n",
    "app = App(log=log)"
   ]
  },
  {
   "cell_type": "code",
   "execution_count": 3,
   "metadata": {},
   "outputs": [],
   "source": [
    "##########################\n",
    "#M#   SELECTION DATA   ###\n",
    "##########################\n",
    "\n",
    "adaptation_operations = app.get_adaptation_operations()\n",
    "generators = app.get_generators()\n",
    "demo_melodies = app.get_demo_input()\n",
    "\n",
    "checkpointSelect.options = [(g[0], generators.index(g)) for g in generators]\n",
    "stepsSelect.options = adaptation_operations\n",
    "inputSelect.options = [(d[0], demo_melodies.index(d)) for d in demo_melodies]"
   ]
  },
  {
   "cell_type": "code",
   "execution_count": 4,
   "metadata": {},
   "outputs": [],
   "source": [
    "### TEST & DEBUG ###\n",
    "\n",
    "midi = loadMidiFile('../midi/examples/monophonic/mii1_4b.mid')\n",
    "midi2 = loadMidiFile('../midi/examples/monophonic/mii2_4b.mid')\n",
    "midi3 = loadMidiFile('../midi/examples/monophonic/mii3_4b.mid')"
   ]
  },
  {
   "cell_type": "code",
   "execution_count": 5,
   "metadata": {},
   "outputs": [],
   "source": [
    "##########################\n",
    "#C#     CONTROLLER     ###\n",
    "##########################\n",
    "\n",
    "def apply_settings(b):\n",
    "    app.apply_settings(checkpointSelect.value, tempSlider.value, stepsSelect.value)\n",
    "    pass\n",
    "\n",
    "def run_adaptation(b):\n",
    "    # TODO handle file upload\n",
    "    input_path = demo_melodies[inputSelect.value][1]\n",
    "    # cr_set = app.run(input_path, False)\n",
    "\n",
    "    # create plots from results and print them\n",
    "    with output:\n",
    "        output.clear_output()\n",
    "        p1 = pianoRoll(midi)\n",
    "        p2 = pianoRoll(midi2)\n",
    "        p3 = pianoRoll(midi3)\n",
    "        HBox([p1, p2, p3])\n",
    "\n",
    "\n",
    "startButton.on_click(run_adaptation)\n",
    "applySettingsButton.on_click(apply_settings)"
   ]
  },
  {
   "cell_type": "code",
   "execution_count": 6,
   "metadata": {},
   "outputs": [],
   "source": [
    "##########################\n",
    "#V#  SETTINGS SIDEBAR  ###\n",
    "##########################\n",
    "\n",
    "side_bar_layout = Layout(border='1px solid grey', padding='10px')\n",
    "\n",
    "settings_box = VBox([\n",
    "        generationHeading,\n",
    "        HBox([Label('Model & Checkpoint:'), checkpointSelect]),\n",
    "        HBox([Label('Temperature:'), tempSlider]),\n",
    "        adaptationHeading,\n",
    "        HBox([Label('Steps:'), stepsSelect]),\n",
    "        applySettingsButton,\n",
    "        inputHeading,\n",
    "        inputSelect,\n",
    "        HBox([Label('Or upload own file:'), inputUpload]),\n",
    "        startButton,\n",
    "    ], layout = side_bar_layout)"
   ]
  },
  {
   "cell_type": "code",
   "execution_count": 7,
   "metadata": {},
   "outputs": [],
   "source": [
    "##########################\n",
    "#V#    RESULTS AREA    ###\n",
    "##########################\n",
    "\n",
    "main_layout = Layout(border='1px solid grey', padding='10px')\n",
    "\n",
    "results_box = VBox([output], layout=main_layout)"
   ]
  },
  {
   "cell_type": "code",
   "execution_count": 8,
   "metadata": {},
   "outputs": [
    {
     "data": {
      "application/vnd.jupyter.widget-view+json": {
       "model_id": "cd93fff22d5f4a1a8b898648d8897028",
       "version_major": 2,
       "version_minor": 0
      },
      "text/plain": [
       "AppLayout(children=(Output(layout=Layout(grid_area='footer')), VBox(children=(HTML(value='<h2>Generation Setti…"
      ]
     },
     "metadata": {},
     "output_type": "display_data"
    }
   ],
   "source": [
    "##########################\n",
    "#V#     APP LAYOUT     ###\n",
    "##########################\n",
    "\n",
    "AppLayout(left_sidebar=settings_box,\n",
    "          center=results_box,\n",
    "          header=None,\n",
    "          footer=log,\n",
    "          right_sidebar=None,\n",
    "          pane_widths=[1,2,0],\n",
    "          pane_heights=[0,4,1])"
   ]
  },
  {
   "cell_type": "code",
   "execution_count": null,
   "metadata": {},
   "outputs": [],
   "source": []
  }
 ],
 "metadata": {
  "kernelspec": {
   "display_name": "mpro",
   "language": "python",
   "name": "mpro"
  },
  "language_info": {
   "codemirror_mode": {
    "name": "ipython",
    "version": 3
   },
   "file_extension": ".py",
   "mimetype": "text/x-python",
   "name": "python",
   "nbconvert_exporter": "python",
   "pygments_lexer": "ipython3",
   "version": "3.7.9"
  }
 },
 "nbformat": 4,
 "nbformat_minor": 2
}
