{
 "cells": [
  {
   "cell_type": "code",
   "execution_count": 1,
   "metadata": {},
   "outputs": [
    {
     "name": "stdout",
     "output_type": "stream",
     "text": [
      "pygame 2.0.1 (SDL 2.0.14, Python 3.7.9)\n",
      "Hello from the pygame community. https://www.pygame.org/contribute.html\n",
      "C:\\Users\\Eric\\miniconda3\\envs\\mpro\\lib\\site-packages\\pydub\\utils.py:170: RuntimeWarning: Couldn't find ffmpeg or avconv - defaulting to ffmpeg, but may not work\n",
      "  warn(\"Couldn't find ffmpeg or avconv - defaulting to ffmpeg, but may not work\", RuntimeWarning)\n"
     ]
    }
   ],
   "source": [
    "# IMPORTS\n",
    "import ipywidgets as widgets\n",
    "from ipywidgets import HBox, VBox, Label, Layout, AppLayout\n",
    "from IPython.display import display\n",
    "import sys, os\n",
    "\n",
    "root_dir = os.path.join(os.getcwd(), '..')\n",
    "sys.path.append(root_dir)\n",
    "\n",
    "from src import app\n",
    "from src.datatypes.call_response_set import CallResponseSet\n",
    "from dashboards.widgets import inputHeading, inputSelect, inputUpload, generationHeading, checkpointSelect, tempSlider, adaptationHeading, stepsSelect, startButton\n",
    "\n",
    "output = widgets.Output()"
   ]
  },
  {
   "cell_type": "code",
   "execution_count": 13,
   "metadata": {},
   "outputs": [
    {
     "ename": "SyntaxError",
     "evalue": "invalid syntax (<ipython-input-13-06b5eddd8faf>, line 5)",
     "output_type": "error",
     "traceback": [
      "\u001b[1;36m  File \u001b[1;32m\"<ipython-input-13-06b5eddd8faf>\"\u001b[1;36m, line \u001b[1;32m5\u001b[0m\n\u001b[1;33m    generator = ,\u001b[0m\n\u001b[1;37m                ^\u001b[0m\n\u001b[1;31mSyntaxError\u001b[0m\u001b[1;31m:\u001b[0m invalid syntax\n"
     ]
    }
   ],
   "source": [
    "# CONTROLLERd\n",
    "def run_adaptation(b):\n",
    "    with output:\n",
    "        print(\"PROCESS STARTED ...\")\n",
    "\n",
    "    # create call response set data from input field values\n",
    "    cr_set = CallResponseSet(\n",
    "        generator = ,\n",
    "        temperature = ,\n",
    "        inputSequence = ,\n",
    "        adaptation_operations= ,\n",
    "    )\n",
    "\n",
    "    # run generation and adaptation by calling methods from app\n",
    "\n",
    "    # create plots from results and print them\n",
    "    with output:\n",
    "        output.clear_output()\n",
    "        print(\"TEST OUTPUT FOR RESULTS\")\n",
    "\n",
    "\n",
    "startButton.on_click(run_adaptation)"
   ]
  },
  {
   "cell_type": "code",
   "execution_count": 2,
   "metadata": {},
   "outputs": [],
   "source": [
    "### SETTINGS SIDEBAR\n",
    "\n",
    "settings_box = VBox([\n",
    "        inputHeading,\n",
    "        inputSelect,\n",
    "        HBox([Label('Or upload own file:'), inputUpload]),\n",
    "        generationHeading,\n",
    "        HBox([Label('Model & Checkpoint:'), checkpointSelect]),\n",
    "        HBox([Label('Temperature:'), tempSlider]),\n",
    "        adaptationHeading,\n",
    "        stepsSelect,\n",
    "        startButton\n",
    "    ])"
   ]
  },
  {
   "cell_type": "code",
   "execution_count": 3,
   "metadata": {},
   "outputs": [],
   "source": [
    "### RESULTS AREA\n",
    "\n",
    "results_box = VBox([output])"
   ]
  },
  {
   "cell_type": "code",
   "execution_count": 4,
   "metadata": {},
   "outputs": [
    {
     "data": {
      "application/vnd.jupyter.widget-view+json": {
       "model_id": "139dd5154185440094232f3bf6a03902",
       "version_major": 2,
       "version_minor": 0
      },
      "text/plain": [
       "AppLayout(children=(VBox(children=(HTML(value='<h2>Select Input Melody<h2>', placeholder='Select Input Melody'…"
      ]
     },
     "metadata": {},
     "output_type": "display_data"
    }
   ],
   "source": [
    "# APP LAYOUT\n",
    "\n",
    "AppLayout(left_sidebar=settings_box,\n",
    "          center=results_box,\n",
    "          header=None,\n",
    "          footer=None,\n",
    "          right_sidebar=None,\n",
    "          pane_widths=[1,2,0])"
   ]
  }
 ],
 "metadata": {
  "kernelspec": {
   "display_name": "mpro",
   "language": "python",
   "name": "mpro"
  },
  "language_info": {
   "codemirror_mode": {
    "name": "ipython",
    "version": 3
   },
   "file_extension": ".py",
   "mimetype": "text/x-python",
   "name": "python",
   "nbconvert_exporter": "python",
   "pygments_lexer": "ipython3",
   "version": "3.7.9"
  }
 },
 "nbformat": 4,
 "nbformat_minor": 2
}
