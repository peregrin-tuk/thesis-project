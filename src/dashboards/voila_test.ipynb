{
 "metadata": {
  "language_info": {
   "codemirror_mode": {
    "name": "ipython",
    "version": 3
   },
   "file_extension": ".py",
   "mimetype": "text/x-python",
   "name": "python",
   "nbconvert_exporter": "python",
   "pygments_lexer": "ipython3",
   "version": "3.7.9-final"
  },
  "orig_nbformat": 2,
  "kernelspec": {
   "name": "python379jvsc74a57bd075a9ca51cf2daeb22ff0ca8785d387c49ea4e2c8c6428abeae8aacce62ee187c",
   "display_name": "Python 3.7.9 64-bit ('mpro': conda)"
  }
 },
 "nbformat": 4,
 "nbformat_minor": 2,
 "cells": [
  {
   "cell_type": "code",
   "execution_count": 1,
   "metadata": {},
   "outputs": [],
   "source": [
    "# IMPORTS\n",
    "from IPython.display import display\n",
    "import ipywidgets as widgets\n",
    "from ipywidgets import HBox, VBox, Label\n",
    "\n",
    "output = widgets.Output()"
   ]
  },
  {
   "cell_type": "code",
   "execution_count": 2,
   "metadata": {},
   "outputs": [],
   "source": [
    "# STYLES\n",
    "style = {\n",
    "    'description_width': 'initial',\n",
    "    }"
   ]
  },
  {
   "cell_type": "code",
   "execution_count": 3,
   "metadata": {},
   "outputs": [],
   "source": [
    "# CONTROLLER\n",
    "\n",
    "def run_adaptation(b):\n",
    "    with output:\n",
    "        print(\"STARTED\")"
   ]
  },
  {
   "cell_type": "code",
   "execution_count": 20,
   "metadata": {},
   "outputs": [],
   "source": [
    "# INPUT WIDGETS \n",
    "\n",
    "inputHeading = widgets.HTML(\n",
    "    value=\"<h2>Select Input Melody<h2>\",\n",
    "    placeholder='Select Input Melody',\n",
    ")\n",
    "inputSelect = widgets.ToggleButtons(\n",
    "    options=['Twinkle, Twinkle', 'Toto - Africa', 'Mozart - Eine kleine Nachtmusik', 'Mancini - Pink Panther'],\n",
    "    description='Select Input:',\n",
    "    tooltips=['2 Bars', '2 Bars from the Intro', '4 Bars Main Theme', '4 Bars Main Theme'],\n",
    "    style=style\n",
    ")\n",
    "inputUpload = widgets.FileUpload(\n",
    "    accept='.mid',\n",
    "    multiple=False,\n",
    "    description='Upload MIDI'\n",
    ")"
   ]
  },
  {
   "cell_type": "code",
   "execution_count": 21,
   "metadata": {},
   "outputs": [
    {
     "output_type": "display_data",
     "data": {
      "text/plain": "ToggleButtons(description='Select Input:', options=('Twinkle, Twinkle', 'Toto - Africa', 'Mozart - Eine kleine…",
      "application/vnd.jupyter.widget-view+json": {
       "version_major": 2,
       "version_minor": 0,
       "model_id": "e65fe1a9ad8742e5b1bc034046b8d682"
      }
     },
     "metadata": {}
    },
    {
     "output_type": "display_data",
     "data": {
      "text/plain": "HBox(children=(Label(value='Or upload own file:'), FileUpload(value={}, accept='.mid', description='Upload MID…",
      "application/vnd.jupyter.widget-view+json": {
       "version_major": 2,
       "version_minor": 0,
       "model_id": "dbcfaaa49e66413f972c0915bee197fc"
      }
     },
     "metadata": {}
    }
   ],
   "source": [
    "display(inputSelect)\n",
    "display(HBox([Label('Or upload own file:'), inputUpload]))"
   ]
  },
  {
   "cell_type": "code",
   "execution_count": 7,
   "metadata": {},
   "outputs": [],
   "source": [
    "# GENERATION WIDGETS\n",
    "\n",
    "generationHeading = widgets.HTML(\n",
    "    value=\"<h2>Generation Settings<h2>\",\n",
    "    placeholder='Generation Settings',\n",
    ")\n",
    "\n",
    "checkpointSelect = widgets.Dropdown(\n",
    "    options=[('MusicVAE - cat-mel_2bar', 1), \n",
    "             ('MusicVAE - hierdec-mel_16bar', 2), \n",
    "             ('MusicRNN - Mono', 3),\n",
    "             ('MusicRNN - Attention', 4),\n",
    "             ('MusicRNN - Lookback', 5)\n",
    "            ],\n",
    "    value=2,\n",
    "    # description='Model & Checkpoint:',\n",
    "    style=style\n",
    ")\n",
    "\n",
    "tempSlider = widgets.FloatSlider(\n",
    "    # description='Temperature',\n",
    "    value=0.5,\n",
    "    min=0,\n",
    "    max=1.5,\n",
    "    step=0.1,\n",
    "    readout_format='.1f')"
   ]
  },
  {
   "cell_type": "code",
   "execution_count": 8,
   "metadata": {},
   "outputs": [
    {
     "output_type": "display_data",
     "data": {
      "text/plain": "HBox(children=(Label(value='Model & Checkpoint:'), Dropdown(index=1, options=(('MusicVAE - cat-mel_2bar', 1), …",
      "application/vnd.jupyter.widget-view+json": {
       "version_major": 2,
       "version_minor": 0,
       "model_id": "c56fd46898564c1fbcb2edab7e101a45"
      }
     },
     "metadata": {}
    },
    {
     "output_type": "display_data",
     "data": {
      "text/plain": "HBox(children=(Label(value='Temperature:'), FloatSlider(value=0.5, max=1.5, readout_format='.1f')))",
      "application/vnd.jupyter.widget-view+json": {
       "version_major": 2,
       "version_minor": 0,
       "model_id": "4a6709ce1b904f9eba9afa7b23b4e5de"
      }
     },
     "metadata": {}
    }
   ],
   "source": [
    "display(HBox([Label('Model & Checkpoint:'), checkpointSelect]))\n",
    "display(HBox([Label('Temperature:'), tempSlider]))"
   ]
  },
  {
   "cell_type": "code",
   "execution_count": 15,
   "metadata": {},
   "outputs": [],
   "source": [
    "# ADAPTATION WIDGETS\n",
    "\n",
    "adaptationHeading = widgets.HTML(\n",
    "    value=\"<h2>Adaptation Settings<h2>\",\n",
    "    placeholder='Adaptation Settings',\n",
    ")\n",
    "\n",
    "stepsSelect = widgets.SelectMultiple(\n",
    "    options=['Operation 1', 'Operation 2', 'Operation 3'],\n",
    "    #value=['Oranges'], # set to last selected ?\n",
    "    #rows=10, # set to len(ops)\n",
    "    description='Steps',\n",
    ")\n",
    "\n",
    "startButton = widgets.Button(\n",
    "    description='  RUN',\n",
    "    disabled=False,\n",
    "    button_style='success',\n",
    "    icon='play'\n",
    ")\n",
    "startButton.on_click(run_adaptation)"
   ]
  },
  {
   "cell_type": "code",
   "execution_count": 16,
   "metadata": {},
   "outputs": [
    {
     "output_type": "display_data",
     "data": {
      "text/plain": "SelectMultiple(description='Steps', options=('Operation 1', 'Operation 2', 'Operation 3'), value=())",
      "application/vnd.jupyter.widget-view+json": {
       "version_major": 2,
       "version_minor": 0,
       "model_id": "51df1ebdc56f4687b13fa1fcff44f3b1"
      }
     },
     "metadata": {}
    },
    {
     "output_type": "display_data",
     "data": {
      "text/plain": "Button(button_style='success', description='  RUN', icon='play', style=ButtonStyle())",
      "application/vnd.jupyter.widget-view+json": {
       "version_major": 2,
       "version_minor": 0,
       "model_id": "39169544d3a940bba83b47416afc21a8"
      }
     },
     "metadata": {}
    }
   ],
   "source": [
    "display(stepsSelect)\n",
    "display(startButton)\n",
    "\n",
    "side_bar_layout = Layout(width='30%', height='100%')\n",
    "\n",
    "settings_box = VBox([\n",
    "        \n",
    "    ], layout = side_bar_layout)"
   ]
  },
  {
   "cell_type": "code",
   "execution_count": 14,
   "metadata": {},
   "outputs": [
    {
     "output_type": "display_data",
     "data": {
      "text/plain": "Output()",
      "application/vnd.jupyter.widget-view+json": {
       "version_major": 2,
       "version_minor": 0,
       "model_id": "f471a19bc3dd4e458222efc1ee977cb2"
      }
     },
     "metadata": {}
    }
   ],
   "source": [
    "display(output)"
   ]
  },
  {
   "cell_type": "code",
   "execution_count": null,
   "metadata": {},
   "outputs": [],
   "source": [
    "# LAYOUT\n",
    "\n",
    "AppLayout(left_sidebar=settings_box,\n",
    "          center=results_box,\n",
    "          right_sidebar=None)"
   ]
  }
 ]
}